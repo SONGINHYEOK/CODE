{
 "cells": [
  {
   "cell_type": "markdown",
   "metadata": {},
   "source": [
    "from csv save sdf code"
   ]
  },
  {
   "cell_type": "code",
   "execution_count": 3,
   "metadata": {},
   "outputs": [],
   "source": [
    "from rdkit import Chem\n",
    "from rdkit.Chem import rdRGroupDecomposition\n",
    "from rdkit.Chem import PandasTools\n",
    "import pandas as pd"
   ]
  },
  {
   "cell_type": "code",
   "execution_count": 11,
   "metadata": {},
   "outputs": [],
   "source": [
    "path = '/Users/song-inhyeok/Documents/data/ADMET_sample/'"
   ]
  },
  {
   "cell_type": "markdown",
   "metadata": {},
   "source": [
    "개별 test"
   ]
  },
  {
   "cell_type": "code",
   "execution_count": 22,
   "metadata": {},
   "outputs": [],
   "source": [
    "df = pd.read_csv(path+'sample_10000.csv', header=None, names=['id','smiles'])"
   ]
  },
  {
   "cell_type": "code",
   "execution_count": 23,
   "metadata": {},
   "outputs": [],
   "source": [
    "PandasTools.AddMoleculeColumnToFrame(df, smilesCol='smiles')"
   ]
  },
  {
   "cell_type": "markdown",
   "metadata": {},
   "source": [
    "final"
   ]
  },
  {
   "cell_type": "code",
   "execution_count": 20,
   "metadata": {},
   "outputs": [],
   "source": [
    "df1 = pd.read_csv(path+'sample_1000000.csv', header=None, names=['id','smiles'])\n",
    "PandasTools.AddMoleculeColumnToFrame(df1, smilesCol='smiles')\n",
    "PandasTools.WriteSDF(df1, path+'1000000.sdf', molColName='ROMol', idName=None, properties=None, allNumeric=False)"
   ]
  }
 ],
 "metadata": {
  "interpreter": {
   "hash": "eeeefe9f7c2ef922ee7d986a271539a14ed3f09c3dad4812770ae7ab598d2111"
  },
  "kernelspec": {
   "display_name": "Python 3.8.12 ('office')",
   "language": "python",
   "name": "python3"
  },
  "language_info": {
   "codemirror_mode": {
    "name": "ipython",
    "version": 3
   },
   "file_extension": ".py",
   "mimetype": "text/x-python",
   "name": "python",
   "nbconvert_exporter": "python",
   "pygments_lexer": "ipython3",
   "version": "3.8.12"
  },
  "orig_nbformat": 4
 },
 "nbformat": 4,
 "nbformat_minor": 2
}
