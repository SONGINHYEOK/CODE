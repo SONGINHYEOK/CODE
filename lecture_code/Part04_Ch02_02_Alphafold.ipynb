{
  "nbformat": 4,
  "nbformat_minor": 0,
  "metadata": {
    "colab": {
      "provenance": [],
      "gpuType": "T4"
    },
    "kernelspec": {
      "name": "python3",
      "display_name": "Python 3"
    },
    "language_info": {
      "name": "python"
    },
    "accelerator": "GPU"
  },
  "cells": [
    {
      "cell_type": "markdown",
      "source": [
        "# 학습 목표\n",
        "1. Alphafold의 주요 원리와 구조를 이해한다.\n",
        "2. ColabFold(AlphaFold2 오픈소스 버전)를 활용해 실제 단백질 구조 예측을 실행해본다.\n",
        "3. 예측된 3차원 단백질 구조를 시각화하고, 신뢰도(pLDDT) 등을 해석하는 방법을 익힌다.\n",
        "\n",
        "<img src='https://www.researchgate.net/publication/365398397/figure/fig3/AS:11431281097310182@1668533124442/The-AlphaFold-and-AlphaFold2-results-at-CASP13-and-CASP14-respectively.ppm'>"
      ],
      "metadata": {
        "id": "VaU7k7gJugTh"
      }
    },
    {
      "cell_type": "markdown",
      "source": [
        "# 1.  MSA (Multiple Sequence Alignment)\n",
        "**다중 서열 정렬(MSA, Multiple Sequence Alignment)**은 서로 상동(homologous) 관계에 있는 단백질(또는 DNA/RNA) 서열들을 세로로 정렬하여,\n",
        "- 어느 위치에서 아미노산이 어떻게 변했는지,\n",
        "- 어떤 자리에서 변이가 적고 보존(Conserved)되어 있는지,\n",
        "- 두 잔기가 함께 변하는 패턴(공진화 Co-evolution)이 존재하는지\n",
        "\n",
        "등을 한눈에 파악하도록 도와주는 기법\n",
        "\n",
        "<img src='https://bioinformaticsreview.com/wp-content/uploads/2015/10/msa-example.png'>"
      ],
      "metadata": {
        "id": "UoyX9XvEykaQ"
      }
    },
    {
      "cell_type": "markdown",
      "source": [
        "# 2. AlphaFold(2018)\n",
        "- AlphaFold1은 CASP13(2018)에서 1위를 차지함.\n",
        "- 핵심 아이디어:\n",
        "    - MSA에서 잔기 쌍의 거리를 확률 분포로 예측 (예: “Residue i와 j는 6Å, 7Å, 8Å일 확률은 각각 얼마”)\n",
        "    - CNN(ResNet)으로 공진화 신호를 학습하여 “거리분포를 출력”\n",
        "    - 예측된 거리분포 전체를 통계 포텐셜로 간주해 에너지 최소화(경사하강법) 수행 → 3차원 구조를 산출\n",
        "\n",
        "<img src='https://github.com/Charmve/AlphaFold-baseline/raw/main/imgs/fold-process.png'>"
      ],
      "metadata": {
        "id": "8ffymlO8y_yK"
      }
    },
    {
      "cell_type": "markdown",
      "source": [
        "# 3. AlphaFold2(2020)\n",
        "- AlphaFold2는 CASP14(2020)에서 이전 세대를 뛰어넘는 정확도로 우승\n",
        "- 약 100개의 평가 단백질 중 대부분을 높은 정밀도로 예측했고, RMSD가 1Å대에 이르는 경우도 많아, 실험 구조와 구별하기 어려운 수준에 달함.\n",
        "- AlphaFold1처럼 “거리분포 → 별도 에너지 최소화”라는 분리된 단계를 두지 않고,\n",
        "하나의 신경망 안에서 거리/각도/3D 좌표를 연속적으로 학습하여 바로 구조를 산출\n",
        "- 핵심 아이디어:\n",
        "    - Evoformer: Transformer 기반 블록을 다중 반복하여 MSA 표현\n",
        "    - Structure Module: end-to-end로 3차원 좌표를 직접 예측\n",
        "    - Recycling: 예측된 구조를 다시 입력으로 넣어 (기본 3회 반복) 점차 구조 정확도를 개선\n",
        "\n",
        "<img src='https://i0.wp.com/www.blopig.com/blog/wp-content/uploads/2021/07/image-3.png?ssl=1'>"
      ],
      "metadata": {
        "id": "Wl_PdGmZzs3b"
      }
    },
    {
      "cell_type": "markdown",
      "source": [
        "# 4. ColabFold를 활용한 AlphaFold 예측\n",
        "ColabFold는 다음 단계로 동작:\n",
        "- MSA 검색: 해당 단백질 서열과 유사한 서열들을 원격 DB(MMseqs2 등)에서 검색 → MSA 구성\n",
        "- Template 검색(옵션): PDB에서 유사 구조 템플릿 검색\n",
        "- AlphaFold 모델 예측: 사전학습된 AlphaFold2 파라미터 사용\n",
        "- 결과 저장: PDB 파일, 예측 점수(ranking_debug.json), MSA 폴더 등\n",
        "- 완료되면, 다음 파일들이 생성:\n",
        "    - _unrelaxed_model_1.pdb ~ _model_5.pdb: 모델별 예측 구조\n",
        "    - _scores.json: 각 모델의 예측 점수(pLDDT 등)\n",
        "    - ranking_debug.json: 5개 모델 중 어떤 것이 높은 점수인지 기록\n",
        "    - msas/: 검색된 MSA 관련 파일들\n",
        "\n",
        "https://github.com/sokrypton/ColabFold?tab=readme-ov-file\n",
        "\n",
        "https://colab.research.google.com/github/sokrypton/ColabFold/blob/main/batch/AlphaFold2_batch.ipynb\n",
        "\n",
        "https://colab.research.google.com/github/sokrypton/ColabDesign/blob/gamma/af/examples/predict.ipynb"
      ],
      "metadata": {
        "id": "iXKfVyic0r-m"
      }
    },
    {
      "cell_type": "markdown",
      "source": [
        "# 5. 결과 해석\n",
        "- pLDDT (predicted LDDT) 점수\n",
        "    - 0~100 범위\n",
        "    - 90 이상이면 실험 구조에 매우 근접할 가능성이 큼\n",
        "    - 루프나 말단 부위 등은 상대적으로 점수가 낮을 수 있음\n",
        "\n",
        "- 서열 길이\n",
        "    - 매우 긴 단백질(수천 잔기)은 Colab에서 예측이 오래 걸림\n",
        "    - 긴 도메인은 여러 조각으로 나눠서 예측하거나, Colab Pro+ 같은 고성능 환경을 이용\n",
        "- relaxation (물리적 후처리)\n",
        "    - AlphaFold 예측 좌표에 대해 OpenMM으로 살짝 에너지 최소화를 적용할 수 있음 (amber_relax)\n",
        "    - 단백질 고유의 미세 구조 조정에 도움을 주지만, 전체 구조 변동은 제한적"
      ],
      "metadata": {
        "id": "oakFwhHz1NhZ"
      }
    },
    {
      "cell_type": "code",
      "source": [],
      "metadata": {
        "id": "mAMW5h4FzWaj"
      },
      "execution_count": null,
      "outputs": []
    }
  ]
}