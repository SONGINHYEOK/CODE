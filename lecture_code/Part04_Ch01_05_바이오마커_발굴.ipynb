{
  "nbformat": 4,
  "nbformat_minor": 0,
  "metadata": {
    "colab": {
      "provenance": []
    },
    "kernelspec": {
      "name": "python3",
      "display_name": "Python 3"
    },
    "language_info": {
      "name": "python"
    }
  },
  "cells": [
    {
      "cell_type": "markdown",
      "source": [
        "# 학습 목표\n",
        "1. 유전자 발현 데이터를 이용하여 바이오마커 후보를 탐색하는 과정을 이해한다.\n",
        "2. 유방암(1) vs 정상(0) 레이블을 가진 데이터를 무작위로 훈련/테스트 세트로 나누고,\n",
        "   랜덤 포레스트 분류 모델을 학습한다.\n",
        "3. 모델이 중요하게 여기는 유전자(특징)를 찾아, 바이오마커 후보로 삼는 방법을 익힌다.\n",
        "4. 주요 바이오마커만 이용해서 모델을 재학습하고 평가한다.\n",
        "\n"
      ],
      "metadata": {
        "id": "VaU7k7gJugTh"
      }
    },
    {
      "cell_type": "markdown",
      "source": [
        "# 1. 데이터 설명\n",
        "- Breast cancer.xlsx : 78행 × N열\n",
        "   - 78명의 샘플(행), N개의 유전자 발현값(열)\n",
        "   - 첫 행부터 유전자 명이 주어지지 않았으므로, \"gene1\", \"gene2\" ... 로 직접 컬럼명 부여\n",
        "- Breast cancer labels.xlsx : 1행 × 78열\n",
        "   - 78개의 값(0 또는 1)\n",
        "   - 1 : 유방암 환자, 0 : 정상인"
      ],
      "metadata": {
        "id": "JCBNqmDJ944F"
      }
    },
    {
      "cell_type": "markdown",
      "source": [
        "# 2. 라이브러리 임포트"
      ],
      "metadata": {
        "id": "UoNyt3fo994l"
      }
    },
    {
      "cell_type": "code",
      "source": [
        "import pandas as pd\n",
        "import numpy as np\n",
        "import matplotlib.pyplot as plt\n",
        "\n",
        "from sklearn.ensemble import RandomForestClassifier\n",
        "from sklearn.model_selection import train_test_split\n",
        "from sklearn.preprocessing import StandardScaler\n",
        "from sklearn.metrics import accuracy_score, confusion_matrix, classification_report"
      ],
      "metadata": {
        "id": "blGvsRMt-AuB"
      },
      "execution_count": null,
      "outputs": []
    },
    {
      "cell_type": "markdown",
      "source": [
        "# 3. 데이터 불러오기"
      ],
      "metadata": {
        "id": "vSX_t9iB-Cm-"
      }
    },
    {
      "cell_type": "code",
      "source": [
        "# header=None => 엑셀에 컬럼명이 없는 경우\n",
        "gene_df = pd.read_excel(\"Breast cancer.xlsx\", header=None)\n",
        "\n",
        "# 열 개수만큼 gene1, gene2 ... 로 이름 부여\n",
        "gene_df.columns = [f\"gene{i+1}\" for i in range(gene_df.shape[1])]\n",
        "\n",
        "# 레이블 불러오기 (1행 x 78열)\n",
        "label_df = pd.read_excel(\"Breast cancer labels.xlsx\", header=None)\n",
        "\n",
        "# label_df는 (1, 78) 형태이므로, 1차원 (78,)으로 변환\n",
        "y = label_df.values.flatten()\n",
        "\n",
        "# X는 (78, N) 형태의 유전자 발현 행렬\n",
        "X = gene_df.values\n",
        "\n",
        "print(\"데이터셋 크기:\", X.shape, \"레이블 길이:\", len(y))\n",
        "print(\"X 예시 (앞부분):\")\n",
        "print(gene_df.head())\n",
        "print(\"y 예시 (처음 10개):\", y[:10])"
      ],
      "metadata": {
        "colab": {
          "base_uri": "https://localhost:8080/"
        },
        "id": "9UGT-jxE-B8m",
        "outputId": "0861da58-f49c-4c0b-d5be-78eed2fa25d1"
      },
      "execution_count": null,
      "outputs": [
        {
          "output_type": "stream",
          "name": "stdout",
          "text": [
            "데이터셋 크기: (78, 12172) 레이블 길이: 78\n",
            "X 예시 (앞부분):\n",
            "   gene1  gene2  gene3  gene4  gene5  gene6  gene7  gene8  gene9  gene10  ...  \\\n",
            "0   0.77  -1.30  -0.55      0      0   1.06   0.01      0      0       0  ...   \n",
            "1   0.70  -1.44  -0.42      0      0   1.00  -0.11      0      0       0  ...   \n",
            "2   0.49  -1.40  -0.29      0      0   1.09   0.06      0      0       0  ...   \n",
            "3   0.75  -1.43  -0.45      0      0   0.99  -0.19      0      0       0  ...   \n",
            "4   0.70  -1.36  -0.53      0      0   1.15  -0.13      0      0       0  ...   \n",
            "\n",
            "   gene12163  gene12164  gene12165  gene12166  gene12167  gene12168  \\\n",
            "0      -1.06          0          0          0          0       1.99   \n",
            "1      -0.68          0          0          0          0       2.11   \n",
            "2      -0.77          0          0          0          0       2.07   \n",
            "3      -0.59          0          0          0          0       2.07   \n",
            "4      -0.78          0          0          0          0       2.16   \n",
            "\n",
            "   gene12169  gene12170  gene12171  gene12172  \n",
            "0          0          0          0          0  \n",
            "1          0          0          0          0  \n",
            "2          0          0          0          0  \n",
            "3          0          0          0          0  \n",
            "4          0          0          0          0  \n",
            "\n",
            "[5 rows x 12172 columns]\n",
            "y 예시 (처음 10개): [0 0 0 0 0 0 0 0 0 0]\n"
          ]
        }
      ]
    },
    {
      "cell_type": "markdown",
      "source": [
        "# 4. 데이터 전처리"
      ],
      "metadata": {
        "id": "TtrmbEPR-KGP"
      }
    },
    {
      "cell_type": "code",
      "source": [
        "# 데이터 전처리(스케일링)\n",
        "scaler = StandardScaler()\n",
        "X_scaled = scaler.fit_transform(X)\n",
        "\n",
        "# 학습/테스트 분할\n",
        "X_train, X_test, y_train, y_test = train_test_split(\n",
        "    X_scaled, y, test_size=0.2, random_state=42\n",
        ")"
      ],
      "metadata": {
        "id": "LVC9G_ik-LqO"
      },
      "execution_count": null,
      "outputs": []
    },
    {
      "cell_type": "markdown",
      "source": [
        "# 5. 랜덤 포레스트 분류 모델 학습\n",
        "- 바이오마커 발굴에는 \"해석 가능한 모델\"이 자주 사용됨\n",
        "- 예: Random Forest, Lasso(회귀), XGBoost(Feature Importance), SHAP 등"
      ],
      "metadata": {
        "id": "opV0FavH-Q-8"
      }
    },
    {
      "cell_type": "code",
      "source": [
        "rf = RandomForestClassifier(n_estimators=100, random_state=42)\n",
        "rf.fit(X_train, y_train)\n",
        "\n",
        "y_pred = rf.predict(X_test)"
      ],
      "metadata": {
        "id": "kPTXwWx0-Sox"
      },
      "execution_count": null,
      "outputs": []
    },
    {
      "cell_type": "markdown",
      "source": [
        "# 6. 모델 성능 평가"
      ],
      "metadata": {
        "id": "hyeD6tlo-U5O"
      }
    },
    {
      "cell_type": "code",
      "source": [
        "acc = accuracy_score(y_test, y_pred)\n",
        "print(f\"\\nAccuracy: {acc:.4f}\")\n",
        "\n",
        "cm = confusion_matrix(y_test, y_pred)\n",
        "print(\"\\nConfusion Matrix:\")\n",
        "print(cm)\n",
        "\n",
        "print(\"\\nClassification Report:\")\n",
        "print(classification_report(y_test, y_pred, digits=4))"
      ],
      "metadata": {
        "colab": {
          "base_uri": "https://localhost:8080/"
        },
        "id": "UVtiyBMD-XWR",
        "outputId": "42e4b7ff-7a10-4aab-f280-7544bf68222c"
      },
      "execution_count": null,
      "outputs": [
        {
          "output_type": "stream",
          "name": "stdout",
          "text": [
            "\n",
            "Accuracy: 0.8750\n",
            "\n",
            "Confusion Matrix:\n",
            "[[7 1]\n",
            " [1 7]]\n",
            "\n",
            "Classification Report:\n",
            "              precision    recall  f1-score   support\n",
            "\n",
            "           0     0.8750    0.8750    0.8750         8\n",
            "           1     0.8750    0.8750    0.8750         8\n",
            "\n",
            "    accuracy                         0.8750        16\n",
            "   macro avg     0.8750    0.8750    0.8750        16\n",
            "weighted avg     0.8750    0.8750    0.8750        16\n",
            "\n"
          ]
        }
      ]
    },
    {
      "cell_type": "markdown",
      "source": [
        "# 7. Feature Importance (바이오마커 후보 탐색)"
      ],
      "metadata": {
        "id": "TZwIYwOI-YlW"
      }
    },
    {
      "cell_type": "code",
      "source": [
        "# 1) 랜덤 포레스트 중요도 계산 (동일)\n",
        "importances = rf.feature_importances_\n",
        "indices = np.argsort(importances)[::-1]  # 중요도 높은 순서로 정렬\n",
        "\n",
        "# 2) 상위 N개만 추려서 데이터프레임으로 구성\n",
        "top_n = 20  # 원하는 만큼 조절\n",
        "top_indices = indices[:top_n]\n",
        "top_features = gene_df.columns[top_indices]\n",
        "top_importances = importances[top_indices]\n",
        "\n",
        "# 3) 가로 막대 그래프로 시각화\n",
        "plt.figure(figsize=(8, 6))\n",
        "plt.barh(top_features, top_importances, align=\"center\")\n",
        "plt.xlabel(\"Importance\")\n",
        "plt.title(f\"Top {top_n} Features (Biomarker Candidates)\")\n",
        "plt.gca().invert_yaxis()  # 중요도 높은 항목이 위로 오도록\n",
        "plt.tight_layout()\n",
        "plt.show()\n",
        "\n",
        "# 상위 일부만 출력\n",
        "top_n = 5\n",
        "print(f\"가장 중요한 상위 {top_n}개 특징 (바이오마커 후보):\")\n",
        "for i in range(top_n):\n",
        "    idx = indices[i]\n",
        "    print(f\"{i+1}) {gene_df.columns[idx]} - 중요도: {importances[idx]:.4f}\")"
      ],
      "metadata": {
        "colab": {
          "base_uri": "https://localhost:8080/",
          "height": 714
        },
        "id": "Bf_anseC-dqx",
        "outputId": "bcff83a2-d71a-4242-93d4-35eac5ddf8d1"
      },
      "execution_count": null,
      "outputs": [
        {
          "output_type": "display_data",
          "data": {
            "text/plain": [
              "<Figure size 800x600 with 1 Axes>"
            ],
            "image/png": "[encoded data removed]"
          },
          "metadata": {}
        },
        {
          "output_type": "stream",
          "name": "stdout",
          "text": [
            "가장 중요한 상위 5개 특징 (바이오마커 후보):\n",
            "1) gene10385 - 중요도: 0.0162\n",
            "2) gene10547 - 중요도: 0.0100\n",
            "3) gene8713 - 중요도: 0.0096\n",
            "4) gene4613 - 중요도: 0.0091\n",
            "5) gene3456 - 중요도: 0.0078\n"
          ]
        }
      ]
    },
    {
      "cell_type": "markdown",
      "source": [
        "# 8. 검증\n",
        "상위 N개 유전자만 골라 다시 학습 및 평가"
      ],
      "metadata": {
        "id": "p7A6SesU-gGF"
      }
    },
    {
      "cell_type": "code",
      "source": [
        "top_n = 3\n",
        "top_indices = indices[:top_n]\n",
        "\n",
        "X_train_top = X_train[:, top_indices]\n",
        "X_test_top  = X_test[:, top_indices]\n",
        "\n",
        "rf_top = RandomForestClassifier(n_estimators=100, random_state=42)\n",
        "rf_top.fit(X_train_top, y_train)\n",
        "y_pred_top = rf_top.predict(X_test_top)\n",
        "\n",
        "acc_top = accuracy_score(y_test, y_pred_top)\n",
        "print(f\"[상위 {top_n}개 유전자만 사용] Accuracy:\", acc_top)\n",
        "\n",
        "print(\"\\n[전체 유전자 vs 상위 20개 특징] 성능 비교\")\n",
        "print(\" - 전체 유전자 사용  :\", acc)\n",
        "print(f\" - 상위 {top_n}개 사용:\", acc_top)"
      ],
      "metadata": {
        "colab": {
          "base_uri": "https://localhost:8080/"
        },
        "id": "Wv2aagrq5bz7",
        "outputId": "cba4fbe6-8c0e-4736-99d0-f219c913c729"
      },
      "execution_count": null,
      "outputs": [
        {
          "output_type": "stream",
          "name": "stdout",
          "text": [
            "[상위 3개 유전자만 사용] Accuracy: 0.875\n",
            "\n",
            "[전체 유전자 vs 상위 20개 특징] 성능 비교\n",
            " - 전체 유전자 사용  : 0.875\n",
            " - 상위 3개 사용: 0.875\n"
          ]
        }
      ]
    },
    {
      "cell_type": "code",
      "source": [],
      "metadata": {
        "id": "_BmXCIyD-8lm"
      },
      "execution_count": null,
      "outputs": []
    }
  ]
}