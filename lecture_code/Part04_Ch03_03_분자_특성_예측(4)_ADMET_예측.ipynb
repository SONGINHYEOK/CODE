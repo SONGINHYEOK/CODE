{
  "nbformat": 4,
  "nbformat_minor": 0,
  "metadata": {
    "colab": {
      "provenance": [],
      "gpuType": "T4"
    },
    "kernelspec": {
      "name": "python3",
      "display_name": "Python 3"
    },
    "language_info": {
      "name": "python"
    },
    "accelerator": "GPU"
  },
  "cells": [
    {
      "cell_type": "markdown",
      "source": [
        "# 학습 목표\n",
        "1. 다중 ADMET 특성을 동시에 예측하는 멀티태스크 모델 구현하기\n",
        "2. ChemBERTa 사전학습 모델을 활용한 전이학습 적용하기\n",
        "3. 통합 ADMET 예측 시스템 개발 및 평가하기"
      ],
      "metadata": {
        "id": "o8gCZgP40NsF"
      }
    },
    {
      "cell_type": "markdown",
      "source": [
        "# 1. ADMET 예측\n",
        "- ADMET(Absorption, Distribution, Metabolism, Excretion, Toxicity)는 약물 후보 물질의 생체 내 거동과 안전성을 예측하는 중요한 지표임.\n",
        "- 신약 개발 과정에서 ADMET 특성이 좋지 않아 실패하는 경우가 많기 때문에, 초기 단계에서 이러한 특성을 정확히 예측하는 것이 매우 중요함.\n",
        "- 흡수(Absorption): 약물이 체내로 얼마나 잘 흡수되는지 (예: 장 투과성, 생체이용률)\n",
        "- 분포(Distribution): 약물이 체내 조직과 기관에 어떻게 분포하는지 (예: 혈액-뇌 장벽 투과성, 혈장 단백질 결합률)\n",
        "- 대사(Metabolism): 약물이 체내에서 어떻게 변환되는지 (예: CYP450 효소에 의한 대사)\n",
        "- 배설(Excretion): 약물이 체내에서 어떻게 제거되는지 (예: 반감기, 청소율)\n",
        "- 독성(Toxicity): 약물이 인체에 해로운 영향을 미치는지 (예: 간독성, 심장독성)"
      ],
      "metadata": {
        "id": "903_8aL_yDhU"
      }
    },
    {
      "cell_type": "markdown",
      "source": [
        "# 2. ADMET 예측 실습\n",
        "\n",
        "https://tdcommons.ai/\n",
        "\n",
        "## 2.1. 환경 설정 및 데이터 준비"
      ],
      "metadata": {
        "id": "wNmm05CdyVdU"
      }
    },
    {
      "cell_type": "code",
      "source": [
        "!pip install PyTDC transformers rdkit"
      ],
      "metadata": {
        "colab": {
          "base_uri": "https://localhost:8080/"
        },
        "id": "rw9zLxVfGJbo",
        "outputId": "c9acf890-b79b-40d7-e15c-9f3c94376480"
      },
      "execution_count": null,
      "outputs": [
        {
          "output_type": "stream",
          "name": "stdout",
          "text": [
            "Requirement already satisfied: PyTDC in /usr/local/lib/python3.11/dist-packages (1.1.14)\n",
            "Requirement already satisfied: transformers in /usr/local/lib/python3.11/dist-packages (4.43.4)\n",
            "Requirement already satisfied: rdkit in /usr/local/lib/python3.11/dist-packages (2023.9.6)\n",
            "Requirement already satisfied: accelerate==0.33.0 in /usr/local/lib/python3.11/dist-packages (from PyTDC) (0.33.0)\n",
            "Requirement already satisfied: dataclasses<1.0,>=0.6 in /usr/local/lib/python3.11/dist-packages (from PyTDC) (0.6)\n",
            "Requirement already satisfied: datasets<2.20.0 in /usr/local/lib/python3.11/dist-packages (from PyTDC) (2.19.2)\n",
            "Requirement already satisfied: evaluate==0.4.2 in /usr/local/lib/python3.11/dist-packages (from PyTDC) (0.4.2)\n",
            "Requirement already satisfied: fuzzywuzzy<1.0,>=0.18.0 in /usr/local/lib/python3.11/dist-packages (from PyTDC) (0.18.0)\n",
            "Requirement already satisfied: huggingface-hub<1.0,>=0.20.3 in /usr/local/lib/python3.11/dist-packages (from PyTDC) (0.29.3)\n",
            "Requirement already satisfied: numpy<2.0.0,>=1.26.4 in /usr/local/lib/python3.11/dist-packages (from PyTDC) (1.26.4)\n",
            "Requirement already satisfied: openpyxl<4.0.0,>=3.0.10 in /usr/local/lib/python3.11/dist-packages (from PyTDC) (3.1.5)\n",
            "Requirement already satisfied: pandas<3.0.0,>=2.1.4 in /usr/local/lib/python3.11/dist-packages (from PyTDC) (2.2.2)\n",
            "Requirement already satisfied: requests<3.0.0,>=2.31.0 in /usr/local/lib/python3.11/dist-packages (from PyTDC) (2.32.3)\n",
            "Requirement already satisfied: scikit-learn==1.2.2 in /usr/local/lib/python3.11/dist-packages (from PyTDC) (1.2.2)\n",
            "Requirement already satisfied: seaborn<1.0.0,>=0.12.2 in /usr/local/lib/python3.11/dist-packages (from PyTDC) (0.13.2)\n",
            "Requirement already satisfied: tqdm<5.0.0,>=4.65.0 in /usr/local/lib/python3.11/dist-packages (from PyTDC) (4.67.1)\n",
            "Requirement already satisfied: cellxgene-census==1.15.0 in /usr/local/lib/python3.11/dist-packages (from PyTDC) (1.15.0)\n",
            "Requirement already satisfied: gget<1.0.0,>=0.28.4 in /usr/local/lib/python3.11/dist-packages (from PyTDC) (0.29.0)\n",
            "Requirement already satisfied: pydantic<3.0.0,>=2.6.3 in /usr/local/lib/python3.11/dist-packages (from PyTDC) (2.10.6)\n",
            "Requirement already satisfied: tiledbsoma<2.0.0,>=1.7.2 in /usr/local/lib/python3.11/dist-packages (from PyTDC) (1.11.4)\n",
            "Requirement already satisfied: yapf<1.0.0,>=0.40.2 in /usr/local/lib/python3.11/dist-packages (from PyTDC) (0.43.0)\n",
            "Requirement already satisfied: filelock in /usr/local/lib/python3.11/dist-packages (from transformers) (3.18.0)\n",
            "Requirement already satisfied: packaging>=20.0 in /usr/local/lib/python3.11/dist-packages (from transformers) (24.2)\n",
            "Requirement already satisfied: pyyaml>=5.1 in /usr/local/lib/python3.11/dist-packages (from transformers) (6.0.2)\n",
            "Requirement already satisfied: regex!=2019.12.17 in /usr/local/lib/python3.11/dist-packages (from transformers) (2024.11.6)\n",
            "Requirement already satisfied: safetensors>=0.4.1 in /usr/local/lib/python3.11/dist-packages (from transformers) (0.5.3)\n",
            "Requirement already satisfied: tokenizers<0.20,>=0.19 in /usr/local/lib/python3.11/dist-packages (from transformers) (0.19.1)\n",
            "Requirement already satisfied: psutil in /usr/local/lib/python3.11/dist-packages (from accelerate==0.33.0->PyTDC) (5.9.5)\n",
            "Requirement already satisfied: torch>=1.10.0 in /usr/local/lib/python3.11/dist-packages (from accelerate==0.33.0->PyTDC) (2.6.0+cu124)\n",
            "Requirement already satisfied: anndata in /usr/local/lib/python3.11/dist-packages (from cellxgene-census==1.15.0->PyTDC) (0.11.4)\n",
            "Requirement already satisfied: typing-extensions in /usr/local/lib/python3.11/dist-packages (from cellxgene-census==1.15.0->PyTDC) (4.12.2)\n",
            "Requirement already satisfied: s3fs>=2021.06.1 in /usr/local/lib/python3.11/dist-packages (from cellxgene-census==1.15.0->PyTDC) (2024.3.1)\n",
            "Requirement already satisfied: dill in /usr/local/lib/python3.11/dist-packages (from evaluate==0.4.2->PyTDC) (0.3.8)\n",
            "Requirement already satisfied: xxhash in /usr/local/lib/python3.11/dist-packages (from evaluate==0.4.2->PyTDC) (3.5.0)\n",
            "Requirement already satisfied: multiprocess in /usr/local/lib/python3.11/dist-packages (from evaluate==0.4.2->PyTDC) (0.70.16)\n",
            "Requirement already satisfied: fsspec>=2021.05.0 in /usr/local/lib/python3.11/dist-packages (from fsspec[http]>=2021.05.0->evaluate==0.4.2->PyTDC) (2024.3.1)\n",
            "Requirement already satisfied: scipy>=1.3.2 in /usr/local/lib/python3.11/dist-packages (from scikit-learn==1.2.2->PyTDC) (1.14.1)\n",
            "Requirement already satisfied: joblib>=1.1.1 in /usr/local/lib/python3.11/dist-packages (from scikit-learn==1.2.2->PyTDC) (1.4.2)\n",
            "Requirement already satisfied: threadpoolctl>=2.0.0 in /usr/local/lib/python3.11/dist-packages (from scikit-learn==1.2.2->PyTDC) (3.6.0)\n",
            "Requirement already satisfied: Pillow in /usr/local/lib/python3.11/dist-packages (from rdkit) (11.1.0)\n",
            "Requirement already satisfied: pyarrow>=12.0.0 in /usr/local/lib/python3.11/dist-packages (from datasets<2.20.0->PyTDC) (18.1.0)\n",
            "Requirement already satisfied: pyarrow-hotfix in /usr/local/lib/python3.11/dist-packages (from datasets<2.20.0->PyTDC) (0.6)\n",
            "Requirement already satisfied: aiohttp in /usr/local/lib/python3.11/dist-packages (from datasets<2.20.0->PyTDC) (3.11.14)\n",
            "Requirement already satisfied: ipython in /usr/local/lib/python3.11/dist-packages (from gget<1.0.0,>=0.28.4->PyTDC) (7.34.0)\n",
            "Requirement already satisfied: matplotlib in /usr/local/lib/python3.11/dist-packages (from gget<1.0.0,>=0.28.4->PyTDC) (3.10.0)\n",
            "Requirement already satisfied: mysql-connector-python>=8.0.32 in /usr/local/lib/python3.11/dist-packages (from gget<1.0.0,>=0.28.4->PyTDC) (9.2.0)\n",
            "Requirement already satisfied: beautifulsoup4>=4.10.0 in /usr/local/lib/python3.11/dist-packages (from gget<1.0.0,>=0.28.4->PyTDC) (4.13.3)\n",
            "Requirement already satisfied: ipywidgets in /usr/local/lib/python3.11/dist-packages (from gget<1.0.0,>=0.28.4->PyTDC) (7.7.1)\n",
            "Requirement already satisfied: lxml in /usr/local/lib/python3.11/dist-packages (from gget<1.0.0,>=0.28.4->PyTDC) (5.3.1)\n",
            "Requirement already satisfied: et-xmlfile in /usr/local/lib/python3.11/dist-packages (from openpyxl<4.0.0,>=3.0.10->PyTDC) (2.0.0)\n",
            "Requirement already satisfied: python-dateutil>=2.8.2 in /usr/local/lib/python3.11/dist-packages (from pandas<3.0.0,>=2.1.4->PyTDC) (2.8.2)\n",
            "Requirement already satisfied: pytz>=2020.1 in /usr/local/lib/python3.11/dist-packages (from pandas<3.0.0,>=2.1.4->PyTDC) (2025.1)\n",
            "Requirement already satisfied: tzdata>=2022.7 in /usr/local/lib/python3.11/dist-packages (from pandas<3.0.0,>=2.1.4->PyTDC) (2025.1)\n",
            "Requirement already satisfied: annotated-types>=0.6.0 in /usr/local/lib/python3.11/dist-packages (from pydantic<3.0.0,>=2.6.3->PyTDC) (0.7.0)\n",
            "Requirement already satisfied: pydantic-core==2.27.2 in /usr/local/lib/python3.11/dist-packages (from pydantic<3.0.0,>=2.6.3->PyTDC) (2.27.2)\n",
            "Requirement already satisfied: charset-normalizer<4,>=2 in /usr/local/lib/python3.11/dist-packages (from requests<3.0.0,>=2.31.0->PyTDC) (3.4.1)\n",
            "Requirement already satisfied: idna<4,>=2.5 in /usr/local/lib/python3.11/dist-packages (from requests<3.0.0,>=2.31.0->PyTDC) (3.10)\n",
            "Requirement already satisfied: urllib3<3,>=1.21.1 in /usr/local/lib/python3.11/dist-packages (from requests<3.0.0,>=2.31.0->PyTDC) (2.3.0)\n",
            "Requirement already satisfied: certifi>=2017.4.17 in /usr/local/lib/python3.11/dist-packages (from requests<3.0.0,>=2.31.0->PyTDC) (2025.1.31)\n",
            "Requirement already satisfied: attrs>=22.2 in /usr/local/lib/python3.11/dist-packages (from tiledbsoma<2.0.0,>=1.7.2->PyTDC) (25.3.0)\n",
            "Requirement already satisfied: numba>=0.58.0 in /usr/local/lib/python3.11/dist-packages (from tiledbsoma<2.0.0,>=1.7.2->PyTDC) (0.60.0)\n",
            "Requirement already satisfied: scanpy>=1.9.2 in /usr/local/lib/python3.11/dist-packages (from tiledbsoma<2.0.0,>=1.7.2->PyTDC) (1.11.0)\n",
            "Requirement already satisfied: somacore==1.0.11 in /usr/local/lib/python3.11/dist-packages (from tiledbsoma<2.0.0,>=1.7.2->PyTDC) (1.0.11)\n",
            "Requirement already satisfied: tiledb~=0.29.0 in /usr/local/lib/python3.11/dist-packages (from tiledbsoma<2.0.0,>=1.7.2->PyTDC) (0.29.1)\n",
            "Requirement already satisfied: platformdirs>=3.5.1 in /usr/local/lib/python3.11/dist-packages (from yapf<1.0.0,>=0.40.2->PyTDC) (4.3.7)\n",
            "Requirement already satisfied: array-api-compat!=1.5,>1.4 in /usr/local/lib/python3.11/dist-packages (from anndata->cellxgene-census==1.15.0->PyTDC) (1.11.2)\n",
            "Requirement already satisfied: h5py>=3.7 in /usr/local/lib/python3.11/dist-packages (from anndata->cellxgene-census==1.15.0->PyTDC) (3.13.0)\n",
            "Requirement already satisfied: natsort in /usr/local/lib/python3.11/dist-packages (from anndata->cellxgene-census==1.15.0->PyTDC) (8.4.0)\n",
            "Requirement already satisfied: soupsieve>1.2 in /usr/local/lib/python3.11/dist-packages (from beautifulsoup4>=4.10.0->gget<1.0.0,>=0.28.4->PyTDC) (2.6)\n",
            "Requirement already satisfied: aiohappyeyeballs>=2.3.0 in /usr/local/lib/python3.11/dist-packages (from aiohttp->datasets<2.20.0->PyTDC) (2.6.1)\n",
            "Requirement already satisfied: aiosignal>=1.1.2 in /usr/local/lib/python3.11/dist-packages (from aiohttp->datasets<2.20.0->PyTDC) (1.3.2)\n",
            "Requirement already satisfied: frozenlist>=1.1.1 in /usr/local/lib/python3.11/dist-packages (from aiohttp->datasets<2.20.0->PyTDC) (1.5.0)\n",
            "Requirement already satisfied: multidict<7.0,>=4.5 in /usr/local/lib/python3.11/dist-packages (from aiohttp->datasets<2.20.0->PyTDC) (6.2.0)\n",
            "Requirement already satisfied: propcache>=0.2.0 in /usr/local/lib/python3.11/dist-packages (from aiohttp->datasets<2.20.0->PyTDC) (0.3.0)\n",
            "Requirement already satisfied: yarl<2.0,>=1.17.0 in /usr/local/lib/python3.11/dist-packages (from aiohttp->datasets<2.20.0->PyTDC) (1.18.3)\n",
            "Requirement already satisfied: contourpy>=1.0.1 in /usr/local/lib/python3.11/dist-packages (from matplotlib->gget<1.0.0,>=0.28.4->PyTDC) (1.3.1)\n",
            "Requirement already satisfied: cycler>=0.10 in /usr/local/lib/python3.11/dist-packages (from matplotlib->gget<1.0.0,>=0.28.4->PyTDC) (0.12.1)\n",
            "Requirement already satisfied: fonttools>=4.22.0 in /usr/local/lib/python3.11/dist-packages (from matplotlib->gget<1.0.0,>=0.28.4->PyTDC) (4.56.0)\n",
            "Requirement already satisfied: kiwisolver>=1.3.1 in /usr/local/lib/python3.11/dist-packages (from matplotlib->gget<1.0.0,>=0.28.4->PyTDC) (1.4.8)\n",
            "Requirement already satisfied: pyparsing>=2.3.1 in /usr/local/lib/python3.11/dist-packages (from matplotlib->gget<1.0.0,>=0.28.4->PyTDC) (3.2.1)\n",
            "Requirement already satisfied: llvmlite<0.44,>=0.43.0dev0 in /usr/local/lib/python3.11/dist-packages (from numba>=0.58.0->tiledbsoma<2.0.0,>=1.7.2->PyTDC) (0.43.0)\n",
            "Requirement already satisfied: six>=1.5 in /usr/local/lib/python3.11/dist-packages (from python-dateutil>=2.8.2->pandas<3.0.0,>=2.1.4->PyTDC) (1.17.0)\n",
            "Requirement already satisfied: aiobotocore<3.0.0,>=2.5.4 in /usr/local/lib/python3.11/dist-packages (from s3fs>=2021.06.1->cellxgene-census==1.15.0->PyTDC) (2.21.1)\n",
            "Requirement already satisfied: legacy-api-wrap>=1.4 in /usr/local/lib/python3.11/dist-packages (from scanpy>=1.9.2->tiledbsoma<2.0.0,>=1.7.2->PyTDC) (1.4.1)\n",
            "Requirement already satisfied: networkx>=2.7 in /usr/local/lib/python3.11/dist-packages (from scanpy>=1.9.2->tiledbsoma<2.0.0,>=1.7.2->PyTDC) (3.4.2)\n",
            "Requirement already satisfied: patsy!=1.0.0 in /usr/local/lib/python3.11/dist-packages (from scanpy>=1.9.2->tiledbsoma<2.0.0,>=1.7.2->PyTDC) (1.0.1)\n",
            "Requirement already satisfied: pynndescent>=0.5 in /usr/local/lib/python3.11/dist-packages (from scanpy>=1.9.2->tiledbsoma<2.0.0,>=1.7.2->PyTDC) (0.5.13)\n",
            "Requirement already satisfied: session-info2 in /usr/local/lib/python3.11/dist-packages (from scanpy>=1.9.2->tiledbsoma<2.0.0,>=1.7.2->PyTDC) (0.1.2)\n",
            "Requirement already satisfied: statsmodels>=0.13 in /usr/local/lib/python3.11/dist-packages (from scanpy>=1.9.2->tiledbsoma<2.0.0,>=1.7.2->PyTDC) (0.14.4)\n",
            "Requirement already satisfied: umap-learn!=0.5.0,>=0.5 in /usr/local/lib/python3.11/dist-packages (from scanpy>=1.9.2->tiledbsoma<2.0.0,>=1.7.2->PyTDC) (0.5.7)\n",
            "Requirement already satisfied: jinja2 in /usr/local/lib/python3.11/dist-packages (from torch>=1.10.0->accelerate==0.33.0->PyTDC) (3.1.6)\n",
            "Requirement already satisfied: nvidia-cuda-nvrtc-cu12==12.4.127 in /usr/local/lib/python3.11/dist-packages (from torch>=1.10.0->accelerate==0.33.0->PyTDC) (12.4.127)\n",
            "Requirement already satisfied: nvidia-cuda-runtime-cu12==12.4.127 in /usr/local/lib/python3.11/dist-packages (from torch>=1.10.0->accelerate==0.33.0->PyTDC) (12.4.127)\n",
            "Requirement already satisfied: nvidia-cuda-cupti-cu12==12.4.127 in /usr/local/lib/python3.11/dist-packages (from torch>=1.10.0->accelerate==0.33.0->PyTDC) (12.4.127)\n",
            "Requirement already satisfied: nvidia-cudnn-cu12==9.1.0.70 in /usr/local/lib/python3.11/dist-packages (from torch>=1.10.0->accelerate==0.33.0->PyTDC) (9.1.0.70)\n",
            "Requirement already satisfied: nvidia-cublas-cu12==12.4.5.8 in /usr/local/lib/python3.11/dist-packages (from torch>=1.10.0->accelerate==0.33.0->PyTDC) (12.4.5.8)\n",
            "Requirement already satisfied: nvidia-cufft-cu12==11.2.1.3 in /usr/local/lib/python3.11/dist-packages (from torch>=1.10.0->accelerate==0.33.0->PyTDC) (11.2.1.3)\n",
            "Requirement already satisfied: nvidia-curand-cu12==10.3.5.147 in /usr/local/lib/python3.11/dist-packages (from torch>=1.10.0->accelerate==0.33.0->PyTDC) (10.3.5.147)\n",
            "Requirement already satisfied: nvidia-cusolver-cu12==11.6.1.9 in /usr/local/lib/python3.11/dist-packages (from torch>=1.10.0->accelerate==0.33.0->PyTDC) (11.6.1.9)\n",
            "Requirement already satisfied: nvidia-cusparse-cu12==12.3.1.170 in /usr/local/lib/python3.11/dist-packages (from torch>=1.10.0->accelerate==0.33.0->PyTDC) (12.3.1.170)\n",
            "Requirement already satisfied: nvidia-cusparselt-cu12==0.6.2 in /usr/local/lib/python3.11/dist-packages (from torch>=1.10.0->accelerate==0.33.0->PyTDC) (0.6.2)\n",
            "Requirement already satisfied: nvidia-nccl-cu12==2.21.5 in /usr/local/lib/python3.11/dist-packages (from torch>=1.10.0->accelerate==0.33.0->PyTDC) (2.21.5)\n",
            "Requirement already satisfied: nvidia-nvtx-cu12==12.4.127 in /usr/local/lib/python3.11/dist-packages (from torch>=1.10.0->accelerate==0.33.0->PyTDC) (12.4.127)\n",
            "Requirement already satisfied: nvidia-nvjitlink-cu12==12.4.127 in /usr/local/lib/python3.11/dist-packages (from torch>=1.10.0->accelerate==0.33.0->PyTDC) (12.4.127)\n",
            "Requirement already satisfied: triton==3.2.0 in /usr/local/lib/python3.11/dist-packages (from torch>=1.10.0->accelerate==0.33.0->PyTDC) (3.2.0)\n",
            "Requirement already satisfied: sympy==1.13.1 in /usr/local/lib/python3.11/dist-packages (from torch>=1.10.0->accelerate==0.33.0->PyTDC) (1.13.1)\n",
            "Requirement already satisfied: mpmath<1.4,>=1.1.0 in /usr/local/lib/python3.11/dist-packages (from sympy==1.13.1->torch>=1.10.0->accelerate==0.33.0->PyTDC) (1.3.0)\n",
            "Requirement already satisfied: setuptools>=18.5 in /usr/local/lib/python3.11/dist-packages (from ipython->gget<1.0.0,>=0.28.4->PyTDC) (75.1.0)\n",
            "Requirement already satisfied: jedi>=0.16 in /usr/local/lib/python3.11/dist-packages (from ipython->gget<1.0.0,>=0.28.4->PyTDC) (0.19.2)\n",
            "Requirement already satisfied: decorator in /usr/local/lib/python3.11/dist-packages (from ipython->gget<1.0.0,>=0.28.4->PyTDC) (4.4.2)\n",
            "Requirement already satisfied: pickleshare in /usr/local/lib/python3.11/dist-packages (from ipython->gget<1.0.0,>=0.28.4->PyTDC) (0.7.5)\n",
            "Requirement already satisfied: traitlets>=4.2 in /usr/local/lib/python3.11/dist-packages (from ipython->gget<1.0.0,>=0.28.4->PyTDC) (5.7.1)\n",
            "Requirement already satisfied: prompt-toolkit!=3.0.0,!=3.0.1,<3.1.0,>=2.0.0 in /usr/local/lib/python3.11/dist-packages (from ipython->gget<1.0.0,>=0.28.4->PyTDC) (3.0.50)\n",
            "Requirement already satisfied: pygments in /usr/local/lib/python3.11/dist-packages (from ipython->gget<1.0.0,>=0.28.4->PyTDC) (2.18.0)\n",
            "Requirement already satisfied: backcall in /usr/local/lib/python3.11/dist-packages (from ipython->gget<1.0.0,>=0.28.4->PyTDC) (0.2.0)\n",
            "Requirement already satisfied: matplotlib-inline in /usr/local/lib/python3.11/dist-packages (from ipython->gget<1.0.0,>=0.28.4->PyTDC) (0.1.7)\n",
            "Requirement already satisfied: pexpect>4.3 in /usr/local/lib/python3.11/dist-packages (from ipython->gget<1.0.0,>=0.28.4->PyTDC) (4.9.0)\n",
            "Requirement already satisfied: ipykernel>=4.5.1 in /usr/local/lib/python3.11/dist-packages (from ipywidgets->gget<1.0.0,>=0.28.4->PyTDC) (6.17.1)\n",
            "Requirement already satisfied: ipython-genutils~=0.2.0 in /usr/local/lib/python3.11/dist-packages (from ipywidgets->gget<1.0.0,>=0.28.4->PyTDC) (0.2.0)\n",
            "Requirement already satisfied: widgetsnbextension~=3.6.0 in /usr/local/lib/python3.11/dist-packages (from ipywidgets->gget<1.0.0,>=0.28.4->PyTDC) (3.6.10)\n",
            "Requirement already satisfied: jupyterlab-widgets>=1.0.0 in /usr/local/lib/python3.11/dist-packages (from ipywidgets->gget<1.0.0,>=0.28.4->PyTDC) (3.0.13)\n",
            "Requirement already satisfied: aioitertools<1.0.0,>=0.5.1 in /usr/local/lib/python3.11/dist-packages (from aiobotocore<3.0.0,>=2.5.4->s3fs>=2021.06.1->cellxgene-census==1.15.0->PyTDC) (0.12.0)\n",
            "Requirement already satisfied: botocore<1.37.2,>=1.37.0 in /usr/local/lib/python3.11/dist-packages (from aiobotocore<3.0.0,>=2.5.4->s3fs>=2021.06.1->cellxgene-census==1.15.0->PyTDC) (1.37.1)\n",
            "Requirement already satisfied: jmespath<2.0.0,>=0.7.1 in /usr/local/lib/python3.11/dist-packages (from aiobotocore<3.0.0,>=2.5.4->s3fs>=2021.06.1->cellxgene-census==1.15.0->PyTDC) (1.0.1)\n",
            "Requirement already satisfied: wrapt<2.0.0,>=1.10.10 in /usr/local/lib/python3.11/dist-packages (from aiobotocore<3.0.0,>=2.5.4->s3fs>=2021.06.1->cellxgene-census==1.15.0->PyTDC) (1.17.2)\n",
            "Requirement already satisfied: debugpy>=1.0 in /usr/local/lib/python3.11/dist-packages (from ipykernel>=4.5.1->ipywidgets->gget<1.0.0,>=0.28.4->PyTDC) (1.8.0)\n",
            "Requirement already satisfied: jupyter-client>=6.1.12 in /usr/local/lib/python3.11/dist-packages (from ipykernel>=4.5.1->ipywidgets->gget<1.0.0,>=0.28.4->PyTDC) (6.1.12)\n",
            "Requirement already satisfied: nest-asyncio in /usr/local/lib/python3.11/dist-packages (from ipykernel>=4.5.1->ipywidgets->gget<1.0.0,>=0.28.4->PyTDC) (1.6.0)\n",
            "Requirement already satisfied: pyzmq>=17 in /usr/local/lib/python3.11/dist-packages (from ipykernel>=4.5.1->ipywidgets->gget<1.0.0,>=0.28.4->PyTDC) (24.0.1)\n",
            "Requirement already satisfied: tornado>=6.1 in /usr/local/lib/python3.11/dist-packages (from ipykernel>=4.5.1->ipywidgets->gget<1.0.0,>=0.28.4->PyTDC) (6.4.2)\n",
            "Requirement already satisfied: parso<0.9.0,>=0.8.4 in /usr/local/lib/python3.11/dist-packages (from jedi>=0.16->ipython->gget<1.0.0,>=0.28.4->PyTDC) (0.8.4)\n",
            "Requirement already satisfied: ptyprocess>=0.5 in /usr/local/lib/python3.11/dist-packages (from pexpect>4.3->ipython->gget<1.0.0,>=0.28.4->PyTDC) (0.7.0)\n",
            "Requirement already satisfied: wcwidth in /usr/local/lib/python3.11/dist-packages (from prompt-toolkit!=3.0.0,!=3.0.1,<3.1.0,>=2.0.0->ipython->gget<1.0.0,>=0.28.4->PyTDC) (0.2.13)\n",
            "Requirement already satisfied: notebook>=4.4.1 in /usr/local/lib/python3.11/dist-packages (from widgetsnbextension~=3.6.0->ipywidgets->gget<1.0.0,>=0.28.4->PyTDC) (6.5.7)\n",
            "Requirement already satisfied: MarkupSafe>=2.0 in /usr/local/lib/python3.11/dist-packages (from jinja2->torch>=1.10.0->accelerate==0.33.0->PyTDC) (3.0.2)\n",
            "Requirement already satisfied: jupyter-core>=4.6.0 in /usr/local/lib/python3.11/dist-packages (from jupyter-client>=6.1.12->ipykernel>=4.5.1->ipywidgets->gget<1.0.0,>=0.28.4->PyTDC) (5.7.2)\n",
            "Requirement already satisfied: argon2-cffi in /usr/local/lib/python3.11/dist-packages (from notebook>=4.4.1->widgetsnbextension~=3.6.0->ipywidgets->gget<1.0.0,>=0.28.4->PyTDC) (23.1.0)\n",
            "Requirement already satisfied: nbformat in /usr/local/lib/python3.11/dist-packages (from notebook>=4.4.1->widgetsnbextension~=3.6.0->ipywidgets->gget<1.0.0,>=0.28.4->PyTDC) (5.10.4)\n",
            "Requirement already satisfied: nbconvert>=5 in /usr/local/lib/python3.11/dist-packages (from notebook>=4.4.1->widgetsnbextension~=3.6.0->ipywidgets->gget<1.0.0,>=0.28.4->PyTDC) (7.16.6)\n",
            "Requirement already satisfied: Send2Trash>=1.8.0 in /usr/local/lib/python3.11/dist-packages (from notebook>=4.4.1->widgetsnbextension~=3.6.0->ipywidgets->gget<1.0.0,>=0.28.4->PyTDC) (1.8.3)\n",
            "Requirement already satisfied: terminado>=0.8.3 in /usr/local/lib/python3.11/dist-packages (from notebook>=4.4.1->widgetsnbextension~=3.6.0->ipywidgets->gget<1.0.0,>=0.28.4->PyTDC) (0.18.1)\n",
            "Requirement already satisfied: prometheus-client in /usr/local/lib/python3.11/dist-packages (from notebook>=4.4.1->widgetsnbextension~=3.6.0->ipywidgets->gget<1.0.0,>=0.28.4->PyTDC) (0.21.1)\n",
            "Requirement already satisfied: nbclassic>=0.4.7 in /usr/local/lib/python3.11/dist-packages (from notebook>=4.4.1->widgetsnbextension~=3.6.0->ipywidgets->gget<1.0.0,>=0.28.4->PyTDC) (1.2.0)\n",
            "Requirement already satisfied: notebook-shim>=0.2.3 in /usr/local/lib/python3.11/dist-packages (from nbclassic>=0.4.7->notebook>=4.4.1->widgetsnbextension~=3.6.0->ipywidgets->gget<1.0.0,>=0.28.4->PyTDC) (0.2.4)\n",
            "Requirement already satisfied: bleach!=5.0.0 in /usr/local/lib/python3.11/dist-packages (from bleach[css]!=5.0.0->nbconvert>=5->notebook>=4.4.1->widgetsnbextension~=3.6.0->ipywidgets->gget<1.0.0,>=0.28.4->PyTDC) (6.2.0)\n",
            "Requirement already satisfied: defusedxml in /usr/local/lib/python3.11/dist-packages (from nbconvert>=5->notebook>=4.4.1->widgetsnbextension~=3.6.0->ipywidgets->gget<1.0.0,>=0.28.4->PyTDC) (0.7.1)\n",
            "Requirement already satisfied: jupyterlab-pygments in /usr/local/lib/python3.11/dist-packages (from nbconvert>=5->notebook>=4.4.1->widgetsnbextension~=3.6.0->ipywidgets->gget<1.0.0,>=0.28.4->PyTDC) (0.3.0)\n",
            "Requirement already satisfied: mistune<4,>=2.0.3 in /usr/local/lib/python3.11/dist-packages (from nbconvert>=5->notebook>=4.4.1->widgetsnbextension~=3.6.0->ipywidgets->gget<1.0.0,>=0.28.4->PyTDC) (3.1.3)\n",
            "Requirement already satisfied: nbclient>=0.5.0 in /usr/local/lib/python3.11/dist-packages (from nbconvert>=5->notebook>=4.4.1->widgetsnbextension~=3.6.0->ipywidgets->gget<1.0.0,>=0.28.4->PyTDC) (0.10.2)\n",
            "Requirement already satisfied: pandocfilters>=1.4.1 in /usr/local/lib/python3.11/dist-packages (from nbconvert>=5->notebook>=4.4.1->widgetsnbextension~=3.6.0->ipywidgets->gget<1.0.0,>=0.28.4->PyTDC) (1.5.1)\n",
            "Requirement already satisfied: fastjsonschema>=2.15 in /usr/local/lib/python3.11/dist-packages (from nbformat->notebook>=4.4.1->widgetsnbextension~=3.6.0->ipywidgets->gget<1.0.0,>=0.28.4->PyTDC) (2.21.1)\n",
            "Requirement already satisfied: jsonschema>=2.6 in /usr/local/lib/python3.11/dist-packages (from nbformat->notebook>=4.4.1->widgetsnbextension~=3.6.0->ipywidgets->gget<1.0.0,>=0.28.4->PyTDC) (4.23.0)\n",
            "Requirement already satisfied: argon2-cffi-bindings in /usr/local/lib/python3.11/dist-packages (from argon2-cffi->notebook>=4.4.1->widgetsnbextension~=3.6.0->ipywidgets->gget<1.0.0,>=0.28.4->PyTDC) (21.2.0)\n",
            "Requirement already satisfied: webencodings in /usr/local/lib/python3.11/dist-packages (from bleach!=5.0.0->bleach[css]!=5.0.0->nbconvert>=5->notebook>=4.4.1->widgetsnbextension~=3.6.0->ipywidgets->gget<1.0.0,>=0.28.4->PyTDC) (0.5.1)\n",
            "Requirement already satisfied: tinycss2<1.5,>=1.1.0 in /usr/local/lib/python3.11/dist-packages (from bleach[css]!=5.0.0->nbconvert>=5->notebook>=4.4.1->widgetsnbextension~=3.6.0->ipywidgets->gget<1.0.0,>=0.28.4->PyTDC) (1.4.0)\n",
            "Requirement already satisfied: jsonschema-specifications>=2023.03.6 in /usr/local/lib/python3.11/dist-packages (from jsonschema>=2.6->nbformat->notebook>=4.4.1->widgetsnbextension~=3.6.0->ipywidgets->gget<1.0.0,>=0.28.4->PyTDC) (2024.10.1)\n",
            "Requirement already satisfied: referencing>=0.28.4 in /usr/local/lib/python3.11/dist-packages (from jsonschema>=2.6->nbformat->notebook>=4.4.1->widgetsnbextension~=3.6.0->ipywidgets->gget<1.0.0,>=0.28.4->PyTDC) (0.36.2)\n",
            "Requirement already satisfied: rpds-py>=0.7.1 in /usr/local/lib/python3.11/dist-packages (from jsonschema>=2.6->nbformat->notebook>=4.4.1->widgetsnbextension~=3.6.0->ipywidgets->gget<1.0.0,>=0.28.4->PyTDC) (0.23.1)\n",
            "Requirement already satisfied: jupyter-server<3,>=1.8 in /usr/local/lib/python3.11/dist-packages (from notebook-shim>=0.2.3->nbclassic>=0.4.7->notebook>=4.4.1->widgetsnbextension~=3.6.0->ipywidgets->gget<1.0.0,>=0.28.4->PyTDC) (1.16.0)\n",
            "Requirement already satisfied: cffi>=1.0.1 in /usr/local/lib/python3.11/dist-packages (from argon2-cffi-bindings->argon2-cffi->notebook>=4.4.1->widgetsnbextension~=3.6.0->ipywidgets->gget<1.0.0,>=0.28.4->PyTDC) (1.17.1)\n",
            "Requirement already satisfied: pycparser in /usr/local/lib/python3.11/dist-packages (from cffi>=1.0.1->argon2-cffi-bindings->argon2-cffi->notebook>=4.4.1->widgetsnbextension~=3.6.0->ipywidgets->gget<1.0.0,>=0.28.4->PyTDC) (2.22)\n",
            "Requirement already satisfied: anyio>=3.1.0 in /usr/local/lib/python3.11/dist-packages (from jupyter-server<3,>=1.8->notebook-shim>=0.2.3->nbclassic>=0.4.7->notebook>=4.4.1->widgetsnbextension~=3.6.0->ipywidgets->gget<1.0.0,>=0.28.4->PyTDC) (4.9.0)\n",
            "Requirement already satisfied: websocket-client in /usr/local/lib/python3.11/dist-packages (from jupyter-server<3,>=1.8->notebook-shim>=0.2.3->nbclassic>=0.4.7->notebook>=4.4.1->widgetsnbextension~=3.6.0->ipywidgets->gget<1.0.0,>=0.28.4->PyTDC) (1.8.0)\n",
            "Requirement already satisfied: sniffio>=1.1 in /usr/local/lib/python3.11/dist-packages (from anyio>=3.1.0->jupyter-server<3,>=1.8->notebook-shim>=0.2.3->nbclassic>=0.4.7->notebook>=4.4.1->widgetsnbextension~=3.6.0->ipywidgets->gget<1.0.0,>=0.28.4->PyTDC) (1.3.1)\n"
          ]
        }
      ]
    },
    {
      "cell_type": "code",
      "source": [
        "# 라이브러리 임포트\n",
        "import numpy as np\n",
        "import pandas as pd\n",
        "import matplotlib.pyplot as plt\n",
        "import seaborn as sns\n",
        "from tqdm import tqdm\n",
        "import torch\n",
        "import torch.nn as nn\n",
        "import torch.optim as optim\n",
        "from torch.utils.data import Dataset, DataLoader\n",
        "from sklearn.model_selection import train_test_split\n",
        "from sklearn.metrics import roc_auc_score, accuracy_score, mean_squared_error, r2_score\n",
        "from sklearn.preprocessing import StandardScaler\n",
        "from rdkit import Chem\n",
        "from rdkit.Chem import AllChem, Descriptors, Lipinski, MolSurf\n",
        "from tdc.single_pred import ADME\n",
        "import warnings\n",
        "warnings.filterwarnings('ignore')\n",
        "\n",
        "# 랜덤 시드 설정\n",
        "import random\n",
        "random.seed(42)\n",
        "np.random.seed(42)\n",
        "torch.manual_seed(42)\n",
        "if torch.cuda.is_available():\n",
        "    torch.cuda.manual_seed_all(42)\n",
        "\n",
        "# 장치 설정\n",
        "device = torch.device('cuda' if torch.cuda.is_available() else 'cpu')\n",
        "print(f\"사용 장치: {device}\")"
      ],
      "metadata": {
        "colab": {
          "base_uri": "https://localhost:8080/"
        },
        "id": "qA1hBco4tKXM",
        "outputId": "856e5346-0f7c-45ed-8d7f-f7db109184e0"
      },
      "execution_count": null,
      "outputs": [
        {
          "output_type": "stream",
          "name": "stdout",
          "text": [
            "사용 장치: cuda\n"
          ]
        }
      ]
    },
    {
      "cell_type": "code",
      "source": [
        "# 선택된 ADMET 데이터셋 리스트\n",
        "selected_datasets = {\n",
        "    \"absorption\": [\"Caco2_Wang\", \"HIA_Hou\", \"Pgp_Broccatelli\"],\n",
        "    \"distribution\": [\"BBB_Martins\", \"PPBR_AZ\"],\n",
        "    \"metabolism\": [\"CYP2C19_Veith\", \"CYP2D6_Veith\", \"CYP3A4_Veith\"],\n",
        "    \"excretion\": [\"Half_Life_Obach\"]\n",
        "}\n",
        "\n",
        "# 데이터셋 로드 및 병합 함수\n",
        "def load_admet_datasets(selected_datasets):\n",
        "    \"\"\"TDC에서 ADMET 데이터셋을 로드하고 병합\"\"\"\n",
        "    datasets = {}\n",
        "\n",
        "    # 각 ADMET 범주와 데이터셋 로드\n",
        "    for category, dataset_names in selected_datasets.items():\n",
        "        print(f\"\\n{category.upper()} 데이터셋 로드 중...\")\n",
        "        for name in dataset_names:\n",
        "            try:\n",
        "                data = ADME(name=name)\n",
        "                split = data.get_split()\n",
        "\n",
        "                # 학습, 검증, 테스트 세트 가져오기\n",
        "                train_data = split['train']\n",
        "                valid_data = split['valid']\n",
        "                test_data = split['test']\n",
        "\n",
        "                # 회귀 또는 분류 작업 확인\n",
        "                unique_values = train_data['Y'].nunique()\n",
        "                if unique_values <= 2:\n",
        "                    task_type = 'classification'\n",
        "                else:\n",
        "                    task_type = 'regression'\n",
        "\n",
        "                # 데이터셋 정보 저장\n",
        "                datasets[name] = {\n",
        "                    'train': train_data,\n",
        "                    'valid': valid_data,\n",
        "                    'test': test_data,\n",
        "                    'task_type': task_type,\n",
        "                    'category': category\n",
        "                }\n",
        "\n",
        "                print(f\"  - {name}: 학습={len(train_data)}, 검증={len(valid_data)}, 테스트={len(test_data)} (작업 유형: {task_type})\")\n",
        "            except Exception as e:\n",
        "                print(f\"  - {name} 로드 중 오류 발생: {e}\")\n",
        "\n",
        "    return datasets\n",
        "\n",
        "# ADMET 데이터셋 로드\n",
        "admet_datasets = load_admet_datasets(selected_datasets)\n",
        "\n",
        "# 데이터셋 정보 출력\n",
        "print(\"\\n로드된 데이터셋 정보:\")\n",
        "for name, data in admet_datasets.items():\n",
        "    print(f\"{name} ({data['category']}, {data['task_type']}): 학습={len(data['train'])}, 검증={len(data['valid'])}, 테스트={len(data['test'])}\")"
      ],
      "metadata": {
        "colab": {
          "base_uri": "https://localhost:8080/"
        },
        "id": "WCW5NiN3tNXf",
        "outputId": "6b3af769-2710-42d8-9b63-f3fe5b580768"
      },
      "execution_count": null,
      "outputs": [
        {
          "output_type": "stream",
          "name": "stderr",
          "text": [
            "Downloading...\n"
          ]
        },
        {
          "output_type": "stream",
          "name": "stdout",
          "text": [
            "\n",
            "ABSORPTION 데이터셋 로드 중...\n"
          ]
        },
        {
          "output_type": "stream",
          "name": "stderr",
          "text": [
            "100%|██████████| 82.5k/82.5k [00:00<00:00, 380kiB/s]\n",
            "Loading...\n",
            "Done!\n",
            "Downloading...\n"
          ]
        },
        {
          "output_type": "stream",
          "name": "stdout",
          "text": [
            "  - Caco2_Wang: 학습=637, 검증=91, 테스트=182 (작업 유형: regression)\n"
          ]
        },
        {
          "output_type": "stream",
          "name": "stderr",
          "text": [
            "100%|██████████| 40.1k/40.1k [00:00<00:00, 30.8MiB/s]\n",
            "Loading...\n",
            "Done!\n",
            "Downloading...\n"
          ]
        },
        {
          "output_type": "stream",
          "name": "stdout",
          "text": [
            "  - HIA_Hou: 학습=404, 검증=58, 테스트=116 (작업 유형: classification)\n"
          ]
        },
        {
          "output_type": "stream",
          "name": "stderr",
          "text": [
            "100%|██████████| 126k/126k [00:00<00:00, 193kiB/s] \n",
            "Loading...\n",
            "Done!\n",
            "Downloading...\n"
          ]
        },
        {
          "output_type": "stream",
          "name": "stdout",
          "text": [
            "  - Pgp_Broccatelli: 학습=852, 검증=122, 테스트=244 (작업 유형: classification)\n",
            "\n",
            "DISTRIBUTION 데이터셋 로드 중...\n"
          ]
        },
        {
          "output_type": "stream",
          "name": "stderr",
          "text": [
            "100%|██████████| 138k/138k [00:00<00:00, 320kiB/s] \n",
            "Loading...\n",
            "Done!\n",
            "Downloading...\n"
          ]
        },
        {
          "output_type": "stream",
          "name": "stdout",
          "text": [
            "  - BBB_Martins: 학습=1421, 검증=203, 테스트=406 (작업 유형: classification)\n"
          ]
        },
        {
          "output_type": "stream",
          "name": "stderr",
          "text": [
            "100%|██████████| 265k/265k [00:00<00:00, 406kiB/s]\n",
            "Loading...\n",
            "Done!\n",
            "Downloading...\n"
          ]
        },
        {
          "output_type": "stream",
          "name": "stdout",
          "text": [
            "  - PPBR_AZ: 학습=1130, 검증=161, 테스트=323 (작업 유형: regression)\n",
            "\n",
            "METABOLISM 데이터셋 로드 중...\n"
          ]
        },
        {
          "output_type": "stream",
          "name": "stderr",
          "text": [
            "100%|██████████| 771k/771k [00:01<00:00, 711kiB/s]\n",
            "Loading...\n",
            "Done!\n",
            "Downloading...\n"
          ]
        },
        {
          "output_type": "stream",
          "name": "stdout",
          "text": [
            "  - CYP2C19_Veith: 학습=8866, 검증=1266, 테스트=2533 (작업 유형: classification)\n"
          ]
        },
        {
          "output_type": "stream",
          "name": "stderr",
          "text": [
            "100%|██████████| 800k/800k [00:00<00:00, 923kiB/s]\n",
            "Loading...\n",
            "Done!\n",
            "Downloading...\n"
          ]
        },
        {
          "output_type": "stream",
          "name": "stdout",
          "text": [
            "  - CYP2D6_Veith: 학습=9191, 검증=1313, 테스트=2626 (작업 유형: classification)\n"
          ]
        },
        {
          "output_type": "stream",
          "name": "stderr",
          "text": [
            "100%|██████████| 746k/746k [00:00<00:00, 860kiB/s]\n",
            "Loading...\n",
            "Done!\n",
            "Downloading...\n"
          ]
        },
        {
          "output_type": "stream",
          "name": "stdout",
          "text": [
            "  - CYP3A4_Veith: 학습=8629, 검증=1233, 테스트=2466 (작업 유형: classification)\n",
            "\n",
            "EXCRETION 데이터셋 로드 중...\n"
          ]
        },
        {
          "output_type": "stream",
          "name": "stderr",
          "text": [
            "100%|██████████| 53.6k/53.6k [00:00<00:00, 249kiB/s]\n",
            "Loading...\n",
            "Done!\n"
          ]
        },
        {
          "output_type": "stream",
          "name": "stdout",
          "text": [
            "  - Half_Life_Obach: 학습=467, 검증=67, 테스트=133 (작업 유형: regression)\n",
            "\n",
            "로드된 데이터셋 정보:\n",
            "Caco2_Wang (absorption, regression): 학습=637, 검증=91, 테스트=182\n",
            "HIA_Hou (absorption, classification): 학습=404, 검증=58, 테스트=116\n",
            "Pgp_Broccatelli (absorption, classification): 학습=852, 검증=122, 테스트=244\n",
            "BBB_Martins (distribution, classification): 학습=1421, 검증=203, 테스트=406\n",
            "PPBR_AZ (distribution, regression): 학습=1130, 검증=161, 테스트=323\n",
            "CYP2C19_Veith (metabolism, classification): 학습=8866, 검증=1266, 테스트=2533\n",
            "CYP2D6_Veith (metabolism, classification): 학습=9191, 검증=1313, 테스트=2626\n",
            "CYP3A4_Veith (metabolism, classification): 학습=8629, 검증=1233, 테스트=2466\n",
            "Half_Life_Obach (excretion, regression): 학습=467, 검증=67, 테스트=133\n"
          ]
        }
      ]
    },
    {
      "cell_type": "markdown",
      "source": [
        "## 2.2. 데이터 전처리"
      ],
      "metadata": {
        "id": "5RzhQ7NhyZVT"
      }
    },
    {
      "cell_type": "code",
      "source": [
        "# 선택된 ADMET 데이터셋 리스트\n",
        "selected_datasets = {\n",
        "    \"absorption\": [\"Caco2_Wang\", \"HIA_Hou\", \"Pgp_Broccatelli\"],\n",
        "    \"distribution\": [\"BBB_Martins\", \"PPBR_AZ\"],\n",
        "    \"metabolism\": [\"CYP2C19_Veith\", \"CYP2D6_Veith\", \"CYP3A4_Veith\"],\n",
        "    \"excretion\": [\"Half_Life_Obach\"]\n",
        "}\n",
        "\n",
        "# 데이터셋 로드 및 병합 함수\n",
        "def load_admet_datasets(selected_datasets):\n",
        "    \"\"\"TDC에서 ADMET 데이터셋을 로드하고 병합\"\"\"\n",
        "    datasets = {}\n",
        "\n",
        "    # 각 ADMET 범주와 데이터셋 로드\n",
        "    for category, dataset_names in selected_datasets.items():\n",
        "        print(f\"\\n{category.upper()} 데이터셋 로드 중...\")\n",
        "        for name in dataset_names:\n",
        "            try:\n",
        "                data = ADME(name=name)\n",
        "                split = data.get_split()\n",
        "\n",
        "                # 학습, 검증, 테스트 세트 가져오기\n",
        "                train_data = split['train']\n",
        "                valid_data = split['valid']\n",
        "                test_data = split['test']\n",
        "\n",
        "                # 회귀 또는 분류 작업 확인\n",
        "                unique_values = train_data['Y'].nunique()\n",
        "                if unique_values <= 2:\n",
        "                    task_type = 'classification'\n",
        "                else:\n",
        "                    task_type = 'regression'\n",
        "\n",
        "                # 데이터셋 정보 저장\n",
        "                datasets[name] = {\n",
        "                    'train': train_data,\n",
        "                    'valid': valid_data,\n",
        "                    'test': test_data,\n",
        "                    'task_type': task_type,\n",
        "                    'category': category\n",
        "                }\n",
        "\n",
        "                print(f\"  - {name}: 학습={len(train_data)}, 검증={len(valid_data)}, 테스트={len(test_data)} (작업 유형: {task_type})\")\n",
        "            except Exception as e:\n",
        "                print(f\"  - {name} 로드 중 오류 발생: {e}\")\n",
        "\n",
        "    return datasets\n",
        "\n",
        "# ADMET 데이터셋 로드\n",
        "admet_datasets = load_admet_datasets(selected_datasets)\n",
        "\n",
        "# 데이터셋 정보 출력\n",
        "print(\"\\n로드된 데이터셋 정보:\")\n",
        "for name, data in admet_datasets.items():\n",
        "    print(f\"{name} ({data['category']}, {data['task_type']}): 학습={len(data['train'])}, 검증={len(data['valid'])}, 테스트={len(data['test'])}\")\n"
      ],
      "metadata": {
        "colab": {
          "base_uri": "https://localhost:8080/"
        },
        "id": "o1djuUS1tORL",
        "outputId": "d38dd145-c9fe-4f62-c3f2-0e5ddc8bc088"
      },
      "execution_count": null,
      "outputs": [
        {
          "output_type": "stream",
          "name": "stderr",
          "text": [
            "Found local copy...\n",
            "Loading...\n",
            "Done!\n",
            "Found local copy...\n",
            "Loading...\n",
            "Done!\n",
            "Found local copy...\n",
            "Loading...\n",
            "Done!\n",
            "Found local copy...\n",
            "Loading...\n",
            "Done!\n",
            "Found local copy...\n",
            "Loading...\n",
            "Done!\n",
            "Found local copy...\n",
            "Loading...\n",
            "Done!\n",
            "Found local copy...\n",
            "Loading...\n",
            "Done!\n",
            "Found local copy...\n",
            "Loading...\n",
            "Done!\n",
            "Found local copy...\n",
            "Loading...\n",
            "Done!\n"
          ]
        },
        {
          "output_type": "stream",
          "name": "stdout",
          "text": [
            "\n",
            "ABSORPTION 데이터셋 로드 중...\n",
            "  - Caco2_Wang: 학습=637, 검증=91, 테스트=182 (작업 유형: regression)\n",
            "  - HIA_Hou: 학습=404, 검증=58, 테스트=116 (작업 유형: classification)\n",
            "  - Pgp_Broccatelli: 학습=852, 검증=122, 테스트=244 (작업 유형: classification)\n",
            "\n",
            "DISTRIBUTION 데이터셋 로드 중...\n",
            "  - BBB_Martins: 학습=1421, 검증=203, 테스트=406 (작업 유형: classification)\n",
            "  - PPBR_AZ: 학습=1130, 검증=161, 테스트=323 (작업 유형: regression)\n",
            "\n",
            "METABOLISM 데이터셋 로드 중...\n",
            "  - CYP2C19_Veith: 학습=8866, 검증=1266, 테스트=2533 (작업 유형: classification)\n",
            "  - CYP2D6_Veith: 학습=9191, 검증=1313, 테스트=2626 (작업 유형: classification)\n",
            "  - CYP3A4_Veith: 학습=8629, 검증=1233, 테스트=2466 (작업 유형: classification)\n",
            "\n",
            "EXCRETION 데이터셋 로드 중...\n",
            "  - Half_Life_Obach: 학습=467, 검증=67, 테스트=133 (작업 유형: regression)\n",
            "\n",
            "로드된 데이터셋 정보:\n",
            "Caco2_Wang (absorption, regression): 학습=637, 검증=91, 테스트=182\n",
            "HIA_Hou (absorption, classification): 학습=404, 검증=58, 테스트=116\n",
            "Pgp_Broccatelli (absorption, classification): 학습=852, 검증=122, 테스트=244\n",
            "BBB_Martins (distribution, classification): 학습=1421, 검증=203, 테스트=406\n",
            "PPBR_AZ (distribution, regression): 학습=1130, 검증=161, 테스트=323\n",
            "CYP2C19_Veith (metabolism, classification): 학습=8866, 검증=1266, 테스트=2533\n",
            "CYP2D6_Veith (metabolism, classification): 학습=9191, 검증=1313, 테스트=2626\n",
            "CYP3A4_Veith (metabolism, classification): 학습=8629, 검증=1233, 테스트=2466\n",
            "Half_Life_Obach (excretion, regression): 학습=467, 검증=67, 테스트=133\n"
          ]
        }
      ]
    },
    {
      "cell_type": "code",
      "source": [
        "# 분자 특성 추출 함수\n",
        "def extract_molecular_features(smiles):\n",
        "    \"\"\"SMILES 문자열에서 분자 특성 추출\"\"\"\n",
        "    try:\n",
        "        mol = Chem.MolFromSmiles(smiles)\n",
        "        if mol is None:\n",
        "            return None\n",
        "\n",
        "        features = {}\n",
        "\n",
        "        # 기본 물리화학적 특성\n",
        "        features['MW'] = Descriptors.MolWt(mol)\n",
        "        features['LogP'] = Descriptors.MolLogP(mol)\n",
        "        features['HBD'] = Descriptors.NumHDonors(mol)\n",
        "        features['HBA'] = Descriptors.NumHAcceptors(mol)\n",
        "        features['RotBonds'] = Descriptors.NumRotatableBonds(mol)\n",
        "        features['TPSA'] = Descriptors.TPSA(mol)\n",
        "        features['QED'] = Descriptors.qed(mol)\n",
        "\n",
        "        # 추가 특성\n",
        "        features['AromaticRings'] = Lipinski.NumAromaticRings(mol)\n",
        "        features['HeavyAtoms'] = mol.GetNumHeavyAtoms()\n",
        "        features['Rings'] = Descriptors.RingCount(mol)\n",
        "        features['MolMR'] = Descriptors.MolMR(mol)\n",
        "        features['FractionCSP3'] = Descriptors.FractionCSP3(mol)\n",
        "        features['NumHeteroatoms'] = Lipinski.NumHeteroatoms(mol)\n",
        "        features['LabuteASA'] = Descriptors.LabuteASA(mol)\n",
        "\n",
        "        # 원자 개수\n",
        "        features['NumC'] = sum(1 for atom in mol.GetAtoms() if atom.GetAtomicNum() == 6)\n",
        "        features['NumN'] = sum(1 for atom in mol.GetAtoms() if atom.GetAtomicNum() == 7)\n",
        "        features['NumO'] = sum(1 for atom in mol.GetAtoms() if atom.GetAtomicNum() == 8)\n",
        "        features['NumS'] = sum(1 for atom in mol.GetAtoms() if atom.GetAtomicNum() == 16)\n",
        "        features['NumF'] = sum(1 for atom in mol.GetAtoms() if atom.GetAtomicNum() == 9)\n",
        "        features['NumCl'] = sum(1 for atom in mol.GetAtoms() if atom.GetAtomicNum() == 17)\n",
        "        features['NumBr'] = sum(1 for atom in mol.GetAtoms() if atom.GetAtomicNum() == 35)\n",
        "        features['NumI'] = sum(1 for atom in mol.GetAtoms() if atom.GetAtomicNum() == 53)\n",
        "\n",
        "        # MACCS 지문 (166비트)\n",
        "        maccs = list(AllChem.GetMACCSKeysFingerprint(mol))\n",
        "        for i, bit in enumerate(maccs):\n",
        "            features[f'MACCS_{i}'] = int(bit)\n",
        "\n",
        "        return features\n",
        "    except:\n",
        "        return None\n",
        "\n",
        "# 데이터셋 특성 추출\n",
        "def prepare_dataset_features(dataset):\n",
        "    \"\"\"데이터셋의 모든 분자에 대한 특성 추출\"\"\"\n",
        "    smiles_list = dataset['Drug'].tolist()\n",
        "    features_list = []\n",
        "    valid_indices = []\n",
        "\n",
        "    for i, smiles in enumerate(tqdm(smiles_list, desc=\"특성 추출 중\")):\n",
        "        features = extract_molecular_features(smiles)\n",
        "        if features is not None:\n",
        "            features_list.append(features)\n",
        "            valid_indices.append(i)\n",
        "\n",
        "    # 유효한 분자만 선택\n",
        "    valid_df = dataset.iloc[valid_indices].reset_index(drop=True)\n",
        "\n",
        "    # 특성 데이터프레임 생성\n",
        "    features_df = pd.DataFrame(features_list)\n",
        "\n",
        "    return valid_df, features_df"
      ],
      "metadata": {
        "id": "g7RXZXQNtPNA"
      },
      "execution_count": null,
      "outputs": []
    },
    {
      "cell_type": "code",
      "source": [
        "# 각 데이터셋에 대한 특성 추출 및 준비\n",
        "def prepare_all_datasets(admet_datasets):\n",
        "    \"\"\"모든 ADMET 데이터셋에 대한 특성 추출 및 준비\"\"\"\n",
        "    prepared_datasets = {}\n",
        "\n",
        "    for name, data in admet_datasets.items():\n",
        "        print(f\"\\n{name} 데이터셋 준비 중...\")\n",
        "\n",
        "        # 학습, 검증, 테스트 세트에 대한 특성 추출\n",
        "        train_df, train_features = prepare_dataset_features(data['train'])\n",
        "        valid_df, valid_features = prepare_dataset_features(data['valid'])\n",
        "        test_df, test_features = prepare_dataset_features(data['test'])\n",
        "\n",
        "        # 특성 스케일링을 위한 스케일러 학습\n",
        "        scaler = StandardScaler()\n",
        "        scaler.fit(train_features)\n",
        "\n",
        "        # 특성 스케일링 적용\n",
        "        train_features_scaled = scaler.transform(train_features)\n",
        "        valid_features_scaled = scaler.transform(valid_features)\n",
        "        test_features_scaled = scaler.transform(test_features)\n",
        "\n",
        "        # 데이터셋 정보 저장\n",
        "        prepared_datasets[name] = {\n",
        "            'train': (train_df, train_features_scaled),\n",
        "            'valid': (valid_df, valid_features_scaled),\n",
        "            'test': (test_df, test_features_scaled),\n",
        "            'task_type': data['task_type'],\n",
        "            'category': data['category'],\n",
        "            'feature_names': train_features.columns.tolist(),\n",
        "            'scaler': scaler,\n",
        "            'n_features': train_features.shape[1]\n",
        "        }\n",
        "\n",
        "        print(f\"  - 학습: {len(train_df)}개 샘플, 검증: {len(valid_df)}개 샘플, 테스트: {len(test_df)}개 샘플\")\n",
        "        print(f\"  - 추출된 특성 수: {train_features.shape[1]}\")\n",
        "\n",
        "    return prepared_datasets\n",
        "\n",
        "# 모든 데이터셋 준비\n",
        "prepared_datasets = prepare_all_datasets(admet_datasets)"
      ],
      "metadata": {
        "colab": {
          "base_uri": "https://localhost:8080/"
        },
        "id": "d4qXQOzctQM4",
        "outputId": "9d127dc0-2334-4ede-e75a-bc1404917f5c"
      },
      "execution_count": null,
      "outputs": [
        {
          "output_type": "stream",
          "name": "stdout",
          "text": [
            "\n",
            "Caco2_Wang 데이터셋 준비 중...\n"
          ]
        },
        {
          "output_type": "stream",
          "name": "stderr",
          "text": [
            "특성 추출 중: 100%|██████████| 637/637 [00:02<00:00, 244.98it/s]\n",
            "특성 추출 중: 100%|██████████| 91/91 [00:00<00:00, 248.84it/s]\n",
            "특성 추출 중: 100%|██████████| 182/182 [00:00<00:00, 258.55it/s]\n"
          ]
        },
        {
          "output_type": "stream",
          "name": "stdout",
          "text": [
            "  - 학습: 637개 샘플, 검증: 91개 샘플, 테스트: 182개 샘플\n",
            "  - 추출된 특성 수: 189\n",
            "\n",
            "HIA_Hou 데이터셋 준비 중...\n"
          ]
        },
        {
          "output_type": "stream",
          "name": "stderr",
          "text": [
            "특성 추출 중: 100%|██████████| 404/404 [00:01<00:00, 285.14it/s]\n",
            "특성 추출 중: 100%|██████████| 58/58 [00:00<00:00, 300.99it/s]\n",
            "특성 추출 중: 100%|██████████| 116/116 [00:00<00:00, 300.72it/s]\n"
          ]
        },
        {
          "output_type": "stream",
          "name": "stdout",
          "text": [
            "  - 학습: 404개 샘플, 검증: 58개 샘플, 테스트: 116개 샘플\n",
            "  - 추출된 특성 수: 189\n",
            "\n",
            "Pgp_Broccatelli 데이터셋 준비 중...\n"
          ]
        },
        {
          "output_type": "stream",
          "name": "stderr",
          "text": [
            "특성 추출 중: 100%|██████████| 852/852 [00:03<00:00, 260.08it/s]\n",
            "특성 추출 중: 100%|██████████| 122/122 [00:00<00:00, 154.26it/s]\n",
            "특성 추출 중: 100%|██████████| 244/244 [00:01<00:00, 169.38it/s]\n"
          ]
        },
        {
          "output_type": "stream",
          "name": "stdout",
          "text": [
            "  - 학습: 852개 샘플, 검증: 122개 샘플, 테스트: 244개 샘플\n",
            "  - 추출된 특성 수: 189\n",
            "\n",
            "BBB_Martins 데이터셋 준비 중...\n"
          ]
        },
        {
          "output_type": "stream",
          "name": "stderr",
          "text": [
            "특성 추출 중:   4%|▍         | 60/1421 [00:00<00:04, 278.90it/s][11:45:07] WARNING: not removing hydrogen atom without neighbors\n",
            "[11:45:07] WARNING: not removing hydrogen atom without neighbors\n",
            "특성 추출 중:  10%|█         | 147/1421 [00:00<00:04, 259.78it/s][11:45:07] WARNING: not removing hydrogen atom without neighbors\n",
            "[11:45:07] WARNING: not removing hydrogen atom without neighbors\n",
            "특성 추출 중:  28%|██▊       | 401/1421 [00:01<00:03, 290.09it/s][11:45:08] WARNING: not removing hydrogen atom without neighbors\n",
            "[11:45:08] WARNING: not removing hydrogen atom without neighbors\n",
            "특성 추출 중:  30%|███       | 431/1421 [00:01<00:03, 290.43it/s][11:45:08] WARNING: not removing hydrogen atom without neighbors\n",
            "[11:45:08] WARNING: not removing hydrogen atom without neighbors\n",
            "[11:45:08] WARNING: not removing hydrogen atom without neighbors\n",
            "[11:45:08] WARNING: not removing hydrogen atom without neighbors\n",
            "특성 추출 중:  35%|███▍      | 491/1421 [00:01<00:03, 288.61it/s][11:45:09] WARNING: not removing hydrogen atom without neighbors\n",
            "[11:45:09] WARNING: not removing hydrogen atom without neighbors\n",
            "특성 추출 중:  40%|████      | 575/1421 [00:02<00:03, 245.77it/s][11:45:09] WARNING: not removing hydrogen atom without neighbors\n",
            "[11:45:09] WARNING: not removing hydrogen atom without neighbors\n",
            "특성 추출 중:  44%|████▍     | 625/1421 [00:02<00:03, 214.71it/s][11:45:09] WARNING: not removing hydrogen atom without neighbors\n",
            "[11:45:09] WARNING: not removing hydrogen atom without neighbors\n",
            "특성 추출 중:  46%|████▌     | 648/1421 [00:02<00:03, 214.77it/s][11:45:09] WARNING: not removing hydrogen atom without neighbors\n",
            "[11:45:09] WARNING: not removing hydrogen atom without neighbors\n",
            "특성 추출 중:  49%|████▉     | 703/1421 [00:02<00:02, 241.02it/s][11:45:10] WARNING: not removing hydrogen atom without neighbors\n",
            "[11:45:10] WARNING: not removing hydrogen atom without neighbors\n",
            "특성 추출 중:  57%|█████▋    | 814/1421 [00:03<00:02, 253.83it/s][11:45:10] WARNING: not removing hydrogen atom without neighbors\n",
            "[11:45:10] WARNING: not removing hydrogen atom without neighbors\n",
            "[11:45:10] WARNING: not removing hydrogen atom without neighbors\n",
            "[11:45:10] WARNING: not removing hydrogen atom without neighbors\n",
            "[11:45:10] WARNING: not removing hydrogen atom without neighbors\n",
            "[11:45:10] WARNING: not removing hydrogen atom without neighbors\n",
            "특성 추출 중:  61%|██████▏   | 872/1421 [00:03<00:02, 266.30it/s][11:45:10] WARNING: not removing hydrogen atom without neighbors\n",
            "[11:45:10] WARNING: not removing hydrogen atom without neighbors\n",
            "특성 추출 중:  63%|██████▎   | 899/1421 [00:03<00:02, 255.86it/s][11:45:10] WARNING: not removing hydrogen atom without neighbors\n",
            "[11:45:10] WARNING: not removing hydrogen atom without neighbors\n",
            "[11:45:10] WARNING: not removing hydrogen atom without neighbors\n",
            "[11:45:10] WARNING: not removing hydrogen atom without neighbors\n",
            "특성 추출 중:  65%|██████▌   | 925/1421 [00:03<00:02, 246.16it/s][11:45:10] WARNING: not removing hydrogen atom without neighbors\n",
            "[11:45:10] WARNING: not removing hydrogen atom without neighbors\n",
            "특성 추출 중:  71%|███████   | 1008/1421 [00:03<00:01, 261.00it/s][11:45:11] WARNING: not removing hydrogen atom without neighbors\n",
            "[11:45:11] WARNING: not removing hydrogen atom without neighbors\n",
            "[11:45:11] WARNING: not removing hydrogen atom without neighbors\n",
            "[11:45:11] WARNING: not removing hydrogen atom without neighbors\n",
            "특성 추출 중:  81%|████████▏ | 1156/1421 [00:04<00:00, 282.53it/s][11:45:11] WARNING: not removing hydrogen atom without neighbors\n",
            "[11:45:11] WARNING: not removing hydrogen atom without neighbors\n",
            "[11:45:11] WARNING: not removing hydrogen atom without neighbors\n",
            "[11:45:11] WARNING: not removing hydrogen atom without neighbors\n",
            "특성 추출 중:  83%|████████▎ | 1185/1421 [00:04<00:00, 271.28it/s][11:45:11] WARNING: not removing hydrogen atom without neighbors\n",
            "[11:45:11] WARNING: not removing hydrogen atom without neighbors\n",
            "특성 추출 중:  85%|████████▌ | 1213/1421 [00:04<00:00, 269.33it/s][11:45:11] WARNING: not removing hydrogen atom without neighbors\n",
            "[11:45:11] WARNING: not removing hydrogen atom without neighbors\n",
            "특성 추출 중:  87%|████████▋ | 1241/1421 [00:04<00:00, 264.91it/s][11:45:11] WARNING: not removing hydrogen atom without neighbors\n",
            "[11:45:11] WARNING: not removing hydrogen atom without neighbors\n",
            "특성 추출 중:  93%|█████████▎| 1324/1421 [00:05<00:00, 263.56it/s][11:45:12] WARNING: not removing hydrogen atom without neighbors\n",
            "[11:45:12] WARNING: not removing hydrogen atom without neighbors\n",
            "특성 추출 중: 100%|██████████| 1421/1421 [00:05<00:00, 266.55it/s]\n",
            "특성 추출 중:   0%|          | 0/203 [00:00<?, ?it/s][11:45:12] WARNING: not removing hydrogen atom without neighbors\n",
            "[11:45:12] WARNING: not removing hydrogen atom without neighbors\n",
            "특성 추출 중:  13%|█▎        | 27/203 [00:00<00:00, 255.39it/s][11:45:12] WARNING: not removing hydrogen atom without neighbors\n",
            "[11:45:12] WARNING: not removing hydrogen atom without neighbors\n",
            "[11:45:12] WARNING: not removing hydrogen atom without neighbors\n",
            "[11:45:12] WARNING: not removing hydrogen atom without neighbors\n",
            "특성 추출 중:  67%|██████▋   | 137/203 [00:00<00:00, 260.69it/s][11:45:13] WARNING: not removing hydrogen atom without neighbors\n",
            "[11:45:13] WARNING: not removing hydrogen atom without neighbors\n",
            "특성 추출 중: 100%|██████████| 203/203 [00:00<00:00, 267.38it/s]\n",
            "특성 추출 중:   0%|          | 0/406 [00:00<?, ?it/s][11:45:13] WARNING: not removing hydrogen atom without neighbors\n",
            "[11:45:13] WARNING: not removing hydrogen atom without neighbors\n",
            "특성 추출 중:  14%|█▍        | 56/406 [00:00<00:01, 280.67it/s][11:45:13] WARNING: not removing hydrogen atom without neighbors\n",
            "[11:45:13] WARNING: not removing hydrogen atom without neighbors\n",
            "특성 추출 중:  50%|████▉     | 202/406 [00:00<00:00, 273.47it/s][11:45:14] WARNING: not removing hydrogen atom without neighbors\n",
            "[11:45:14] WARNING: not removing hydrogen atom without neighbors\n",
            "[11:45:14] WARNING: not removing hydrogen atom without neighbors\n",
            "[11:45:14] WARNING: not removing hydrogen atom without neighbors\n",
            "[11:45:14] WARNING: not removing hydrogen atom without neighbors\n",
            "[11:45:14] WARNING: not removing hydrogen atom without neighbors\n",
            "특성 추출 중:  57%|█████▋    | 230/406 [00:00<00:00, 270.17it/s][11:45:14] WARNING: not removing hydrogen atom without neighbors\n",
            "[11:45:14] WARNING: not removing hydrogen atom without neighbors\n",
            "[11:45:14] WARNING: not removing hydrogen atom without neighbors\n",
            "[11:45:14] WARNING: not removing hydrogen atom without neighbors\n",
            "특성 추출 중:  71%|███████▏  | 290/406 [00:01<00:00, 279.53it/s][11:45:14] WARNING: not removing hydrogen atom without neighbors\n",
            "[11:45:14] WARNING: not removing hydrogen atom without neighbors\n",
            "특성 추출 중:  78%|███████▊  | 318/406 [00:01<00:00, 275.76it/s][11:45:14] WARNING: not removing hydrogen atom without neighbors\n",
            "[11:45:14] WARNING: not removing hydrogen atom without neighbors\n",
            "[11:45:14] WARNING: not removing hydrogen atom without neighbors\n",
            "[11:45:14] WARNING: not removing hydrogen atom without neighbors\n",
            "특성 추출 중:  85%|████████▌ | 346/406 [00:01<00:00, 260.40it/s][11:45:14] WARNING: not removing hydrogen atom without neighbors\n",
            "[11:45:14] WARNING: not removing hydrogen atom without neighbors\n",
            "특성 추출 중: 100%|██████████| 406/406 [00:01<00:00, 269.70it/s]\n"
          ]
        },
        {
          "output_type": "stream",
          "name": "stdout",
          "text": [
            "  - 학습: 1421개 샘플, 검증: 203개 샘플, 테스트: 406개 샘플\n",
            "  - 추출된 특성 수: 189\n",
            "\n",
            "PPBR_AZ 데이터셋 준비 중...\n"
          ]
        },
        {
          "output_type": "stream",
          "name": "stderr",
          "text": [
            "특성 추출 중: 100%|██████████| 1130/1130 [00:05<00:00, 217.77it/s]\n",
            "특성 추출 중: 100%|██████████| 161/161 [00:00<00:00, 257.64it/s]\n",
            "특성 추출 중: 100%|██████████| 323/323 [00:01<00:00, 253.79it/s]\n"
          ]
        },
        {
          "output_type": "stream",
          "name": "stdout",
          "text": [
            "  - 학습: 1130개 샘플, 검증: 161개 샘플, 테스트: 323개 샘플\n",
            "  - 추출된 특성 수: 189\n",
            "\n",
            "CYP2C19_Veith 데이터셋 준비 중...\n"
          ]
        },
        {
          "output_type": "stream",
          "name": "stderr",
          "text": [
            "특성 추출 중: 100%|██████████| 8866/8866 [00:34<00:00, 259.22it/s]\n",
            "특성 추출 중: 100%|██████████| 1266/1266 [00:04<00:00, 281.93it/s]\n",
            "특성 추출 중: 100%|██████████| 2533/2533 [00:09<00:00, 255.99it/s]\n"
          ]
        },
        {
          "output_type": "stream",
          "name": "stdout",
          "text": [
            "  - 학습: 8866개 샘플, 검증: 1266개 샘플, 테스트: 2533개 샘플\n",
            "  - 추출된 특성 수: 189\n",
            "\n",
            "CYP2D6_Veith 데이터셋 준비 중...\n"
          ]
        },
        {
          "output_type": "stream",
          "name": "stderr",
          "text": [
            "특성 추출 중: 100%|██████████| 9191/9191 [00:35<00:00, 261.40it/s]\n",
            "특성 추출 중: 100%|██████████| 1313/1313 [00:04<00:00, 283.77it/s]\n",
            "특성 추출 중: 100%|██████████| 2626/2626 [00:10<00:00, 257.72it/s]\n"
          ]
        },
        {
          "output_type": "stream",
          "name": "stdout",
          "text": [
            "  - 학습: 9191개 샘플, 검증: 1313개 샘플, 테스트: 2626개 샘플\n",
            "  - 추출된 특성 수: 189\n",
            "\n",
            "CYP3A4_Veith 데이터셋 준비 중...\n"
          ]
        },
        {
          "output_type": "stream",
          "name": "stderr",
          "text": [
            "특성 추출 중: 100%|██████████| 8629/8629 [00:32<00:00, 262.12it/s]\n",
            "특성 추출 중: 100%|██████████| 1233/1233 [00:04<00:00, 284.88it/s]\n",
            "특성 추출 중: 100%|██████████| 2466/2466 [00:09<00:00, 258.57it/s]\n"
          ]
        },
        {
          "output_type": "stream",
          "name": "stdout",
          "text": [
            "  - 학습: 8629개 샘플, 검증: 1233개 샘플, 테스트: 2466개 샘플\n",
            "  - 추출된 특성 수: 189\n",
            "\n",
            "Half_Life_Obach 데이터셋 준비 중...\n"
          ]
        },
        {
          "output_type": "stream",
          "name": "stderr",
          "text": [
            "특성 추출 중: 100%|██████████| 467/467 [00:01<00:00, 250.45it/s]\n",
            "특성 추출 중: 100%|██████████| 67/67 [00:00<00:00, 221.96it/s]\n",
            "특성 추출 중: 100%|██████████| 133/133 [00:00<00:00, 222.42it/s]"
          ]
        },
        {
          "output_type": "stream",
          "name": "stdout",
          "text": [
            "  - 학습: 467개 샘플, 검증: 67개 샘플, 테스트: 133개 샘플\n",
            "  - 추출된 특성 수: 189\n"
          ]
        },
        {
          "output_type": "stream",
          "name": "stderr",
          "text": [
            "\n"
          ]
        }
      ]
    },
    {
      "cell_type": "code",
      "source": [
        "# ADMET 멀티태스크 데이터셋 클래스\n",
        "class ADMETMultitaskDataset(Dataset):\n",
        "    def __init__(self, datasets, dataset_names, split='train'):\n",
        "        \"\"\"\n",
        "        datasets: 준비된 데이터셋 사전\n",
        "        dataset_names: 사용할 데이터셋 이름 목록\n",
        "        split: 데이터 분할 ('train', 'valid', 'test')\n",
        "        \"\"\"\n",
        "        self.datasets = datasets\n",
        "        self.dataset_names = dataset_names\n",
        "        self.split = split\n",
        "\n",
        "        # 각 데이터셋의 샘플 수 계산\n",
        "        self.dataset_sizes = {}\n",
        "        self.total_size = 0\n",
        "\n",
        "        for name in dataset_names:\n",
        "            df, _ = datasets[name][split]\n",
        "            size = len(df)\n",
        "            self.dataset_sizes[name] = size\n",
        "            self.total_size += size\n",
        "\n",
        "        # 데이터셋 인덱스 매핑 생성\n",
        "        self.dataset_indices = []\n",
        "        self.global_to_local = []\n",
        "\n",
        "        idx = 0\n",
        "        for name in dataset_names:\n",
        "            size = self.dataset_sizes[name]\n",
        "            for i in range(size):\n",
        "                self.dataset_indices.append(name)\n",
        "                self.global_to_local.append(i)\n",
        "                idx += 1\n",
        "\n",
        "    def __len__(self):\n",
        "        return self.total_size\n",
        "\n",
        "    def __getitem__(self, idx):\n",
        "        # 해당 인덱스의 데이터셋 및 로컬 인덱스 찾기\n",
        "        dataset_name = self.dataset_indices[idx]\n",
        "        local_idx = self.global_to_local[idx]\n",
        "\n",
        "        # 데이터셋에서 샘플 가져오기\n",
        "        df, features = self.datasets[dataset_name][self.split]\n",
        "\n",
        "        # 특성 및 레이블 추출\n",
        "        x = features[local_idx]\n",
        "        y = df['Y'].iloc[local_idx]\n",
        "\n",
        "        # 작업 유형 확인 (분류 또는 회귀)\n",
        "        task_type = 1 if self.datasets[dataset_name]['task_type'] == 'classification' else 0\n",
        "\n",
        "        # 데이터셋 인덱스 (이름 -> 숫자 매핑)\n",
        "        dataset_idx = self.dataset_names.index(dataset_name)\n",
        "\n",
        "        return {\n",
        "            'features': torch.tensor(x, dtype=torch.float32),\n",
        "            'label': torch.tensor(y, dtype=torch.float32),\n",
        "            'dataset_idx': dataset_idx,\n",
        "            'task_type': task_type\n",
        "        }\n",
        "\n",
        "# 데이터로더 생성 함수\n",
        "def create_dataloaders(prepared_datasets, dataset_names, batch_size=32):\n",
        "    \"\"\"데이터로더 생성\"\"\"\n",
        "    # 데이터셋 생성\n",
        "    train_dataset = ADMETMultitaskDataset(prepared_datasets, dataset_names, 'train')\n",
        "    valid_dataset = ADMETMultitaskDataset(prepared_datasets, dataset_names, 'valid')\n",
        "    test_dataset = ADMETMultitaskDataset(prepared_datasets, dataset_names, 'test')\n",
        "\n",
        "    # 데이터로더 생성\n",
        "    train_loader = DataLoader(train_dataset, batch_size=batch_size, shuffle=True)\n",
        "    valid_loader = DataLoader(valid_dataset, batch_size=batch_size)\n",
        "    test_loader = DataLoader(test_dataset, batch_size=batch_size)\n",
        "\n",
        "    return train_loader, valid_loader, test_loader\n",
        "\n",
        "# 사용할 데이터셋 이름 목록\n",
        "dataset_names = list(prepared_datasets.keys())\n",
        "\n",
        "# 데이터로더 생성\n",
        "batch_size = 64\n",
        "train_loader, valid_loader, test_loader = create_dataloaders(\n",
        "    prepared_datasets, dataset_names, batch_size)\n",
        "\n",
        "print(f\"데이터셋 이름: {dataset_names}\")\n",
        "print(f\"총 작업 수: {len(dataset_names)}\")"
      ],
      "metadata": {
        "colab": {
          "base_uri": "https://localhost:8080/"
        },
        "id": "K07eCQdMtTq8",
        "outputId": "ede24895-39f1-44b2-83d5-7b3a4d2701d5"
      },
      "execution_count": null,
      "outputs": [
        {
          "output_type": "stream",
          "name": "stdout",
          "text": [
            "데이터셋 이름: ['Caco2_Wang', 'HIA_Hou', 'Pgp_Broccatelli', 'BBB_Martins', 'PPBR_AZ', 'CYP2C19_Veith', 'CYP2D6_Veith', 'CYP3A4_Veith', 'Half_Life_Obach']\n",
            "총 작업 수: 9\n"
          ]
        }
      ]
    },
    {
      "cell_type": "markdown",
      "source": [
        "## 2.3. 모델 정의"
      ],
      "metadata": {
        "id": "Qje_6njXylVv"
      }
    },
    {
      "cell_type": "code",
      "source": [
        "# 멀티태스크 ADMET 예측 모델\n",
        "class MultitaskADMETPredictor(nn.Module):\n",
        "    def __init__(self, input_dim, num_tasks, hidden_dims=[512, 256, 128], dropout_rate=0.2):\n",
        "        super(MultitaskADMETPredictor, self).__init__()\n",
        "\n",
        "        # 공유 레이어\n",
        "        self.shared_layers = nn.Sequential(\n",
        "            nn.Linear(input_dim, hidden_dims[0]),\n",
        "            nn.ReLU(),\n",
        "            nn.BatchNorm1d(hidden_dims[0]),\n",
        "            nn.Dropout(dropout_rate),\n",
        "            nn.Linear(hidden_dims[0], hidden_dims[1]),\n",
        "            nn.ReLU(),\n",
        "            nn.BatchNorm1d(hidden_dims[1]),\n",
        "            nn.Dropout(dropout_rate)\n",
        "        )\n",
        "\n",
        "        # 작업별 헤드\n",
        "        self.task_heads = nn.ModuleList([\n",
        "            nn.Sequential(\n",
        "                nn.Linear(hidden_dims[1], hidden_dims[2]),\n",
        "                nn.ReLU(),\n",
        "                nn.Dropout(dropout_rate),\n",
        "                nn.Linear(hidden_dims[2], 1)\n",
        "            ) for _ in range(num_tasks)\n",
        "        ])\n",
        "\n",
        "        # 시그모이드 활성화 함수 (분류 작업용)\n",
        "        self.sigmoid = nn.Sigmoid()\n",
        "\n",
        "    def forward(self, x, dataset_idx=None, task_types=None):\n",
        "        # 공유 레이어 통과\n",
        "        shared_features = self.shared_layers(x)\n",
        "\n",
        "        # 단일 작업 예측 모드\n",
        "        if dataset_idx is not None:\n",
        "            # 특정 작업에 대한 예측\n",
        "            task_preds = self.task_heads[dataset_idx](shared_features)\n",
        "\n",
        "            # 분류 작업인 경우 시그모이드 적용\n",
        "            if task_types is not None and task_types == 1:\n",
        "                task_preds = self.sigmoid(task_preds)\n",
        "\n",
        "            return task_preds\n",
        "\n",
        "        # 배치 내 다중 작업 예측 모드\n",
        "        else:\n",
        "            # 모든 작업에 대한 예측\n",
        "            all_preds = []\n",
        "            for i, head in enumerate(self.task_heads):\n",
        "                preds = head(shared_features)\n",
        "                all_preds.append(preds)\n",
        "\n",
        "            return all_preds\n",
        "\n",
        "# 모델 초기화\n",
        "input_dim = next(iter(prepared_datasets.values()))['n_features']\n",
        "num_tasks = len(dataset_names)\n",
        "model = MultitaskADMETPredictor(input_dim, num_tasks).to(device)\n",
        "print(f\"모델이 {num_tasks}개 작업을 위해 초기화되었습니다.\")\n",
        "print(f\"입력 차원: {input_dim}\")"
      ],
      "metadata": {
        "colab": {
          "base_uri": "https://localhost:8080/"
        },
        "id": "Qg2aXhJCtUpq",
        "outputId": "aae82eea-d9f6-4431-a06c-c61efd5898cb"
      },
      "execution_count": null,
      "outputs": [
        {
          "output_type": "stream",
          "name": "stdout",
          "text": [
            "모델이 9개 작업을 위해 초기화되었습니다.\n",
            "입력 차원: 189\n"
          ]
        }
      ]
    },
    {
      "cell_type": "code",
      "source": [
        "# 작업별 손실 함수\n",
        "def get_task_loss(predictions, labels, task_type):\n",
        "    \"\"\"작업 유형에 따른 손실 함수\"\"\"\n",
        "    if task_type == 1:  # 분류 작업\n",
        "        # 레이블 범위를 [0, 1]로 확인하고 조정\n",
        "        labels = torch.clamp(labels, 0, 1)\n",
        "        return nn.BCEWithLogitsLoss()(predictions, labels.view(-1, 1))\n",
        "    else:  # 회귀 작업\n",
        "        return nn.MSELoss()(predictions, labels.view(-1, 1))\n",
        "\n",
        "# 평가 지표 계산 함수\n",
        "def compute_metrics(predictions, labels, task_types, dataset_indices, dataset_names):\n",
        "    \"\"\"작업별 평가 지표 계산\"\"\"\n",
        "    metrics = {}\n",
        "\n",
        "    # 각 데이터셋별로 지표 계산\n",
        "    for i, dataset in enumerate(dataset_names):\n",
        "        # 해당 데이터셋의 샘플 선택\n",
        "        mask = [idx == i for idx in dataset_indices]\n",
        "        if not any(mask):\n",
        "            continue\n",
        "\n",
        "        ds_preds = [p for p, m in zip(predictions, mask) if m]\n",
        "        ds_labels = [l for l, m in zip(labels, mask) if m]\n",
        "        ds_task_type = [t for t, m in zip(task_types, mask) if m][0]  # 첫 번째 값으로 작업 유형 결정\n",
        "\n",
        "        # 분류 작업\n",
        "        if ds_task_type == 1:\n",
        "            try:\n",
        "                # 이진 분류를 위한 임계값 적용\n",
        "                ds_preds_binary = [1 if p >= 0.5 else 0 for p in ds_preds]\n",
        "                accuracy = accuracy_score(ds_labels, ds_preds_binary)\n",
        "\n",
        "                # 레이블 확인 및 조정\n",
        "                unique_labels = np.unique(ds_labels)\n",
        "                if len(unique_labels) > 1:  # 두 클래스 이상 존재\n",
        "                    auroc = roc_auc_score(ds_labels, ds_preds)\n",
        "                else:  # 단일 클래스만 존재\n",
        "                    auroc = 0.5  # 기본값\n",
        "\n",
        "                metrics[dataset] = {\n",
        "                    'Accuracy': accuracy,\n",
        "                    'AUROC': auroc\n",
        "                }\n",
        "            except Exception as e:\n",
        "                print(f\"경고: {dataset} 지표 계산 중 오류 - {e}\")\n",
        "                metrics[dataset] = {\n",
        "                    'Accuracy': float('nan'),\n",
        "                    'AUROC': float('nan')\n",
        "                }\n",
        "        # 회귀 작업\n",
        "        else:\n",
        "            try:\n",
        "                rmse = np.sqrt(mean_squared_error(ds_labels, ds_preds))\n",
        "                r2 = r2_score(ds_labels, ds_preds)\n",
        "                metrics[dataset] = {\n",
        "                    'RMSE': rmse,\n",
        "                    'R2': r2\n",
        "                }\n",
        "            except Exception as e:\n",
        "                print(f\"경고: {dataset} 지표 계산 중 오류 - {e}\")\n",
        "                metrics[dataset] = {\n",
        "                    'RMSE': float('nan'),\n",
        "                    'R2': float('nan')\n",
        "                }\n",
        "\n",
        "    return metrics\n"
      ],
      "metadata": {
        "id": "BxyMj_xbtVsO"
      },
      "execution_count": null,
      "outputs": []
    },
    {
      "cell_type": "markdown",
      "source": [
        "## 2.4. 모델 학습"
      ],
      "metadata": {
        "id": "POPemy1Xyxd3"
      }
    },
    {
      "cell_type": "code",
      "source": [
        "# 모델 학습 함수\n",
        "def train_model(model, train_loader, val_loader, optimizer, dataset_names, num_epochs=10):\n",
        "    \"\"\"모델 학습 및 검증\"\"\"\n",
        "    best_val_loss = float('inf')\n",
        "    best_model_state = None\n",
        "    training_history = {\n",
        "        'train_loss': [],\n",
        "        'val_loss': [],\n",
        "        'val_metrics': []\n",
        "    }\n",
        "\n",
        "    for epoch in range(num_epochs):\n",
        "        # 학습 모드\n",
        "        model.train()\n",
        "        total_loss = 0\n",
        "\n",
        "        # 진행 상황 표시\n",
        "        progress_bar = tqdm(train_loader, desc=f\"Epoch {epoch+1}/{num_epochs}\")\n",
        "\n",
        "        for batch in progress_bar:\n",
        "            # 배치 데이터를 장치로 이동\n",
        "            features = batch['features'].to(device)\n",
        "            dataset_indices = batch['dataset_idx'].tolist()\n",
        "            labels = batch['label'].to(device)\n",
        "            task_types = batch['task_type'].tolist()\n",
        "\n",
        "            # 최적화 함수 초기화\n",
        "            optimizer.zero_grad()\n",
        "\n",
        "            # 모든 작업에 대한 예측\n",
        "            all_task_preds = model(features)\n",
        "\n",
        "            # 손실 계산\n",
        "            loss = 0\n",
        "            batch_size = features.size(0)\n",
        "\n",
        "            for i in range(batch_size):\n",
        "                task_idx = dataset_indices[i]\n",
        "                task_pred = all_task_preds[task_idx][i]\n",
        "                task_label = labels[i]\n",
        "                task_type = task_types[i]\n",
        "\n",
        "                # 작업별 손실 계산\n",
        "                task_loss = get_task_loss(task_pred.unsqueeze(0), task_label.unsqueeze(0), task_type)\n",
        "                loss += task_loss\n",
        "\n",
        "            # 평균 손실\n",
        "            loss /= batch_size\n",
        "\n",
        "            # 역전파 및 최적화\n",
        "            loss.backward()\n",
        "            optimizer.step()\n",
        "\n",
        "            total_loss += loss.item()\n",
        "            progress_bar.set_postfix({'loss': loss.item()})\n",
        "\n",
        "        # 에폭 평균 손실\n",
        "        avg_train_loss = total_loss / len(train_loader)\n",
        "        training_history['train_loss'].append(avg_train_loss)\n",
        "\n",
        "        # 검증\n",
        "        val_loss, val_metrics = evaluate_model(model, val_loader, dataset_names)\n",
        "        training_history['val_loss'].append(val_loss)\n",
        "        training_history['val_metrics'].append(val_metrics)\n",
        "\n",
        "        print(f\"Epoch {epoch+1}/{num_epochs}, Train Loss: {avg_train_loss:.4f}, Val Loss: {val_loss:.4f}\")\n",
        "\n",
        "        # 최적 모델 저장\n",
        "        if val_loss < best_val_loss:\n",
        "            best_val_loss = val_loss\n",
        "            best_model_state = model.state_dict().copy()\n",
        "            print(f\"Best model saved with val_loss: {val_loss:.4f}\")\n",
        "\n",
        "        # 작업별 성능 출력\n",
        "        print(\"검증 세트 성능:\")\n",
        "        for dataset, metrics in val_metrics.items():\n",
        "            metric_str = \", \".join([f\"{k}: {v:.4f}\" for k, v in metrics.items()])\n",
        "            print(f\"  - {dataset}: {metric_str}\")\n",
        "\n",
        "    # 최적 모델 복원\n",
        "    if best_model_state is not None:\n",
        "        model.load_state_dict(best_model_state)\n",
        "\n",
        "    return model, training_history\n",
        "\n",
        "# 모델 평가 함수\n",
        "def evaluate_model(model, data_loader, dataset_names):\n",
        "    \"\"\"모델 평가\"\"\"\n",
        "    model.eval()\n",
        "    total_loss = 0\n",
        "    all_predictions = []\n",
        "    all_labels = []\n",
        "    all_task_types = []\n",
        "    all_dataset_indices = []\n",
        "\n",
        "    with torch.no_grad():\n",
        "        for batch in data_loader:\n",
        "            # 배치 데이터를 장치로 이동\n",
        "            features = batch['features'].to(device)\n",
        "            dataset_indices = batch['dataset_idx'].tolist()\n",
        "            labels = batch['label'].to(device)\n",
        "            task_types = batch['task_type'].tolist()\n",
        "\n",
        "            # 모든 작업에 대한 예측\n",
        "            all_task_preds = model(features)\n",
        "\n",
        "            # 손실 계산\n",
        "            loss = 0\n",
        "            batch_size = features.size(0)\n",
        "            batch_predictions = []\n",
        "\n",
        "            for i in range(batch_size):\n",
        "                task_idx = dataset_indices[i]\n",
        "                task_pred = all_task_preds[task_idx][i]\n",
        "                task_label = labels[i]\n",
        "                task_type = task_types[i]\n",
        "\n",
        "                # 작업별 손실 계산\n",
        "                task_loss = get_task_loss(task_pred.unsqueeze(0), task_label.unsqueeze(0), task_type)\n",
        "                loss += task_loss\n",
        "\n",
        "                # 예측 저장\n",
        "                pred_value = task_pred.item()\n",
        "                if task_type == 1:  # 분류 작업인 경우 시그모이드 적용\n",
        "                    pred_value = torch.sigmoid(task_pred).item()\n",
        "                batch_predictions.append(pred_value)\n",
        "\n",
        "            # 평균 손실\n",
        "            loss /= batch_size\n",
        "            total_loss += loss.item()\n",
        "\n",
        "            # 예측 및 레이블 저장\n",
        "            all_predictions.extend(batch_predictions)\n",
        "            all_labels.extend(labels.cpu().numpy())\n",
        "            all_task_types.extend(task_types)\n",
        "            all_dataset_indices.extend(dataset_indices)\n",
        "\n",
        "    # 평균 손실\n",
        "    avg_loss = total_loss / len(data_loader)\n",
        "\n",
        "    # 평가 지표 계산\n",
        "    metrics = compute_metrics(\n",
        "        all_predictions, all_labels, all_task_types, all_dataset_indices, dataset_names)\n",
        "\n",
        "    return avg_loss, metrics\n"
      ],
      "metadata": {
        "id": "FUS1zLtbtWwL"
      },
      "execution_count": null,
      "outputs": []
    },
    {
      "cell_type": "code",
      "source": [
        "# 학습 파라미터 설정\n",
        "learning_rate = 0.001\n",
        "num_epochs = 20\n",
        "weight_decay = 0.0001\n",
        "\n",
        "# 최적화 함수\n",
        "optimizer = optim.Adam(model.parameters(), lr=learning_rate, weight_decay=weight_decay)\n",
        "\n",
        "# 모델 학습\n",
        "print(\"모델 학습 시작...\")\n",
        "trained_model, history = train_model(\n",
        "    model, train_loader, valid_loader, optimizer, dataset_names, num_epochs)\n",
        "\n",
        "# 모델 저장\n",
        "torch.save(trained_model.state_dict(), 'admet_model.pt')\n",
        "print(\"모델이 'admet_model.pt'에 저장되었습니다.\")"
      ],
      "metadata": {
        "colab": {
          "base_uri": "https://localhost:8080/"
        },
        "id": "PYmAEarKtX7K",
        "outputId": "6d9fd194-7925-46d3-e782-2c7e59a7166f"
      },
      "execution_count": null,
      "outputs": [
        {
          "output_type": "stream",
          "name": "stdout",
          "text": [
            "모델 학습 시작...\n"
          ]
        },
        {
          "output_type": "stream",
          "name": "stderr",
          "text": [
            "Epoch 1/20: 100%|██████████| 494/494 [00:14<00:00, 34.02it/s, loss=27]\n"
          ]
        },
        {
          "output_type": "stream",
          "name": "stdout",
          "text": [
            "Epoch 1/20, Train Loss: 150.9745, Val Loss: 19.8649\n",
            "Best model saved with val_loss: 19.8649\n",
            "검증 세트 성능:\n",
            "  - Caco2_Wang: RMSE: 0.9265, R2: -0.8435\n",
            "  - HIA_Hou: Accuracy: 0.9138, AUROC: 0.9231\n",
            "  - Pgp_Broccatelli: Accuracy: 0.6967, AUROC: 0.8133\n",
            "  - BBB_Martins: Accuracy: 0.8177, AUROC: 0.8207\n",
            "  - PPBR_AZ: RMSE: 14.8847, R2: -0.1578\n",
            "  - CYP2C19_Veith: Accuracy: 0.7180, AUROC: 0.7814\n",
            "  - CYP2D6_Veith: Accuracy: 0.8027, AUROC: 0.7320\n",
            "  - CYP3A4_Veith: Accuracy: 0.6861, AUROC: 0.7578\n",
            "  - Half_Life_Obach: RMSE: 25.0076, R2: -0.0913\n"
          ]
        },
        {
          "output_type": "stream",
          "name": "stderr",
          "text": [
            "Epoch 2/20: 100%|██████████| 494/494 [00:13<00:00, 36.50it/s, loss=4.23]\n"
          ]
        },
        {
          "output_type": "stream",
          "name": "stdout",
          "text": [
            "Epoch 2/20, Train Loss: 90.0689, Val Loss: 20.0437\n",
            "검증 세트 성능:\n",
            "  - Caco2_Wang: RMSE: 0.9381, R2: -0.8900\n",
            "  - HIA_Hou: Accuracy: 0.8793, AUROC: 0.9135\n",
            "  - Pgp_Broccatelli: Accuracy: 0.7623, AUROC: 0.8428\n",
            "  - BBB_Martins: Accuracy: 0.8374, AUROC: 0.8354\n",
            "  - PPBR_AZ: RMSE: 15.5797, R2: -0.2684\n",
            "  - CYP2C19_Veith: Accuracy: 0.7101, AUROC: 0.7868\n",
            "  - CYP2D6_Veith: Accuracy: 0.8012, AUROC: 0.7189\n",
            "  - CYP3A4_Veith: Accuracy: 0.7056, AUROC: 0.7809\n",
            "  - Half_Life_Obach: RMSE: 24.4788, R2: -0.0456\n"
          ]
        },
        {
          "output_type": "stream",
          "name": "stderr",
          "text": [
            "Epoch 3/20: 100%|██████████| 494/494 [00:13<00:00, 36.72it/s, loss=1.61]\n"
          ]
        },
        {
          "output_type": "stream",
          "name": "stdout",
          "text": [
            "Epoch 3/20, Train Loss: 87.2817, Val Loss: 15.4110\n",
            "Best model saved with val_loss: 15.4110\n",
            "검증 세트 성능:\n",
            "  - Caco2_Wang: RMSE: 0.6708, R2: 0.0337\n",
            "  - HIA_Hou: Accuracy: 0.9310, AUROC: 0.9487\n",
            "  - Pgp_Broccatelli: Accuracy: 0.8197, AUROC: 0.8555\n",
            "  - BBB_Martins: Accuracy: 0.8621, AUROC: 0.8620\n",
            "  - PPBR_AZ: RMSE: 13.4298, R2: 0.0575\n",
            "  - CYP2C19_Veith: Accuracy: 0.7259, AUROC: 0.8020\n",
            "  - CYP2D6_Veith: Accuracy: 0.8020, AUROC: 0.7543\n",
            "  - CYP3A4_Veith: Accuracy: 0.7226, AUROC: 0.7942\n",
            "  - Half_Life_Obach: RMSE: 21.1835, R2: 0.2170\n"
          ]
        },
        {
          "output_type": "stream",
          "name": "stderr",
          "text": [
            "Epoch 4/20: 100%|██████████| 494/494 [00:13<00:00, 35.89it/s, loss=11.8]\n"
          ]
        },
        {
          "output_type": "stream",
          "name": "stdout",
          "text": [
            "Epoch 4/20, Train Loss: 82.8613, Val Loss: 19.5246\n",
            "검증 세트 성능:\n",
            "  - Caco2_Wang: RMSE: 0.9867, R2: -1.0910\n",
            "  - HIA_Hou: Accuracy: 0.9483, AUROC: 0.8974\n",
            "  - Pgp_Broccatelli: Accuracy: 0.7705, AUROC: 0.8653\n",
            "  - BBB_Martins: Accuracy: 0.8768, AUROC: 0.8357\n",
            "  - PPBR_AZ: RMSE: 15.1582, R2: -0.2007\n",
            "  - CYP2C19_Veith: Accuracy: 0.7267, AUROC: 0.8090\n",
            "  - CYP2D6_Veith: Accuracy: 0.8081, AUROC: 0.7593\n",
            "  - CYP3A4_Veith: Accuracy: 0.6991, AUROC: 0.7740\n",
            "  - Half_Life_Obach: RMSE: 24.2816, R2: -0.0288\n"
          ]
        },
        {
          "output_type": "stream",
          "name": "stderr",
          "text": [
            "Epoch 5/20: 100%|██████████| 494/494 [00:13<00:00, 36.55it/s, loss=15.5]\n"
          ]
        },
        {
          "output_type": "stream",
          "name": "stdout",
          "text": [
            "Epoch 5/20, Train Loss: 81.3466, Val Loss: 15.3567\n",
            "Best model saved with val_loss: 15.3567\n",
            "검증 세트 성능:\n",
            "  - Caco2_Wang: RMSE: 0.9058, R2: -0.7621\n",
            "  - HIA_Hou: Accuracy: 0.9310, AUROC: 0.9615\n",
            "  - Pgp_Broccatelli: Accuracy: 0.7705, AUROC: 0.8785\n",
            "  - BBB_Martins: Accuracy: 0.8867, AUROC: 0.8692\n",
            "  - PPBR_AZ: RMSE: 13.9848, R2: -0.0220\n",
            "  - CYP2C19_Veith: Accuracy: 0.7385, AUROC: 0.8164\n",
            "  - CYP2D6_Veith: Accuracy: 0.8264, AUROC: 0.7551\n",
            "  - CYP3A4_Veith: Accuracy: 0.7113, AUROC: 0.7991\n",
            "  - Half_Life_Obach: RMSE: 20.3017, R2: 0.2808\n"
          ]
        },
        {
          "output_type": "stream",
          "name": "stderr",
          "text": [
            "Epoch 6/20: 100%|██████████| 494/494 [00:13<00:00, 36.47it/s, loss=0.486]\n"
          ]
        },
        {
          "output_type": "stream",
          "name": "stdout",
          "text": [
            "Epoch 6/20, Train Loss: 73.3084, Val Loss: 28.5538\n",
            "검증 세트 성능:\n",
            "  - Caco2_Wang: RMSE: 0.9289, R2: -0.8529\n",
            "  - HIA_Hou: Accuracy: 0.9483, AUROC: 0.9487\n",
            "  - Pgp_Broccatelli: Accuracy: 0.7787, AUROC: 0.8874\n",
            "  - BBB_Martins: Accuracy: 0.8867, AUROC: 0.8705\n",
            "  - PPBR_AZ: RMSE: 13.9876, R2: -0.0224\n",
            "  - CYP2C19_Veith: Accuracy: 0.7306, AUROC: 0.8121\n",
            "  - CYP2D6_Veith: Accuracy: 0.8241, AUROC: 0.7471\n",
            "  - CYP3A4_Veith: Accuracy: 0.7113, AUROC: 0.7924\n",
            "  - Half_Life_Obach: RMSE: 33.5572, R2: -0.9650\n"
          ]
        },
        {
          "output_type": "stream",
          "name": "stderr",
          "text": [
            "Epoch 7/20: 100%|██████████| 494/494 [00:13<00:00, 36.69it/s, loss=6.69]\n"
          ]
        },
        {
          "output_type": "stream",
          "name": "stdout",
          "text": [
            "Epoch 7/20, Train Loss: 70.7585, Val Loss: 24.6890\n",
            "검증 세트 성능:\n",
            "  - Caco2_Wang: RMSE: 0.9700, R2: -1.0207\n",
            "  - HIA_Hou: Accuracy: 0.9483, AUROC: 0.9263\n",
            "  - Pgp_Broccatelli: Accuracy: 0.7131, AUROC: 0.8374\n",
            "  - BBB_Martins: Accuracy: 0.8916, AUROC: 0.8622\n",
            "  - PPBR_AZ: RMSE: 12.6653, R2: 0.1617\n",
            "  - CYP2C19_Veith: Accuracy: 0.7220, AUROC: 0.8059\n",
            "  - CYP2D6_Veith: Accuracy: 0.8309, AUROC: 0.7657\n",
            "  - CYP3A4_Veith: Accuracy: 0.7299, AUROC: 0.8014\n",
            "  - Half_Life_Obach: RMSE: 30.6389, R2: -0.6381\n"
          ]
        },
        {
          "output_type": "stream",
          "name": "stderr",
          "text": [
            "Epoch 8/20: 100%|██████████| 494/494 [00:13<00:00, 35.80it/s, loss=23.7]\n"
          ]
        },
        {
          "output_type": "stream",
          "name": "stdout",
          "text": [
            "Epoch 8/20, Train Loss: 61.1794, Val Loss: 23.6883\n",
            "검증 세트 성능:\n",
            "  - Caco2_Wang: RMSE: 0.6522, R2: 0.0865\n",
            "  - HIA_Hou: Accuracy: 0.9138, AUROC: 0.8237\n",
            "  - Pgp_Broccatelli: Accuracy: 0.7623, AUROC: 0.8623\n",
            "  - BBB_Martins: Accuracy: 0.8818, AUROC: 0.8731\n",
            "  - PPBR_AZ: RMSE: 13.7289, R2: 0.0150\n",
            "  - CYP2C19_Veith: Accuracy: 0.7401, AUROC: 0.8120\n",
            "  - CYP2D6_Veith: Accuracy: 0.8180, AUROC: 0.7582\n",
            "  - CYP3A4_Veith: Accuracy: 0.7299, AUROC: 0.8108\n",
            "  - Half_Life_Obach: RMSE: 31.0658, R2: -0.6840\n"
          ]
        },
        {
          "output_type": "stream",
          "name": "stderr",
          "text": [
            "Epoch 9/20: 100%|██████████| 494/494 [00:13<00:00, 36.39it/s, loss=2.9]\n"
          ]
        },
        {
          "output_type": "stream",
          "name": "stdout",
          "text": [
            "Epoch 9/20, Train Loss: 51.4554, Val Loss: 46.2611\n",
            "검증 세트 성능:\n",
            "  - Caco2_Wang: RMSE: 0.7284, R2: -0.1394\n",
            "  - HIA_Hou: Accuracy: 0.9138, AUROC: 0.9455\n",
            "  - Pgp_Broccatelli: Accuracy: 0.7459, AUROC: 0.8707\n",
            "  - BBB_Martins: Accuracy: 0.8818, AUROC: 0.8787\n",
            "  - PPBR_AZ: RMSE: 13.1887, R2: 0.0910\n",
            "  - CYP2C19_Veith: Accuracy: 0.7243, AUROC: 0.8012\n",
            "  - CYP2D6_Veith: Accuracy: 0.8096, AUROC: 0.7703\n",
            "  - CYP3A4_Veith: Accuracy: 0.6861, AUROC: 0.7793\n",
            "  - Half_Life_Obach: RMSE: 44.9232, R2: -2.5215\n"
          ]
        },
        {
          "output_type": "stream",
          "name": "stderr",
          "text": [
            "Epoch 10/20: 100%|██████████| 494/494 [00:13<00:00, 36.62it/s, loss=6.57]\n"
          ]
        },
        {
          "output_type": "stream",
          "name": "stdout",
          "text": [
            "Epoch 10/20, Train Loss: 52.5737, Val Loss: 26.7993\n",
            "검증 세트 성능:\n",
            "  - Caco2_Wang: RMSE: 0.7515, R2: -0.2130\n",
            "  - HIA_Hou: Accuracy: 0.8966, AUROC: 0.8878\n",
            "  - Pgp_Broccatelli: Accuracy: 0.7951, AUROC: 0.8883\n",
            "  - BBB_Martins: Accuracy: 0.8966, AUROC: 0.8891\n",
            "  - PPBR_AZ: RMSE: 13.3343, R2: 0.0708\n",
            "  - CYP2C19_Veith: Accuracy: 0.7480, AUROC: 0.8111\n",
            "  - CYP2D6_Veith: Accuracy: 0.8119, AUROC: 0.7780\n",
            "  - CYP3A4_Veith: Accuracy: 0.7332, AUROC: 0.8124\n",
            "  - Half_Life_Obach: RMSE: 34.2424, R2: -1.0460\n"
          ]
        },
        {
          "output_type": "stream",
          "name": "stderr",
          "text": [
            "Epoch 11/20: 100%|██████████| 494/494 [00:13<00:00, 36.56it/s, loss=1.11]\n"
          ]
        },
        {
          "output_type": "stream",
          "name": "stdout",
          "text": [
            "Epoch 11/20, Train Loss: 39.9266, Val Loss: 16.2537\n",
            "검증 세트 성능:\n",
            "  - Caco2_Wang: RMSE: 0.7290, R2: -0.1414\n",
            "  - HIA_Hou: Accuracy: 0.9310, AUROC: 0.8942\n",
            "  - Pgp_Broccatelli: Accuracy: 0.8115, AUROC: 0.8837\n",
            "  - BBB_Martins: Accuracy: 0.8768, AUROC: 0.8772\n",
            "  - PPBR_AZ: RMSE: 12.5772, R2: 0.1734\n",
            "  - CYP2C19_Veith: Accuracy: 0.7433, AUROC: 0.8187\n",
            "  - CYP2D6_Veith: Accuracy: 0.8248, AUROC: 0.7700\n",
            "  - CYP3A4_Veith: Accuracy: 0.7372, AUROC: 0.8052\n",
            "  - Half_Life_Obach: RMSE: 22.4062, R2: 0.1240\n"
          ]
        },
        {
          "output_type": "stream",
          "name": "stderr",
          "text": [
            "Epoch 12/20: 100%|██████████| 494/494 [00:13<00:00, 36.63it/s, loss=0.945]\n"
          ]
        },
        {
          "output_type": "stream",
          "name": "stdout",
          "text": [
            "Epoch 12/20, Train Loss: 36.5293, Val Loss: 17.2825\n",
            "검증 세트 성능:\n",
            "  - Caco2_Wang: RMSE: 0.8428, R2: -0.5254\n",
            "  - HIA_Hou: Accuracy: 0.9138, AUROC: 0.8974\n",
            "  - Pgp_Broccatelli: Accuracy: 0.7869, AUROC: 0.8488\n",
            "  - BBB_Martins: Accuracy: 0.8916, AUROC: 0.8847\n",
            "  - PPBR_AZ: RMSE: 13.3326, R2: 0.0711\n",
            "  - CYP2C19_Veith: Accuracy: 0.7338, AUROC: 0.8087\n",
            "  - CYP2D6_Veith: Accuracy: 0.8248, AUROC: 0.7610\n",
            "  - CYP3A4_Veith: Accuracy: 0.7405, AUROC: 0.8077\n",
            "  - Half_Life_Obach: RMSE: 23.5873, R2: 0.0292\n"
          ]
        },
        {
          "output_type": "stream",
          "name": "stderr",
          "text": [
            "Epoch 13/20: 100%|██████████| 494/494 [00:13<00:00, 35.92it/s, loss=18.7]\n"
          ]
        },
        {
          "output_type": "stream",
          "name": "stdout",
          "text": [
            "Epoch 13/20, Train Loss: 23.8146, Val Loss: 19.8874\n",
            "검증 세트 성능:\n",
            "  - Caco2_Wang: RMSE: 0.6216, R2: 0.1703\n",
            "  - HIA_Hou: Accuracy: 0.9310, AUROC: 0.9519\n",
            "  - Pgp_Broccatelli: Accuracy: 0.7787, AUROC: 0.8893\n",
            "  - BBB_Martins: Accuracy: 0.8621, AUROC: 0.8687\n",
            "  - PPBR_AZ: RMSE: 14.6226, R2: -0.1174\n",
            "  - CYP2C19_Veith: Accuracy: 0.7346, AUROC: 0.8148\n",
            "  - CYP2D6_Veith: Accuracy: 0.8172, AUROC: 0.7781\n",
            "  - CYP3A4_Veith: Accuracy: 0.7324, AUROC: 0.8066\n",
            "  - Half_Life_Obach: RMSE: 25.3014, R2: -0.1170\n"
          ]
        },
        {
          "output_type": "stream",
          "name": "stderr",
          "text": [
            "Epoch 14/20: 100%|██████████| 494/494 [00:13<00:00, 36.63it/s, loss=2.32]\n"
          ]
        },
        {
          "output_type": "stream",
          "name": "stdout",
          "text": [
            "Epoch 14/20, Train Loss: 15.3550, Val Loss: 18.8142\n",
            "검증 세트 성능:\n",
            "  - Caco2_Wang: RMSE: 0.7168, R2: -0.1034\n",
            "  - HIA_Hou: Accuracy: 0.8793, AUROC: 0.9359\n",
            "  - Pgp_Broccatelli: Accuracy: 0.8197, AUROC: 0.8926\n",
            "  - BBB_Martins: Accuracy: 0.8818, AUROC: 0.8751\n",
            "  - PPBR_AZ: RMSE: 12.9790, R2: 0.1197\n",
            "  - CYP2C19_Veith: Accuracy: 0.7370, AUROC: 0.8197\n",
            "  - CYP2D6_Veith: Accuracy: 0.8393, AUROC: 0.7637\n",
            "  - CYP3A4_Veith: Accuracy: 0.7307, AUROC: 0.8081\n",
            "  - Half_Life_Obach: RMSE: 25.1666, R2: -0.1052\n"
          ]
        },
        {
          "output_type": "stream",
          "name": "stderr",
          "text": [
            "Epoch 15/20: 100%|██████████| 494/494 [00:13<00:00, 36.52it/s, loss=34]\n"
          ]
        },
        {
          "output_type": "stream",
          "name": "stdout",
          "text": [
            "Epoch 15/20, Train Loss: 14.4241, Val Loss: 24.6969\n",
            "검증 세트 성능:\n",
            "  - Caco2_Wang: RMSE: 0.7642, R2: -0.2543\n",
            "  - HIA_Hou: Accuracy: 0.9310, AUROC: 0.9423\n",
            "  - Pgp_Broccatelli: Accuracy: 0.7705, AUROC: 0.8674\n",
            "  - BBB_Martins: Accuracy: 0.8916, AUROC: 0.8871\n",
            "  - PPBR_AZ: RMSE: 13.8127, R2: 0.0030\n",
            "  - CYP2C19_Veith: Accuracy: 0.7409, AUROC: 0.8178\n",
            "  - CYP2D6_Veith: Accuracy: 0.8142, AUROC: 0.7622\n",
            "  - CYP3A4_Veith: Accuracy: 0.7348, AUROC: 0.8072\n",
            "  - Half_Life_Obach: RMSE: 30.8483, R2: -0.6605\n"
          ]
        },
        {
          "output_type": "stream",
          "name": "stderr",
          "text": [
            "Epoch 16/20: 100%|██████████| 494/494 [00:13<00:00, 36.59it/s, loss=3.5]\n"
          ]
        },
        {
          "output_type": "stream",
          "name": "stdout",
          "text": [
            "Epoch 16/20, Train Loss: 13.5174, Val Loss: 18.2797\n",
            "검증 세트 성능:\n",
            "  - Caco2_Wang: RMSE: 0.8661, R2: -0.6110\n",
            "  - HIA_Hou: Accuracy: 0.9310, AUROC: 0.9231\n",
            "  - Pgp_Broccatelli: Accuracy: 0.8115, AUROC: 0.9050\n",
            "  - BBB_Martins: Accuracy: 0.8768, AUROC: 0.8710\n",
            "  - PPBR_AZ: RMSE: 12.8551, R2: 0.1364\n",
            "  - CYP2C19_Veith: Accuracy: 0.7267, AUROC: 0.8136\n",
            "  - CYP2D6_Veith: Accuracy: 0.8256, AUROC: 0.7822\n",
            "  - CYP3A4_Veith: Accuracy: 0.7267, AUROC: 0.8036\n",
            "  - Half_Life_Obach: RMSE: 23.6222, R2: 0.0263\n"
          ]
        },
        {
          "output_type": "stream",
          "name": "stderr",
          "text": [
            "Epoch 17/20: 100%|██████████| 494/494 [00:14<00:00, 35.17it/s, loss=0.577]\n"
          ]
        },
        {
          "output_type": "stream",
          "name": "stdout",
          "text": [
            "Epoch 17/20, Train Loss: 14.6968, Val Loss: 21.4435\n",
            "검증 세트 성능:\n",
            "  - Caco2_Wang: RMSE: 0.7786, R2: -0.3021\n",
            "  - HIA_Hou: Accuracy: 0.9483, AUROC: 0.9295\n",
            "  - Pgp_Broccatelli: Accuracy: 0.7787, AUROC: 0.8715\n",
            "  - BBB_Martins: Accuracy: 0.8867, AUROC: 0.8630\n",
            "  - PPBR_AZ: RMSE: 11.7408, R2: 0.2796\n",
            "  - CYP2C19_Veith: Accuracy: 0.7425, AUROC: 0.8190\n",
            "  - CYP2D6_Veith: Accuracy: 0.8248, AUROC: 0.7832\n",
            "  - CYP3A4_Veith: Accuracy: 0.7340, AUROC: 0.8071\n",
            "  - Half_Life_Obach: RMSE: 28.6811, R2: -0.4354\n"
          ]
        },
        {
          "output_type": "stream",
          "name": "stderr",
          "text": [
            "Epoch 18/20: 100%|██████████| 494/494 [00:13<00:00, 36.37it/s, loss=9.59]\n"
          ]
        },
        {
          "output_type": "stream",
          "name": "stdout",
          "text": [
            "Epoch 18/20, Train Loss: 11.5865, Val Loss: 17.1047\n",
            "검증 세트 성능:\n",
            "  - Caco2_Wang: RMSE: 0.8637, R2: -0.6019\n",
            "  - HIA_Hou: Accuracy: 0.9310, AUROC: 0.9359\n",
            "  - Pgp_Broccatelli: Accuracy: 0.7705, AUROC: 0.8653\n",
            "  - BBB_Martins: Accuracy: 0.8719, AUROC: 0.8751\n",
            "  - PPBR_AZ: RMSE: 11.7614, R2: 0.2771\n",
            "  - CYP2C19_Veith: Accuracy: 0.7480, AUROC: 0.8182\n",
            "  - CYP2D6_Veith: Accuracy: 0.8286, AUROC: 0.7886\n",
            "  - CYP3A4_Veith: Accuracy: 0.7332, AUROC: 0.8144\n",
            "  - Half_Life_Obach: RMSE: 24.9294, R2: -0.0844\n"
          ]
        },
        {
          "output_type": "stream",
          "name": "stderr",
          "text": [
            "Epoch 19/20: 100%|██████████| 494/494 [00:13<00:00, 36.16it/s, loss=24.4]\n"
          ]
        },
        {
          "output_type": "stream",
          "name": "stdout",
          "text": [
            "Epoch 19/20, Train Loss: 12.5421, Val Loss: 31.2203\n",
            "검증 세트 성능:\n",
            "  - Caco2_Wang: RMSE: 0.8590, R2: -0.5848\n",
            "  - HIA_Hou: Accuracy: 0.9138, AUROC: 0.9327\n",
            "  - Pgp_Broccatelli: Accuracy: 0.8197, AUROC: 0.8910\n",
            "  - BBB_Martins: Accuracy: 0.8867, AUROC: 0.8808\n",
            "  - PPBR_AZ: RMSE: 12.8327, R2: 0.1394\n",
            "  - CYP2C19_Veith: Accuracy: 0.7393, AUROC: 0.8165\n",
            "  - CYP2D6_Veith: Accuracy: 0.8134, AUROC: 0.7831\n",
            "  - CYP3A4_Veith: Accuracy: 0.7340, AUROC: 0.8195\n",
            "  - Half_Life_Obach: RMSE: 33.5278, R2: -0.9615\n"
          ]
        },
        {
          "output_type": "stream",
          "name": "stderr",
          "text": [
            "Epoch 20/20: 100%|██████████| 494/494 [00:13<00:00, 36.34it/s, loss=1.61]\n"
          ]
        },
        {
          "output_type": "stream",
          "name": "stdout",
          "text": [
            "Epoch 20/20, Train Loss: 8.7007, Val Loss: 18.3643\n",
            "검증 세트 성능:\n",
            "  - Caco2_Wang: RMSE: 0.9090, R2: -0.7744\n",
            "  - HIA_Hou: Accuracy: 0.9138, AUROC: 0.9519\n",
            "  - Pgp_Broccatelli: Accuracy: 0.8115, AUROC: 0.8915\n",
            "  - BBB_Martins: Accuracy: 0.8818, AUROC: 0.8856\n",
            "  - PPBR_AZ: RMSE: 12.8423, R2: 0.1381\n",
            "  - CYP2C19_Veith: Accuracy: 0.7370, AUROC: 0.8212\n",
            "  - CYP2D6_Veith: Accuracy: 0.8111, AUROC: 0.7868\n",
            "  - CYP3A4_Veith: Accuracy: 0.7502, AUROC: 0.8230\n",
            "  - Half_Life_Obach: RMSE: 26.0394, R2: -0.1832\n",
            "모델이 'admet_model.pt'에 저장되었습니다.\n"
          ]
        }
      ]
    },
    {
      "cell_type": "markdown",
      "source": [
        "## 2.5. 모델 검증"
      ],
      "metadata": {
        "id": "IL6gnFbfy0UV"
      }
    },
    {
      "cell_type": "code",
      "source": [
        "# 테스트 세트에서 모델 평가\n",
        "print(\"\\n테스트 세트 평가 중...\")\n",
        "test_loss, test_metrics = evaluate_model(trained_model, test_loader, dataset_names)\n",
        "print(f\"테스트 손실: {test_loss:.4f}\")\n",
        "\n",
        "# 테스트 결과 저장\n",
        "test_results = []\n",
        "for dataset, metrics in test_metrics.items():\n",
        "    # 데이터셋 범주 찾기\n",
        "    category = prepared_datasets[dataset]['category']\n",
        "    task_type = prepared_datasets[dataset]['task_type']\n",
        "\n",
        "    result = {\n",
        "        'Dataset': dataset,\n",
        "        'Category': category,\n",
        "        'Task_Type': task_type,\n",
        "        **metrics\n",
        "    }\n",
        "    test_results.append(result)\n",
        "\n",
        "test_df = pd.DataFrame(test_results)\n",
        "print(\"\\n테스트 세트 성능:\")\n",
        "print(test_df)\n",
        "\n",
        "# 결과 파일 저장\n",
        "test_df.to_csv('admet_test_results.csv', index=False)\n",
        "print(\"테스트 결과가 'admet_test_results.csv'에 저장되었습니다.\")\n"
      ],
      "metadata": {
        "id": "k43Sbq8ytZhd"
      },
      "execution_count": null,
      "outputs": []
    },
    {
      "cell_type": "code",
      "source": [
        "# 학습 곡선 시각화\n",
        "plt.figure(figsize=(12, 5))\n",
        "\n",
        "# 손실 곡선\n",
        "plt.subplot(1, 2, 1)\n",
        "plt.plot(history['train_loss'], label='Train Loss')\n",
        "plt.plot(history['val_loss'], label='Validation Loss')\n",
        "plt.title('Training and Validation Loss')\n",
        "plt.xlabel('Epoch')\n",
        "plt.ylabel('Loss')\n",
        "plt.legend()\n",
        "plt.grid(True, linestyle='--', alpha=0.7)\n",
        "\n",
        "# ADMET 범주별 성능 시각화\n",
        "plt.subplot(1, 2, 2)\n",
        "\n",
        "# 범주별 성능 계산\n",
        "category_metrics = {}\n",
        "for epoch_metrics in history['val_metrics']:\n",
        "    for dataset, metrics in epoch_metrics.items():\n",
        "        category = prepared_datasets[dataset]['category']\n",
        "        task_type = prepared_datasets[dataset]['task_type']\n",
        "\n",
        "        if category not in category_metrics:\n",
        "            category_metrics[category] = {'classification': [], 'regression': []}\n",
        "\n",
        "        # 분류 작업은 AUROC, 회귀 작업은 R2 사용\n",
        "        if task_type == 'classification' and 'AUROC' in metrics:\n",
        "            category_metrics[category]['classification'].append(metrics['AUROC'])\n",
        "        elif task_type == 'regression' and 'R2' in metrics:\n",
        "            category_metrics[category]['regression'].append(metrics['R2'])\n",
        "\n",
        "# 마지막 에폭의 범주별 성능\n",
        "last_epoch_metrics = {}\n",
        "for category, values in category_metrics.items():\n",
        "    if values['classification']:\n",
        "        last_epoch_metrics[f\"{category} (Cls)\"] = np.mean(values['classification'])\n",
        "    if values['regression']:\n",
        "        last_epoch_metrics[f\"{category} (Reg)\"] = np.mean(values['regression'])\n",
        "\n",
        "categories = list(last_epoch_metrics.keys())\n",
        "values = list(last_epoch_metrics.values())\n",
        "\n",
        "plt.bar(categories, values)\n",
        "plt.title('Performance by ADMET Category')\n",
        "plt.xlabel('Category')\n",
        "plt.ylabel('Performance Metric')\n",
        "plt.ylim(0, 1)\n",
        "plt.xticks(rotation=45, ha='right')\n",
        "plt.grid(True, linestyle='--', alpha=0.7)\n",
        "\n",
        "plt.tight_layout()\n",
        "plt.savefig('training_curves.png')\n",
        "plt.show()\n"
      ],
      "metadata": {
        "colab": {
          "base_uri": "https://localhost:8080/",
          "height": 507
        },
        "id": "cm8EPgqkuCtC",
        "outputId": "9e816ad0-fc87-4a1c-c41f-0ae77fd7535e"
      },
      "execution_count": null,
      "outputs": [
        {
          "output_type": "display_data",
          "data": {
            "text/plain": [
              "<Figure size 1200x500 with 2 Axes>"
            ],
            "image/png": "[encoded data removed]"
          },
          "metadata": {}
        }
      ]
    }
  ]
}