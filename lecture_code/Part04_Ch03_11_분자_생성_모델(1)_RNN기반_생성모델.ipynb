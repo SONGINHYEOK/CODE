{
  "nbformat": 4,
  "nbformat_minor": 0,
  "metadata": {
    "colab": {
      "provenance": [],
      "gpuType": "T4"
    },
    "kernelspec": {
      "name": "python3",
      "display_name": "Python 3"
    },
    "language_info": {
      "name": "python"
    },
    "accelerator": "GPU"
  },
  "cells": [
    {
      "cell_type": "markdown",
      "source": [
        "# 학습 목표\n",
        "1. SMILES 표현법 이해 및 분자 생성 모델의 기본 원리 학습\n",
        "2. LSTM 기반 SMILES 생성 모델 구현\n",
        "3. 생성된 분자의 유효성 및 특성 검증"
      ],
      "metadata": {
        "id": "o8gCZgP40NsF"
      }
    },
    {
      "cell_type": "markdown",
      "source": [
        "# 1. SMILES와 분자 생성 모델\n",
        "1. **LSTM/RNN 기반 모델**\n",
        "   - 텍스트 생성과 유사한 방식으로 SMILES 문자열 생성\n",
        "   - 예: 본 강의에서 구현할 모델\n",
        "\n",
        "2. **VAE(Variational Autoencoder) 기반 모델**\n",
        "   - SMILES를 잠재 공간에 매핑하고 새로운 분자 생성\n",
        "   - 예: Chemical VAE, GVAE\n",
        "\n",
        "3. **GAN(Generative Adversarial Network) 기반 모델**\n",
        "   - 생성자와 판별자 네트워크를 통한 SMILES 생성\n",
        "   - 예: MolGAN\n",
        "\n",
        "4. **Transformer 기반 모델**\n",
        "   - 자기 주의 메커니즘을 활용한 SMILES 생성\n",
        "   - 예: MolFormer"
      ],
      "metadata": {
        "id": "gewuDoq5BLAt"
      }
    },
    {
      "cell_type": "markdown",
      "source": [
        "\n",
        "Arús-Pous, J., Patronov, A., Bjerrum, E. J., Tyrchan, C., Reymond, J. L., Chen, H., & Engkvist, O. (2020). SMILES-based deep generative scaffold decorator for de-novo drug design. Journal of cheminformatics, 12, 1-18.\n",
        "\n",
        "https://jcheminf.biomedcentral.com/articles/10.1186/s13321-020-00441-8\n",
        "\n",
        "<img src='https://media.springernature.com/lw685/springer-static/image/art%3A10.1186%2Fs13321-020-00441-8/MediaObjects/13321_2020_441_Fig11_HTML.png'>"
      ],
      "metadata": {
        "id": "oRCD-vR-BUOp"
      }
    },
    {
      "cell_type": "markdown",
      "source": [
        "# 2. 실습"
      ],
      "metadata": {
        "id": "hzqTzvq4ETIa"
      }
    },
    {
      "cell_type": "markdown",
      "source": [
        "## 2.1. 라이브러리 설치 및 불러오기"
      ],
      "metadata": {
        "id": "jOXIvKQNEUcm"
      }
    },
    {
      "cell_type": "code",
      "source": [
        "# 필요한 라이브러리 설치\n",
        "!pip install rdkit"
      ],
      "metadata": {
        "colab": {
          "base_uri": "https://localhost:8080/"
        },
        "id": "KnhKEriBBKrF",
        "outputId": "7955d1da-0fa0-4c01-aba5-cdacd51426cb"
      },
      "execution_count": null,
      "outputs": [
        {
          "output_type": "stream",
          "name": "stdout",
          "text": [
            "Collecting rdkit\n",
            "  Downloading rdkit-2024.9.6-cp311-cp311-manylinux_2_28_x86_64.whl.metadata (4.0 kB)\n",
            "Requirement already satisfied: numpy in /usr/local/lib/python3.11/dist-packages (from rdkit) (2.0.2)\n",
            "Requirement already satisfied: Pillow in /usr/local/lib/python3.11/dist-packages (from rdkit) (11.1.0)\n",
            "Downloading rdkit-2024.9.6-cp311-cp311-manylinux_2_28_x86_64.whl (34.3 MB)\n",
            "\u001b[2K   \u001b[90m━━━━━━━━━━━━━━━━━━━━━━━━━━━━━━━━━━━━━━━━\u001b[0m \u001b[32m34.3/34.3 MB\u001b[0m \u001b[31m26.4 MB/s\u001b[0m eta \u001b[36m0:00:00\u001b[0m\n",
            "\u001b[?25hInstalling collected packages: rdkit\n",
            "Successfully installed rdkit-2024.9.6\n"
          ]
        }
      ]
    },
    {
      "cell_type": "code",
      "source": [
        "# 필요한 라이브러리 임포트\n",
        "import numpy as np\n",
        "import pandas as pd\n",
        "import matplotlib.pyplot as plt\n",
        "import torch\n",
        "import torch.nn as nn\n",
        "import torch.optim as optim\n",
        "from torch.utils.data import Dataset, DataLoader\n",
        "from rdkit import Chem\n",
        "from rdkit.Chem import Draw, Descriptors, Lipinski\n",
        "from rdkit.Chem import AllChem\n",
        "from rdkit.Chem import DataStructs\n",
        "import re\n",
        "from tqdm import tqdm\n",
        "import random\n",
        "import os\n",
        "import io\n",
        "from collections import Counter\n",
        "\n",
        "# 시각화 설정\n",
        "plt.style.use('ggplot')\n",
        "device = torch.device(\"cuda\" if torch.cuda.is_available() else \"cpu\")\n",
        "print(f\"사용 중인 장치: {device}\")"
      ],
      "metadata": {
        "colab": {
          "base_uri": "https://localhost:8080/"
        },
        "id": "eVT6zw-lBg3Y",
        "outputId": "f24ee5d1-f4f8-44ef-db30-feb668857c8e"
      },
      "execution_count": null,
      "outputs": [
        {
          "output_type": "stream",
          "name": "stdout",
          "text": [
            "사용 중인 장치: cuda\n"
          ]
        }
      ]
    },
    {
      "cell_type": "markdown",
      "source": [
        "## 2.2. 데이터 다운로드 및 전처리"
      ],
      "metadata": {
        "id": "6rgYOXzaEY5Z"
      }
    },
    {
      "cell_type": "code",
      "source": [
        "# 데이터 다운로드\n",
        "!wget https://raw.githubusercontent.com/aspuru-guzik-group/chemical_vae/master/models/zinc_properties/250k_rndm_zinc_drugs_clean_3.csv\n",
        "\n",
        "# 데이터 불러오기\n",
        "data = pd.read_csv('250k_rndm_zinc_drugs_clean_3.csv')\n",
        "print(f\"데이터 크기: {data.shape}\")\n",
        "print(\"\\n데이터 샘플:\")\n",
        "data.head()"
      ],
      "metadata": {
        "colab": {
          "base_uri": "https://localhost:8080/",
          "height": 463
        },
        "id": "NDFnFnhICecO",
        "outputId": "b761b64d-d60e-4d64-c0b9-51f32302954c"
      },
      "execution_count": null,
      "outputs": [
        {
          "output_type": "stream",
          "name": "stdout",
          "text": [
            "--2025-03-29 17:54:23--  https://raw.githubusercontent.com/aspuru-guzik-group/chemical_vae/master/models/zinc_properties/250k_rndm_zinc_drugs_clean_3.csv\n",
            "Resolving raw.githubusercontent.com (raw.githubusercontent.com)... 185.199.108.133, 185.199.109.133, 185.199.110.133, ...\n",
            "Connecting to raw.githubusercontent.com (raw.githubusercontent.com)|185.199.108.133|:443... connected.\n",
            "HTTP request sent, awaiting response... 200 OK\n",
            "Length: 22606589 (22M) [text/plain]\n",
            "Saving to: ‘250k_rndm_zinc_drugs_clean_3.csv.1’\n",
            "\n",
            "\r          250k_rndm   0%[                    ]       0  --.-KB/s               \r250k_rndm_zinc_drug 100%[===================>]  21.56M  --.-KB/s    in 0.1s    \n",
            "\n",
            "2025-03-29 17:54:23 (205 MB/s) - ‘250k_rndm_zinc_drugs_clean_3.csv.1’ saved [22606589/22606589]\n",
            "\n",
            "데이터 크기: (249455, 4)\n",
            "\n",
            "데이터 샘플:\n"
          ]
        },
        {
          "output_type": "execute_result",
          "data": {
            "text/plain": [
              "                                              smiles     logP       qed  \\\n",
              "0          CC(C)(C)c1ccc2occ(CC(=O)Nc3ccccc3F)c2c1\\n  5.05060  0.702012   \n",
              "1     C[C@@H]1CC(Nc2cncc(-c3nncn3C)c2)C[C@@H](C)C1\\n  3.11370  0.928975   \n",
              "2  N#Cc1ccc(-c2ccc(O[C@@H](C(=O)N3CCCC3)c3ccccc3)...  4.96778  0.599682   \n",
              "3  CCOC(=O)[C@@H]1CCCN(C(=O)c2nc(-c3ccc(C)cc3)n3c...  4.00022  0.690944   \n",
              "4  N#CC1=C(SCC(=O)Nc2cccc(Cl)c2)N=C([O-])[C@H](C#...  3.60956  0.789027   \n",
              "\n",
              "        SAS  \n",
              "0  2.084095  \n",
              "1  3.432004  \n",
              "2  2.470633  \n",
              "3  2.822753  \n",
              "4  4.035182  "
            ],
            "text/html": [
              "\n",
              "  <div id=\"df-856dbe69-635e-4cd1-9f3e-c31a181a51ae\" class=\"colab-df-container\">\n",
              "    <div>\n",
              "<style scoped>\n",
              "    .dataframe tbody tr th:only-of-type {\n",
              "        vertical-align: middle;\n",
              "    }\n",
              "\n",
              "    .dataframe tbody tr th {\n",
              "        vertical-align: top;\n",
              "    }\n",
              "\n",
              "    .dataframe thead th {\n",
              "        text-align: right;\n",
              "    }\n",
              "</style>\n",
              "<table border=\"1\" class=\"dataframe\">\n",
              "  <thead>\n",
              "    <tr style=\"text-align: right;\">\n",
              "      <th></th>\n",
              "      <th>smiles</th>\n",
              "      <th>logP</th>\n",
              "      <th>qed</th>\n",
              "      <th>SAS</th>\n",
              "    </tr>\n",
              "  </thead>\n",
              "  <tbody>\n",
              "    <tr>\n",
              "      <th>0</th>\n",
              "      <td>CC(C)(C)c1ccc2occ(CC(=O)Nc3ccccc3F)c2c1\\n</td>\n",
              "      <td>5.05060</td>\n",
              "      <td>0.702012</td>\n",
              "      <td>2.084095</td>\n",
              "    </tr>\n",
              "    <tr>\n",
              "      <th>1</th>\n",
              "      <td>C[C@@H]1CC(Nc2cncc(-c3nncn3C)c2)C[C@@H](C)C1\\n</td>\n",
              "      <td>3.11370</td>\n",
              "      <td>0.928975</td>\n",
              "      <td>3.432004</td>\n",
              "    </tr>\n",
              "    <tr>\n",
              "      <th>2</th>\n",
              "      <td>N#Cc1ccc(-c2ccc(O[C@@H](C(=O)N3CCCC3)c3ccccc3)...</td>\n",
              "      <td>4.96778</td>\n",
              "      <td>0.599682</td>\n",
              "      <td>2.470633</td>\n",
              "    </tr>\n",
              "    <tr>\n",
              "      <th>3</th>\n",
              "      <td>CCOC(=O)[C@@H]1CCCN(C(=O)c2nc(-c3ccc(C)cc3)n3c...</td>\n",
              "      <td>4.00022</td>\n",
              "      <td>0.690944</td>\n",
              "      <td>2.822753</td>\n",
              "    </tr>\n",
              "    <tr>\n",
              "      <th>4</th>\n",
              "      <td>N#CC1=C(SCC(=O)Nc2cccc(Cl)c2)N=C([O-])[C@H](C#...</td>\n",
              "      <td>3.60956</td>\n",
              "      <td>0.789027</td>\n",
              "      <td>4.035182</td>\n",
              "    </tr>\n",
              "  </tbody>\n",
              "</table>\n",
              "</div>\n",
              "    <div class=\"colab-df-buttons\">\n",
              "\n",
              "  <div class=\"colab-df-container\">\n",
              "    <button class=\"colab-df-convert\" onclick=\"convertToInteractive('df-856dbe69-635e-4cd1-9f3e-c31a181a51ae')\"\n",
              "            title=\"Convert this dataframe to an interactive table.\"\n",
              "            style=\"display:none;\">\n",
              "\n",
              "  <svg xmlns=\"http://www.w3.org/2000/svg\" height=\"24px\" viewBox=\"0 -960 960 960\">\n",
              "    <path d=\"M120-120v-720h720v720H120Zm60-500h600v-160H180v160Zm220 220h160v-160H400v160Zm0 220h160v-160H400v160ZM180-400h160v-160H180v160Zm440 0h160v-160H620v160ZM180-180h160v-160H180v160Zm440 0h160v-160H620v160Z\"/>\n",
              "  </svg>\n",
              "    </button>\n",
              "\n",
              "  <style>\n",
              "    .colab-df-container {\n",
              "      display:flex;\n",
              "      gap: 12px;\n",
              "    }\n",
              "\n",
              "    .colab-df-convert {\n",
              "      background-color: #E8F0FE;\n",
              "      border: none;\n",
              "      border-radius: 50%;\n",
              "      cursor: pointer;\n",
              "      display: none;\n",
              "      fill: #1967D2;\n",
              "      height: 32px;\n",
              "      padding: 0 0 0 0;\n",
              "      width: 32px;\n",
              "    }\n",
              "\n",
              "    .colab-df-convert:hover {\n",
              "      background-color: #E2EBFA;\n",
              "      box-shadow: 0px 1px 2px rgba(60, 64, 67, 0.3), 0px 1px 3px 1px rgba(60, 64, 67, 0.15);\n",
              "      fill: #174EA6;\n",
              "    }\n",
              "\n",
              "    .colab-df-buttons div {\n",
              "      margin-bottom: 4px;\n",
              "    }\n",
              "\n",
              "    [theme=dark] .colab-df-convert {\n",
              "      background-color: #3B4455;\n",
              "      fill: #D2E3FC;\n",
              "    }\n",
              "\n",
              "    [theme=dark] .colab-df-convert:hover {\n",
              "      background-color: #434B5C;\n",
              "      box-shadow: 0px 1px 3px 1px rgba(0, 0, 0, 0.15);\n",
              "      filter: drop-shadow(0px 1px 2px rgba(0, 0, 0, 0.3));\n",
              "      fill: #FFFFFF;\n",
              "    }\n",
              "  </style>\n",
              "\n",
              "    <script>\n",
              "      const buttonEl =\n",
              "        document.querySelector('#df-856dbe69-635e-4cd1-9f3e-c31a181a51ae button.colab-df-convert');\n",
              "      buttonEl.style.display =\n",
              "        google.colab.kernel.accessAllowed ? 'block' : 'none';\n",
              "\n",
              "      async function convertToInteractive(key) {\n",
              "        const element = document.querySelector('#df-856dbe69-635e-4cd1-9f3e-c31a181a51ae');\n",
              "        const dataTable =\n",
              "          await google.colab.kernel.invokeFunction('convertToInteractive',\n",
              "                                                    [key], {});\n",
              "        if (!dataTable) return;\n",
              "\n",
              "        const docLinkHtml = 'Like what you see? Visit the ' +\n",
              "          '<a target=\"_blank\" href=https://colab.research.google.com/notebooks/data_table.ipynb>data table notebook</a>'\n",
              "          + ' to learn more about interactive tables.';\n",
              "        element.innerHTML = '';\n",
              "        dataTable['output_type'] = 'display_data';\n",
              "        await google.colab.output.renderOutput(dataTable, element);\n",
              "        const docLink = document.createElement('div');\n",
              "        docLink.innerHTML = docLinkHtml;\n",
              "        element.appendChild(docLink);\n",
              "      }\n",
              "    </script>\n",
              "  </div>\n",
              "\n",
              "\n",
              "<div id=\"df-d2232d04-8020-4c7e-9744-819967f8aa96\">\n",
              "  <button class=\"colab-df-quickchart\" onclick=\"quickchart('df-d2232d04-8020-4c7e-9744-819967f8aa96')\"\n",
              "            title=\"Suggest charts\"\n",
              "            style=\"display:none;\">\n",
              "\n",
              "<svg xmlns=\"http://www.w3.org/2000/svg\" height=\"24px\"viewBox=\"0 0 24 24\"\n",
              "     width=\"24px\">\n",
              "    <g>\n",
              "        <path d=\"M19 3H5c-1.1 0-2 .9-2 2v14c0 1.1.9 2 2 2h14c1.1 0 2-.9 2-2V5c0-1.1-.9-2-2-2zM9 17H7v-7h2v7zm4 0h-2V7h2v10zm4 0h-2v-4h2v4z\"/>\n",
              "    </g>\n",
              "</svg>\n",
              "  </button>\n",
              "\n",
              "<style>\n",
              "  .colab-df-quickchart {\n",
              "      --bg-color: #E8F0FE;\n",
              "      --fill-color: #1967D2;\n",
              "      --hover-bg-color: #E2EBFA;\n",
              "      --hover-fill-color: #174EA6;\n",
              "      --disabled-fill-color: #AAA;\n",
              "      --disabled-bg-color: #DDD;\n",
              "  }\n",
              "\n",
              "  [theme=dark] .colab-df-quickchart {\n",
              "      --bg-color: #3B4455;\n",
              "      --fill-color: #D2E3FC;\n",
              "      --hover-bg-color: #434B5C;\n",
              "      --hover-fill-color: #FFFFFF;\n",
              "      --disabled-bg-color: #3B4455;\n",
              "      --disabled-fill-color: #666;\n",
              "  }\n",
              "\n",
              "  .colab-df-quickchart {\n",
              "    background-color: var(--bg-color);\n",
              "    border: none;\n",
              "    border-radius: 50%;\n",
              "    cursor: pointer;\n",
              "    display: none;\n",
              "    fill: var(--fill-color);\n",
              "    height: 32px;\n",
              "    padding: 0;\n",
              "    width: 32px;\n",
              "  }\n",
              "\n",
              "  .colab-df-quickchart:hover {\n",
              "    background-color: var(--hover-bg-color);\n",
              "    box-shadow: 0 1px 2px rgba(60, 64, 67, 0.3), 0 1px 3px 1px rgba(60, 64, 67, 0.15);\n",
              "    fill: var(--button-hover-fill-color);\n",
              "  }\n",
              "\n",
              "  .colab-df-quickchart-complete:disabled,\n",
              "  .colab-df-quickchart-complete:disabled:hover {\n",
              "    background-color: var(--disabled-bg-color);\n",
              "    fill: var(--disabled-fill-color);\n",
              "    box-shadow: none;\n",
              "  }\n",
              "\n",
              "  .colab-df-spinner {\n",
              "    border: 2px solid var(--fill-color);\n",
              "    border-color: transparent;\n",
              "    border-bottom-color: var(--fill-color);\n",
              "    animation:\n",
              "      spin 1s steps(1) infinite;\n",
              "  }\n",
              "\n",
              "  @keyframes spin {\n",
              "    0% {\n",
              "      border-color: transparent;\n",
              "      border-bottom-color: var(--fill-color);\n",
              "      border-left-color: var(--fill-color);\n",
              "    }\n",
              "    20% {\n",
              "      border-color: transparent;\n",
              "      border-left-color: var(--fill-color);\n",
              "      border-top-color: var(--fill-color);\n",
              "    }\n",
              "    30% {\n",
              "      border-color: transparent;\n",
              "      border-left-color: var(--fill-color);\n",
              "      border-top-color: var(--fill-color);\n",
              "      border-right-color: var(--fill-color);\n",
              "    }\n",
              "    40% {\n",
              "      border-color: transparent;\n",
              "      border-right-color: var(--fill-color);\n",
              "      border-top-color: var(--fill-color);\n",
              "    }\n",
              "    60% {\n",
              "      border-color: transparent;\n",
              "      border-right-color: var(--fill-color);\n",
              "    }\n",
              "    80% {\n",
              "      border-color: transparent;\n",
              "      border-right-color: var(--fill-color);\n",
              "      border-bottom-color: var(--fill-color);\n",
              "    }\n",
              "    90% {\n",
              "      border-color: transparent;\n",
              "      border-bottom-color: var(--fill-color);\n",
              "    }\n",
              "  }\n",
              "</style>\n",
              "\n",
              "  <script>\n",
              "    async function quickchart(key) {\n",
              "      const quickchartButtonEl =\n",
              "        document.querySelector('#' + key + ' button');\n",
              "      quickchartButtonEl.disabled = true;  // To prevent multiple clicks.\n",
              "      quickchartButtonEl.classList.add('colab-df-spinner');\n",
              "      try {\n",
              "        const charts = await google.colab.kernel.invokeFunction(\n",
              "            'suggestCharts', [key], {});\n",
              "      } catch (error) {\n",
              "        console.error('Error during call to suggestCharts:', error);\n",
              "      }\n",
              "      quickchartButtonEl.classList.remove('colab-df-spinner');\n",
              "      quickchartButtonEl.classList.add('colab-df-quickchart-complete');\n",
              "    }\n",
              "    (() => {\n",
              "      let quickchartButtonEl =\n",
              "        document.querySelector('#df-d2232d04-8020-4c7e-9744-819967f8aa96 button');\n",
              "      quickchartButtonEl.style.display =\n",
              "        google.colab.kernel.accessAllowed ? 'block' : 'none';\n",
              "    })();\n",
              "  </script>\n",
              "</div>\n",
              "\n",
              "    </div>\n",
              "  </div>\n"
            ],
            "application/vnd.google.colaboratory.intrinsic+json": {
              "type": "dataframe",
              "variable_name": "data"
            }
          },
          "metadata": {},
          "execution_count": 5
        }
      ]
    },
    {
      "cell_type": "code",
      "source": [
        "# SMILES 열만 추출\n",
        "smiles_list = data['smiles'].tolist()\n",
        "\n",
        "# 데이터 분석\n",
        "print(f\"\\n총 SMILES 수: {len(smiles_list)}\")\n",
        "\n",
        "# SMILES 길이 분포 확인\n",
        "smiles_length = [len(s) for s in smiles_list]\n",
        "plt.figure(figsize=(10, 6))\n",
        "plt.hist(smiles_length, bins=50, alpha=0.7)\n",
        "plt.xlabel('SMILES length')\n",
        "plt.ylabel('빈도')\n",
        "plt.title('SMILES length distribution')\n",
        "plt.axvline(x=np.mean(smiles_length), color='r', linestyle='--', label=f'avg: {np.mean(smiles_length):.1f}')\n",
        "plt.axvline(x=np.percentile(smiles_length, 95), color='g', linestyle='--', label=f'95%: {np.percentile(smiles_length, 95):.1f}')\n",
        "plt.legend()\n",
        "plt.show()"
      ],
      "metadata": {
        "colab": {
          "base_uri": "https://localhost:8080/",
          "height": 606
        },
        "id": "EJRCGwgJChI2",
        "outputId": "236e670e-8698-472b-988f-136df921a0d7"
      },
      "execution_count": null,
      "outputs": [
        {
          "output_type": "stream",
          "name": "stdout",
          "text": [
            "\n",
            "총 SMILES 수: 249455\n"
          ]
        },
        {
          "output_type": "display_data",
          "data": {
            "text/plain": [
              "<Figure size 1000x600 with 1 Axes>"
            ],
            "image/png": "[encoded data removed]"
          },
          "metadata": {}
        }
      ]
    },
    {
      "cell_type": "code",
      "source": [
        "# SMILES 문자 분석\n",
        "all_chars = ''.join(smiles_list)\n",
        "char_freq = Counter(all_chars)\n",
        "print(\"\\nSMILES에 사용된 문자 및 빈도:\")\n",
        "for char, freq in sorted(char_freq.items(), key=lambda x: x[1], reverse=True):\n",
        "    print(f\"'{char}': {freq}\")\n",
        "\n",
        "# 문자 집합 생성\n",
        "chars = sorted(list(set(all_chars)))\n",
        "print(f\"\\n총 고유 문자 수: {len(chars)}\")\n",
        "print(f\"문자 집합: {''.join(chars)}\")\n",
        "\n",
        "# SMILES 전처리 함수\n",
        "def preprocess_smiles(smiles_list, max_length=None):\n",
        "    \"\"\"SMILES 문자열 목록을 전처리합니다.\"\"\"\n",
        "    # 모든 SMILES에 시작, 종료 토큰 추가\n",
        "    processed_smiles = ['<' + s + '>' for s in smiles_list]\n",
        "\n",
        "    # 최대 길이가 지정되지 않은 경우 계산\n",
        "    if max_length is None:\n",
        "        max_length = max([len(s) for s in processed_smiles])\n",
        "\n",
        "    # 문자를 인덱스로 매핑\n",
        "    all_chars = set(''.join(processed_smiles))\n",
        "    char_to_idx = {c: i for i, c in enumerate(sorted(list(all_chars)))}\n",
        "    idx_to_char = {i: c for c, i in char_to_idx.items()}\n",
        "\n",
        "    return processed_smiles, max_length, char_to_idx, idx_to_char\n",
        "\n",
        "# SMILES 전처리\n",
        "processed_smiles, max_length, char_to_idx, idx_to_char = preprocess_smiles(smiles_list)\n",
        "vocab_size = len(char_to_idx)\n",
        "\n",
        "print(f\"전처리 후 최대 SMILES 길이: {max_length}\")\n",
        "print(f\"어휘 크기: {vocab_size}\")"
      ],
      "metadata": {
        "colab": {
          "base_uri": "https://localhost:8080/"
        },
        "id": "Pnkm_UK6Cj0h",
        "outputId": "82ca6fc7-2b39-40ee-95c7-6df84ebd960e"
      },
      "execution_count": null,
      "outputs": [
        {
          "output_type": "stream",
          "name": "stdout",
          "text": [
            "\n",
            "SMILES에 사용된 문자 및 빈도:\n",
            "'c': 2208615\n",
            "'C': 2089128\n",
            "'(': 963256\n",
            "')': 963256\n",
            "'1': 724634\n",
            "'O': 545243\n",
            "'2': 471673\n",
            "'N': 437069\n",
            "'=': 395685\n",
            "'[': 344326\n",
            "']': 344326\n",
            "'@': 334570\n",
            "'H': 290127\n",
            "'n': 268134\n",
            "'\n",
            "': 249455\n",
            "'3': 167094\n",
            "'F': 79430\n",
            "'+': 76813\n",
            "'S': 63791\n",
            "'-': 63514\n",
            "'l': 42872\n",
            "'s': 39088\n",
            "'o': 30988\n",
            "'4': 30704\n",
            "'/': 28558\n",
            "'#': 15587\n",
            "'B': 12722\n",
            "'r': 12722\n",
            "'\\': 5838\n",
            "'5': 2582\n",
            "'I': 888\n",
            "'P': 127\n",
            "'6': 96\n",
            "'7': 8\n",
            "'8': 2\n",
            "\n",
            "총 고유 문자 수: 35\n",
            "문자 집합: \n",
            "#()+-/12345678=@BCFHINOPS[\\]clnors\n",
            "전처리 후 최대 SMILES 길이: 112\n",
            "어휘 크기: 37\n"
          ]
        }
      ]
    },
    {
      "cell_type": "code",
      "source": [
        "# PyTorch 데이터셋 클래스 정의\n",
        "class SMILESDataset(Dataset):\n",
        "    def __init__(self, smiles_list, char_to_idx, max_length):\n",
        "        self.smiles_list = smiles_list\n",
        "        self.char_to_idx = char_to_idx\n",
        "        self.max_length = max_length\n",
        "\n",
        "    def __len__(self):\n",
        "        return len(self.smiles_list)\n",
        "\n",
        "    def __getitem__(self, idx):\n",
        "        smile = self.smiles_list[idx]\n",
        "\n",
        "        # 패딩\n",
        "        padded_smile = smile.ljust(self.max_length)\n",
        "\n",
        "        # 입력 시퀀스 (마지막 문자 제외)\n",
        "        input_seq = [self.char_to_idx.get(c, 0) for c in padded_smile[:-1]]\n",
        "        input_tensor = torch.tensor(input_seq, dtype=torch.long)\n",
        "\n",
        "        # 출력 시퀀스 (첫 번째 문자 제외)\n",
        "        target_seq = [self.char_to_idx.get(c, 0) for c in padded_smile[1:]]\n",
        "        target_tensor = torch.tensor(target_seq, dtype=torch.long)\n",
        "\n",
        "        return input_tensor, target_tensor"
      ],
      "metadata": {
        "id": "hW_emk3gCykT"
      },
      "execution_count": null,
      "outputs": []
    },
    {
      "cell_type": "code",
      "source": [
        "# 샘플 크기 조정 (메모리 제한 고려)\n",
        "sample_size = 10000  # 사용할 샘플 수\n",
        "indices = np.random.choice(len(smiles_list), sample_size, replace=False)\n",
        "sampled_smiles = [smiles_list[i] for i in indices]\n",
        "\n",
        "# 전처리된 SMILES로 데이터셋 생성\n",
        "processed_smiles, max_length, char_to_idx, idx_to_char = preprocess_smiles(sampled_smiles)\n",
        "dataset = SMILESDataset(processed_smiles, char_to_idx, max_length)\n",
        "\n",
        "# 학습/검증 세트 분리\n",
        "train_size = int(0.8 * len(dataset))\n",
        "val_size = len(dataset) - train_size\n",
        "train_dataset, val_dataset = torch.utils.data.random_split(dataset, [train_size, val_size])\n",
        "\n",
        "# DataLoader 생성\n",
        "batch_size = 128\n",
        "train_loader = DataLoader(train_dataset, batch_size=batch_size, shuffle=True, drop_last=True)\n",
        "val_loader = DataLoader(val_dataset, batch_size=batch_size, shuffle=False, drop_last=True)\n",
        "\n",
        "print(f\"학습 세트 크기: {len(train_dataset)}, 검증 세트 크기: {len(val_dataset)}\")\n",
        "print(f\"배치 수 (학습): {len(train_loader)}, (검증): {len(val_loader)}\")"
      ],
      "metadata": {
        "colab": {
          "base_uri": "https://localhost:8080/"
        },
        "id": "Ev6bxuJOC1Hj",
        "outputId": "f8ed0061-3c1f-491f-f183-3fc6a06362c2"
      },
      "execution_count": null,
      "outputs": [
        {
          "output_type": "stream",
          "name": "stdout",
          "text": [
            "학습 세트 크기: 8000, 검증 세트 크기: 2000\n",
            "배치 수 (학습): 62, (검증): 15\n"
          ]
        }
      ]
    },
    {
      "cell_type": "markdown",
      "source": [
        "## 2.3. 모델 정의"
      ],
      "metadata": {
        "id": "ZhGWJ_UjEcZm"
      }
    },
    {
      "cell_type": "code",
      "source": [
        "# 모델 정의 (PyTorch)\n",
        "class SMILESGenerator(nn.Module):\n",
        "    def __init__(self, vocab_size, embedding_dim, hidden_dim, n_layers, dropout=0.3):\n",
        "        super(SMILESGenerator, self).__init__()\n",
        "\n",
        "        self.vocab_size = vocab_size\n",
        "        self.embedding_dim = embedding_dim\n",
        "        self.hidden_dim = hidden_dim\n",
        "        self.n_layers = n_layers\n",
        "\n",
        "        # 임베딩 층\n",
        "        self.embedding = nn.Embedding(vocab_size, embedding_dim)\n",
        "\n",
        "        # LSTM 층\n",
        "        self.lstm = nn.LSTM(\n",
        "            input_size=embedding_dim,\n",
        "            hidden_size=hidden_dim,\n",
        "            num_layers=n_layers,\n",
        "            dropout=dropout if n_layers > 1 else 0,\n",
        "            batch_first=True\n",
        "        )\n",
        "\n",
        "        # 드롭아웃 층\n",
        "        self.dropout = nn.Dropout(dropout)\n",
        "\n",
        "        # 출력 층\n",
        "        self.fc = nn.Linear(hidden_dim, vocab_size)\n",
        "\n",
        "    def forward(self, x, hidden=None):\n",
        "        # 입력 형태: (batch_size, seq_length)\n",
        "        batch_size = x.size(0)\n",
        "\n",
        "        # 임베딩: (batch_size, seq_length, embedding_dim)\n",
        "        embedded = self.embedding(x)\n",
        "\n",
        "        # LSTM 출력: (batch_size, seq_length, hidden_dim)\n",
        "        if hidden is None:\n",
        "            lstm_out, hidden = self.lstm(embedded)\n",
        "        else:\n",
        "            lstm_out, hidden = self.lstm(embedded, hidden)\n",
        "\n",
        "        # 드롭아웃 적용\n",
        "        lstm_out = self.dropout(lstm_out)\n",
        "\n",
        "        # 출력 층: (batch_size, seq_length, vocab_size)\n",
        "        output = self.fc(lstm_out)\n",
        "\n",
        "        return output, hidden\n",
        "\n",
        "    def init_hidden(self, batch_size):\n",
        "        # 초기 은닉 상태 및 셀 상태 초기화\n",
        "        h0 = torch.zeros(self.n_layers, batch_size, self.hidden_dim).to(device)\n",
        "        c0 = torch.zeros(self.n_layers, batch_size, self.hidden_dim).to(device)\n",
        "\n",
        "        return (h0, c0)\n",
        "\n",
        "# 모델 하이퍼파라미터\n",
        "embedding_dim = 64\n",
        "hidden_dim = 256\n",
        "n_layers = 3\n",
        "dropout_rate = 0.3\n",
        "\n",
        "# 모델 초기화\n",
        "model = SMILESGenerator(vocab_size, embedding_dim, hidden_dim, n_layers, dropout_rate)\n",
        "model = model.to(device)\n",
        "\n",
        "# 손실 함수 및 옵티마이저\n",
        "criterion = nn.CrossEntropyLoss()\n",
        "optimizer = optim.Adam(model.parameters(), lr=0.001)\n",
        "scheduler = optim.lr_scheduler.ReduceLROnPlateau(optimizer, mode='min', factor=0.5, patience=2, verbose=True)\n",
        "\n",
        "# 모델 요약\n",
        "def count_parameters(model):\n",
        "    return sum(p.numel() for p in model.parameters() if p.requires_grad)\n",
        "\n",
        "total_params = count_parameters(model)\n",
        "print(f\"모델 파라미터 수: {total_params:,}\")\n",
        "print(model)"
      ],
      "metadata": {
        "colab": {
          "base_uri": "https://localhost:8080/"
        },
        "id": "hnndTMuiC3df",
        "outputId": "c5bb106a-bc0f-4fbe-d501-ab3108045f92"
      },
      "execution_count": null,
      "outputs": [
        {
          "output_type": "stream",
          "name": "stdout",
          "text": [
            "모델 파라미터 수: 1,394,277\n",
            "SMILESGenerator(\n",
            "  (embedding): Embedding(37, 64)\n",
            "  (lstm): LSTM(64, 256, num_layers=3, batch_first=True, dropout=0.3)\n",
            "  (dropout): Dropout(p=0.3, inplace=False)\n",
            "  (fc): Linear(in_features=256, out_features=37, bias=True)\n",
            ")\n"
          ]
        },
        {
          "output_type": "stream",
          "name": "stderr",
          "text": [
            "/usr/local/lib/python3.11/dist-packages/torch/optim/lr_scheduler.py:62: UserWarning: The verbose parameter is deprecated. Please use get_last_lr() to access the learning rate.\n",
            "  warnings.warn(\n"
          ]
        }
      ]
    },
    {
      "cell_type": "markdown",
      "source": [
        "## 2.4. 학습 및 검증"
      ],
      "metadata": {
        "id": "m6qVcLwXEepm"
      }
    },
    {
      "cell_type": "code",
      "source": [
        "# 학습 함수\n",
        "def train(model, dataloader, optimizer, criterion, clip=5):\n",
        "    model.train()\n",
        "    epoch_loss = 0\n",
        "\n",
        "    for batch_idx, (inputs, targets) in enumerate(tqdm(dataloader, desc=\"학습 중\")):\n",
        "        inputs, targets = inputs.to(device), targets.to(device)\n",
        "\n",
        "        # 그래디언트 초기화\n",
        "        optimizer.zero_grad()\n",
        "\n",
        "        # 초기 은닉 상태 초기화\n",
        "        hidden = model.init_hidden(inputs.size(0))\n",
        "\n",
        "        # 순전파\n",
        "        output, _ = model(inputs, hidden)\n",
        "\n",
        "        # 손실 계산\n",
        "        # output: (batch_size, seq_length, vocab_size)\n",
        "        # targets: (batch_size, seq_length)\n",
        "        output = output.reshape(-1, output.shape[2])\n",
        "        targets = targets.reshape(-1)\n",
        "\n",
        "        loss = criterion(output, targets)\n",
        "\n",
        "        # 역전파\n",
        "        loss.backward()\n",
        "\n",
        "        # 그래디언트 클리핑\n",
        "        nn.utils.clip_grad_norm_(model.parameters(), clip)\n",
        "\n",
        "        # 파라미터 업데이트\n",
        "        optimizer.step()\n",
        "\n",
        "        epoch_loss += loss.item()\n",
        "\n",
        "    return epoch_loss / len(dataloader)\n",
        "\n",
        "# 검증 함수\n",
        "def evaluate(model, dataloader, criterion):\n",
        "    model.eval()\n",
        "    epoch_loss = 0\n",
        "\n",
        "    with torch.no_grad():\n",
        "        for batch_idx, (inputs, targets) in enumerate(tqdm(dataloader, desc=\"검증 중\")):\n",
        "            inputs, targets = inputs.to(device), targets.to(device)\n",
        "\n",
        "            # 초기 은닉 상태 초기화\n",
        "            hidden = model.init_hidden(inputs.size(0))\n",
        "\n",
        "            # 순전파\n",
        "            output, _ = model(inputs, hidden)\n",
        "\n",
        "            # 손실 계산\n",
        "            output = output.reshape(-1, output.shape[2])\n",
        "            targets = targets.reshape(-1)\n",
        "\n",
        "            loss = criterion(output, targets)\n",
        "\n",
        "            epoch_loss += loss.item()\n",
        "\n",
        "    return epoch_loss / len(dataloader)\n",
        "\n",
        "# 체크포인트 저장 함수\n",
        "def save_checkpoint(model, optimizer, epoch, loss, filename):\n",
        "    checkpoint = {\n",
        "        'epoch': epoch,\n",
        "        'model_state_dict': model.state_dict(),\n",
        "        'optimizer_state_dict': optimizer.state_dict(),\n",
        "        'loss': loss,\n",
        "    }\n",
        "    torch.save(checkpoint, filename)\n",
        "    print(f\"체크포인트 저장: {filename}\")\n",
        "\n",
        "# 학습 루프\n",
        "epochs = 20\n",
        "best_val_loss = float('inf')\n",
        "patience = 5\n",
        "counter = 0\n",
        "\n",
        "train_losses = []\n",
        "val_losses = []\n",
        "\n",
        "for epoch in range(epochs):\n",
        "    # 학습\n",
        "    train_loss = train(model, train_loader, optimizer, criterion)\n",
        "    train_losses.append(train_loss)\n",
        "\n",
        "    # 검증\n",
        "    val_loss = evaluate(model, val_loader, criterion)\n",
        "    val_losses.append(val_loss)\n",
        "\n",
        "    # 학습률 조정\n",
        "    scheduler.step(val_loss)\n",
        "\n",
        "    # 체크포인트 저장\n",
        "    if val_loss < best_val_loss:\n",
        "        best_val_loss = val_loss\n",
        "        save_checkpoint(model, optimizer, epoch, val_loss, 'best_model.pt')\n",
        "        counter = 0\n",
        "    else:\n",
        "        counter += 1\n",
        "\n",
        "    # 진행 상황 출력\n",
        "    print(f'Epoch: {epoch+1:02} | Train Loss: {train_loss:.4f} | Val Loss: {val_loss:.4f}')\n",
        "\n",
        "    # 조기 종료\n",
        "    if counter >= patience:\n",
        "        print(f'조기 종료! {patience} 에폭 동안 검증 손실이 개선되지 않았습니다.')\n",
        "        break"
      ],
      "metadata": {
        "colab": {
          "base_uri": "https://localhost:8080/"
        },
        "id": "LnFi5ql9C7et",
        "outputId": "620ba9ba-27f3-4f29-e967-500c5da9d90f"
      },
      "execution_count": null,
      "outputs": [
        {
          "output_type": "stream",
          "name": "stderr",
          "text": [
            "학습 중: 100%|██████████| 62/62 [00:04<00:00, 15.50it/s]\n",
            "검증 중: 100%|██████████| 15/15 [00:00<00:00, 58.09it/s]\n"
          ]
        },
        {
          "output_type": "stream",
          "name": "stdout",
          "text": [
            "체크포인트 저장: best_model.pt\n",
            "Epoch: 01 | Train Loss: 1.5538 | Val Loss: 1.2221\n"
          ]
        },
        {
          "output_type": "stream",
          "name": "stderr",
          "text": [
            "학습 중: 100%|██████████| 62/62 [00:02<00:00, 23.49it/s]\n",
            "검증 중: 100%|██████████| 15/15 [00:00<00:00, 58.89it/s]\n"
          ]
        },
        {
          "output_type": "stream",
          "name": "stdout",
          "text": [
            "체크포인트 저장: best_model.pt\n",
            "Epoch: 02 | Train Loss: 1.0070 | Val Loss: 0.7714\n"
          ]
        },
        {
          "output_type": "stream",
          "name": "stderr",
          "text": [
            "학습 중: 100%|██████████| 62/62 [00:02<00:00, 22.84it/s]\n",
            "검증 중: 100%|██████████| 15/15 [00:00<00:00, 56.40it/s]\n"
          ]
        },
        {
          "output_type": "stream",
          "name": "stdout",
          "text": [
            "체크포인트 저장: best_model.pt\n",
            "Epoch: 03 | Train Loss: 0.6989 | Val Loss: 0.5998\n"
          ]
        },
        {
          "output_type": "stream",
          "name": "stderr",
          "text": [
            "학습 중: 100%|██████████| 62/62 [00:02<00:00, 24.48it/s]\n",
            "검증 중: 100%|██████████| 15/15 [00:00<00:00, 41.70it/s]\n"
          ]
        },
        {
          "output_type": "stream",
          "name": "stdout",
          "text": [
            "체크포인트 저장: best_model.pt\n",
            "Epoch: 04 | Train Loss: 0.5913 | Val Loss: 0.5211\n"
          ]
        },
        {
          "output_type": "stream",
          "name": "stderr",
          "text": [
            "학습 중: 100%|██████████| 62/62 [00:02<00:00, 20.96it/s]\n",
            "검증 중: 100%|██████████| 15/15 [00:00<00:00, 58.03it/s]\n"
          ]
        },
        {
          "output_type": "stream",
          "name": "stdout",
          "text": [
            "체크포인트 저장: best_model.pt\n",
            "Epoch: 05 | Train Loss: 0.5329 | Val Loss: 0.4798\n"
          ]
        },
        {
          "output_type": "stream",
          "name": "stderr",
          "text": [
            "학습 중: 100%|██████████| 62/62 [00:02<00:00, 23.21it/s]\n",
            "검증 중: 100%|██████████| 15/15 [00:00<00:00, 58.07it/s]\n"
          ]
        },
        {
          "output_type": "stream",
          "name": "stdout",
          "text": [
            "체크포인트 저장: best_model.pt\n",
            "Epoch: 06 | Train Loss: 0.4958 | Val Loss: 0.4489\n"
          ]
        },
        {
          "output_type": "stream",
          "name": "stderr",
          "text": [
            "학습 중: 100%|██████████| 62/62 [00:02<00:00, 24.57it/s]\n",
            "검증 중: 100%|██████████| 15/15 [00:00<00:00, 58.94it/s]\n"
          ]
        },
        {
          "output_type": "stream",
          "name": "stdout",
          "text": [
            "체크포인트 저장: best_model.pt\n",
            "Epoch: 07 | Train Loss: 0.4688 | Val Loss: 0.4308\n"
          ]
        },
        {
          "output_type": "stream",
          "name": "stderr",
          "text": [
            "학습 중: 100%|██████████| 62/62 [00:02<00:00, 24.27it/s]\n",
            "검증 중: 100%|██████████| 15/15 [00:00<00:00, 58.57it/s]\n"
          ]
        },
        {
          "output_type": "stream",
          "name": "stdout",
          "text": [
            "체크포인트 저장: best_model.pt\n",
            "Epoch: 08 | Train Loss: 0.4478 | Val Loss: 0.4106\n"
          ]
        },
        {
          "output_type": "stream",
          "name": "stderr",
          "text": [
            "학습 중: 100%|██████████| 62/62 [00:02<00:00, 24.17it/s]\n",
            "검증 중: 100%|██████████| 15/15 [00:00<00:00, 59.17it/s]\n"
          ]
        },
        {
          "output_type": "stream",
          "name": "stdout",
          "text": [
            "체크포인트 저장: best_model.pt\n",
            "Epoch: 09 | Train Loss: 0.4317 | Val Loss: 0.4028\n"
          ]
        },
        {
          "output_type": "stream",
          "name": "stderr",
          "text": [
            "학습 중: 100%|██████████| 62/62 [00:02<00:00, 23.10it/s]\n",
            "검증 중: 100%|██████████| 15/15 [00:00<00:00, 58.52it/s]\n"
          ]
        },
        {
          "output_type": "stream",
          "name": "stdout",
          "text": [
            "체크포인트 저장: best_model.pt\n",
            "Epoch: 10 | Train Loss: 0.4195 | Val Loss: 0.3860\n"
          ]
        },
        {
          "output_type": "stream",
          "name": "stderr",
          "text": [
            "학습 중: 100%|██████████| 62/62 [00:02<00:00, 24.06it/s]\n",
            "검증 중: 100%|██████████| 15/15 [00:00<00:00, 58.06it/s]\n"
          ]
        },
        {
          "output_type": "stream",
          "name": "stdout",
          "text": [
            "체크포인트 저장: best_model.pt\n",
            "Epoch: 11 | Train Loss: 0.4077 | Val Loss: 0.3785\n"
          ]
        },
        {
          "output_type": "stream",
          "name": "stderr",
          "text": [
            "학습 중: 100%|██████████| 62/62 [00:02<00:00, 24.02it/s]\n",
            "검증 중: 100%|██████████| 15/15 [00:00<00:00, 58.08it/s]\n"
          ]
        },
        {
          "output_type": "stream",
          "name": "stdout",
          "text": [
            "체크포인트 저장: best_model.pt\n",
            "Epoch: 12 | Train Loss: 0.3989 | Val Loss: 0.3719\n"
          ]
        },
        {
          "output_type": "stream",
          "name": "stderr",
          "text": [
            "학습 중: 100%|██████████| 62/62 [00:02<00:00, 24.10it/s]\n",
            "검증 중: 100%|██████████| 15/15 [00:00<00:00, 57.62it/s]\n"
          ]
        },
        {
          "output_type": "stream",
          "name": "stdout",
          "text": [
            "체크포인트 저장: best_model.pt\n",
            "Epoch: 13 | Train Loss: 0.3907 | Val Loss: 0.3658\n"
          ]
        },
        {
          "output_type": "stream",
          "name": "stderr",
          "text": [
            "학습 중: 100%|██████████| 62/62 [00:02<00:00, 22.94it/s]\n",
            "검증 중: 100%|██████████| 15/15 [00:00<00:00, 56.68it/s]\n"
          ]
        },
        {
          "output_type": "stream",
          "name": "stdout",
          "text": [
            "체크포인트 저장: best_model.pt\n",
            "Epoch: 14 | Train Loss: 0.3836 | Val Loss: 0.3609\n"
          ]
        },
        {
          "output_type": "stream",
          "name": "stderr",
          "text": [
            "학습 중: 100%|██████████| 62/62 [00:02<00:00, 24.00it/s]\n",
            "검증 중: 100%|██████████| 15/15 [00:00<00:00, 58.56it/s]\n"
          ]
        },
        {
          "output_type": "stream",
          "name": "stdout",
          "text": [
            "Epoch: 15 | Train Loss: 0.3778 | Val Loss: 0.3640\n"
          ]
        },
        {
          "output_type": "stream",
          "name": "stderr",
          "text": [
            "학습 중: 100%|██████████| 62/62 [00:02<00:00, 23.68it/s]\n",
            "검증 중: 100%|██████████| 15/15 [00:00<00:00, 57.48it/s]\n"
          ]
        },
        {
          "output_type": "stream",
          "name": "stdout",
          "text": [
            "체크포인트 저장: best_model.pt\n",
            "Epoch: 16 | Train Loss: 0.3731 | Val Loss: 0.3535\n"
          ]
        },
        {
          "output_type": "stream",
          "name": "stderr",
          "text": [
            "학습 중: 100%|██████████| 62/62 [00:02<00:00, 23.72it/s]\n",
            "검증 중: 100%|██████████| 15/15 [00:00<00:00, 54.10it/s]\n"
          ]
        },
        {
          "output_type": "stream",
          "name": "stdout",
          "text": [
            "체크포인트 저장: best_model.pt\n",
            "Epoch: 17 | Train Loss: 0.3665 | Val Loss: 0.3482\n"
          ]
        },
        {
          "output_type": "stream",
          "name": "stderr",
          "text": [
            "학습 중: 100%|██████████| 62/62 [00:02<00:00, 22.92it/s]\n",
            "검증 중: 100%|██████████| 15/15 [00:00<00:00, 47.83it/s]\n"
          ]
        },
        {
          "output_type": "stream",
          "name": "stdout",
          "text": [
            "체크포인트 저장: best_model.pt\n",
            "Epoch: 18 | Train Loss: 0.3626 | Val Loss: 0.3453\n"
          ]
        },
        {
          "output_type": "stream",
          "name": "stderr",
          "text": [
            "학습 중: 100%|██████████| 62/62 [00:02<00:00, 23.45it/s]\n",
            "검증 중: 100%|██████████| 15/15 [00:00<00:00, 57.69it/s]\n"
          ]
        },
        {
          "output_type": "stream",
          "name": "stdout",
          "text": [
            "체크포인트 저장: best_model.pt\n",
            "Epoch: 19 | Train Loss: 0.3569 | Val Loss: 0.3421\n"
          ]
        },
        {
          "output_type": "stream",
          "name": "stderr",
          "text": [
            "학습 중: 100%|██████████| 62/62 [00:02<00:00, 23.56it/s]\n",
            "검증 중: 100%|██████████| 15/15 [00:00<00:00, 58.27it/s]"
          ]
        },
        {
          "output_type": "stream",
          "name": "stdout",
          "text": [
            "체크포인트 저장: best_model.pt\n",
            "Epoch: 20 | Train Loss: 0.3537 | Val Loss: 0.3382\n"
          ]
        },
        {
          "output_type": "stream",
          "name": "stderr",
          "text": [
            "\n"
          ]
        }
      ]
    },
    {
      "cell_type": "code",
      "source": [
        "# 학습 결과 시각화\n",
        "plt.figure(figsize=(10, 6))\n",
        "plt.plot(train_losses, label='Train Loss')\n",
        "plt.plot(val_losses, label='Validation Loss')\n",
        "plt.xlabel('Epoch')\n",
        "plt.ylabel('Loss')\n",
        "plt.title('Training and Validation Loss')\n",
        "plt.legend()\n",
        "plt.grid(True)\n",
        "plt.show()"
      ],
      "metadata": {
        "colab": {
          "base_uri": "https://localhost:8080/",
          "height": 569
        },
        "id": "6ozgCeJQC-wd",
        "outputId": "afd416a8-a619-47ae-c710-a40885ecadd0"
      },
      "execution_count": null,
      "outputs": [
        {
          "output_type": "display_data",
          "data": {
            "text/plain": [
              "<Figure size 1000x600 with 1 Axes>"
            ],
            "image/png": "[encoded data removed]"
          },
          "metadata": {}
        }
      ]
    },
    {
      "cell_type": "markdown",
      "source": [
        "## 2.5. 분자 생성 예제"
      ],
      "metadata": {
        "id": "kqHmX_FMEk9k"
      }
    },
    {
      "cell_type": "code",
      "source": [
        "# 최적 모델 로드\n",
        "def load_checkpoint(model, filename):\n",
        "    if os.path.isfile(filename):\n",
        "        checkpoint = torch.load(filename)\n",
        "        model.load_state_dict(checkpoint['model_state_dict'])\n",
        "        print(f\"모델 로드: {filename}, Epoch: {checkpoint['epoch']}, Loss: {checkpoint['loss']:.4f}\")\n",
        "    else:\n",
        "        print(f\"체크포인트 파일을 찾을 수 없습니다: {filename}\")\n",
        "    return model\n",
        "\n",
        "model = load_checkpoint(model, 'best_model.pt')\n",
        "model.eval()"
      ],
      "metadata": {
        "colab": {
          "base_uri": "https://localhost:8080/"
        },
        "id": "AAYwKk4hDeWQ",
        "outputId": "c019c7f9-6a7e-4194-9eef-6f09b12a015f"
      },
      "execution_count": null,
      "outputs": [
        {
          "output_type": "stream",
          "name": "stdout",
          "text": [
            "모델 로드: best_model.pt, Epoch: 19, Loss: 0.3382\n"
          ]
        },
        {
          "output_type": "execute_result",
          "data": {
            "text/plain": [
              "SMILESGenerator(\n",
              "  (embedding): Embedding(37, 64)\n",
              "  (lstm): LSTM(64, 256, num_layers=3, batch_first=True, dropout=0.3)\n",
              "  (dropout): Dropout(p=0.3, inplace=False)\n",
              "  (fc): Linear(in_features=256, out_features=37, bias=True)\n",
              ")"
            ]
          },
          "metadata": {},
          "execution_count": 17
        }
      ]
    },
    {
      "cell_type": "code",
      "source": [
        "# 분자 생성 함수\n",
        "def generate_smiles(model, char_to_idx, idx_to_char, start_char='<', max_length=100, temperature=1.0):\n",
        "    \"\"\"훈련된 모델을 사용하여 SMILES 문자열 생성\"\"\"\n",
        "    model.eval()\n",
        "\n",
        "    # 초기 시퀀스 시작 (시작 토큰)\n",
        "    generated = start_char\n",
        "    input_idx = char_to_idx[start_char]\n",
        "\n",
        "    # 은닉 상태 초기화\n",
        "    hidden = model.init_hidden(1)\n",
        "\n",
        "    # 다음 문자 예측 및 생성\n",
        "    with torch.no_grad():\n",
        "        for _ in range(max_length):\n",
        "            # 입력 텐서 준비\n",
        "            input_tensor = torch.tensor([[input_idx]], dtype=torch.long).to(device)\n",
        "\n",
        "            # 다음 문자 예측\n",
        "            output, hidden = model(input_tensor, hidden)\n",
        "\n",
        "            # 출력에서 다음 문자 확률 가져오기\n",
        "            output_probs = output[0, -1].cpu().numpy()\n",
        "\n",
        "            # 온도 매개변수를 사용하여 다양성 조정\n",
        "            try:\n",
        "                # 수치 안정성을 위해 더 작은 값 추가\n",
        "                output_probs = np.log(output_probs + 1e-10) / temperature\n",
        "                exp_preds = np.exp(output_probs)\n",
        "                output_probs = exp_preds / np.sum(exp_preds)\n",
        "\n",
        "                # NaN 값 확인 및 처리\n",
        "                if np.isnan(output_probs).any() or np.sum(output_probs) == 0:\n",
        "                    # 극단적인 값이 있을 경우 소프트맥스 대신 argmax 사용\n",
        "                    next_idx = np.argmax(output[0, -1].cpu().numpy())\n",
        "                else:\n",
        "                    # 다음 문자 샘플링\n",
        "                    next_idx = np.random.choice(len(output_probs), p=output_probs)\n",
        "            except:\n",
        "                # 오류 발생 시 가장 확률이 높은 문자 선택\n",
        "                next_idx = np.argmax(output[0, -1].cpu().numpy())\n",
        "\n",
        "            next_char = idx_to_char[next_idx]\n",
        "\n",
        "            # 생성된 문자열에 추가\n",
        "            generated += next_char\n",
        "            input_idx = next_idx\n",
        "\n",
        "            # 종료 토큰이 나오면 생성 종료\n",
        "            if next_char == '>':\n",
        "                break\n",
        "\n",
        "    # 시작 및 종료 토큰 제거\n",
        "    return generated.strip('<>')\n",
        "\n",
        "# 여러 분자 생성\n",
        "def generate_multiple_smiles(model, char_to_idx, idx_to_char, n=10, temperature=1.0):\n",
        "    \"\"\"여러 SMILES 문자열 생성\"\"\"\n",
        "    generated_smiles = []\n",
        "\n",
        "    for _ in range(n):\n",
        "        smile = generate_smiles(model, char_to_idx, idx_to_char, temperature=temperature)\n",
        "        generated_smiles.append(smile)\n",
        "\n",
        "    return generated_smiles\n",
        "\n",
        "# 생성된 분자 유효성 확인\n",
        "def check_validity(smiles_list):\n",
        "    \"\"\"생성된 SMILES의 유효성 확인\"\"\"\n",
        "    valid_mols = []\n",
        "    for smile in smiles_list:\n",
        "        mol = Chem.MolFromSmiles(smile)\n",
        "        if mol is not None:\n",
        "            valid_mols.append((smile, mol))\n",
        "\n",
        "    validity_ratio = len(valid_mols) / len(smiles_list) if smiles_list else 0\n",
        "    return valid_mols, validity_ratio\n",
        "\n",
        "# 분자 특성 계산\n",
        "def calculate_properties(mols):\n",
        "    \"\"\"분자의 다양한 특성 계산\"\"\"\n",
        "    properties = []\n",
        "\n",
        "    for smile, mol in mols:\n",
        "        # 기본 특성 계산\n",
        "        mw = Descriptors.MolWt(mol)\n",
        "        logp = Descriptors.MolLogP(mol)\n",
        "        tpsa = Descriptors.TPSA(mol)\n",
        "        h_donors = Lipinski.NumHDonors(mol)\n",
        "        h_acceptors = Lipinski.NumHAcceptors(mol)\n",
        "        rotatable_bonds = Descriptors.NumRotatableBonds(mol)\n",
        "\n",
        "        # Lipinski 규칙 검사\n",
        "        lipinski_violations = 0\n",
        "        if mw > 500: lipinski_violations += 1\n",
        "        if logp > 5: lipinski_violations += 1\n",
        "        if h_donors > 5: lipinski_violations += 1\n",
        "        if h_acceptors > 10: lipinski_violations += 1\n",
        "\n",
        "        properties.append({\n",
        "            'SMILES': smile,\n",
        "            'MolWt': mw,\n",
        "            'LogP': logp,\n",
        "            'TPSA': tpsa,\n",
        "            'HBD': h_donors,\n",
        "            'HBA': h_acceptors,\n",
        "            'RotBonds': rotatable_bonds,\n",
        "            'Lipinski_Violations': lipinski_violations\n",
        "        })\n",
        "\n",
        "    return pd.DataFrame(properties)\n",
        "\n",
        "# 분자 생성 및 분석\n",
        "num_molecules = 100\n",
        "temperature_values = [0.5, 0.7, 1.0, 1.2]\n",
        "\n",
        "results = {}\n",
        "\n",
        "for temp in temperature_values:\n",
        "    print(f\"\\n온도 매개변수: {temp}\")\n",
        "\n",
        "    # 분자 생성\n",
        "    generated_smiles = generate_multiple_smiles(model, char_to_idx, idx_to_char, n=num_molecules, temperature=temp)\n",
        "\n",
        "    # 유효성 검사\n",
        "    valid_mols, validity_ratio = check_validity(generated_smiles)\n",
        "    print(f\"생성된 분자 수: {len(generated_smiles)}\")\n",
        "    print(f\"유효한 분자 수: {len(valid_mols)}\")\n",
        "    print(f\"유효성 비율: {validity_ratio:.2%}\")\n",
        "\n",
        "    # 특성 계산\n",
        "    if valid_mols:\n",
        "        props_df = calculate_properties(valid_mols)\n",
        "        results[temp] = {\n",
        "            'smiles': generated_smiles,\n",
        "            'valid_mols': valid_mols,\n",
        "            'validity_ratio': validity_ratio,\n",
        "            'properties': props_df\n",
        "        }\n",
        "\n",
        "        # 특성 요약\n",
        "        print(\"\\n분자 특성 요약:\")\n",
        "        print(props_df.describe())\n",
        "\n",
        "        # 일부 분자 시각화\n",
        "        if len(valid_mols) >= 5:\n",
        "            mols_to_draw = [mol for _, mol in valid_mols[:5]]\n",
        "            img = Draw.MolsToGridImage(mols_to_draw, molsPerRow=5, subImgSize=(200, 200), legends=[f\"{i+1}\" for i in range(5)])\n",
        "            display(img)"
      ],
      "metadata": {
        "colab": {
          "base_uri": "https://localhost:8080/",
          "height": 1000
        },
        "id": "xEHeLNriDggg",
        "outputId": "d381cff7-70a1-4ddc-b9f3-dddd56f741d0"
      },
      "execution_count": null,
      "outputs": [
        {
          "output_type": "stream",
          "name": "stdout",
          "text": [
            "\n",
            "온도 매개변수: 0.5\n"
          ]
        },
        {
          "output_type": "stream",
          "name": "stderr",
          "text": [
            "<ipython-input-21-a8e6c32a9fdb>:28: RuntimeWarning: invalid value encountered in log\n",
            "  output_probs = np.log(output_probs + 1e-10) / temperature\n"
          ]
        },
        {
          "output_type": "stream",
          "name": "stdout",
          "text": [
            "생성된 분자 수: 100\n",
            "유효한 분자 수: 100\n",
            "유효성 비율: 100.00%\n",
            "\n",
            "분자 특성 요약:\n",
            "              MolWt          LogP          TPSA    HBD    HBA  RotBonds  \\\n",
            "count  1.000000e+02  1.000000e+02  1.000000e+02  100.0  100.0     100.0   \n",
            "mean   3.234810e+02  2.855100e+00  5.265000e+01    1.0    2.0       4.0   \n",
            "std    3.427787e-13  2.677959e-15  4.284734e-14    0.0    0.0       0.0   \n",
            "min    3.234810e+02  2.855100e+00  5.265000e+01    1.0    2.0       4.0   \n",
            "25%    3.234810e+02  2.855100e+00  5.265000e+01    1.0    2.0       4.0   \n",
            "50%    3.234810e+02  2.855100e+00  5.265000e+01    1.0    2.0       4.0   \n",
            "75%    3.234810e+02  2.855100e+00  5.265000e+01    1.0    2.0       4.0   \n",
            "max    3.234810e+02  2.855100e+00  5.265000e+01    1.0    2.0       4.0   \n",
            "\n",
            "       Lipinski_Violations  \n",
            "count                100.0  \n",
            "mean                   0.0  \n",
            "std                    0.0  \n",
            "min                    0.0  \n",
            "25%                    0.0  \n",
            "50%                    0.0  \n",
            "75%                    0.0  \n",
            "max                    0.0  \n"
          ]
        },
        {
          "output_type": "display_data",
          "data": {
            "image/png": "[encoded data removed]",
            "text/plain": [
              "<IPython.core.display.Image object>"
            ]
          },
          "metadata": {}
        },
        {
          "output_type": "stream",
          "name": "stdout",
          "text": [
            "\n",
            "온도 매개변수: 0.7\n"
          ]
        },
        {
          "output_type": "stream",
          "name": "stderr",
          "text": [
            "<ipython-input-21-a8e6c32a9fdb>:28: RuntimeWarning: invalid value encountered in log\n",
            "  output_probs = np.log(output_probs + 1e-10) / temperature\n"
          ]
        },
        {
          "output_type": "stream",
          "name": "stdout",
          "text": [
            "생성된 분자 수: 100\n",
            "유효한 분자 수: 100\n",
            "유효성 비율: 100.00%\n",
            "\n",
            "분자 특성 요약:\n",
            "              MolWt          LogP          TPSA    HBD    HBA  RotBonds  \\\n",
            "count  1.000000e+02  1.000000e+02  1.000000e+02  100.0  100.0     100.0   \n",
            "mean   3.234810e+02  2.855100e+00  5.265000e+01    1.0    2.0       4.0   \n",
            "std    3.427787e-13  2.677959e-15  4.284734e-14    0.0    0.0       0.0   \n",
            "min    3.234810e+02  2.855100e+00  5.265000e+01    1.0    2.0       4.0   \n",
            "25%    3.234810e+02  2.855100e+00  5.265000e+01    1.0    2.0       4.0   \n",
            "50%    3.234810e+02  2.855100e+00  5.265000e+01    1.0    2.0       4.0   \n",
            "75%    3.234810e+02  2.855100e+00  5.265000e+01    1.0    2.0       4.0   \n",
            "max    3.234810e+02  2.855100e+00  5.265000e+01    1.0    2.0       4.0   \n",
            "\n",
            "       Lipinski_Violations  \n",
            "count                100.0  \n",
            "mean                   0.0  \n",
            "std                    0.0  \n",
            "min                    0.0  \n",
            "25%                    0.0  \n",
            "50%                    0.0  \n",
            "75%                    0.0  \n",
            "max                    0.0  \n"
          ]
        },
        {
          "output_type": "display_data",
          "data": {
            "image/png": "[encoded data removed]",
            "text/plain": [
              "<IPython.core.display.Image object>"
            ]
          },
          "metadata": {}
        },
        {
          "output_type": "stream",
          "name": "stdout",
          "text": [
            "\n",
            "온도 매개변수: 1.0\n"
          ]
        },
        {
          "output_type": "stream",
          "name": "stderr",
          "text": [
            "<ipython-input-21-a8e6c32a9fdb>:28: RuntimeWarning: invalid value encountered in log\n",
            "  output_probs = np.log(output_probs + 1e-10) / temperature\n"
          ]
        },
        {
          "output_type": "stream",
          "name": "stdout",
          "text": [
            "생성된 분자 수: 100\n",
            "유효한 분자 수: 100\n",
            "유효성 비율: 100.00%\n",
            "\n",
            "분자 특성 요약:\n",
            "              MolWt          LogP          TPSA    HBD    HBA  RotBonds  \\\n",
            "count  1.000000e+02  1.000000e+02  1.000000e+02  100.0  100.0     100.0   \n",
            "mean   3.234810e+02  2.855100e+00  5.265000e+01    1.0    2.0       4.0   \n",
            "std    3.427787e-13  2.677959e-15  4.284734e-14    0.0    0.0       0.0   \n",
            "min    3.234810e+02  2.855100e+00  5.265000e+01    1.0    2.0       4.0   \n",
            "25%    3.234810e+02  2.855100e+00  5.265000e+01    1.0    2.0       4.0   \n",
            "50%    3.234810e+02  2.855100e+00  5.265000e+01    1.0    2.0       4.0   \n",
            "75%    3.234810e+02  2.855100e+00  5.265000e+01    1.0    2.0       4.0   \n",
            "max    3.234810e+02  2.855100e+00  5.265000e+01    1.0    2.0       4.0   \n",
            "\n",
            "       Lipinski_Violations  \n",
            "count                100.0  \n",
            "mean                   0.0  \n",
            "std                    0.0  \n",
            "min                    0.0  \n",
            "25%                    0.0  \n",
            "50%                    0.0  \n",
            "75%                    0.0  \n",
            "max                    0.0  \n"
          ]
        },
        {
          "output_type": "display_data",
          "data": {
            "image/png": "[encoded data removed]",
            "text/plain": [
              "<IPython.core.display.Image object>"
            ]
          },
          "metadata": {}
        },
        {
          "output_type": "stream",
          "name": "stdout",
          "text": [
            "\n",
            "온도 매개변수: 1.2\n"
          ]
        },
        {
          "output_type": "stream",
          "name": "stderr",
          "text": [
            "<ipython-input-21-a8e6c32a9fdb>:28: RuntimeWarning: invalid value encountered in log\n",
            "  output_probs = np.log(output_probs + 1e-10) / temperature\n"
          ]
        },
        {
          "output_type": "stream",
          "name": "stdout",
          "text": [
            "생성된 분자 수: 100\n",
            "유효한 분자 수: 100\n",
            "유효성 비율: 100.00%\n",
            "\n",
            "분자 특성 요약:\n",
            "              MolWt          LogP          TPSA    HBD    HBA  RotBonds  \\\n",
            "count  1.000000e+02  1.000000e+02  1.000000e+02  100.0  100.0     100.0   \n",
            "mean   3.234810e+02  2.855100e+00  5.265000e+01    1.0    2.0       4.0   \n",
            "std    3.427787e-13  2.677959e-15  4.284734e-14    0.0    0.0       0.0   \n",
            "min    3.234810e+02  2.855100e+00  5.265000e+01    1.0    2.0       4.0   \n",
            "25%    3.234810e+02  2.855100e+00  5.265000e+01    1.0    2.0       4.0   \n",
            "50%    3.234810e+02  2.855100e+00  5.265000e+01    1.0    2.0       4.0   \n",
            "75%    3.234810e+02  2.855100e+00  5.265000e+01    1.0    2.0       4.0   \n",
            "max    3.234810e+02  2.855100e+00  5.265000e+01    1.0    2.0       4.0   \n",
            "\n",
            "       Lipinski_Violations  \n",
            "count                100.0  \n",
            "mean                   0.0  \n",
            "std                    0.0  \n",
            "min                    0.0  \n",
            "25%                    0.0  \n",
            "50%                    0.0  \n",
            "75%                    0.0  \n",
            "max                    0.0  \n"
          ]
        },
        {
          "output_type": "display_data",
          "data": {
            "image/png": "[encoded data removed]",
            "text/plain": [
              "<IPython.core.display.Image object>"
            ]
          },
          "metadata": {}
        }
      ]
    },
    {
      "cell_type": "code",
      "source": [],
      "metadata": {
        "id": "y9AuRO2XDl0D"
      },
      "execution_count": null,
      "outputs": []
    }
  ]
}