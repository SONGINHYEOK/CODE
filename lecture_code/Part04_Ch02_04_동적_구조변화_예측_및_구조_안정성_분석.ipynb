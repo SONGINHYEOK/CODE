{
  "nbformat": 4,
  "nbformat_minor": 0,
  "metadata": {
    "colab": {
      "provenance": [],
      "gpuType": "T4"
    },
    "kernelspec": {
      "name": "python3",
      "display_name": "Python 3"
    },
    "language_info": {
      "name": "python"
    },
    "accelerator": "GPU",
    "widgets": {
      "application/vnd.jupyter.widget-state+json": {
        "c9c3ea44c209464a978e7eaf57ea8540": {
          "model_module": "@jupyter-widgets/output",
          "model_name": "OutputModel",
          "model_module_version": "1.0.0",
          "state": {
            "_dom_classes": [],
            "_model_module": "@jupyter-widgets/output",
            "_model_module_version": "1.0.0",
            "_model_name": "OutputModel",
            "_view_count": null,
            "_view_module": "@jupyter-widgets/output",
            "_view_module_version": "1.0.0",
            "_view_name": "OutputView",
            "layout": "IPY_MODEL_b1564e43c7e64f00b34b52948b8ede67",
            "msg_id": "",
            "outputs": [
              {
                "output_type": "display_data",
                "data": {
                  "text/plain": "Downloading \u001b[3;36m…fields/orb-d3-v2-20241011.ckpt\u001b[0m \u001b[38;2;249;38;114m━━━━━━━━━━━━━━━━━━━━━━━━━━━━━━━━━━━━━━━\u001b[0m\u001b[38;2;249;38;114m╸\u001b[0m \u001b[35m100%\u001b[0m \u001b[33m0:00:09\u001b[0m \u001b[32m100.9/101.0 MB\u001b[0m\n",
                  "text/html": "<pre style=\"white-space:pre;overflow-x:auto;line-height:normal;font-family:Menlo,'DejaVu Sans Mono',consolas,'Courier New',monospace\">Downloading <span style=\"color: #008080; text-decoration-color: #008080; font-style: italic\">…fields/orb-d3-v2-20241011.ckpt</span> <span style=\"color: #f92672; text-decoration-color: #f92672\">━━━━━━━━━━━━━━━━━━━━━━━━━━━━━━━━━━━━━━━╸</span> <span style=\"color: #800080; text-decoration-color: #800080\">100%</span> <span style=\"color: #808000; text-decoration-color: #808000\">0:00:09</span> <span style=\"color: #008000; text-decoration-color: #008000\">100.9/101.0 MB</span>\n</pre>\n"
                },
                "metadata": {}
              }
            ]
          }
        },
        "b1564e43c7e64f00b34b52948b8ede67": {
          "model_module": "@jupyter-widgets/base",
          "model_name": "LayoutModel",
          "model_module_version": "1.2.0",
          "state": {
            "_model_module": "@jupyter-widgets/base",
            "_model_module_version": "1.2.0",
            "_model_name": "LayoutModel",
            "_view_count": null,
            "_view_module": "@jupyter-widgets/base",
            "_view_module_version": "1.2.0",
            "_view_name": "LayoutView",
            "align_content": null,
            "align_items": null,
            "align_self": null,
            "border": null,
            "bottom": null,
            "display": null,
            "flex": null,
            "flex_flow": null,
            "grid_area": null,
            "grid_auto_columns": null,
            "grid_auto_flow": null,
            "grid_auto_rows": null,
            "grid_column": null,
            "grid_gap": null,
            "grid_row": null,
            "grid_template_areas": null,
            "grid_template_columns": null,
            "grid_template_rows": null,
            "height": null,
            "justify_content": null,
            "justify_items": null,
            "left": null,
            "margin": null,
            "max_height": null,
            "max_width": null,
            "min_height": null,
            "min_width": null,
            "object_fit": null,
            "object_position": null,
            "order": null,
            "overflow": null,
            "overflow_x": null,
            "overflow_y": null,
            "padding": null,
            "right": null,
            "top": null,
            "visibility": null,
            "width": null
          }
        },
        "ad9518f4b4714f00b0e9ca0b56c21cdd": {
          "model_module": "@jupyter-widgets/controls",
          "model_name": "HBoxModel",
          "model_module_version": "1.5.0",
          "state": {
            "_dom_classes": [],
            "_model_module": "@jupyter-widgets/controls",
            "_model_module_version": "1.5.0",
            "_model_name": "HBoxModel",
            "_view_count": null,
            "_view_module": "@jupyter-widgets/controls",
            "_view_module_version": "1.5.0",
            "_view_name": "HBoxView",
            "box_style": "",
            "children": [
              "IPY_MODEL_2db96edcaaa745f78e40308c5620ea0c",
              "IPY_MODEL_7365c112eda041b6ba2b5f20e314dcd3",
              "IPY_MODEL_535b83603ecc4d35a8883dd96c532ed5"
            ],
            "layout": "IPY_MODEL_93bd52b35b2746c4b25a93a796e047b9"
          }
        },
        "2db96edcaaa745f78e40308c5620ea0c": {
          "model_module": "@jupyter-widgets/controls",
          "model_name": "HTMLModel",
          "model_module_version": "1.5.0",
          "state": {
            "_dom_classes": [],
            "_model_module": "@jupyter-widgets/controls",
            "_model_module_version": "1.5.0",
            "_model_name": "HTMLModel",
            "_view_count": null,
            "_view_module": "@jupyter-widgets/controls",
            "_view_module_version": "1.5.0",
            "_view_name": "HTMLView",
            "description": "",
            "description_tooltip": null,
            "layout": "IPY_MODEL_da8eb683e414438191735395419136b0",
            "placeholder": "​",
            "style": "IPY_MODEL_9e34c88d6e4c4b7bab9e0cec9c3f47bd",
            "value": ""
          }
        },
        "7365c112eda041b6ba2b5f20e314dcd3": {
          "model_module": "@jupyter-widgets/controls",
          "model_name": "FloatProgressModel",
          "model_module_version": "1.5.0",
          "state": {
            "_dom_classes": [],
            "_model_module": "@jupyter-widgets/controls",
            "_model_module_version": "1.5.0",
            "_model_name": "FloatProgressModel",
            "_view_count": null,
            "_view_module": "@jupyter-widgets/controls",
            "_view_module_version": "1.5.0",
            "_view_name": "ProgressView",
            "bar_style": "",
            "description": "",
            "description_tooltip": null,
            "layout": "IPY_MODEL_6bccef2c28574052abe1b964ea2eae52",
            "max": 200,
            "min": 0,
            "orientation": "horizontal",
            "style": "IPY_MODEL_4de76e5da8f64dfe99495129a0161c41",
            "value": 200
          }
        },
        "535b83603ecc4d35a8883dd96c532ed5": {
          "model_module": "@jupyter-widgets/controls",
          "model_name": "HTMLModel",
          "model_module_version": "1.5.0",
          "state": {
            "_dom_classes": [],
            "_model_module": "@jupyter-widgets/controls",
            "_model_module_version": "1.5.0",
            "_model_name": "HTMLModel",
            "_view_count": null,
            "_view_module": "@jupyter-widgets/controls",
            "_view_module_version": "1.5.0",
            "_view_name": "HTMLView",
            "description": "",
            "description_tooltip": null,
            "layout": "IPY_MODEL_fece4f5f1dd84ee5a42ed27439cecbe4",
            "placeholder": "​",
            "style": "IPY_MODEL_df463056077f416d812f183d6c5cbe43",
            "value": " 201/? [12:10&lt;00:00,  3.64s/it]"
          }
        },
        "93bd52b35b2746c4b25a93a796e047b9": {
          "model_module": "@jupyter-widgets/base",
          "model_name": "LayoutModel",
          "model_module_version": "1.2.0",
          "state": {
            "_model_module": "@jupyter-widgets/base",
            "_model_module_version": "1.2.0",
            "_model_name": "LayoutModel",
            "_view_count": null,
            "_view_module": "@jupyter-widgets/base",
            "_view_module_version": "1.2.0",
            "_view_name": "LayoutView",
            "align_content": null,
            "align_items": null,
            "align_self": null,
            "border": null,
            "bottom": null,
            "display": null,
            "flex": null,
            "flex_flow": null,
            "grid_area": null,
            "grid_auto_columns": null,
            "grid_auto_flow": null,
            "grid_auto_rows": null,
            "grid_column": null,
            "grid_gap": null,
            "grid_row": null,
            "grid_template_areas": null,
            "grid_template_columns": null,
            "grid_template_rows": null,
            "height": null,
            "justify_content": null,
            "justify_items": null,
            "left": null,
            "margin": null,
            "max_height": null,
            "max_width": null,
            "min_height": null,
            "min_width": null,
            "object_fit": null,
            "object_position": null,
            "order": null,
            "overflow": null,
            "overflow_x": null,
            "overflow_y": null,
            "padding": null,
            "right": null,
            "top": null,
            "visibility": null,
            "width": null
          }
        },
        "da8eb683e414438191735395419136b0": {
          "model_module": "@jupyter-widgets/base",
          "model_name": "LayoutModel",
          "model_module_version": "1.2.0",
          "state": {
            "_model_module": "@jupyter-widgets/base",
            "_model_module_version": "1.2.0",
            "_model_name": "LayoutModel",
            "_view_count": null,
            "_view_module": "@jupyter-widgets/base",
            "_view_module_version": "1.2.0",
            "_view_name": "LayoutView",
            "align_content": null,
            "align_items": null,
            "align_self": null,
            "border": null,
            "bottom": null,
            "display": null,
            "flex": null,
            "flex_flow": null,
            "grid_area": null,
            "grid_auto_columns": null,
            "grid_auto_flow": null,
            "grid_auto_rows": null,
            "grid_column": null,
            "grid_gap": null,
            "grid_row": null,
            "grid_template_areas": null,
            "grid_template_columns": null,
            "grid_template_rows": null,
            "height": null,
            "justify_content": null,
            "justify_items": null,
            "left": null,
            "margin": null,
            "max_height": null,
            "max_width": null,
            "min_height": null,
            "min_width": null,
            "object_fit": null,
            "object_position": null,
            "order": null,
            "overflow": null,
            "overflow_x": null,
            "overflow_y": null,
            "padding": null,
            "right": null,
            "top": null,
            "visibility": null,
            "width": null
          }
        },
        "9e34c88d6e4c4b7bab9e0cec9c3f47bd": {
          "model_module": "@jupyter-widgets/controls",
          "model_name": "DescriptionStyleModel",
          "model_module_version": "1.5.0",
          "state": {
            "_model_module": "@jupyter-widgets/controls",
            "_model_module_version": "1.5.0",
            "_model_name": "DescriptionStyleModel",
            "_view_count": null,
            "_view_module": "@jupyter-widgets/base",
            "_view_module_version": "1.2.0",
            "_view_name": "StyleView",
            "description_width": ""
          }
        },
        "6bccef2c28574052abe1b964ea2eae52": {
          "model_module": "@jupyter-widgets/base",
          "model_name": "LayoutModel",
          "model_module_version": "1.2.0",
          "state": {
            "_model_module": "@jupyter-widgets/base",
            "_model_module_version": "1.2.0",
            "_model_name": "LayoutModel",
            "_view_count": null,
            "_view_module": "@jupyter-widgets/base",
            "_view_module_version": "1.2.0",
            "_view_name": "LayoutView",
            "align_content": null,
            "align_items": null,
            "align_self": null,
            "border": null,
            "bottom": null,
            "display": null,
            "flex": null,
            "flex_flow": null,
            "grid_area": null,
            "grid_auto_columns": null,
            "grid_auto_flow": null,
            "grid_auto_rows": null,
            "grid_column": null,
            "grid_gap": null,
            "grid_row": null,
            "grid_template_areas": null,
            "grid_template_columns": null,
            "grid_template_rows": null,
            "height": null,
            "justify_content": null,
            "justify_items": null,
            "left": null,
            "margin": null,
            "max_height": null,
            "max_width": null,
            "min_height": null,
            "min_width": null,
            "object_fit": null,
            "object_position": null,
            "order": null,
            "overflow": null,
            "overflow_x": null,
            "overflow_y": null,
            "padding": null,
            "right": null,
            "top": null,
            "visibility": null,
            "width": null
          }
        },
        "4de76e5da8f64dfe99495129a0161c41": {
          "model_module": "@jupyter-widgets/controls",
          "model_name": "ProgressStyleModel",
          "model_module_version": "1.5.0",
          "state": {
            "_model_module": "@jupyter-widgets/controls",
            "_model_module_version": "1.5.0",
            "_model_name": "ProgressStyleModel",
            "_view_count": null,
            "_view_module": "@jupyter-widgets/base",
            "_view_module_version": "1.2.0",
            "_view_name": "StyleView",
            "bar_color": null,
            "description_width": ""
          }
        },
        "fece4f5f1dd84ee5a42ed27439cecbe4": {
          "model_module": "@jupyter-widgets/base",
          "model_name": "LayoutModel",
          "model_module_version": "1.2.0",
          "state": {
            "_model_module": "@jupyter-widgets/base",
            "_model_module_version": "1.2.0",
            "_model_name": "LayoutModel",
            "_view_count": null,
            "_view_module": "@jupyter-widgets/base",
            "_view_module_version": "1.2.0",
            "_view_name": "LayoutView",
            "align_content": null,
            "align_items": null,
            "align_self": null,
            "border": null,
            "bottom": null,
            "display": null,
            "flex": null,
            "flex_flow": null,
            "grid_area": null,
            "grid_auto_columns": null,
            "grid_auto_flow": null,
            "grid_auto_rows": null,
            "grid_column": null,
            "grid_gap": null,
            "grid_row": null,
            "grid_template_areas": null,
            "grid_template_columns": null,
            "grid_template_rows": null,
            "height": null,
            "justify_content": null,
            "justify_items": null,
            "left": null,
            "margin": null,
            "max_height": null,
            "max_width": null,
            "min_height": null,
            "min_width": null,
            "object_fit": null,
            "object_position": null,
            "order": null,
            "overflow": null,
            "overflow_x": null,
            "overflow_y": null,
            "padding": null,
            "right": null,
            "top": null,
            "visibility": null,
            "width": null
          }
        },
        "df463056077f416d812f183d6c5cbe43": {
          "model_module": "@jupyter-widgets/controls",
          "model_name": "DescriptionStyleModel",
          "model_module_version": "1.5.0",
          "state": {
            "_model_module": "@jupyter-widgets/controls",
            "_model_module_version": "1.5.0",
            "_model_name": "DescriptionStyleModel",
            "_view_count": null,
            "_view_module": "@jupyter-widgets/base",
            "_view_module_version": "1.2.0",
            "_view_name": "StyleView",
            "description_width": ""
          }
        }
      }
    }
  },
  "cells": [
    {
      "cell_type": "markdown",
      "source": [
        "# 학습 목표\n",
        "1. 분자 동역학 시뮬레이션의 기본 개념 이해\n",
        "2. ORB 모델을 이용한 단백질 시뮬레이션 설정 방법 학습\n",
        "3. 제약 조건을 가진 분자 동역학 시뮬레이션 구현\n",
        "4. 시뮬레이션 결과 분석 및 시각화\n",
        "5. RMSE를 이용한 구조적 안정성 분석"
      ],
      "metadata": {
        "id": "SXp__7ULDgs1"
      }
    },
    {
      "cell_type": "markdown",
      "source": [
        "# 1. 분자 동역학 시뮬레이션 개요\n",
        "## 1.1 분자 동역학 시뮬레이션이란?\n",
        "- 뉴턴의 운동 방정식을 수치적으로 풀어 분자 시스템의 시간에 따른 원자 위치와 속도를 계산하는 방법\n",
        "- 단백질, 핵산, 막 등 생체분자의 동적 거동 및 구조적 변화를 원자 수준에서 이해\n",
        "- 단백질 접힘, 효소 기작, 약물-표적 상호작용, 막 수송 등 다양한 생물학적 과정 연구\n",
        "\n",
        "## 1.2 분자 동역학 시뮬레이션의 구성 요소\n",
        "- Force Field: 원자 간 상호작용을 기술하는 포텐셜 에너지 함수\n",
        "- Integrator: 운동 방정식을 수치적으로 푸는 알고리즘 (Verlet, Leap-frog 등)\n",
        "- Ensemble: 시뮬레이션 조건 (NVE, NVT, NPT 등)\n",
        "- Boundary Conditions: 시뮬레이션 시스템의 경계 처리 방법\n",
        "\n",
        "## 1.3 ORB(Orbital-based Neural Network) 모델\n",
        "- 양자역학적 계산을 모방하여 개발된 딥러닝 기반 분자 시뮬레이션 모델\n",
        "- 전통적인 힘장에 비해 정확도가 높고, 양자역학적 계산보다 계산 효율성이 뛰어남\n",
        "- 화학 결합의 형성과 파괴를 포함한 복잡한 화학 반응 시뮬레이션 가능\n",
        "\n",
        "Code: https://github.com/timduignan/KcsA-SF_Orb-d3-v2\n",
        "\n",
        "Paper: https://arxiv.org/abs/2503.13789\n",
        "\n",
        "Github: https://github.com/timduignan/CAII-Orb-d3-v2"
      ],
      "metadata": {
        "id": "A_WR-n5YDoQu"
      }
    },
    {
      "cell_type": "markdown",
      "source": [
        "# 2. 라이브러리 설치 및 환경 설정"
      ],
      "metadata": {
        "id": "MJkZoqcxEBqJ"
      }
    },
    {
      "cell_type": "code",
      "source": [
        "# GitHub 저장소 클론 및 필요 파일 복사\n",
        "!git clone https://github.com/timduignan/CAII-Orb-d3-v2.git -qqq\n",
        "!cp /content/CAII-Orb-d3-v2/Simulation/* .\n",
        "!cp /content/3ks3-withHCO2.py withHCO2.py # allow `3ks3_withHCO2` import bla\n",
        "!cp /content/CAII-Orb-d3-v2/Data/*.pdb .\n",
        "print('cloned CAII-Orb-d3-v2')\n",
        "\n",
        "# ORB 모델 설치\n",
        "!pip install orb-models --no-deps -qqq # skip 10min installing pytorch, colab already has version which is fine.\n",
        "print('installed orb')\n",
        "\n",
        "# 필요한 의존성 패키지 설치\n",
        "!pip install ase cached_path dm-tree numpy scipy tqdm pynanoflann -qqq # install all deps except pytorch\n",
        "print('installed dependencies')\n",
        "\n",
        "# LogMD 패키지 설치 (시뮬레이션 시각화용)\n",
        "!pip install logmd==0.1.33 -qqq\n",
        "print('installed logmd')"
      ],
      "metadata": {
        "colab": {
          "base_uri": "https://localhost:8080/"
        },
        "id": "ZH_AhQyQDf6v",
        "outputId": "6957997e-6218-49eb-d875-f99796406ee0"
      },
      "execution_count": null,
      "outputs": [
        {
          "output_type": "stream",
          "name": "stdout",
          "text": [
            "cloned CAII-Orb-d3-v2\n",
            "\u001b[2K   \u001b[90m━━━━━━━━━━━━━━━━━━━━━━━━━━━━━━━━━━━━━━━━\u001b[0m \u001b[32m53.7/53.7 kB\u001b[0m \u001b[31m3.4 MB/s\u001b[0m eta \u001b[36m0:00:00\u001b[0m\n",
            "\u001b[?25hinstalled orb\n",
            "\u001b[2K   \u001b[90m━━━━━━━━━━━━━━━━━━━━━━━━━━━━━━━━━━━━━━━━\u001b[0m \u001b[32m2.9/2.9 MB\u001b[0m \u001b[31m80.4 MB/s\u001b[0m eta \u001b[36m0:00:00\u001b[0m\n",
            "\u001b[2K   \u001b[90m━━━━━━━━━━━━━━━━━━━━━━━━━━━━━━━━━━━━━━━━\u001b[0m \u001b[32m244.4/244.4 kB\u001b[0m \u001b[31m19.3 MB/s\u001b[0m eta \u001b[36m0:00:00\u001b[0m\n",
            "\u001b[2K   \u001b[90m━━━━━━━━━━━━━━━━━━━━━━━━━━━━━━━━━━━━━━━━\u001b[0m \u001b[32m139.6/139.6 kB\u001b[0m \u001b[31m12.5 MB/s\u001b[0m eta \u001b[36m0:00:00\u001b[0m\n",
            "\u001b[2K   \u001b[90m━━━━━━━━━━━━━━━━━━━━━━━━━━━━━━━━━━━━━━━━\u001b[0m \u001b[32m450.7/450.7 kB\u001b[0m \u001b[31m32.4 MB/s\u001b[0m eta \u001b[36m0:00:00\u001b[0m\n",
            "\u001b[2K   \u001b[90m━━━━━━━━━━━━━━━━━━━━━━━━━━━━━━━━━━━━━━━━\u001b[0m \u001b[32m13.4/13.4 MB\u001b[0m \u001b[31m103.2 MB/s\u001b[0m eta \u001b[36m0:00:00\u001b[0m\n",
            "\u001b[2K   \u001b[90m━━━━━━━━━━━━━━━━━━━━━━━━━━━━━━━━━━━━━━━━\u001b[0m \u001b[32m84.4/84.4 kB\u001b[0m \u001b[31m6.9 MB/s\u001b[0m eta \u001b[36m0:00:00\u001b[0m\n",
            "\u001b[?25hinstalled dependencies\n",
            "\u001b[2K   \u001b[90m━━━━━━━━━━━━━━━━━━━━━━━━━━━━━━━━━━━━━━━━\u001b[0m \u001b[32m12.3/12.3 MB\u001b[0m \u001b[31m89.0 MB/s\u001b[0m eta \u001b[36m0:00:00\u001b[0m\n",
            "\u001b[?25hinstalled logmd\n"
          ]
        }
      ]
    },
    {
      "cell_type": "code",
      "source": [
        "# 라이브러리 임포트 및 설정\n",
        "import torch\n",
        "import numpy as np\n",
        "from ase.io import read, write\n",
        "from ase.md.velocitydistribution import MaxwellBoltzmannDistribution\n",
        "from ase.md.langevin import Langevin\n",
        "from ase import units\n",
        "from orb_models.forcefield import atomic_system, pretrained\n",
        "from ase.calculators.calculator import Calculator, all_properties\n",
        "from ase.build import molecule, make_supercell\n",
        "from ase.md import MDLogger\n",
        "from orb_models.forcefield.calculator import ORBCalculator\n",
        "from ase.constraints import FixAtoms\n",
        "from tqdm.notebook import tqdm\n",
        "from withHCO2 import DistanceCapCalculator"
      ],
      "metadata": {
        "id": "fFLoJrVuDfp8"
      },
      "execution_count": null,
      "outputs": []
    },
    {
      "cell_type": "code",
      "source": [
        "# 시뮬레이션 매개 변수 설정\n",
        "\n",
        "# 시뮬레이션 기본 설정\n",
        "input_file: str = \"3ks3-withHCO2noGOL.xyz\"  # 입력 파일 (XYZ 형식)\n",
        "cell_size: float = 100                       # 시뮬레이션 박스 크기 (Å)\n",
        "temperature_K: float = 310                   # 온도 (켈빈)\n",
        "timestep: float = 0.25 * units.fs           # 시간 간격 (페토초)\n",
        "friction: float = 0.01 / units.fs           # 마찰 계수 (랑주뱅 동역학용)\n",
        "total_steps: int = 200                       # 총 시뮬레이션 스텝 수\n",
        "traj_interval: int = 20                      # 궤적 저장 간격\n",
        "log_interval: int = 1                        # 로그 기록 간격\n",
        "\n",
        "# 장치 설정 (GPU 사용)\n",
        "device = 'cuda'"
      ],
      "metadata": {
        "id": "rE4vtEdiDfP7"
      },
      "execution_count": null,
      "outputs": []
    },
    {
      "cell_type": "markdown",
      "source": [
        "# 3. 시스템 설정"
      ],
      "metadata": {
        "id": "ROBlwoFQEcXf"
      }
    },
    {
      "cell_type": "code",
      "source": [
        "# XYZ 파일에서 읽기\n",
        "atoms = read(input_file, index=-1)\n",
        "\n",
        "# 시뮬레이션 박스 크기 및 주기적 경계 조건 설정\n",
        "atoms.set_cell([cell_size, cell_size, cell_size])\n",
        "atoms.set_pbc([False] * 3)  # 주기적 경계 조건 비활성화\n",
        "\n",
        "# 고정할 원자 인덱스 읽기\n",
        "with open('frozenatoms.dat', 'r') as f:\n",
        "    frozen_indices = [int(x) for x in f.read().split()]\n",
        "\n",
        "# 지정된 원자를 고정하는 제약 조건 적용\n",
        "constraint = FixAtoms(indices=frozen_indices)\n",
        "atoms.set_constraint(constraint)"
      ],
      "metadata": {
        "id": "7LK_TTdFEdez"
      },
      "execution_count": null,
      "outputs": []
    },
    {
      "cell_type": "markdown",
      "source": [
        "# 4. 계산기(Calculator) 설정"
      ],
      "metadata": {
        "id": "aTJMwozxElH8"
      }
    },
    {
      "cell_type": "code",
      "source": [
        "# ORB 모델 기반 계산기 설정\n",
        "base_calc = ORBCalculator(\n",
        "    model=pretrained.orb_d3_v2(),  # 사전 학습된 ORB-D3-V2 모델 사용\n",
        "    device=device                  # GPU 사용\n",
        ")\n",
        "\n",
        "# 거리 제약 조건이 있는 계산기로 기본 계산기 감싸기\n",
        "constrained_calc = DistanceCapCalculator(\n",
        "    base_calculator=base_calc,\n",
        "    atom_i=4054,                  # 첫 번째 원자 인덱스\n",
        "    atom_j=5499,                  # 두 번째 원자 인덱스\n",
        "    r_max=5.0,                    # 최대 거리 (Å)\n",
        "    k=5.0,                        # 힘 상수\n",
        "    debug=True                    # 디버그 모드 활성화\n",
        ")\n",
        "\n",
        "# 원자 시스템에 계산기 설정\n",
        "atoms.calc = constrained_calc"
      ],
      "metadata": {
        "colab": {
          "base_uri": "https://localhost:8080/",
          "height": 51,
          "referenced_widgets": [
            "c9c3ea44c209464a978e7eaf57ea8540",
            "b1564e43c7e64f00b34b52948b8ede67"
          ]
        },
        "id": "xSojE32iEePq",
        "outputId": "fcb44e27-c337-40b3-844a-164c8ea19249"
      },
      "execution_count": null,
      "outputs": [
        {
          "output_type": "display_data",
          "data": {
            "text/plain": [
              "Output()"
            ],
            "application/vnd.jupyter.widget-view+json": {
              "version_major": 2,
              "version_minor": 0,
              "model_id": "c9c3ea44c209464a978e7eaf57ea8540"
            }
          },
          "metadata": {}
        },
        {
          "output_type": "display_data",
          "data": {
            "text/plain": [],
            "text/html": [
              "<pre style=\"white-space:pre;overflow-x:auto;line-height:normal;font-family:Menlo,'DejaVu Sans Mono',consolas,'Courier New',monospace\"></pre>\n"
            ]
          },
          "metadata": {}
        },
        {
          "output_type": "stream",
          "name": "stdout",
          "text": [
            "GPU tensorfloat matmuls precision set to 'high'. This can achieve up to 2x speedup on Nvidia A100 and H100 devices.\n"
          ]
        }
      ]
    },
    {
      "cell_type": "markdown",
      "source": [
        "# 5. 초기 속도 분포 설정"
      ],
      "metadata": {
        "id": "BpZw-Z2CEpz2"
      }
    },
    {
      "cell_type": "code",
      "source": [
        "# 맥스웰-볼츠만 분포에 따른 초기 속도 설정\n",
        "MaxwellBoltzmannDistribution(atoms, temperature_K=temperature_K)\n",
        "\n",
        "# 고정된 원자의 속도를 0으로 설정\n",
        "velocities = atoms.get_velocities()\n",
        "velocities[frozen_indices] = 0.0\n",
        "atoms.set_velocities(velocities)"
      ],
      "metadata": {
        "id": "XieD3WkTErD0"
      },
      "execution_count": null,
      "outputs": []
    },
    {
      "cell_type": "markdown",
      "source": [
        "# 6. 분자동역학 시뮬레이션 설정 및 실행\n",
        "탄산탈수효소(CAII)와 이산화탄소(CO2) 사이의 상호작용을 시뮬레이션"
      ],
      "metadata": {
        "id": "2flnZkYsEtVM"
      }
    },
    {
      "cell_type": "code",
      "source": [
        "# 랑주뱅 동역학 설정\n",
        "dyn = Langevin(atoms, timestep, temperature_K=temperature_K, friction=friction)\n",
        "\n",
        "# 진행 막대 설정\n",
        "pbar = tqdm(range(total_steps//log_interval))\n",
        "dyn.attach(lambda: pbar.update(1), interval=log_interval)\n",
        "\n",
        "# LogMD 시각화 설정\n",
        "from logmd import LogMD\n",
        "logmd = LogMD(pdb=\"3ks3-withHnoGOLwCO2.pdb\")\n",
        "dyn.attach(lambda: logmd(atoms, dyn), interval=log_interval)\n",
        "logmd.notebook()\n",
        "\n",
        "# 시뮬레이션 실행\n",
        "dyn.run(steps=total_steps)"
      ],
      "metadata": {
        "colab": {
          "base_uri": "https://localhost:8080/",
          "height": 709,
          "referenced_widgets": [
            "ad9518f4b4714f00b0e9ca0b56c21cdd",
            "2db96edcaaa745f78e40308c5620ea0c",
            "7365c112eda041b6ba2b5f20e314dcd3",
            "535b83603ecc4d35a8883dd96c532ed5",
            "93bd52b35b2746c4b25a93a796e047b9",
            "da8eb683e414438191735395419136b0",
            "9e34c88d6e4c4b7bab9e0cec9c3f47bd",
            "6bccef2c28574052abe1b964ea2eae52",
            "4de76e5da8f64dfe99495129a0161c41",
            "fece4f5f1dd84ee5a42ed27439cecbe4",
            "df463056077f416d812f183d6c5cbe43"
          ]
        },
        "id": "nHnUqk1pEupy",
        "outputId": "2a1f8674-624f-4510-8746-f5a80e1ad26c"
      },
      "execution_count": null,
      "outputs": [
        {
          "output_type": "display_data",
          "data": {
            "text/plain": [
              "  0%|          | 0/200 [00:00<?, ?it/s]"
            ],
            "application/vnd.jupyter.widget-view+json": {
              "version_major": 2,
              "version_minor": 0,
              "model_id": "ad9518f4b4714f00b0e9ca0b56c21cdd"
            }
          },
          "metadata": {}
        },
        {
          "output_type": "display_data",
          "data": {
            "text/plain": [
              "\u001b[1;2m[\u001b[0m\u001b[2;38;5;40mlogmd\u001b[0m\u001b[1;2m]\u001b[0m\u001b[2m \u001b[0m\u001b[2;33mLoad_time\u001b[0m\u001b[2m=\u001b[0m\u001b[1;2;34m1\u001b[0m\u001b[1;2;34m.\u001b[0m\u001b[2;34m64s\u001b[0m\u001b[2m 🚀\u001b[0m\n"
            ],
            "text/html": [
              "<pre style=\"white-space:pre;overflow-x:auto;line-height:normal;font-family:Menlo,'DejaVu Sans Mono',consolas,'Courier New',monospace\"><span style=\"color: #7f7f7f; text-decoration-color: #7f7f7f; font-weight: bold\">[</span><span style=\"color: #7feb7f; text-decoration-color: #7feb7f\">logmd</span><span style=\"color: #7f7f7f; text-decoration-color: #7f7f7f; font-weight: bold\">]</span><span style=\"color: #7f7f7f; text-decoration-color: #7f7f7f\"> </span><span style=\"color: #bfbf7f; text-decoration-color: #bfbf7f\">Load_time</span><span style=\"color: #7f7f7f; text-decoration-color: #7f7f7f\">=</span><span style=\"color: #7f7fbf; text-decoration-color: #7f7fbf; font-weight: bold\">1.</span><span style=\"color: #7f7fbf; text-decoration-color: #7f7fbf\">64s</span><span style=\"color: #7f7f7f; text-decoration-color: #7f7f7f\"> 🚀</span>\n",
              "</pre>\n"
            ]
          },
          "metadata": {}
        },
        {
          "output_type": "display_data",
          "data": {
            "text/plain": [
              "\u001b[1;2m[\u001b[0m\u001b[2;38;5;40mlogmd\u001b[0m\u001b[1;2m]\u001b[0m\u001b[2m \u001b[0m\u001b[2;33mUrl\u001b[0m\u001b[2m=\u001b[0m\u001b]8;id=40085;https://rcsb.ai/3025d4dc31\u001b\\\u001b[2;4;34mhttps\u001b[0m\u001b]8;;\u001b\\\u001b]8;id=668723;https://rcsb.ai/3025d4dc31\u001b\\\u001b[2;4;34m://rcsb.ai/3025d4dc31\u001b[0m\u001b]8;;\u001b\\\u001b[2m 🚀\u001b[0m\n"
            ],
            "text/html": [
              "<pre style=\"white-space:pre;overflow-x:auto;line-height:normal;font-family:Menlo,'DejaVu Sans Mono',consolas,'Courier New',monospace\"><span style=\"color: #7f7f7f; text-decoration-color: #7f7f7f; font-weight: bold\">[</span><span style=\"color: #7feb7f; text-decoration-color: #7feb7f\">logmd</span><span style=\"color: #7f7f7f; text-decoration-color: #7f7f7f; font-weight: bold\">]</span><span style=\"color: #7f7f7f; text-decoration-color: #7f7f7f\"> </span><span style=\"color: #bfbf7f; text-decoration-color: #bfbf7f\">Url</span><span style=\"color: #7f7f7f; text-decoration-color: #7f7f7f\">=</span><a href=\"https://rcsb.ai/3025d4dc31\" target=\"_blank\"><span style=\"color: #7f7fbf; text-decoration-color: #7f7fbf; text-decoration: underline\">https://rcsb.ai/3025d4dc31</span></a><span style=\"color: #7f7f7f; text-decoration-color: #7f7f7f\"> 🚀</span>\n",
              "</pre>\n"
            ]
          },
          "metadata": {}
        },
        {
          "output_type": "display_data",
          "data": {
            "text/plain": [
              "<IPython.lib.display.IFrame at 0x7f0f918d6a90>"
            ],
            "text/html": [
              "\n",
              "        <iframe\n",
              "            width=\"900\"\n",
              "            height=\"600\"\n",
              "            src=\"https://rcsb.ai/3025d4dc31\"\n",
              "            frameborder=\"0\"\n",
              "            allowfullscreen\n",
              "            \n",
              "        ></iframe>\n",
              "        "
            ]
          },
          "metadata": {}
        },
        {
          "output_type": "execute_result",
          "data": {
            "text/plain": [
              "True"
            ]
          },
          "metadata": {},
          "execution_count": 7
        }
      ]
    },
    {
      "cell_type": "markdown",
      "source": [
        "# 7. 시뮬레이션 파일 불러오기"
      ],
      "metadata": {
        "id": "2n73wRTDK5HK"
      }
    },
    {
      "cell_type": "code",
      "source": [
        "# PDB 궤적 파일 로드\n",
        "from ase.io import read\n",
        "trajectory_data = read('trajectory_3025d4dc31.pdb', index=':')  # 모든 프레임 읽기\n",
        "print(f\"총 프레임 수: {len(trajectory_data)}\")\n",
        "\n",
        "# 첫 번째 프레임 정보 확인\n",
        "print(f\"원자 수: {len(trajectory_data[0])}\")\n",
        "print(f\"원자 종류: {set(trajectory_data[0].get_chemical_symbols())}\")"
      ],
      "metadata": {
        "colab": {
          "base_uri": "https://localhost:8080/"
        },
        "id": "kWWk-m5vK0kC",
        "outputId": "879bfa6b-9a3b-466d-fe94-3195708360ed"
      },
      "execution_count": null,
      "outputs": [
        {
          "output_type": "stream",
          "name": "stdout",
          "text": [
            "총 프레임 수: 141\n",
            "원자 수: 5501\n",
            "원자 종류: {'O', 'H', 'N', 'C', 'Zn', 'S'}\n"
          ]
        }
      ]
    },
    {
      "cell_type": "markdown",
      "source": [
        "# 8. 거리 제약 효과 분석"
      ],
      "metadata": {
        "id": "PrBNvUmGLQMV"
      }
    },
    {
      "cell_type": "code",
      "source": [
        "# 거리 제약 효과 분석\n",
        "def analyze_distance(trajectory, atom_i=4054, atom_j=5499):\n",
        "    \"\"\"두 원자 간 거리 분석\"\"\"\n",
        "    distances = []\n",
        "    for atoms in trajectory:\n",
        "        positions = atoms.get_positions()\n",
        "        vec = positions[atom_j] - positions[atom_i]\n",
        "        distance = np.linalg.norm(vec)\n",
        "        distances.append(distance)\n",
        "\n",
        "    # 거리 통계\n",
        "    mean_dist = np.mean(distances)\n",
        "    max_dist = np.max(distances)\n",
        "    min_dist = np.min(distances)\n",
        "\n",
        "    print(f\"거리 통계:\")\n",
        "    print(f\"  평균: {mean_dist:.3f} Å\")\n",
        "    print(f\"  최대: {max_dist:.3f} Å\")\n",
        "    print(f\"  최소: {min_dist:.3f} Å\")\n",
        "\n",
        "    # 결과 플롯\n",
        "    plt.figure(figsize=(10, 6))\n",
        "    plt.plot(distances)\n",
        "    plt.axhline(y=5.0, color='r', linestyle='--', label='Maximum allowed distance (5.0 Å)')\n",
        "    plt.xlabel('Frame')\n",
        "    plt.ylabel('Distance (Å)')\n",
        "    plt.title(f'Distance between atoms {atom_i} and {atom_j}')\n",
        "    plt.legend()\n",
        "    plt.grid(True)\n",
        "    plt.show()\n",
        "\n",
        "    # 히스토그램\n",
        "    plt.figure(figsize=(10, 6))\n",
        "    plt.hist(distances, bins=20, alpha=0.7, color='blue')\n",
        "    plt.axvline(x=5.0, color='r', linestyle='--', label='Maximum allowed distance (5.0 Å)')\n",
        "    plt.xlabel('Distance (Å)')\n",
        "    plt.ylabel('Frequency')\n",
        "    plt.title('Distribution of atom distances')\n",
        "    plt.legend()\n",
        "    plt.grid(True)\n",
        "    plt.show()\n",
        "\n",
        "    return distances\n",
        "\n",
        "# 거리 분석 실행\n",
        "distances = analyze_distance(trajectory_data, atom_i=4054, atom_j=5499)"
      ],
      "metadata": {
        "colab": {
          "base_uri": "https://localhost:8080/",
          "height": 1000
        },
        "id": "Pavyy7aGLEwH",
        "outputId": "2e89612b-c03b-49d1-c8a8-805986dba3ac"
      },
      "execution_count": null,
      "outputs": [
        {
          "output_type": "stream",
          "name": "stdout",
          "text": [
            "거리 통계:\n",
            "  평균: 4.397 Å\n",
            "  최대: 4.574 Å\n",
            "  최소: 4.212 Å\n"
          ]
        },
        {
          "output_type": "display_data",
          "data": {
            "text/plain": [
              "<Figure size 1000x600 with 1 Axes>"
            ],
            "image/png": "[encoded data removed]"
          },
          "metadata": {}
        },
        {
          "output_type": "display_data",
          "data": {
            "text/plain": [
              "<Figure size 1000x600 with 1 Axes>"
            ],
            "image/png": "[encoded data removed]"
          },
          "metadata": {}
        }
      ]
    },
    {
      "cell_type": "markdown",
      "source": [
        "# 9. RMSD 분석\n",
        "단백질 구조의 안정성을 평가하기 위해 RMSD(Root Mean Square Deviation) 분석을 수행할 수 있음"
      ],
      "metadata": {
        "id": "XrVJ8_xOLSAp"
      }
    },
    {
      "cell_type": "code",
      "source": [
        "# RMSD 분석\n",
        "def calculate_rmsd(trajectory, reference=None, exclude_indices=None):\n",
        "    if reference is None:\n",
        "        reference = trajectory[0]\n",
        "\n",
        "    rmsd_values = []\n",
        "    for atoms in trajectory:\n",
        "        # 고정된 원자를 제외한 RMSD 계산\n",
        "        if exclude_indices:\n",
        "            positions = atoms.get_positions()\n",
        "            ref_positions = reference.get_positions()\n",
        "\n",
        "            # 고정되지 않은 원자 인덱스\n",
        "            active_indices = [i for i in range(len(atoms)) if i not in exclude_indices]\n",
        "\n",
        "            # 선택된 원자에 대한 RMSD 계산\n",
        "            diff = positions[active_indices] - ref_positions[active_indices]\n",
        "            rmsd = np.sqrt(np.mean(np.sum(diff**2, axis=1)))\n",
        "        else:\n",
        "            # 모든 원자에 대한 RMSD 계산\n",
        "            diff = atoms.positions - reference.positions\n",
        "            rmsd = np.sqrt(np.mean(np.sum(diff**2, axis=1)))\n",
        "\n",
        "        rmsd_values.append(rmsd)\n",
        "\n",
        "    # RMSD 통계\n",
        "    mean_rmsd = np.mean(rmsd_values)\n",
        "    max_rmsd = np.max(rmsd_values)\n",
        "\n",
        "    print(f\"RMSD 통계:\")\n",
        "    print(f\"  평균: {mean_rmsd:.3f} Å\")\n",
        "    print(f\"  최대: {max_rmsd:.3f} Å\")\n",
        "\n",
        "    # 결과 플롯\n",
        "    plt.figure(figsize=(10, 6))\n",
        "    plt.plot(rmsd_values)\n",
        "    plt.xlabel('Frame')\n",
        "    plt.ylabel('RMSD (Å)')\n",
        "    plt.title('RMSD relative to initial structure')\n",
        "    plt.grid(True)\n",
        "    plt.show()\n",
        "\n",
        "    return rmsd_values\n",
        "\n",
        "# 고정된 원자 인덱스 로드\n",
        "with open('frozenatoms.dat', 'r') as f:\n",
        "    frozen_indices = [int(x) for x in f.read().split()]\n",
        "\n",
        "# RMSD 분석 실행 (고정 원자 제외)\n",
        "rmsd_values = calculate_rmsd(trajectory_data, exclude_indices=frozen_indices)"
      ],
      "metadata": {
        "colab": {
          "base_uri": "https://localhost:8080/",
          "height": 618
        },
        "id": "OB2KwQhdLJ_P",
        "outputId": "af87b4a5-7fa5-459d-fb70-ad0c82553369"
      },
      "execution_count": null,
      "outputs": [
        {
          "output_type": "stream",
          "name": "stdout",
          "text": [
            "RMSD 통계:\n",
            "  평균: 0.202 Å\n",
            "  최대: 0.293 Å\n"
          ]
        },
        {
          "output_type": "display_data",
          "data": {
            "text/plain": [
              "<Figure size 1000x600 with 1 Axes>"
            ],
            "image/png": "[encoded data removed]"
          },
          "metadata": {}
        }
      ]
    },
    {
      "cell_type": "markdown",
      "source": [
        "#10. 특정 프레임 분석\n",
        "특정 프레임(예: 최대 거리가 관찰된 프레임)에서의 구조를 자세히 분석"
      ],
      "metadata": {
        "id": "qXmUSzmyLweB"
      }
    },
    {
      "cell_type": "code",
      "source": [
        "# 최대 거리가 관찰된 프레임 분석\n",
        "max_distance_frame = np.argmax(distances)\n",
        "print(f\"최대 거리 발생 프레임: {max_distance_frame}, 거리: {distances[max_distance_frame]:.3f} Å\")\n",
        "\n",
        "# 해당 프레임 저장\n",
        "from ase.io import write\n",
        "write('max_distance_structure.pdb', trajectory_data[max_distance_frame])\n",
        "\n",
        "# 원자 간 상호작용 분석\n",
        "def analyze_interactions(atoms, atom_i, atom_j, cutoff=3.5):\n",
        "    \"\"\"원자 주변의 상호작용 분석\"\"\"\n",
        "    positions = atoms.get_positions()\n",
        "    symbols = atoms.get_chemical_symbols()\n",
        "\n",
        "    # 관심 원자 주변 환경 분석\n",
        "    center_pos = positions[atom_i]\n",
        "    distances = np.linalg.norm(positions - center_pos, axis=1)\n",
        "\n",
        "    # 절단 거리 내의 원자 찾기\n",
        "    nearby_indices = np.where(distances < cutoff)[0]\n",
        "\n",
        "    print(f\"\\n{symbols[atom_i]} 원자(인덱스: {atom_i}) 주변 {cutoff}Å 내 원자들:\")\n",
        "    for idx in nearby_indices:\n",
        "        if idx != atom_i:  # 자기 자신 제외\n",
        "            dist = distances[idx]\n",
        "            print(f\"  - {symbols[idx]} 원자(인덱스: {idx}), 거리: {dist:.3f} Å\")\n",
        "\n",
        "    # 두 원자 간 거리 계산\n",
        "    ij_distance = np.linalg.norm(positions[atom_j] - positions[atom_i])\n",
        "    print(f\"\\n{symbols[atom_i]}(인덱스: {atom_i})와 {symbols[atom_j]}(인덱스: {atom_j}) 사이 거리: {ij_distance:.3f} Å\")\n",
        "\n",
        "# 최대 거리 프레임에서 상호작용 분석\n",
        "analyze_interactions(trajectory_data[max_distance_frame], atom_i=4054, atom_j=5499, cutoff=5.0)"
      ],
      "metadata": {
        "colab": {
          "base_uri": "https://localhost:8080/"
        },
        "id": "AzKX32f5LVQA",
        "outputId": "7c073964-13bc-4c7b-baad-b26aad53d07f"
      },
      "execution_count": null,
      "outputs": [
        {
          "output_type": "stream",
          "name": "stdout",
          "text": [
            "최대 거리 발생 프레임: 140, 거리: 4.574 Å\n",
            "\n",
            "Zn 원자(인덱스: 4054) 주변 5.0Å 내 원자들:\n",
            "  - C 원자(인덱스: 1409), 거리: 4.092 Å\n",
            "  - N 원자(인덱스: 1410), 거리: 4.131 Å\n",
            "  - C 원자(인덱스: 1411), 거리: 2.924 Å\n",
            "  - C 원자(인덱스: 1412), 거리: 3.016 Å\n",
            "  - N 원자(인덱스: 1413), 거리: 1.975 Å\n",
            "  - H 원자(인덱스: 1419), 거리: 2.891 Å\n",
            "  - H 원자(인덱스: 1420), 거리: 3.385 Å\n",
            "  - C 원자(인덱스: 1446), 거리: 4.226 Å\n",
            "  - N 원자(인덱스: 1447), 거리: 4.215 Å\n",
            "  - C 원자(인덱스: 1448), 거리: 3.021 Å\n",
            "  - C 원자(인덱스: 1449), 거리: 3.098 Å\n",
            "  - N 원자(인덱스: 1450), 거리: 2.049 Å\n",
            "  - H 원자(인덱스: 1456), 거리: 3.133 Å\n",
            "  - H 원자(인덱스: 1457), 거리: 3.505 Å\n",
            "  - C 원자(인덱스: 1579), 거리: 4.926 Å\n",
            "  - O 원자(인덱스: 1580), 거리: 4.037 Å\n",
            "  - C 원자(인덱스: 1789), 거리: 4.892 Å\n",
            "  - C 원자(인덱스: 1792), 거리: 3.423 Å\n",
            "  - C 원자(인덱스: 1793), 거리: 2.942 Å\n",
            "  - N 원자(인덱스: 1794), 거리: 1.950 Å\n",
            "  - C 원자(인덱스: 1795), 거리: 4.056 Å\n",
            "  - C 원자(인덱스: 1796), 거리: 2.927 Å\n",
            "  - N 원자(인덱스: 1797), 거리: 4.071 Å\n",
            "  - H 원자(인덱스: 1798), 거리: 4.933 Å\n",
            "  - H 원자(인덱스: 1800), 거리: 3.108 Å\n",
            "  - H 원자(인덱스: 1801), 거리: 3.446 Å\n",
            "  - H 원자(인덱스: 1804), 거리: 3.175 Å\n",
            "  - H 원자(인덱스: 2153), 거리: 4.885 Å\n",
            "  - O 원자(인덱스: 3020), 거리: 4.068 Å\n",
            "  - H 원자(인덱스: 3022), 거리: 4.974 Å\n",
            "  - H 원자(인덱스: 3025), 거리: 4.481 Å\n",
            "  - H 원자(인덱스: 3188), 거리: 4.109 Å\n",
            "  - O 원자(인덱스: 4472), 거리: 2.089 Å\n",
            "  - H 원자(인덱스: 4473), 거리: 2.795 Å\n",
            "  - H 원자(인덱스: 4474), 거리: 2.869 Å\n",
            "  - O 원자(인덱스: 4802), 거리: 4.033 Å\n",
            "  - H 원자(인덱스: 4803), 거리: 4.819 Å\n",
            "  - H 원자(인덱스: 4804), 거리: 3.651 Å\n",
            "  - O 원자(인덱스: 4889), 거리: 4.553 Å\n",
            "  - H 원자(인덱스: 4891), 거리: 4.964 Å\n",
            "  - O 원자(인덱스: 4940), 거리: 4.414 Å\n",
            "  - H 원자(인덱스: 4941), 거리: 4.261 Å\n",
            "  - H 원자(인덱스: 4942), 거리: 4.977 Å\n",
            "  - H 원자(인덱스: 5065), 거리: 4.342 Å\n",
            "  - O 원자(인덱스: 5387), 거리: 2.658 Å\n",
            "  - H 원자(인덱스: 5388), 거리: 3.402 Å\n",
            "  - H 원자(인덱스: 5389), 거리: 2.933 Å\n",
            "  - C 원자(인덱스: 5499), 거리: 4.574 Å\n",
            "  - O 원자(인덱스: 5500), 거리: 3.899 Å\n",
            "\n",
            "Zn(인덱스: 4054)와 C(인덱스: 5499) 사이 거리: 4.574 Å\n"
          ]
        }
      ]
    },
    {
      "cell_type": "markdown",
      "source": [
        "# 11. 구조 안정성 분석"
      ],
      "metadata": {
        "id": "T_9echQNL1q8"
      }
    },
    {
      "cell_type": "code",
      "source": [
        "# 구조 안정성 분석\n",
        "def analyze_stability(trajectory, rmsd_values):\n",
        "    \"\"\"구조 안정성 분석\"\"\"\n",
        "    # 시뮬레이션 시작과 끝의 구조 비교\n",
        "    first_frame = trajectory[0]\n",
        "    last_frame = trajectory[-1]\n",
        "\n",
        "    # 원자 종류별 RMSD 계산\n",
        "    atom_symbols = first_frame.get_chemical_symbols()\n",
        "    unique_symbols = set(atom_symbols)\n",
        "\n",
        "    print(\"원자 종류별 RMSD:\")\n",
        "    for symbol in unique_symbols:\n",
        "        # 해당 원자 종류의 인덱스 찾기\n",
        "        indices = [i for i, s in enumerate(atom_symbols) if s == symbol]\n",
        "\n",
        "        # RMSD 계산\n",
        "        if indices:\n",
        "            first_pos = first_frame.get_positions()[indices]\n",
        "            last_pos = last_frame.get_positions()[indices]\n",
        "            diff = last_pos - first_pos\n",
        "            symbol_rmsd = np.sqrt(np.mean(np.sum(diff**2, axis=1)))\n",
        "            print(f\"  {symbol}: {symbol_rmsd:.3f} Å ({len(indices)}개 원자)\")\n",
        "\n",
        "    # 최종 RMSD 값과 초기 구조 비교\n",
        "    final_rmsd = rmsd_values[-1]\n",
        "    print(f\"\\n최종 프레임 RMSD: {final_rmsd:.3f} Å\")\n",
        "\n",
        "    # 안정성 판단 (예: RMSD < 2.0 Å을 안정적으로 간주)\n",
        "    if final_rmsd < 2.0:\n",
        "        print(\"구조가 안정적으로 유지되었습니다.\")\n",
        "    else:\n",
        "        print(\"구조에 상당한 변화가 있었습니다.\")\n",
        "\n",
        "# 구조 안정성 분석 실행\n",
        "analyze_stability(trajectory_data, rmsd_values)"
      ],
      "metadata": {
        "colab": {
          "base_uri": "https://localhost:8080/"
        },
        "id": "QEDmQD7FL0m3",
        "outputId": "2c41eec3-ab71-415c-e8f6-1bd49e4d4f11"
      },
      "execution_count": null,
      "outputs": [
        {
          "output_type": "stream",
          "name": "stdout",
          "text": [
            "원자 종류별 RMSD:\n",
            "  O: 0.089 Å (863개 원자)\n",
            "  H: 0.193 Å (2967개 원자)\n",
            "  N: 0.072 Å (352개 원자)\n",
            "  C: 0.075 Å (1316개 원자)\n",
            "  Zn: 0.218 Å (1개 원자)\n",
            "  S: 0.181 Å (2개 원자)\n",
            "\n",
            "최종 프레임 RMSD: 0.291 Å\n",
            "구조가 안정적으로 유지되었습니다.\n"
          ]
        }
      ]
    },
    {
      "cell_type": "code",
      "source": [],
      "metadata": {
        "id": "_AiFKPBWL6BJ"
      },
      "execution_count": null,
      "outputs": []
    }
  ]
}