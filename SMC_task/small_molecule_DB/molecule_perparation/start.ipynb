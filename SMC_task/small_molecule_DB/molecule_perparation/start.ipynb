{
 "cells": [
  {
   "cell_type": "code",
   "execution_count": 1,
   "metadata": {},
   "outputs": [
    {
     "name": "stdout",
     "output_type": "stream",
     "text": [
      "2022.09.1\n"
     ]
    }
   ],
   "source": [
    "from rdkit import Chem\n",
    "from rdkit.Chem.Draw import IPythonConsole\n",
    "IPythonConsole.ipython_3d = True\n",
    "import py3Dmol\n",
    "from rdkit.Chem import rdDepictor\n",
    "from rdkit.Chem import rdDistGeom\n",
    "import rdkit\n",
    "print(rdkit.__version__)"
   ]
  },
  {
   "cell_type": "code",
   "execution_count": 2,
   "metadata": {},
   "outputs": [
    {
     "data": {
      "text/plain": [
       "0"
      ]
     },
     "execution_count": 2,
     "metadata": {},
     "output_type": "execute_result"
    }
   ],
   "source": [
    "esomeprazole = Chem.MolFromSmiles('COc1ccc2[n-]c([S@@+]([O-])Cc3ncc(C)c(OC)c3C)nc2c1')\n",
    "esomeprazole.GetNumConformers()"
   ]
  },
  {
   "cell_type": "code",
   "execution_count": 3,
   "metadata": {},
   "outputs": [
    {
     "data": {
      "text/plain": [
       "1"
      ]
     },
     "execution_count": 3,
     "metadata": {},
     "output_type": "execute_result"
    }
   ],
   "source": [
    "rdDepictor.Compute2DCoords(esomeprazole)\n",
    "esomeprazole.GetNumConformers()"
   ]
  },
  {
   "cell_type": "code",
   "execution_count": 4,
   "metadata": {},
   "outputs": [
    {
     "data": {
      "text/plain": [
       "False"
      ]
     },
     "execution_count": 4,
     "metadata": {},
     "output_type": "execute_result"
    }
   ],
   "source": [
    "esomeprazole.GetConformer().Is3D()\n",
    "\n"
   ]
  },
  {
   "cell_type": "code",
   "execution_count": 5,
   "metadata": {},
   "outputs": [
    {
     "name": "stdout",
     "output_type": "stream",
     "text": [
      "1 True\n"
     ]
    },
    {
     "name": "stderr",
     "output_type": "stream",
     "text": [
      "[08:43:51] UFFTYPER: Unrecognized charge state for atom: 8\n"
     ]
    }
   ],
   "source": [
    "esomeprazole = Chem.AddHs(esomeprazole) # <- add hydrogens so that we get a reasonable conformer\n",
    "rdDistGeom.EmbedMolecule(esomeprazole)\n",
    "print(esomeprazole.GetNumConformers(),esomeprazole.GetConformer().Is3D())"
   ]
  },
  {
   "cell_type": "code",
   "execution_count": 6,
   "metadata": {},
   "outputs": [
    {
     "name": "stdout",
     "output_type": "stream",
     "text": [
      "10 True\n"
     ]
    },
    {
     "name": "stderr",
     "output_type": "stream",
     "text": [
      "[08:43:51] UFFTYPER: Unrecognized charge state for atom: 8\n"
     ]
    }
   ],
   "source": [
    "rdDistGeom.EmbedMultipleConfs(esomeprazole,10, randomSeed=0xf00d) # <- generate 10 conformers\n",
    "print(esomeprazole.GetNumConformers(),esomeprazole.GetConformer().Is3D())"
   ]
  },
  {
   "cell_type": "code",
   "execution_count": 7,
   "metadata": {},
   "outputs": [
    {
     "data": {
      "application/3dmoljs_load.v0": "<div id=\"3dmolviewer_1694994233008399\"  style=\"position: relative; width: 400px; height: 400px\">\n        <p id=\"3dmolwarning_1694994233008399\" style=\"background-color:#ffcccc;color:black\">You appear to be running in JupyterLab (or JavaScript failed to load for some other reason).  You need to install the 3dmol extension: <br>\n        <tt>jupyter labextension install jupyterlab_3dmol</tt></p>\n        </div>\n<script>\n\nvar loadScriptAsync = function(uri){\n  return new Promise((resolve, reject) => {\n    //this is to ignore the existence of requirejs amd\n    var savedexports, savedmodule;\n    if (typeof exports !== 'undefined') savedexports = exports;\n    else exports = {}\n    if (typeof module !== 'undefined') savedmodule = module;\n    else module = {}\n\n    var tag = document.createElement('script');\n    tag.src = uri;\n    tag.async = true;\n    tag.onload = () => {\n        exports = savedexports;\n        module = savedmodule;\n        resolve();\n    };\n  var firstScriptTag = document.getElementsByTagName('script')[0];\n  firstScriptTag.parentNode.insertBefore(tag, firstScriptTag);\n});\n};\n\nif(typeof $3Dmolpromise === 'undefined') {\n$3Dmolpromise = null;\n  $3Dmolpromise = loadScriptAsync('https://cdnjs.cloudflare.com/ajax/libs/3Dmol/2.0.1/3Dmol-min.js');\n}\n\nvar viewer_1694994233008399 = null;\nvar warn = document.getElementById(\"3dmolwarning_1694994233008399\");\nif(warn) {\n    warn.parentNode.removeChild(warn);\n}\n$3Dmolpromise.then(function() {\nviewer_1694994233008399 = $3Dmol.createViewer(document.getElementById(\"3dmolviewer_1694994233008399\"),{backgroundColor:\"white\"});\nviewer_1694994233008399.zoomTo();\n\tviewer_1694994233008399.removeAllModels();\n\tviewer_1694994233008399.addModel(\"\\n     RDKit          3D\\n\\n 42 44  0  0  0  0  0  0  0  0999 V2000\\n    8.2082    0.9796    0.6949 C   0  0  0  0  0  0  0  0  0  0  0  0\\n    6.9219    0.8351    1.2408 O   0  0  0  0  0  0  0  0  0  0  0  0\\n    5.8673    0.3966    0.4724 C   0  0  0  0  0  0  0  0  0  0  0  0\\n    5.9859    0.1742   -0.8686 C   0  0  0  0  0  0  0  0  0  0  0  0\\n    4.8746   -0.2886   -1.6092 C   0  0  0  0  0  0  0  0  0  0  0  0\\n    3.7054   -0.5010   -0.8990 C   0  0  0  0  0  0  0  0  0  0  0  0\\n    2.5304   -0.9594   -1.2994 N   0  0  0  0  0  2  0  0  0  0  0  0\\n    1.6499   -1.0495   -0.3327 C   0  0  0  0  0  0  0  0  0  0  0  0\\n   -0.0145   -1.6096   -0.5174 S   0  0  0  0  0  3  0  0  0  0  0  0\\n   -0.0175   -3.1436    0.1531 O   0  0  0  0  0  1  0  0  0  0  0  0\\n   -0.8989   -0.5348    0.6295 C   0  0  0  0  0  0  0  0  0  0  0  0\\n   -2.2937   -0.5926    0.8035 C   0  0  0  0  0  0  0  0  0  0  0  0\\n   -2.9243   -0.7363    2.0551 N   0  0  0  0  0  0  0  0  0  0  0  0\\n   -4.2189   -0.5461    2.1970 C   0  0  0  0  0  0  0  0  0  0  0  0\\n   -5.0998   -0.2009    1.1778 C   0  0  0  0  0  0  0  0  0  0  0  0\\n   -6.5499   -0.0123    1.4231 C   0  0  0  0  0  0  0  0  0  0  0  0\\n   -4.5005   -0.0676   -0.0548 C   0  0  0  0  0  0  0  0  0  0  0  0\\n   -5.2828    0.2734   -1.1792 O   0  0  0  0  0  0  0  0  0  0  0  0\\n   -5.3851    1.6558   -1.5436 C   0  0  0  0  0  0  0  0  0  0  0  0\\n   -3.1549   -0.2592   -0.2154 C   0  0  0  0  0  0  0  0  0  0  0  0\\n   -2.4722   -0.2644   -1.5493 C   0  0  0  0  0  0  0  0  0  0  0  0\\n    2.2683   -0.6274    0.8196 N   0  0  0  0  0  0  0  0  0  0  0  0\\n    3.5533   -0.2863    0.4683 C   0  0  0  0  0  0  0  0  0  0  0  0\\n    4.6598    0.1673    1.1226 C   0  0  0  0  0  0  0  0  0  0  0  0\\n    8.4632   -0.0164    0.1893 H   0  0  0  0  0  0  0  0  0  0  0  0\\n    8.3296    1.7408   -0.0808 H   0  0  0  0  0  0  0  0  0  0  0  0\\n    8.8995    1.1430    1.5774 H   0  0  0  0  0  0  0  0  0  0  0  0\\n    6.9355    0.3237   -1.4329 H   0  0  0  0  0  0  0  0  0  0  0  0\\n    4.9063   -0.4816   -2.6710 H   0  0  0  0  0  0  0  0  0  0  0  0\\n   -0.5038   -0.9761    1.7148 H   0  0  0  0  0  0  0  0  0  0  0  0\\n   -0.4674    0.4850    0.7075 H   0  0  0  0  0  0  0  0  0  0  0  0\\n   -4.6793   -0.6488    3.1964 H   0  0  0  0  0  0  0  0  0  0  0  0\\n   -7.0579   -0.9049    1.8407 H   0  0  0  0  0  0  0  0  0  0  0  0\\n   -7.0662    0.1567    0.4404 H   0  0  0  0  0  0  0  0  0  0  0  0\\n   -6.7578    0.9016    2.0173 H   0  0  0  0  0  0  0  0  0  0  0  0\\n   -4.5751    1.8853   -2.3262 H   0  0  0  0  0  0  0  0  0  0  0  0\\n   -5.1892    2.3405   -0.6968 H   0  0  0  0  0  0  0  0  0  0  0  0\\n   -6.3402    1.7763   -2.0284 H   0  0  0  0  0  0  0  0  0  0  0  0\\n   -3.1402    0.0257   -2.3687 H   0  0  0  0  0  0  0  0  0  0  0  0\\n   -1.5897    0.4268   -1.5941 H   0  0  0  0  0  0  0  0  0  0  0  0\\n   -2.1787   -1.3181   -1.8155 H   0  0  0  0  0  0  0  0  0  0  0  0\\n    4.5995    0.3380    2.1997 H   0  0  0  0  0  0  0  0  0  0  0  0\\n  1  2  1  0\\n  2  3  1  0\\n  3  4  2  0\\n  4  5  1  0\\n  5  6  2  0\\n  6  7  1  0\\n  7  8  1  0\\n  8  9  1  0\\n  9 10  1  1\\n  9 11  1  0\\n 11 12  1  0\\n 12 13  2  0\\n 13 14  1  0\\n 14 15  2  0\\n 15 16  1  0\\n 15 17  1  0\\n 17 18  1  0\\n 18 19  1  0\\n 17 20  2  0\\n 20 21  1  0\\n  8 22  2  0\\n 22 23  1  0\\n 23 24  2  0\\n 24  3  1  0\\n 23  6  1  0\\n 20 12  1  0\\n  1 25  1  0\\n  1 26  1  0\\n  1 27  1  0\\n  4 28  1  0\\n  5 29  1  0\\n 11 30  1  0\\n 11 31  1  0\\n 14 32  1  0\\n 16 33  1  0\\n 16 34  1  0\\n 16 35  1  0\\n 19 36  1  0\\n 19 37  1  0\\n 19 38  1  0\\n 21 39  1  0\\n 21 40  1  0\\n 21 41  1  0\\n 24 42  1  0\\nM  CHG  3   7  -1   9   1  10  -1\\nM  END\\n\",\"sdf\");\n\tviewer_1694994233008399.setStyle({\"stick\": {}});\n\tviewer_1694994233008399.setBackgroundColor(\"0xeeeeee\");\n\tviewer_1694994233008399.zoomTo();\nviewer_1694994233008399.render();\n});\n</script>",
      "text/html": [
       "<div id=\"3dmolviewer_1694994233008399\"  style=\"position: relative; width: 400px; height: 400px\">\n",
       "        <p id=\"3dmolwarning_1694994233008399\" style=\"background-color:#ffcccc;color:black\">You appear to be running in JupyterLab (or JavaScript failed to load for some other reason).  You need to install the 3dmol extension: <br>\n",
       "        <tt>jupyter labextension install jupyterlab_3dmol</tt></p>\n",
       "        </div>\n",
       "<script>\n",
       "\n",
       "var loadScriptAsync = function(uri){\n",
       "  return new Promise((resolve, reject) => {\n",
       "    //this is to ignore the existence of requirejs amd\n",
       "    var savedexports, savedmodule;\n",
       "    if (typeof exports !== 'undefined') savedexports = exports;\n",
       "    else exports = {}\n",
       "    if (typeof module !== 'undefined') savedmodule = module;\n",
       "    else module = {}\n",
       "\n",
       "    var tag = document.createElement('script');\n",
       "    tag.src = uri;\n",
       "    tag.async = true;\n",
       "    tag.onload = () => {\n",
       "        exports = savedexports;\n",
       "        module = savedmodule;\n",
       "        resolve();\n",
       "    };\n",
       "  var firstScriptTag = document.getElementsByTagName('script')[0];\n",
       "  firstScriptTag.parentNode.insertBefore(tag, firstScriptTag);\n",
       "});\n",
       "};\n",
       "\n",
       "if(typeof $3Dmolpromise === 'undefined') {\n",
       "$3Dmolpromise = null;\n",
       "  $3Dmolpromise = loadScriptAsync('https://cdnjs.cloudflare.com/ajax/libs/3Dmol/2.0.1/3Dmol-min.js');\n",
       "}\n",
       "\n",
       "var viewer_1694994233008399 = null;\n",
       "var warn = document.getElementById(\"3dmolwarning_1694994233008399\");\n",
       "if(warn) {\n",
       "    warn.parentNode.removeChild(warn);\n",
       "}\n",
       "$3Dmolpromise.then(function() {\n",
       "viewer_1694994233008399 = $3Dmol.createViewer(document.getElementById(\"3dmolviewer_1694994233008399\"),{backgroundColor:\"white\"});\n",
       "viewer_1694994233008399.zoomTo();\n",
       "\tviewer_1694994233008399.removeAllModels();\n",
       "\tviewer_1694994233008399.addModel(\"\\n     RDKit          3D\\n\\n 42 44  0  0  0  0  0  0  0  0999 V2000\\n    8.2082    0.9796    0.6949 C   0  0  0  0  0  0  0  0  0  0  0  0\\n    6.9219    0.8351    1.2408 O   0  0  0  0  0  0  0  0  0  0  0  0\\n    5.8673    0.3966    0.4724 C   0  0  0  0  0  0  0  0  0  0  0  0\\n    5.9859    0.1742   -0.8686 C   0  0  0  0  0  0  0  0  0  0  0  0\\n    4.8746   -0.2886   -1.6092 C   0  0  0  0  0  0  0  0  0  0  0  0\\n    3.7054   -0.5010   -0.8990 C   0  0  0  0  0  0  0  0  0  0  0  0\\n    2.5304   -0.9594   -1.2994 N   0  0  0  0  0  2  0  0  0  0  0  0\\n    1.6499   -1.0495   -0.3327 C   0  0  0  0  0  0  0  0  0  0  0  0\\n   -0.0145   -1.6096   -0.5174 S   0  0  0  0  0  3  0  0  0  0  0  0\\n   -0.0175   -3.1436    0.1531 O   0  0  0  0  0  1  0  0  0  0  0  0\\n   -0.8989   -0.5348    0.6295 C   0  0  0  0  0  0  0  0  0  0  0  0\\n   -2.2937   -0.5926    0.8035 C   0  0  0  0  0  0  0  0  0  0  0  0\\n   -2.9243   -0.7363    2.0551 N   0  0  0  0  0  0  0  0  0  0  0  0\\n   -4.2189   -0.5461    2.1970 C   0  0  0  0  0  0  0  0  0  0  0  0\\n   -5.0998   -0.2009    1.1778 C   0  0  0  0  0  0  0  0  0  0  0  0\\n   -6.5499   -0.0123    1.4231 C   0  0  0  0  0  0  0  0  0  0  0  0\\n   -4.5005   -0.0676   -0.0548 C   0  0  0  0  0  0  0  0  0  0  0  0\\n   -5.2828    0.2734   -1.1792 O   0  0  0  0  0  0  0  0  0  0  0  0\\n   -5.3851    1.6558   -1.5436 C   0  0  0  0  0  0  0  0  0  0  0  0\\n   -3.1549   -0.2592   -0.2154 C   0  0  0  0  0  0  0  0  0  0  0  0\\n   -2.4722   -0.2644   -1.5493 C   0  0  0  0  0  0  0  0  0  0  0  0\\n    2.2683   -0.6274    0.8196 N   0  0  0  0  0  0  0  0  0  0  0  0\\n    3.5533   -0.2863    0.4683 C   0  0  0  0  0  0  0  0  0  0  0  0\\n    4.6598    0.1673    1.1226 C   0  0  0  0  0  0  0  0  0  0  0  0\\n    8.4632   -0.0164    0.1893 H   0  0  0  0  0  0  0  0  0  0  0  0\\n    8.3296    1.7408   -0.0808 H   0  0  0  0  0  0  0  0  0  0  0  0\\n    8.8995    1.1430    1.5774 H   0  0  0  0  0  0  0  0  0  0  0  0\\n    6.9355    0.3237   -1.4329 H   0  0  0  0  0  0  0  0  0  0  0  0\\n    4.9063   -0.4816   -2.6710 H   0  0  0  0  0  0  0  0  0  0  0  0\\n   -0.5038   -0.9761    1.7148 H   0  0  0  0  0  0  0  0  0  0  0  0\\n   -0.4674    0.4850    0.7075 H   0  0  0  0  0  0  0  0  0  0  0  0\\n   -4.6793   -0.6488    3.1964 H   0  0  0  0  0  0  0  0  0  0  0  0\\n   -7.0579   -0.9049    1.8407 H   0  0  0  0  0  0  0  0  0  0  0  0\\n   -7.0662    0.1567    0.4404 H   0  0  0  0  0  0  0  0  0  0  0  0\\n   -6.7578    0.9016    2.0173 H   0  0  0  0  0  0  0  0  0  0  0  0\\n   -4.5751    1.8853   -2.3262 H   0  0  0  0  0  0  0  0  0  0  0  0\\n   -5.1892    2.3405   -0.6968 H   0  0  0  0  0  0  0  0  0  0  0  0\\n   -6.3402    1.7763   -2.0284 H   0  0  0  0  0  0  0  0  0  0  0  0\\n   -3.1402    0.0257   -2.3687 H   0  0  0  0  0  0  0  0  0  0  0  0\\n   -1.5897    0.4268   -1.5941 H   0  0  0  0  0  0  0  0  0  0  0  0\\n   -2.1787   -1.3181   -1.8155 H   0  0  0  0  0  0  0  0  0  0  0  0\\n    4.5995    0.3380    2.1997 H   0  0  0  0  0  0  0  0  0  0  0  0\\n  1  2  1  0\\n  2  3  1  0\\n  3  4  2  0\\n  4  5  1  0\\n  5  6  2  0\\n  6  7  1  0\\n  7  8  1  0\\n  8  9  1  0\\n  9 10  1  1\\n  9 11  1  0\\n 11 12  1  0\\n 12 13  2  0\\n 13 14  1  0\\n 14 15  2  0\\n 15 16  1  0\\n 15 17  1  0\\n 17 18  1  0\\n 18 19  1  0\\n 17 20  2  0\\n 20 21  1  0\\n  8 22  2  0\\n 22 23  1  0\\n 23 24  2  0\\n 24  3  1  0\\n 23  6  1  0\\n 20 12  1  0\\n  1 25  1  0\\n  1 26  1  0\\n  1 27  1  0\\n  4 28  1  0\\n  5 29  1  0\\n 11 30  1  0\\n 11 31  1  0\\n 14 32  1  0\\n 16 33  1  0\\n 16 34  1  0\\n 16 35  1  0\\n 19 36  1  0\\n 19 37  1  0\\n 19 38  1  0\\n 21 39  1  0\\n 21 40  1  0\\n 21 41  1  0\\n 24 42  1  0\\nM  CHG  3   7  -1   9   1  10  -1\\nM  END\\n\",\"sdf\");\n",
       "\tviewer_1694994233008399.setStyle({\"stick\": {}});\n",
       "\tviewer_1694994233008399.setBackgroundColor(\"0xeeeeee\");\n",
       "\tviewer_1694994233008399.zoomTo();\n",
       "viewer_1694994233008399.render();\n",
       "});\n",
       "</script>"
      ]
     },
     "metadata": {},
     "output_type": "display_data"
    }
   ],
   "source": [
    "IPythonConsole.drawMol3D(esomeprazole)"
   ]
  },
  {
   "cell_type": "code",
   "execution_count": 9,
   "metadata": {},
   "outputs": [
    {
     "data": {
      "application/3dmoljs_load.v0": "<div id=\"3dmolviewer_1695082062833258\"  style=\"position: relative; width: 400px; height: 400px\">\n        <p id=\"3dmolwarning_1695082062833258\" style=\"background-color:#ffcccc;color:black\">You appear to be running in JupyterLab (or JavaScript failed to load for some other reason).  You need to install the 3dmol extension: <br>\n        <tt>jupyter labextension install jupyterlab_3dmol</tt></p>\n        </div>\n<script>\n\nvar loadScriptAsync = function(uri){\n  return new Promise((resolve, reject) => {\n    //this is to ignore the existence of requirejs amd\n    var savedexports, savedmodule;\n    if (typeof exports !== 'undefined') savedexports = exports;\n    else exports = {}\n    if (typeof module !== 'undefined') savedmodule = module;\n    else module = {}\n\n    var tag = document.createElement('script');\n    tag.src = uri;\n    tag.async = true;\n    tag.onload = () => {\n        exports = savedexports;\n        module = savedmodule;\n        resolve();\n    };\n  var firstScriptTag = document.getElementsByTagName('script')[0];\n  firstScriptTag.parentNode.insertBefore(tag, firstScriptTag);\n});\n};\n\nif(typeof $3Dmolpromise === 'undefined') {\n$3Dmolpromise = null;\n  $3Dmolpromise = loadScriptAsync('https://cdnjs.cloudflare.com/ajax/libs/3Dmol/2.0.1/3Dmol-min.js');\n}\n\nvar viewer_1695082062833258 = null;\nvar warn = document.getElementById(\"3dmolwarning_1695082062833258\");\nif(warn) {\n    warn.parentNode.removeChild(warn);\n}\n$3Dmolpromise.then(function() {\nviewer_1695082062833258 = $3Dmol.createViewer(document.getElementById(\"3dmolviewer_1695082062833258\"),{backgroundColor:\"white\"});\nviewer_1695082062833258.zoomTo();\n\tviewer_1695082062833258.removeAllModels();\n\tviewer_1695082062833258.addModel(\"\\n     RDKit          3D\\n\\n 42 44  0  0  0  0  0  0  0  0999 V2000\\n    8.2505    0.6339   -0.1321 C   0  0  0  0  0  0  0  0  0  0  0  0\\n    7.6878   -0.6078    0.2367 O   0  0  0  0  0  0  0  0  0  0  0  0\\n    6.2982   -0.7728    0.2279 C   0  0  0  0  0  0  0  0  0  0  0  0\\n    5.7267   -1.9666    0.5812 C   0  0  0  0  0  0  0  0  0  0  0  0\\n    4.3668   -2.1553    0.5812 C   0  0  0  0  0  0  0  0  0  0  0  0\\n    3.5636   -1.1169    0.2168 C   0  0  0  0  0  0  0  0  0  0  0  0\\n    2.2327   -0.9552    0.1070 N   0  0  0  0  0  2  0  0  0  0  0  0\\n    1.9417    0.2738   -0.2953 C   0  0  0  0  0  0  0  0  0  0  0  0\\n    0.3770    1.0278   -0.6031 S   0  0  0  0  0  3  0  0  0  0  0  0\\n    0.0730    0.7106   -2.2390 O   0  0  0  0  0  1  0  0  0  0  0  0\\n   -0.8002    0.0025    0.2744 C   0  0  0  0  0  0  0  0  0  0  0  0\\n   -2.1607    0.4973    0.1188 C   0  0  0  0  0  0  0  0  0  0  0  0\\n   -2.3542    1.6031   -0.6244 N   0  0  0  0  0  0  0  0  0  0  0  0\\n   -3.5488    2.1481   -0.8380 C   0  0  0  0  0  0  0  0  0  0  0  0\\n   -4.6488    1.5396   -0.2615 C   0  0  0  0  0  0  0  0  0  0  0  0\\n   -5.9811    2.1503   -0.5017 C   0  0  0  0  0  0  0  0  0  0  0  0\\n   -4.4968    0.4016    0.5098 C   0  0  0  0  0  0  0  0  0  0  0  0\\n   -5.6385   -0.1646    1.0626 O   0  0  0  0  0  0  0  0  0  0  0  0\\n   -6.3042   -1.1453    0.2784 C   0  0  0  0  0  0  0  0  0  0  0  0\\n   -3.2339   -0.1130    0.6928 C   0  0  0  0  0  0  0  0  0  0  0  0\\n   -3.0716   -1.3255    1.5146 C   0  0  0  0  0  0  0  0  0  0  0  0\\n    3.1124    0.9125   -0.4463 N   0  0  0  0  0  0  0  0  0  0  0  0\\n    4.1339    0.0881   -0.1401 C   0  0  0  0  0  0  0  0  0  0  0  0\\n    5.4894    0.2747   -0.1396 C   0  0  0  0  0  0  0  0  0  0  0  0\\n    8.1272    0.8697   -1.1961 H   0  0  0  0  0  0  0  0  0  0  0  0\\n    9.3185    0.5992    0.1862 H   0  0  0  0  0  0  0  0  0  0  0  0\\n    7.7592    1.4666    0.4423 H   0  0  0  0  0  0  0  0  0  0  0  0\\n    6.3534   -2.8059    0.8748 H   0  0  0  0  0  0  0  0  0  0  0  0\\n    3.9017   -3.1060    0.8621 H   0  0  0  0  0  0  0  0  0  0  0  0\\n   -0.5368    0.1049    1.3692 H   0  0  0  0  0  0  0  0  0  0  0  0\\n   -0.6552   -1.0636    0.0427 H   0  0  0  0  0  0  0  0  0  0  0  0\\n   -3.6296    3.0449   -1.4512 H   0  0  0  0  0  0  0  0  0  0  0  0\\n   -6.7242    1.7007    0.1999 H   0  0  0  0  0  0  0  0  0  0  0  0\\n   -5.9499    3.2524   -0.3407 H   0  0  0  0  0  0  0  0  0  0  0  0\\n   -6.2925    1.9781   -1.5687 H   0  0  0  0  0  0  0  0  0  0  0  0\\n   -6.0380   -1.0802   -0.7852 H   0  0  0  0  0  0  0  0  0  0  0  0\\n   -7.4083   -1.0762    0.3958 H   0  0  0  0  0  0  0  0  0  0  0  0\\n   -6.0134   -2.1409    0.7102 H   0  0  0  0  0  0  0  0  0  0  0  0\\n   -2.0382   -1.4958    1.8575 H   0  0  0  0  0  0  0  0  0  0  0  0\\n   -3.4303   -2.2479    1.0294 H   0  0  0  0  0  0  0  0  0  0  0  0\\n   -3.6860   -1.1836    2.4334 H   0  0  0  0  0  0  0  0  0  0  0  0\\n    5.9274    1.2426   -0.4272 H   0  0  0  0  0  0  0  0  0  0  0  0\\n  1  2  1  0\\n  2  3  1  0\\n  3  4  2  0\\n  4  5  1  0\\n  5  6  2  0\\n  6  7  1  0\\n  7  8  1  0\\n  8  9  1  0\\n  9 10  1  6\\n  9 11  1  0\\n 11 12  1  0\\n 12 13  2  0\\n 13 14  1  0\\n 14 15  2  0\\n 15 16  1  0\\n 15 17  1  0\\n 17 18  1  0\\n 18 19  1  0\\n 17 20  2  0\\n 20 21  1  0\\n  8 22  2  0\\n 22 23  1  0\\n 23 24  2  0\\n 24  3  1  0\\n 23  6  1  0\\n 20 12  1  0\\n  1 25  1  0\\n  1 26  1  0\\n  1 27  1  0\\n  4 28  1  0\\n  5 29  1  0\\n 11 30  1  0\\n 11 31  1  0\\n 14 32  1  0\\n 16 33  1  0\\n 16 34  1  0\\n 16 35  1  0\\n 19 36  1  0\\n 19 37  1  0\\n 19 38  1  0\\n 21 39  1  0\\n 21 40  1  0\\n 21 41  1  0\\n 24 42  1  0\\nM  CHG  3   7  -1   9   1  10  -1\\nM  END\\n\",\"sdf\");\n\tviewer_1695082062833258.setStyle({\"stick\": {}});\n\tviewer_1695082062833258.setBackgroundColor(\"0xeeeeee\");\n\tviewer_1695082062833258.zoomTo();\nviewer_1695082062833258.render();\n});\n</script>",
      "text/html": [
       "<div id=\"3dmolviewer_1695082062833258\"  style=\"position: relative; width: 400px; height: 400px\">\n",
       "        <p id=\"3dmolwarning_1695082062833258\" style=\"background-color:#ffcccc;color:black\">You appear to be running in JupyterLab (or JavaScript failed to load for some other reason).  You need to install the 3dmol extension: <br>\n",
       "        <tt>jupyter labextension install jupyterlab_3dmol</tt></p>\n",
       "        </div>\n",
       "<script>\n",
       "\n",
       "var loadScriptAsync = function(uri){\n",
       "  return new Promise((resolve, reject) => {\n",
       "    //this is to ignore the existence of requirejs amd\n",
       "    var savedexports, savedmodule;\n",
       "    if (typeof exports !== 'undefined') savedexports = exports;\n",
       "    else exports = {}\n",
       "    if (typeof module !== 'undefined') savedmodule = module;\n",
       "    else module = {}\n",
       "\n",
       "    var tag = document.createElement('script');\n",
       "    tag.src = uri;\n",
       "    tag.async = true;\n",
       "    tag.onload = () => {\n",
       "        exports = savedexports;\n",
       "        module = savedmodule;\n",
       "        resolve();\n",
       "    };\n",
       "  var firstScriptTag = document.getElementsByTagName('script')[0];\n",
       "  firstScriptTag.parentNode.insertBefore(tag, firstScriptTag);\n",
       "});\n",
       "};\n",
       "\n",
       "if(typeof $3Dmolpromise === 'undefined') {\n",
       "$3Dmolpromise = null;\n",
       "  $3Dmolpromise = loadScriptAsync('https://cdnjs.cloudflare.com/ajax/libs/3Dmol/2.0.1/3Dmol-min.js');\n",
       "}\n",
       "\n",
       "var viewer_1695082062833258 = null;\n",
       "var warn = document.getElementById(\"3dmolwarning_1695082062833258\");\n",
       "if(warn) {\n",
       "    warn.parentNode.removeChild(warn);\n",
       "}\n",
       "$3Dmolpromise.then(function() {\n",
       "viewer_1695082062833258 = $3Dmol.createViewer(document.getElementById(\"3dmolviewer_1695082062833258\"),{backgroundColor:\"white\"});\n",
       "viewer_1695082062833258.zoomTo();\n",
       "\tviewer_1695082062833258.removeAllModels();\n",
       "\tviewer_1695082062833258.addModel(\"\\n     RDKit          3D\\n\\n 42 44  0  0  0  0  0  0  0  0999 V2000\\n    8.2505    0.6339   -0.1321 C   0  0  0  0  0  0  0  0  0  0  0  0\\n    7.6878   -0.6078    0.2367 O   0  0  0  0  0  0  0  0  0  0  0  0\\n    6.2982   -0.7728    0.2279 C   0  0  0  0  0  0  0  0  0  0  0  0\\n    5.7267   -1.9666    0.5812 C   0  0  0  0  0  0  0  0  0  0  0  0\\n    4.3668   -2.1553    0.5812 C   0  0  0  0  0  0  0  0  0  0  0  0\\n    3.5636   -1.1169    0.2168 C   0  0  0  0  0  0  0  0  0  0  0  0\\n    2.2327   -0.9552    0.1070 N   0  0  0  0  0  2  0  0  0  0  0  0\\n    1.9417    0.2738   -0.2953 C   0  0  0  0  0  0  0  0  0  0  0  0\\n    0.3770    1.0278   -0.6031 S   0  0  0  0  0  3  0  0  0  0  0  0\\n    0.0730    0.7106   -2.2390 O   0  0  0  0  0  1  0  0  0  0  0  0\\n   -0.8002    0.0025    0.2744 C   0  0  0  0  0  0  0  0  0  0  0  0\\n   -2.1607    0.4973    0.1188 C   0  0  0  0  0  0  0  0  0  0  0  0\\n   -2.3542    1.6031   -0.6244 N   0  0  0  0  0  0  0  0  0  0  0  0\\n   -3.5488    2.1481   -0.8380 C   0  0  0  0  0  0  0  0  0  0  0  0\\n   -4.6488    1.5396   -0.2615 C   0  0  0  0  0  0  0  0  0  0  0  0\\n   -5.9811    2.1503   -0.5017 C   0  0  0  0  0  0  0  0  0  0  0  0\\n   -4.4968    0.4016    0.5098 C   0  0  0  0  0  0  0  0  0  0  0  0\\n   -5.6385   -0.1646    1.0626 O   0  0  0  0  0  0  0  0  0  0  0  0\\n   -6.3042   -1.1453    0.2784 C   0  0  0  0  0  0  0  0  0  0  0  0\\n   -3.2339   -0.1130    0.6928 C   0  0  0  0  0  0  0  0  0  0  0  0\\n   -3.0716   -1.3255    1.5146 C   0  0  0  0  0  0  0  0  0  0  0  0\\n    3.1124    0.9125   -0.4463 N   0  0  0  0  0  0  0  0  0  0  0  0\\n    4.1339    0.0881   -0.1401 C   0  0  0  0  0  0  0  0  0  0  0  0\\n    5.4894    0.2747   -0.1396 C   0  0  0  0  0  0  0  0  0  0  0  0\\n    8.1272    0.8697   -1.1961 H   0  0  0  0  0  0  0  0  0  0  0  0\\n    9.3185    0.5992    0.1862 H   0  0  0  0  0  0  0  0  0  0  0  0\\n    7.7592    1.4666    0.4423 H   0  0  0  0  0  0  0  0  0  0  0  0\\n    6.3534   -2.8059    0.8748 H   0  0  0  0  0  0  0  0  0  0  0  0\\n    3.9017   -3.1060    0.8621 H   0  0  0  0  0  0  0  0  0  0  0  0\\n   -0.5368    0.1049    1.3692 H   0  0  0  0  0  0  0  0  0  0  0  0\\n   -0.6552   -1.0636    0.0427 H   0  0  0  0  0  0  0  0  0  0  0  0\\n   -3.6296    3.0449   -1.4512 H   0  0  0  0  0  0  0  0  0  0  0  0\\n   -6.7242    1.7007    0.1999 H   0  0  0  0  0  0  0  0  0  0  0  0\\n   -5.9499    3.2524   -0.3407 H   0  0  0  0  0  0  0  0  0  0  0  0\\n   -6.2925    1.9781   -1.5687 H   0  0  0  0  0  0  0  0  0  0  0  0\\n   -6.0380   -1.0802   -0.7852 H   0  0  0  0  0  0  0  0  0  0  0  0\\n   -7.4083   -1.0762    0.3958 H   0  0  0  0  0  0  0  0  0  0  0  0\\n   -6.0134   -2.1409    0.7102 H   0  0  0  0  0  0  0  0  0  0  0  0\\n   -2.0382   -1.4958    1.8575 H   0  0  0  0  0  0  0  0  0  0  0  0\\n   -3.4303   -2.2479    1.0294 H   0  0  0  0  0  0  0  0  0  0  0  0\\n   -3.6860   -1.1836    2.4334 H   0  0  0  0  0  0  0  0  0  0  0  0\\n    5.9274    1.2426   -0.4272 H   0  0  0  0  0  0  0  0  0  0  0  0\\n  1  2  1  0\\n  2  3  1  0\\n  3  4  2  0\\n  4  5  1  0\\n  5  6  2  0\\n  6  7  1  0\\n  7  8  1  0\\n  8  9  1  0\\n  9 10  1  6\\n  9 11  1  0\\n 11 12  1  0\\n 12 13  2  0\\n 13 14  1  0\\n 14 15  2  0\\n 15 16  1  0\\n 15 17  1  0\\n 17 18  1  0\\n 18 19  1  0\\n 17 20  2  0\\n 20 21  1  0\\n  8 22  2  0\\n 22 23  1  0\\n 23 24  2  0\\n 24  3  1  0\\n 23  6  1  0\\n 20 12  1  0\\n  1 25  1  0\\n  1 26  1  0\\n  1 27  1  0\\n  4 28  1  0\\n  5 29  1  0\\n 11 30  1  0\\n 11 31  1  0\\n 14 32  1  0\\n 16 33  1  0\\n 16 34  1  0\\n 16 35  1  0\\n 19 36  1  0\\n 19 37  1  0\\n 19 38  1  0\\n 21 39  1  0\\n 21 40  1  0\\n 21 41  1  0\\n 24 42  1  0\\nM  CHG  3   7  -1   9   1  10  -1\\nM  END\\n\",\"sdf\");\n",
       "\tviewer_1695082062833258.setStyle({\"stick\": {}});\n",
       "\tviewer_1695082062833258.setBackgroundColor(\"0xeeeeee\");\n",
       "\tviewer_1695082062833258.zoomTo();\n",
       "viewer_1695082062833258.render();\n",
       "});\n",
       "</script>"
      ]
     },
     "metadata": {},
     "output_type": "display_data"
    }
   ],
   "source": [
    "IPythonConsole.drawMol3D(esomeprazole,confId=2)"
   ]
  },
  {
   "cell_type": "code",
   "execution_count": null,
   "metadata": {},
   "outputs": [],
   "source": []
  }
 ],
 "metadata": {
  "kernelspec": {
   "display_name": "Python 3.10.5 ('drug')",
   "language": "python",
   "name": "python3"
  },
  "language_info": {
   "codemirror_mode": {
    "name": "ipython",
    "version": 3
   },
   "file_extension": ".py",
   "mimetype": "text/x-python",
   "name": "python",
   "nbconvert_exporter": "python",
   "pygments_lexer": "ipython3",
   "version": "3.10.5"
  },
  "orig_nbformat": 4,
  "vscode": {
   "interpreter": {
    "hash": "4be48062bcea28b40a1b789ff53145dac9db9f14078d0f1ade24dd61622d5f40"
   }
  }
 },
 "nbformat": 4,
 "nbformat_minor": 2
}
