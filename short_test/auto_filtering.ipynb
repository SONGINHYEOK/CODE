{
 "cells": [
  {
   "cell_type": "code",
   "execution_count": 1,
   "metadata": {},
   "outputs": [],
   "source": [
    "import pandas as pd"
   ]
  },
  {
   "cell_type": "code",
   "execution_count": 37,
   "metadata": {},
   "outputs": [
    {
     "name": "stdout",
     "output_type": "stream",
     "text": [
      "Int64Index([  2,  92, 183, 276, 278, 312, 373, 374, 421, 435, 441, 496, 508,\n",
      "            522, 525, 532, 541, 554, 570, 591, 618, 621, 636, 645, 654, 656,\n",
      "            662, 666, 670, 672, 756, 761, 767, 778, 810, 817, 823, 825, 842,\n",
      "            843, 860, 862, 883, 993],\n",
      "           dtype='int64')\n",
      "Int64Index([  4,   7,  15,  26,  77,  78,  83,  85,  90,  94, 121, 126, 130,\n",
      "            142, 145, 151, 156, 161, 168, 170, 173, 175, 183, 185, 214, 238,\n",
      "            239, 251, 264, 275, 318, 331, 332, 385, 400, 409, 424, 458, 465,\n",
      "            480, 545, 549, 559, 566, 567, 568, 570, 575, 576, 605, 609, 616,\n",
      "            651, 659, 678, 690, 694, 740, 884, 916, 928, 943, 998],\n",
      "           dtype='int64')\n",
      "Int64Index([  0,  57,  66,  68,  99, 105, 106, 112, 118, 132, 134, 145, 155,\n",
      "            181, 205, 215, 216, 312, 320, 348, 359, 364, 374, 459, 481, 493,\n",
      "            495, 536, 544, 561, 598, 609, 646, 649, 690, 709, 716, 753, 788,\n",
      "            793, 819, 853, 871, 890, 900, 902, 919, 953, 995],\n",
      "           dtype='int64')\n",
      "Int64Index([  4,  26,  31,  45,  53, 116, 142, 160, 161, 170, 172, 185, 188,\n",
      "            210, 213, 219, 229, 273, 277, 288, 366, 375, 378, 400],\n",
      "           dtype='int64')\n"
     ]
    }
   ],
   "source": [
    "file_list = [ 'app_drug_cal_' + str(i) for i in range(1,5)]\n",
    "for file in file_list: \n",
    "    df = pd.read_csv(f\"/Users/song-inhyeok/CODING/short_test/{file}_total.csv\")\n",
    "    idx = df[df['SMILES'].isnull()].index\n",
    "    print(idx)\n",
    "    df.drop(idx , inplace=True)\n",
    "    "
   ]
  },
  {
   "cell_type": "code",
   "execution_count": 7,
   "metadata": {},
   "outputs": [],
   "source": [
    "df = pd.read_csv(\"/Users/song-inhyeok/CODING/short_test/app_drug_cal_1_total.csv\")"
   ]
  },
  {
   "cell_type": "code",
   "execution_count": 28,
   "metadata": {},
   "outputs": [],
   "source": [
    "df2 = df.copy()\n",
    "df3 = df.copy()"
   ]
  },
  {
   "cell_type": "code",
   "execution_count": 30,
   "metadata": {},
   "outputs": [
    {
     "name": "stdout",
     "output_type": "stream",
     "text": [
      "<class 'pandas.core.frame.DataFrame'>\n",
      "RangeIndex: 999 entries, 0 to 998\n",
      "Columns: 260 entries, LogP to id\n",
      "dtypes: float64(194), int64(1), object(65)\n",
      "memory usage: 2.0+ MB\n",
      "<class 'pandas.core.frame.DataFrame'>\n",
      "RangeIndex: 999 entries, 0 to 998\n",
      "Columns: 260 entries, LogP to id\n",
      "dtypes: float64(194), int64(1), object(65)\n",
      "memory usage: 2.0+ MB\n"
     ]
    }
   ],
   "source": [
    "df2.info()\n",
    "df3.info()"
   ]
  },
  {
   "cell_type": "code",
   "execution_count": 32,
   "metadata": {},
   "outputs": [
    {
     "name": "stdout",
     "output_type": "stream",
     "text": [
      "Int64Index([  2,  92, 183, 276, 278, 312, 373, 374, 421, 435, 441, 496, 508,\n",
      "            522, 525, 532, 541, 554, 570, 591, 618, 621, 636, 645, 654, 656,\n",
      "            662, 666, 670, 672, 756, 761, 767, 778, 810, 817, 823, 825, 842,\n",
      "            843, 860, 862, 883, 993],\n",
      "           dtype='int64')\n"
     ]
    }
   ],
   "source": [
    "idx = df2[df2['SMILES'].isnull()].index\n",
    "print(idx)\n",
    "df2.drop(idx , inplace=True)\n",
    "\n"
   ]
  },
  {
   "cell_type": "code",
   "execution_count": 33,
   "metadata": {},
   "outputs": [
    {
     "name": "stdout",
     "output_type": "stream",
     "text": [
      "<class 'pandas.core.frame.DataFrame'>\n",
      "Int64Index: 955 entries, 0 to 998\n",
      "Columns: 260 entries, LogP to id\n",
      "dtypes: float64(194), int64(1), object(65)\n",
      "memory usage: 1.9+ MB\n"
     ]
    }
   ],
   "source": [
    "df2.info()"
   ]
  },
  {
   "cell_type": "code",
   "execution_count": 34,
   "metadata": {},
   "outputs": [],
   "source": [
    "df3 = df3[df3['SMILES'].isnull()==True]"
   ]
  },
  {
   "cell_type": "code",
   "execution_count": 35,
   "metadata": {},
   "outputs": [
    {
     "name": "stdout",
     "output_type": "stream",
     "text": [
      "<class 'pandas.core.frame.DataFrame'>\n",
      "Int64Index: 44 entries, 2 to 993\n",
      "Columns: 260 entries, LogP to id\n",
      "dtypes: float64(194), int64(1), object(65)\n",
      "memory usage: 89.7+ KB\n"
     ]
    }
   ],
   "source": [
    "df3.info()"
   ]
  },
  {
   "cell_type": "code",
   "execution_count": null,
   "metadata": {},
   "outputs": [],
   "source": []
  }
 ],
 "metadata": {
  "kernelspec": {
   "display_name": "Python 3.8.12 ('office')",
   "language": "python",
   "name": "python3"
  },
  "language_info": {
   "codemirror_mode": {
    "name": "ipython",
    "version": 3
   },
   "file_extension": ".py",
   "mimetype": "text/x-python",
   "name": "python",
   "nbconvert_exporter": "python",
   "pygments_lexer": "ipython3",
   "version": "3.8.12"
  },
  "orig_nbformat": 4,
  "vscode": {
   "interpreter": {
    "hash": "eeeefe9f7c2ef922ee7d986a271539a14ed3f09c3dad4812770ae7ab598d2111"
   }
  }
 },
 "nbformat": 4,
 "nbformat_minor": 2
}
