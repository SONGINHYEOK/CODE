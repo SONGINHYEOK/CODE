{
 "cells": [
  {
   "cell_type": "code",
   "execution_count": 2,
   "metadata": {},
   "outputs": [],
   "source": [
    "import os\n",
    "import sys\n",
    "sys.path.append('../')\n",
    "import math\n",
    "import time\n",
    "import copy\n",
    "import argparse\n",
    "import numpy as np\n",
    "import ast\n",
    "from rdkit import Chem\n",
    "from rdkit.Geometry import Point3D\n",
    "from pandas import DataFrame\n",
    "from sqlalchemy import create_engine, engine\n",
    "from Bio.PDB import PDBParser"
   ]
  },
  {
   "cell_type": "code",
   "execution_count": 5,
   "metadata": {},
   "outputs": [
    {
     "name": "stdout",
     "output_type": "stream",
     "text": [
      "['A1:', '37.3630', '17.8290', '58.8270']\n"
     ]
    },
    {
     "data": {
      "text/plain": [
       "'\\nrecAtomList = []\\nparser = PDBParser()\\nstructure = parser.get_structure(site_info_list[0], site_info_list[1])\\n'"
      ]
     },
     "execution_count": 5,
     "metadata": {},
     "output_type": "execute_result"
    }
   ],
   "source": [
    "f = open('/Users/song-inhyeok/Documents/BIChem/data/vs_1v4s_01.txt', \"r\")\n",
    "site_info_list = f.readlines()[0].split()\n",
    "print(site_info_list)\n",
    "f.close()\n",
    "\"\"\"\n",
    "recAtomList = []\n",
    "parser = PDBParser()\n",
    "structure = parser.get_structure(site_info_list[0], site_info_list[1])\n",
    "\"\"\""
   ]
  },
  {
   "cell_type": "code",
   "execution_count": null,
   "metadata": {},
   "outputs": [],
   "source": []
  }
 ],
 "metadata": {
  "interpreter": {
   "hash": "eeeefe9f7c2ef922ee7d986a271539a14ed3f09c3dad4812770ae7ab598d2111"
  },
  "kernelspec": {
   "display_name": "Python 3.8.12 ('office')",
   "language": "python",
   "name": "python3"
  },
  "language_info": {
   "codemirror_mode": {
    "name": "ipython",
    "version": 3
   },
   "file_extension": ".py",
   "mimetype": "text/x-python",
   "name": "python",
   "nbconvert_exporter": "python",
   "pygments_lexer": "ipython3",
   "version": "3.8.12"
  },
  "orig_nbformat": 4
 },
 "nbformat": 4,
 "nbformat_minor": 2
}
