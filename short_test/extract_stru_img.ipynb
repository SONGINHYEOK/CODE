{
 "cells": [
  {
   "cell_type": "code",
   "execution_count": 1,
   "metadata": {},
   "outputs": [],
   "source": [
    "import os\n",
    "from os import listdir\n",
    "from os.path import isfile, join\n",
    "import time\n",
    "import pandas as pd\n",
    "import numpy as np\n",
    "import multiprocessing\n",
    "\n",
    "from datetime import date\n",
    "from multiprocessing import Process, current_process\n",
    "from rdkit import Chem, RDConfig\n",
    "from rdkit.Chem import MolStandardize, Draw, AllChem, rdMolAlign\n",
    "from google.cloud import storage\n",
    "import time\n",
    "import psycopg2\n",
    "from sqlalchemy import desc, select\n",
    "import sqlalchemy\n"
   ]
  },
  {
   "cell_type": "code",
   "execution_count": 11,
   "metadata": {},
   "outputs": [
    {
     "name": "stderr",
     "output_type": "stream",
     "text": [
      "RDKit ERROR: [14:03:57] ERROR: Explicit valence for atom # 2 C, 5, is greater than permitted\n",
      "[14:03:57] ERROR: Explicit valence for atom # 2 C, 5, is greater than permitted\n",
      "[14:12:03] Explicit valence for atom # 11 C, 5, is greater than permitted\n",
      "RDKit ERROR: [14:12:03] Explicit valence for atom # 11 C, 5, is greater than permitted\n",
      "RDKit ERROR: [14:12:03] ERROR: Could not sanitize molecule ending on line 112\n",
      "[14:12:03] ERROR: Could not sanitize molecule ending on line 112\n"
     ]
    },
    {
     "name": "stdout",
     "output_type": "stream",
     "text": [
      "/Users/song-inhyeok/Documents/ligan_result//DEMO_1_lig_gen_fit_add_gna.sdf 1 번째 화합물 오류\n"
     ]
    },
    {
     "name": "stderr",
     "output_type": "stream",
     "text": [
      "RDKit ERROR: [14:12:03] ERROR: Explicit valence for atom # 11 C, 5, is greater than permitted\n",
      "[14:12:03] ERROR: Explicit valence for atom # 11 C, 5, is greater than permitted\n",
      "[14:12:04] Explicit valence for atom # 9 C, 5, is greater than permitted\n",
      "RDKit ERROR: [14:12:04] Explicit valence for atom # 9 C, 5, is greater than permitted\n",
      "RDKit ERROR: [14:12:04] ERROR: Could not sanitize molecule ending on line 118\n",
      "[14:12:04] ERROR: Could not sanitize molecule ending on line 118\n",
      "RDKit ERROR: [14:12:04] ERROR: Explicit valence for atom # 9 C, 5, is greater than permitted\n",
      "[14:12:04] ERROR: Explicit valence for atom # 9 C, 5, is greater than permitted\n",
      "[14:12:04] Explicit valence for atom # 3 C, 5, is greater than permitted\n",
      "RDKit ERROR: [14:12:04] Explicit valence for atom # 3 C, 5, is greater than permitted\n",
      "RDKit ERROR: [14:12:04] ERROR: Could not sanitize molecule ending on line 52\n",
      "[14:12:04] ERROR: Could not sanitize molecule ending on line 52\n",
      "RDKit ERROR: [14:12:04] ERROR: Explicit valence for atom # 3 C, 5, is greater than permitted\n",
      "RDKit ERROR: [14:12:04] Explicit valence for atom # 2 C, 5, is greater than permitted\n",
      "RDKit ERROR: [14:12:04] ERROR: Could not sanitize molecule ending on line 192\n",
      "[14:12:04] ERROR: Explicit valence for atom # 3 C, 5, is greater than permitted\n",
      "[14:12:04] Explicit valence for atom # 2 C, 5, is greater than permitted\n",
      "[14:12:04] ERROR: Could not sanitize molecule ending on line 192\n",
      "RDKit ERROR: [14:12:04] ERROR: Explicit valence for atom # 2 C, 5, is greater than permitted\n",
      "RDKit ERROR: [14:12:04] Explicit valence for atom # 0 C, 5, is greater than permitted\n",
      "[14:12:04] ERROR: Explicit valence for atom # 2 C, 5, is greater than permitted\n",
      "[14:12:04] Explicit valence for atom # 0 C, 5, is greater than permitted\n",
      "RDKit ERROR: [14:12:04] ERROR: Could not sanitize molecule ending on line 403\n",
      "[14:12:04] ERROR: Could not sanitize molecule ending on line 403\n",
      "RDKit ERROR: [14:12:04] ERROR: Explicit valence for atom # 0 C, 5, is greater than permitted\n",
      "[14:12:04] ERROR: Explicit valence for atom # 0 C, 5, is greater than permitted\n",
      "[14:12:04] Explicit valence for atom # 8 C, 5, is greater than permitted\n",
      "RDKit ERROR: [14:12:04] Explicit valence for atom # 8 C, 5, is greater than permitted\n",
      "RDKit ERROR: [14:12:04] ERROR: Could not sanitize molecule ending on line 374\n",
      "[14:12:04] ERROR: Could not sanitize molecule ending on line 374\n",
      "RDKit ERROR: [14:12:04] ERROR: Explicit valence for atom # 8 C, 5, is greater than permitted\n",
      "[14:12:04] ERROR: Explicit valence for atom # 8 C, 5, is greater than permitted\n",
      "[14:12:04] Explicit valence for atom # 9 C, 5, is greater than permitted\n",
      "RDKit ERROR: [14:12:04] Explicit valence for atom # 9 C, 5, is greater than permitted\n",
      "RDKit ERROR: [14:12:04] ERROR: Could not sanitize molecule ending on line 580\n",
      "[14:12:04] ERROR: Could not sanitize molecule ending on line 580\n"
     ]
    },
    {
     "name": "stdout",
     "output_type": "stream",
     "text": [
      "/Users/song-inhyeok/Documents/ligan_result//DEMO_7_lig_gen_fit_add_gna.sdf 1 번째 화합물 오류\n",
      "/Users/song-inhyeok/Documents/ligan_result//DEMO_8_lig_gen_fit_add_gna.sdf 0 번째 화합물 오류\n",
      "/Users/song-inhyeok/Documents/ligan_result//DEMO_8_lig_gen_fit_add_gna.sdf 2 번째 화합물 오류\n",
      "/Users/song-inhyeok/Documents/ligan_result//DEMO_8_lig_gen_fit_add_gna.sdf 5 번째 화합물 오류\n",
      "/Users/song-inhyeok/Documents/ligan_result//DEMO_11_lig_gen_fit_add_gna.sdf 5 번째 화합물 오류\n",
      "/Users/song-inhyeok/Documents/ligan_result//DEMO_11_lig_gen_fit_add_gna.sdf 8 번째 화합물 오류\n"
     ]
    },
    {
     "name": "stderr",
     "output_type": "stream",
     "text": [
      "RDKit ERROR: [14:12:04] ERROR: Explicit valence for atom # 9 C, 5, is greater than permitted\n",
      "[14:12:04] ERROR: Explicit valence for atom # 9 C, 5, is greater than permitted\n",
      "[14:12:04] Explicit valence for atom # 0 C, 5, is greater than permitted\n",
      "RDKit ERROR: [14:12:04] Explicit valence for atom # 0 C, 5, is greater than permitted\n",
      "RDKit ERROR: [14:12:04] ERROR: Could not sanitize molecule ending on line 333\n",
      "[14:12:04] ERROR: Could not sanitize molecule ending on line 333\n",
      "RDKit ERROR: [14:12:04] ERROR: Explicit valence for atom # 0 C, 5, is greater than permitted\n",
      "[14:12:04] ERROR: Explicit valence for atom # 0 C, 5, is greater than permitted\n",
      "[14:12:04] Explicit valence for atom # 1 C, 5, is greater than permitted\n",
      "RDKit ERROR: [14:12:04] Explicit valence for atom # 1 C, 5, is greater than permitted\n",
      "RDKit ERROR: [14:12:04] ERROR: Could not sanitize molecule ending on line 135\n",
      "[14:12:04] ERROR: Could not sanitize molecule ending on line 135\n"
     ]
    },
    {
     "name": "stdout",
     "output_type": "stream",
     "text": [
      "/Users/song-inhyeok/Documents/ligan_result//DEMO_14_lig_gen_fit_add_gna.sdf 5 번째 화합물 오류\n",
      "/Users/song-inhyeok/Documents/ligan_result//DEMO_19_lig_gen_fit_add_gna.sdf 1 번째 화합물 오류\n",
      "/Users/song-inhyeok/Documents/ligan_result//DEMO_19_lig_gen_fit_add_gna.sdf 5 번째 화합물 오류\n",
      "/Users/song-inhyeok/Documents/ligan_result//DEMO_20_lig_gen_fit_add_gna.sdf 4 번째 화합물 오류\n",
      "/Users/song-inhyeok/Documents/ligan_result//DEMO_20_lig_gen_fit_add_gna.sdf 5 번째 화합물 오류\n",
      "/Users/song-inhyeok/Documents/ligan_result//DEMO_21_lig_gen_fit_add_gna.sdf 6 번째 화합물 오류\n",
      "/Users/song-inhyeok/Documents/ligan_result//DEMO_22_lig_gen_fit_add_gna.sdf 2 번째 화합물 오류\n",
      "/Users/song-inhyeok/Documents/ligan_result//DEMO_22_lig_gen_fit_add_gna.sdf 3 번째 화합물 오류\n",
      "/Users/song-inhyeok/Documents/ligan_result//DEMO_22_lig_gen_fit_add_gna.sdf 4 번째 화합물 오류\n"
     ]
    },
    {
     "name": "stderr",
     "output_type": "stream",
     "text": [
      "RDKit ERROR: [14:12:04] ERROR: Explicit valence for atom # 1 C, 5, is greater than permitted\n",
      "[14:12:04] ERROR: Explicit valence for atom # 1 C, 5, is greater than permitted\n",
      "[14:12:04] Explicit valence for atom # 3 C, 5, is greater than permitted\n",
      "RDKit ERROR: [14:12:04] Explicit valence for atom # 3 C, 5, is greater than permitted\n",
      "RDKit ERROR: [14:12:04] ERROR: Could not sanitize molecule ending on line 427\n",
      "[14:12:04] ERROR: Could not sanitize molecule ending on line 427\n",
      "RDKit ERROR: [14:12:04] ERROR: Explicit valence for atom # 3 C, 5, is greater than permitted\n",
      "[14:12:04] ERROR: Explicit valence for atom # 3 C, 5, is greater than permitted\n",
      "[14:12:04] Explicit valence for atom # 9 C, 5, is greater than permitted\n",
      "RDKit ERROR: [14:12:04] Explicit valence for atom # 9 C, 5, is greater than permitted\n",
      "RDKit ERROR: [14:12:04] ERROR: Could not sanitize molecule ending on line 351\n",
      "[14:12:04] ERROR: Could not sanitize molecule ending on line 351\n",
      "RDKit ERROR: [14:12:04] ERROR: Explicit valence for atom # 9 C, 5, is greater than permitted\n",
      "RDKit ERROR: [14:12:04] Explicit valence for atom # 3 C, 5, is greater than permitted\n",
      "RDKit ERROR: [14:12:04] ERROR: Could not sanitize molecule ending on line 438\n",
      "[14:12:04] ERROR: Explicit valence for atom # 9 C, 5, is greater than permitted\n",
      "[14:12:04] Explicit valence for atom # 3 C, 5, is greater than permitted\n",
      "[14:12:04] ERROR: Could not sanitize molecule ending on line 438\n",
      "RDKit ERROR: [14:12:04] ERROR: Explicit valence for atom # 3 C, 5, is greater than permitted\n",
      "[14:12:04] ERROR: Explicit valence for atom # 3 C, 5, is greater than permitted\n",
      "[14:12:04] Explicit valence for atom # 1 C, 5, is greater than permitted\n",
      "RDKit ERROR: [14:12:04] Explicit valence for atom # 1 C, 5, is greater than permitted\n",
      "RDKit ERROR: [14:12:04] ERROR: Could not sanitize molecule ending on line 523\n",
      "[14:12:04] ERROR: Could not sanitize molecule ending on line 523\n",
      "RDKit ERROR: [14:12:04] ERROR: Explicit valence for atom # 1 C, 5, is greater than permitted\n",
      "[14:12:04] ERROR: Explicit valence for atom # 1 C, 5, is greater than permitted\n",
      "[14:12:04] Explicit valence for atom # 5 C, 5, is greater than permitted\n",
      "RDKit ERROR: [14:12:04] Explicit valence for atom # 5 C, 5, is greater than permitted\n",
      "RDKit ERROR: [14:12:04] ERROR: Could not sanitize molecule ending on line 197\n",
      "RDKit ERROR: [14:12:04] ERROR: Explicit valence for atom # 5 C, 5, is greater than permitted\n",
      "RDKit ERROR: [14:12:04] Explicit valence for atom # 1 C, 5, is greater than permitted\n",
      "RDKit ERROR: [14:12:04] ERROR: Could not sanitize molecule ending on line 273\n",
      "[14:12:04] ERROR: Could not sanitize molecule ending on line 197\n",
      "RDKit ERROR: [14:12:04] ERROR: Explicit valence for atom # 1 C, 5, is greater than permitted\n",
      "RDKit ERROR: [14:12:04] Explicit valence for atom # 12 C, 5, is greater than permitted\n",
      "RDKit ERROR: [14:12:04] ERROR: Could not sanitize molecule ending on line 345\n",
      "[14:12:04] ERROR: Explicit valence for atom # 5 C, 5, is greater than permitted\n",
      "[14:12:04] Explicit valence for atom # 1 C, 5, is greater than permitted\n",
      "[14:12:04] ERROR: Could not sanitize molecule ending on line 273\n",
      "[14:12:04] ERROR: Explicit valence for atom # 1 C, 5, is greater than permitted\n",
      "[14:12:04] Explicit valence for atom # 12 C, 5, is greater than permitted\n",
      "[14:12:04] ERROR: Could not sanitize molecule ending on line 345\n"
     ]
    }
   ],
   "source": [
    "path = '/Users/song-inhyeok/Documents/ligan_result/'\n",
    "path2 = '/Users/song-inhyeok/Documents/ligan_result/gen_per_100/data/3d_gen/1V4S_gen/gen_input.types'\n",
    "\n",
    "file_list = [ 'DEMO_' + str(i) + '_lig_gen_fit_add_gna.sdf' for i in range(23)]\n",
    "\n",
    "list_file = open(path2, 'r')\n",
    "lines = list_file.readlines()\n",
    "\n",
    "for i, file in enumerate(file_list):\n",
    "    #if i == 0 or i == 1:\n",
    "    #    continue\n",
    "    file_name = path + '/' + file\n",
    "    sdf = Chem.SDMolSupplier(file_name)\n",
    "    mol_3d_list = open(file_name, 'r').read().split('$$$$')\n",
    "    \n",
    "    #conf_id = lines[i].split('/')[-1].split('_')[-1].split('.')[0].replace('\\n', '')\n",
    "    #conformer = self.session.query(Conformer).filter_by(id=conf_id).first()\n",
    "    #print(conf_id)\n",
    "    \n",
    "    for j, mol in enumerate(sdf):\n",
    "        mol_3d = mol_3d_list[j].lstrip()\n",
    "        if mol == None:\n",
    "            f = open('error_list.sdf', 'a')\n",
    "            f.write(mol_3d)\n",
    "            f.write('\\n')\n",
    "            f.close()\n",
    "            print(file_name, j, '번째 화합물 오류')\n",
    "            continue\n",
    "        gen_smiles = Chem.MolToSmiles(mol)\n",
    "    \n",
    "        save_dir = '/Users/song-inhyeok/Documents/ligan_result/img'\n",
    "        mol_img = Chem.MolFromSmiles(gen_smiles)\n",
    "        image_path = os.path.join(save_dir, file+\"_\"+str(j) + '.png')\n",
    "        if not os.path.exists(image_path):\n",
    "            # print(image_path)\n",
    "            Draw.MolToFile(mol_img, image_path)"
   ]
  },
  {
   "cell_type": "code",
   "execution_count": null,
   "metadata": {},
   "outputs": [],
   "source": []
  }
 ],
 "metadata": {
  "kernelspec": {
   "display_name": "Python 3.8.12 ('office')",
   "language": "python",
   "name": "python3"
  },
  "language_info": {
   "codemirror_mode": {
    "name": "ipython",
    "version": 3
   },
   "file_extension": ".py",
   "mimetype": "text/x-python",
   "name": "python",
   "nbconvert_exporter": "python",
   "pygments_lexer": "ipython3",
   "version": "3.8.12"
  },
  "orig_nbformat": 4,
  "vscode": {
   "interpreter": {
    "hash": "eeeefe9f7c2ef922ee7d986a271539a14ed3f09c3dad4812770ae7ab598d2111"
   }
  }
 },
 "nbformat": 4,
 "nbformat_minor": 2
}
