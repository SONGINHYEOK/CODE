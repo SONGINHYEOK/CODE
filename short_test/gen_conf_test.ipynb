{
 "cells": [
  {
   "cell_type": "code",
   "execution_count": 1,
   "metadata": {},
   "outputs": [],
   "source": [
    "import pandas as pd\n"
   ]
  },
  {
   "cell_type": "code",
   "execution_count": 25,
   "metadata": {},
   "outputs": [],
   "source": [
    "\n",
    "def read_sdf(path):\n",
    "        sdf_file = open(path, 'r')\n",
    "        content = sdf_file.read()\n",
    "        mol_list = content.split(\"$$$$\\n\")\n",
    "        mol_dic = {}\n",
    "        for mol in mol_list:\n",
    "            if mol == \"\":\n",
    "                continue\n",
    "            id = mol.split(\"\\n\", 1)[0]\n",
    "            mol_dic.update({id: mol})\n",
    "        sdf_file.close()\n",
    "        return mol_dic\n",
    "\n",
    "def read_conf(path):\n",
    "    sdf_file = open(path, 'r')\n",
    "    id_list = []\n",
    "    mol_list = []\n",
    "    content = sdf_file.read()\n",
    "    sdf_list = content.split(\"$$$$\\n\")\n",
    "    sdf_file.close()\n",
    "    mol_dic = read_sdf(path)\n",
    "\n",
    "    for sdf in sdf_list:\n",
    "        if sdf == \"\":\n",
    "            continue\n",
    "        mol_parts = sdf.split(\"M  END\\n\")\n",
    "        mol_parts.remove(mol_parts[1])\n",
    "        mol_parts.append(\"M  END\")\n",
    "        mol = ''.join(mol_parts)\n",
    "        id = mol.split(\"\\n\", 1)[0]\n",
    "        mol_list.append(mol)\n",
    "        id_list.append(id)\n",
    "\n",
    "    dict = {'id': id_list, 'mol_3d': mol_list}\n",
    "    df = pd.DataFrame(dict)\n",
    "    return df"
   ]
  },
  {
   "cell_type": "code",
   "execution_count": 33,
   "metadata": {},
   "outputs": [],
   "source": [
    "info = '/Users/song-inhyeok/Downloads/929135777-out.sdf'\n",
    "tf = pd.DataFrame()"
   ]
  },
  {
   "cell_type": "code",
   "execution_count": 34,
   "metadata": {},
   "outputs": [
    {
     "name": "stderr",
     "output_type": "stream",
     "text": [
      "/var/folders/z8/c06r1kl565d25jxr6yb7rvq00000gn/T/ipykernel_17748/628299755.py:2: FutureWarning: The frame.append method is deprecated and will be removed from pandas in a future version. Use pandas.concat instead.\n",
      "  tf = tf.append(df_conf)\n"
     ]
    }
   ],
   "source": [
    "df_conf=read_conf(info)\n",
    "tf = tf.append(df_conf)"
   ]
  },
  {
   "cell_type": "code",
   "execution_count": 28,
   "metadata": {},
   "outputs": [
    {
     "data": {
      "text/html": [
       "<div>\n",
       "<style scoped>\n",
       "    .dataframe tbody tr th:only-of-type {\n",
       "        vertical-align: middle;\n",
       "    }\n",
       "\n",
       "    .dataframe tbody tr th {\n",
       "        vertical-align: top;\n",
       "    }\n",
       "\n",
       "    .dataframe thead th {\n",
       "        text-align: right;\n",
       "    }\n",
       "</style>\n",
       "<table border=\"1\" class=\"dataframe\">\n",
       "  <thead>\n",
       "    <tr style=\"text-align: right;\">\n",
       "      <th></th>\n",
       "      <th>id</th>\n",
       "      <th>mol_3d</th>\n",
       "    </tr>\n",
       "  </thead>\n",
       "  <tbody>\n",
       "    <tr>\n",
       "      <th>0</th>\n",
       "      <td></td>\n",
       "      <td>\\n                    3D\\n Schrodinger Suite 2...</td>\n",
       "    </tr>\n",
       "    <tr>\n",
       "      <th>1</th>\n",
       "      <td></td>\n",
       "      <td>\\n                    3D\\n Schrodinger Suite 2...</td>\n",
       "    </tr>\n",
       "    <tr>\n",
       "      <th>2</th>\n",
       "      <td></td>\n",
       "      <td>\\n                    3D\\n Schrodinger Suite 2...</td>\n",
       "    </tr>\n",
       "    <tr>\n",
       "      <th>3</th>\n",
       "      <td></td>\n",
       "      <td>\\n                    3D\\n Schrodinger Suite 2...</td>\n",
       "    </tr>\n",
       "  </tbody>\n",
       "</table>\n",
       "</div>"
      ],
      "text/plain": [
       "  id                                             mol_3d\n",
       "0     \\n                    3D\\n Schrodinger Suite 2...\n",
       "1     \\n                    3D\\n Schrodinger Suite 2...\n",
       "2     \\n                    3D\\n Schrodinger Suite 2...\n",
       "3     \\n                    3D\\n Schrodinger Suite 2..."
      ]
     },
     "execution_count": 28,
     "metadata": {},
     "output_type": "execute_result"
    }
   ],
   "source": [
    "df_conf"
   ]
  },
  {
   "cell_type": "code",
   "execution_count": 35,
   "metadata": {},
   "outputs": [
    {
     "data": {
      "text/html": [
       "<div>\n",
       "<style scoped>\n",
       "    .dataframe tbody tr th:only-of-type {\n",
       "        vertical-align: middle;\n",
       "    }\n",
       "\n",
       "    .dataframe tbody tr th {\n",
       "        vertical-align: top;\n",
       "    }\n",
       "\n",
       "    .dataframe thead th {\n",
       "        text-align: right;\n",
       "    }\n",
       "</style>\n",
       "<table border=\"1\" class=\"dataframe\">\n",
       "  <thead>\n",
       "    <tr style=\"text-align: right;\">\n",
       "      <th></th>\n",
       "      <th>id</th>\n",
       "      <th>mol_3d</th>\n",
       "    </tr>\n",
       "  </thead>\n",
       "  <tbody>\n",
       "    <tr>\n",
       "      <th>0</th>\n",
       "      <td></td>\n",
       "      <td>\\n                    3D\\n Schrodinger Suite 2...</td>\n",
       "    </tr>\n",
       "    <tr>\n",
       "      <th>1</th>\n",
       "      <td></td>\n",
       "      <td>\\n                    3D\\n Schrodinger Suite 2...</td>\n",
       "    </tr>\n",
       "    <tr>\n",
       "      <th>2</th>\n",
       "      <td></td>\n",
       "      <td>\\n                    3D\\n Schrodinger Suite 2...</td>\n",
       "    </tr>\n",
       "    <tr>\n",
       "      <th>3</th>\n",
       "      <td></td>\n",
       "      <td>\\n                    3D\\n Schrodinger Suite 2...</td>\n",
       "    </tr>\n",
       "  </tbody>\n",
       "</table>\n",
       "</div>"
      ],
      "text/plain": [
       "  id                                             mol_3d\n",
       "0     \\n                    3D\\n Schrodinger Suite 2...\n",
       "1     \\n                    3D\\n Schrodinger Suite 2...\n",
       "2     \\n                    3D\\n Schrodinger Suite 2...\n",
       "3     \\n                    3D\\n Schrodinger Suite 2..."
      ]
     },
     "execution_count": 35,
     "metadata": {},
     "output_type": "execute_result"
    }
   ],
   "source": [
    "tf"
   ]
  },
  {
   "cell_type": "code",
   "execution_count": 36,
   "metadata": {},
   "outputs": [
    {
     "name": "stdout",
     "output_type": "stream",
     "text": [
      "<class 'pandas.core.frame.DataFrame'>\n",
      "RangeIndex: 4 entries, 0 to 3\n",
      "Data columns (total 2 columns):\n",
      " #   Column  Non-Null Count  Dtype \n",
      "---  ------  --------------  ----- \n",
      " 0   id      4 non-null      object\n",
      " 1   mol_3d  4 non-null      object\n",
      "dtypes: object(2)\n",
      "memory usage: 192.0+ bytes\n"
     ]
    }
   ],
   "source": [
    "tf.info()"
   ]
  },
  {
   "cell_type": "code",
   "execution_count": null,
   "metadata": {},
   "outputs": [],
   "source": []
  }
 ],
 "metadata": {
  "interpreter": {
   "hash": "eeeefe9f7c2ef922ee7d986a271539a14ed3f09c3dad4812770ae7ab598d2111"
  },
  "kernelspec": {
   "display_name": "Python 3.8.12 ('office')",
   "language": "python",
   "name": "python3"
  },
  "language_info": {
   "codemirror_mode": {
    "name": "ipython",
    "version": 3
   },
   "file_extension": ".py",
   "mimetype": "text/x-python",
   "name": "python",
   "nbconvert_exporter": "python",
   "pygments_lexer": "ipython3",
   "version": "3.8.12"
  },
  "orig_nbformat": 4
 },
 "nbformat": 4,
 "nbformat_minor": 2
}
