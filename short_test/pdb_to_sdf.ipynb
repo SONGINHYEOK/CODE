{
 "cells": [
  {
   "cell_type": "code",
   "execution_count": 9,
   "metadata": {},
   "outputs": [],
   "source": [
    "from rdkit import RDConfig\n",
    "import os, sys, copy\n",
    "import unittest\n",
    "import math\n",
    "from rdkit import Chem\n",
    "from rdkit.Chem import rdMolAlign, rdMolTransforms, rdMolDescriptors, rdDistGeom, ChemicalForceFields\n",
    "from openbabel import pybel\n",
    "from rdkit.Chem import AllChem, rdMolAlign"
   ]
  },
  {
   "cell_type": "code",
   "execution_count": 15,
   "metadata": {},
   "outputs": [],
   "source": [
    "from rdkit.Chem import PandasTools"
   ]
  },
  {
   "cell_type": "code",
   "execution_count": 16,
   "metadata": {},
   "outputs": [
    {
     "data": {
      "text/plain": [
       "<rdkit.Chem.rdmolfiles.SDMolSupplier at 0x1797042c0>"
      ]
     },
     "execution_count": 16,
     "metadata": {},
     "output_type": "execute_result"
    }
   ],
   "source": [
    "Chem.SDMolSupplier('/Users/song-inhyeok/Downloads/2src_B_ANP.sdf')"
   ]
  },
  {
   "cell_type": "code",
   "execution_count": 19,
   "metadata": {},
   "outputs": [
    {
     "data": {
      "text/plain": [
       "<rdkit.Chem.rdmolfiles.SDMolSupplier at 0x17d92d810>"
      ]
     },
     "execution_count": 19,
     "metadata": {},
     "output_type": "execute_result"
    }
   ],
   "source": [
    "Chem.SDMolSupplier(\"/Users/song-inhyeok/Documents/PDB/ligand/2src_A_ANP_1.sdf\")"
   ]
  },
  {
   "cell_type": "code",
   "execution_count": 22,
   "metadata": {},
   "outputs": [],
   "source": [
    "frame = PandasTools.LoadSDF('/Users/song-inhyeok/Downloads/2src_B_ANP.sdf',smilesName='SMILES',molColName='Molecule',\n",
    "           includeFingerprints=True, removeHs=False, strictParsing=True)"
   ]
  },
  {
   "cell_type": "code",
   "execution_count": 20,
   "metadata": {},
   "outputs": [],
   "source": [
    "frame = PandasTools.LoadSDF(,s\"/Users/song-inhyeok/Documents/PDB/ligand/2src_A_ANP_1.sdf\"milesName='SMILES',molColName='Molecule',\n",
    "           includeFingerprints=True, removeHs=False, strictParsing=True)"
   ]
  },
  {
   "cell_type": "code",
   "execution_count": 30,
   "metadata": {},
   "outputs": [
    {
     "name": "stdout",
     "output_type": "stream",
     "text": [
      "/Users/song-inhyeok/Documents/PDB/ligand/2src_A_ANP_1.pdb\n",
      "     RDKit          3D\n",
      "\n",
      " 31 33  0  0  1  0  0  0  0  0999 V2000\n",
      "   10.8530   19.1150   59.7040 P   0  0  0  0  0  0  0  0  0  0  0  0\n",
      "   10.0910   17.8950   59.2120 O   0  0  0  0  0  0  0  0  0  0  0  0\n",
      "   11.6050   19.8620   58.6260 O   0  0  0  0  0  0  0  0  0  0  0  0\n",
      "   10.0760   20.0170   60.6300 O   0  0  0  0  0  0  0  0  0  0  0  0\n",
      "   13.4370   17.6900   60.3530 P   0  0  2  0  0  0  0  0  0  0  0  0\n",
      "   13.0480   16.2480   60.5240 O   0  0  0  0  0  0  0  0  0  0  0  0\n",
      "   14.6220   18.0050   61.1540 O   0  0  0  0  0  0  0  0  0  0  0  0\n",
      "   12.0690   18.4630   60.7010 N   0  0  0  0  0  0  0  0  0  0  0  0\n",
      "   14.4540   18.7530   57.5800 P   0  0  1  0  0  0  0  0  0  0  0  0\n",
      "   13.6860   18.4690   56.3040 O   0  0  0  0  0  0  0  0  0  0  0  0\n",
      "   14.3740   20.1890   58.0450 O   0  0  0  0  0  0  0  0  0  0  0  0\n",
      "   13.9990   17.7460   58.7680 O   0  0  0  0  0  0  0  0  0  0  0  0\n",
      "   15.9740   18.2830   57.4370 O   0  0  0  0  0  0  0  0  0  0  0  0\n",
      "   16.6900   18.5590   58.6400 C   0  0  0  0  0  0  0  0  0  0  0  0\n",
      "   18.0730   17.9160   58.5170 C   0  0  1  0  0  0  0  0  0  0  0  0\n",
      "   18.8600   18.8550   57.8210 O   0  0  0  0  0  0  0  0  0  0  0  0\n",
      "   18.8570   17.8160   59.7720 C   0  0  1  0  0  0  0  0  0  0  0  0\n",
      "   19.9430   16.9770   59.4480 O   0  0  0  0  0  0  0  0  0  0  0  0\n",
      "   19.4650   19.2230   59.9260 C   0  0  1  0  0  0  0  0  0  0  0  0\n",
      "   20.7060   19.2850   60.5770 O   0  0  0  0  0  0  0  0  0  0  0  0\n",
      "   19.7320   19.7010   58.5530 C   0  0  2  0  0  0  0  0  0  0  0  0\n",
      "   19.6290   21.1900   58.3340 N   0  0  0  0  0  0  0  0  0  0  0  0\n",
      "   18.4840   21.8850   58.1720 C   0  0  0  0  0  0  0  0  0  0  0  0\n",
      "   18.7290   23.1800   58.0010 N   0  0  0  0  0  0  0  0  0  0  0  0\n",
      "   20.0600   23.3060   58.0520 C   0  0  0  0  0  0  0  0  0  0  0  0\n",
      "   20.8380   24.4980   57.9270 C   0  0  0  0  0  0  0  0  0  0  0  0\n",
      "   20.2040   25.6890   57.7210 N   0  0  0  0  0  0  0  0  0  0  0  0\n",
      "   22.2110   24.4110   58.0130 N   0  0  0  0  0  0  0  0  0  0  0  0\n",
      "   22.7240   23.1670   58.2240 C   0  0  0  0  0  0  0  0  0  0  0  0\n",
      "   21.9970   22.0420   58.3500 N   0  0  0  0  0  0  0  0  0  0  0  0\n",
      "   20.6470   22.0660   58.2730 C   0  0  0  0  0  0  0  0  0  0  0  0\n",
      "  1  4  1  0\n",
      "  1  8  1  0\n",
      "  2  1  1  0\n",
      "  3  1  2  0\n",
      "  5  6  2  0\n",
      "  5  8  1  0\n",
      "  5  7  1  0\n",
      "  9 10  2  0\n",
      "  9 11  1  0\n",
      "  9 12  1  0\n",
      " 12  5  1  0\n",
      " 13  9  1  0\n",
      " 13 14  1  0\n",
      " 15 14  1  1\n",
      " 15 17  1  0\n",
      " 16 15  1  0\n",
      " 16 21  1  0\n",
      " 17 19  1  0\n",
      " 17 18  1  6\n",
      " 19 20  1  1\n",
      " 21 19  1  0\n",
      " 21 22  1  1\n",
      " 23 22  1  0\n",
      " 24 25  1  0\n",
      " 24 23  2  0\n",
      " 25 31  2  0\n",
      " 26 28  2  0\n",
      " 26 25  1  0\n",
      " 27 26  1  0\n",
      " 28 29  1  0\n",
      " 29 30  2  0\n",
      " 31 22  1  0\n",
      " 31 30  1  0\n",
      "M  END\n",
      "\n"
     ]
    }
   ],
   "source": [
    "suppl = Chem.SDMolSupplier(\"/Users/song-inhyeok/Documents/PDB/ligand/2src_A_ANP_1.sdf\")\n",
    "for mol_3d in suppl:\n",
    "    mol_3d_block= Chem.MolToMolBlock(mol_3d)\n",
    "    print(mol_3d_block)"
   ]
  },
  {
   "cell_type": "code",
   "execution_count": 14,
   "metadata": {},
   "outputs": [
    {
     "name": "stdout",
     "output_type": "stream",
     "text": [
      "[<rdkit.Chem.rdchem.Mol object at 0x12a1b2580>]\n"
     ]
    },
    {
     "ename": "ArgumentError",
     "evalue": "Python argument types in\n    rdkit.Chem.rdmolfiles.MolToMolBlock(list)\ndid not match C++ signature:\n    MolToMolBlock(RDKit::ROMol mol, bool includeStereo=True, int confId=-1, bool kekulize=True, bool forceV3000=False)",
     "output_type": "error",
     "traceback": [
      "\u001b[0;31m---------------------------------------------------------------------------\u001b[0m",
      "\u001b[0;31mArgumentError\u001b[0m                             Traceback (most recent call last)",
      "\u001b[1;32m/Users/song-inhyeok/Documents/coding/pdb_to_sdf.ipynb Cell 8'\u001b[0m in \u001b[0;36m<module>\u001b[0;34m\u001b[0m\n\u001b[1;32m      <a href='vscode-notebook-cell:/Users/song-inhyeok/Documents/coding/pdb_to_sdf.ipynb#ch0000007?line=1'>2</a>\u001b[0m mol \u001b[39m=\u001b[39m [x \u001b[39mfor\u001b[39;00m x \u001b[39min\u001b[39;00m suppl \u001b[39mif\u001b[39;00m x \u001b[39mis\u001b[39;00m \u001b[39mnot\u001b[39;00m \u001b[39mNone\u001b[39;00m]\n\u001b[1;32m      <a href='vscode-notebook-cell:/Users/song-inhyeok/Documents/coding/pdb_to_sdf.ipynb#ch0000007?line=2'>3</a>\u001b[0m \u001b[39mprint\u001b[39m(mol)\n\u001b[0;32m----> <a href='vscode-notebook-cell:/Users/song-inhyeok/Documents/coding/pdb_to_sdf.ipynb#ch0000007?line=3'>4</a>\u001b[0m mol_3d\u001b[39m=\u001b[39m Chem\u001b[39m.\u001b[39;49mMolToMolBlock(mol)\n",
      "\u001b[0;31mArgumentError\u001b[0m: Python argument types in\n    rdkit.Chem.rdmolfiles.MolToMolBlock(list)\ndid not match C++ signature:\n    MolToMolBlock(RDKit::ROMol mol, bool includeStereo=True, int confId=-1, bool kekulize=True, bool forceV3000=False)"
     ]
    }
   ],
   "source": [
    "with Chem.SDMolSupplier(\"/Users/song-inhyeok/Documents/PDB/ligand/2src_A_ANP_1.sdf\") as suppl:\n",
    "    mol = [x for x in suppl if x is not None]\n",
    "    print(mol)\n",
    "    mol_3d= Chem.MolToMolBlock(mol)"
   ]
  },
  {
   "cell_type": "code",
   "execution_count": 17,
   "metadata": {},
   "outputs": [
    {
     "ename": "ArgumentError",
     "evalue": "Python argument types in\n    rdkit.Chem.rdmolfiles.MolToMolBlock(list)\ndid not match C++ signature:\n    MolToMolBlock(RDKit::ROMol mol, bool includeStereo=True, int confId=-1, bool kekulize=True, bool forceV3000=False)",
     "output_type": "error",
     "traceback": [
      "\u001b[0;31m---------------------------------------------------------------------------\u001b[0m",
      "\u001b[0;31mArgumentError\u001b[0m                             Traceback (most recent call last)",
      "\u001b[1;32m/Users/song-inhyeok/Documents/coding/pdb_to_sdf.ipynb Cell 9'\u001b[0m in \u001b[0;36m<module>\u001b[0;34m\u001b[0m\n\u001b[1;32m      <a href='vscode-notebook-cell:/Users/song-inhyeok/Documents/coding/pdb_to_sdf.ipynb#ch0000017?line=0'>1</a>\u001b[0m \u001b[39mwith\u001b[39;00m Chem\u001b[39m.\u001b[39mSDMolSupplier(\u001b[39m\"\u001b[39m\u001b[39m/Users/song-inhyeok/Documents/PDB/ligand/2src_A_ANP_1.sdf\u001b[39m\u001b[39m\"\u001b[39m) \u001b[39mas\u001b[39;00m suppl:\n\u001b[1;32m      <a href='vscode-notebook-cell:/Users/song-inhyeok/Documents/coding/pdb_to_sdf.ipynb#ch0000017?line=1'>2</a>\u001b[0m     mol \u001b[39m=\u001b[39m [x \u001b[39mfor\u001b[39;00m x \u001b[39min\u001b[39;00m suppl \u001b[39mif\u001b[39;00m x \u001b[39mis\u001b[39;00m \u001b[39mnot\u001b[39;00m \u001b[39mNone\u001b[39;00m]\n\u001b[0;32m----> <a href='vscode-notebook-cell:/Users/song-inhyeok/Documents/coding/pdb_to_sdf.ipynb#ch0000017?line=2'>3</a>\u001b[0m     mol_3d\u001b[39m=\u001b[39m Chem\u001b[39m.\u001b[39;49mMolToMolBlock(mol)\n\u001b[1;32m      <a href='vscode-notebook-cell:/Users/song-inhyeok/Documents/coding/pdb_to_sdf.ipynb#ch0000017?line=3'>4</a>\u001b[0m     \u001b[39mprint\u001b[39m(mol_3d)\n",
      "\u001b[0;31mArgumentError\u001b[0m: Python argument types in\n    rdkit.Chem.rdmolfiles.MolToMolBlock(list)\ndid not match C++ signature:\n    MolToMolBlock(RDKit::ROMol mol, bool includeStereo=True, int confId=-1, bool kekulize=True, bool forceV3000=False)"
     ]
    }
   ],
   "source": [
    "with Chem.SDMolSupplier(\"/Users/song-inhyeok/Documents/PDB/ligand/2src_A_ANP_1.sdf\") as suppl:\n",
    "    mol = [x for x in suppl if x is not None]\n",
    "    mol_3d= Chem.MolToMolBlock(mol)\n",
    "    print(mol_3d)"
   ]
  },
  {
   "cell_type": "code",
   "execution_count": 6,
   "metadata": {},
   "outputs": [
    {
     "ename": "ArgumentError",
     "evalue": "Python argument types in\n    rdkit.Chem.rdmolfiles.MolToMolBlock(list)\ndid not match C++ signature:\n    MolToMolBlock(RDKit::ROMol mol, bool includeStereo=True, int confId=-1, bool kekulize=True, bool forceV3000=False)",
     "output_type": "error",
     "traceback": [
      "\u001b[0;31m---------------------------------------------------------------------------\u001b[0m",
      "\u001b[0;31mArgumentError\u001b[0m                             Traceback (most recent call last)",
      "\u001b[1;32m/Users/song-inhyeok/Documents/coding/pdb_to_sdf.ipynb Cell 9'\u001b[0m in \u001b[0;36m<module>\u001b[0;34m\u001b[0m\n\u001b[0;32m----> <a href='vscode-notebook-cell:/Users/song-inhyeok/Documents/coding/pdb_to_sdf.ipynb#ch0000016?line=0'>1</a>\u001b[0m mol_3d\u001b[39m=\u001b[39m Chem\u001b[39m.\u001b[39;49mMolToMolBlock(mol)\n",
      "\u001b[0;31mArgumentError\u001b[0m: Python argument types in\n    rdkit.Chem.rdmolfiles.MolToMolBlock(list)\ndid not match C++ signature:\n    MolToMolBlock(RDKit::ROMol mol, bool includeStereo=True, int confId=-1, bool kekulize=True, bool forceV3000=False)"
     ]
    }
   ],
   "source": [
    "mol_3d= Chem.MolToMolBlock(mol)"
   ]
  },
  {
   "cell_type": "code",
   "execution_count": 28,
   "metadata": {},
   "outputs": [
    {
     "data": {
      "text/plain": [
       "[<rdkit.Chem.rdchem.Mol at 0x17d9b7340>]"
      ]
     },
     "execution_count": 28,
     "metadata": {},
     "output_type": "execute_result"
    }
   ],
   "source": [
    "mol_3d"
   ]
  },
  {
   "cell_type": "code",
   "execution_count": 29,
   "metadata": {},
   "outputs": [
    {
     "ename": "ArgumentError",
     "evalue": "Python argument types in\n    rdkit.Chem.rdmolfiles.MolToMolBlock(list)\ndid not match C++ signature:\n    MolToMolBlock(RDKit::ROMol mol, bool includeStereo=True, int confId=-1, bool kekulize=True, bool forceV3000=False)",
     "output_type": "error",
     "traceback": [
      "\u001b[0;31m---------------------------------------------------------------------------\u001b[0m",
      "\u001b[0;31mArgumentError\u001b[0m                             Traceback (most recent call last)",
      "\u001b[1;32m/Users/song-inhyeok/Documents/coding/pdb_to_sdf.ipynb Cell 10'\u001b[0m in \u001b[0;36m<module>\u001b[0;34m\u001b[0m\n\u001b[0;32m----> <a href='vscode-notebook-cell:/Users/song-inhyeok/Documents/coding/pdb_to_sdf.ipynb#ch0000015?line=0'>1</a>\u001b[0m mol_3d_block\u001b[39m=\u001b[39m Chem\u001b[39m.\u001b[39;49mMolToMolBlock(mol_3d)\n",
      "\u001b[0;31mArgumentError\u001b[0m: Python argument types in\n    rdkit.Chem.rdmolfiles.MolToMolBlock(list)\ndid not match C++ signature:\n    MolToMolBlock(RDKit::ROMol mol, bool includeStereo=True, int confId=-1, bool kekulize=True, bool forceV3000=False)"
     ]
    }
   ],
   "source": [
    "mol_3d_block= Chem.MolToMolBlock(mol_3d)"
   ]
  },
  {
   "cell_type": "code",
   "execution_count": null,
   "metadata": {},
   "outputs": [],
   "source": [
    "mol_3d = Chem.MolFromMol2File(,sanitize =False, removeHs=False)"
   ]
  },
  {
   "cell_type": "code",
   "execution_count": 1,
   "metadata": {},
   "outputs": [
    {
     "name": "stdout",
     "output_type": "stream",
     "text": [
      "['.sdf', '.DS_Store', '2src_A_PTR_527.sdf', '.mol2', '2src_A_ANP_1.sdf']\n"
     ]
    }
   ],
   "source": [
    "ligand_list = os.listdir(\"/Users/song-inhyeok/Documents/PDB/ligand/\")\n",
    "\n",
    "print(ligand_list[:10])"
   ]
  },
  {
   "cell_type": "code",
   "execution_count": 6,
   "metadata": {},
   "outputs": [],
   "source": [
    "root=\"/Users/song-inhyeok/Downloads/custom/\""
   ]
  },
  {
   "cell_type": "code",
   "execution_count": 3,
   "metadata": {},
   "outputs": [
    {
     "name": "stdout",
     "output_type": "stream",
     "text": [
      "<generator object readfile.<locals>.filereader at 0x1076e2f20>\n"
     ]
    },
    {
     "ename": "OSError",
     "evalue": "No such file: '/Users/song-inhyeok/Downloads/custom/lig'",
     "output_type": "error",
     "traceback": [
      "\u001b[0;31m---------------------------------------------------------------------------\u001b[0m",
      "\u001b[0;31mOSError\u001b[0m                                   Traceback (most recent call last)",
      "\u001b[1;32m/Users/song-inhyeok/Documents/coding/pdb_to_sdf.ipynb Cell 16'\u001b[0m in \u001b[0;36m<module>\u001b[0;34m\u001b[0m\n\u001b[1;32m      <a href='vscode-notebook-cell:/Users/song-inhyeok/Documents/coding/pdb_to_sdf.ipynb#ch0000015?line=0'>1</a>\u001b[0m \u001b[39mfor\u001b[39;00m ligand \u001b[39min\u001b[39;00m ligand_list:\n\u001b[0;32m----> <a href='vscode-notebook-cell:/Users/song-inhyeok/Documents/coding/pdb_to_sdf.ipynb#ch0000015?line=2'>3</a>\u001b[0m     mol \u001b[39m=\u001b[39m pybel\u001b[39m.\u001b[39;49mreadfile(\u001b[39m\"\u001b[39;49m\u001b[39mpdb\u001b[39;49m\u001b[39m\"\u001b[39;49m, root\u001b[39m+\u001b[39;49mligand)\n\u001b[1;32m      <a href='vscode-notebook-cell:/Users/song-inhyeok/Documents/coding/pdb_to_sdf.ipynb#ch0000015?line=3'>4</a>\u001b[0m     \u001b[39m#mol.write('sdf',f'/Users/song-inhyeok/Documents/PDB/ligand/{mol.title}.sdf', overwrite=True)\u001b[39;00m\n\u001b[1;32m      <a href='vscode-notebook-cell:/Users/song-inhyeok/Documents/coding/pdb_to_sdf.ipynb#ch0000015?line=4'>5</a>\u001b[0m     \u001b[39mprint\u001b[39m(mol)\n",
      "File \u001b[0;32m/opt/homebrew/Caskroom/miniforge/base/envs/office/lib/python3.8/site-packages/openbabel/pybel.py:161\u001b[0m, in \u001b[0;36mreadfile\u001b[0;34m(format, filename, opt)\u001b[0m\n\u001b[1;32m    <a href='file:///opt/homebrew/Caskroom/miniforge/base/envs/office/lib/python3.8/site-packages/openbabel/pybel.py?line=158'>159</a>\u001b[0m     \u001b[39mraise\u001b[39;00m \u001b[39mValueError\u001b[39;00m(\u001b[39m\"\u001b[39m\u001b[39m%s\u001b[39;00m\u001b[39m is not a recognised Open Babel format\u001b[39m\u001b[39m\"\u001b[39m \u001b[39m%\u001b[39m \u001b[39mformat\u001b[39m)\n\u001b[1;32m    <a href='file:///opt/homebrew/Caskroom/miniforge/base/envs/office/lib/python3.8/site-packages/openbabel/pybel.py?line=159'>160</a>\u001b[0m \u001b[39mif\u001b[39;00m \u001b[39mnot\u001b[39;00m os\u001b[39m.\u001b[39mpath\u001b[39m.\u001b[39misfile(filename):\n\u001b[0;32m--> <a href='file:///opt/homebrew/Caskroom/miniforge/base/envs/office/lib/python3.8/site-packages/openbabel/pybel.py?line=160'>161</a>\u001b[0m     \u001b[39mraise\u001b[39;00m \u001b[39mIOError\u001b[39;00m(\u001b[39m\"\u001b[39m\u001b[39mNo such file: \u001b[39m\u001b[39m'\u001b[39m\u001b[39m%s\u001b[39;00m\u001b[39m'\u001b[39m\u001b[39m\"\u001b[39m \u001b[39m%\u001b[39m filename)\n\u001b[1;32m    <a href='file:///opt/homebrew/Caskroom/miniforge/base/envs/office/lib/python3.8/site-packages/openbabel/pybel.py?line=162'>163</a>\u001b[0m \u001b[39mdef\u001b[39;00m \u001b[39mfilereader\u001b[39m():\n\u001b[1;32m    <a href='file:///opt/homebrew/Caskroom/miniforge/base/envs/office/lib/python3.8/site-packages/openbabel/pybel.py?line=163'>164</a>\u001b[0m     obmol \u001b[39m=\u001b[39m ob\u001b[39m.\u001b[39mOBMol()\n",
      "\u001b[0;31mOSError\u001b[0m: No such file: '/Users/song-inhyeok/Downloads/custom/lig'"
     ]
    }
   ],
   "source": [
    "\n",
    "for ligand in ligand_list:\n",
    "    \n",
    "    mol = pybel.readfile(\"pdb\", root+ligand)\n",
    "    #mol.write('sdf',f'/Users/song-inhyeok/Documents/PDB/ligand/{mol.title}.sdf', overwrite=True)\n",
    "    print(mol)\n",
    "\n"
   ]
  },
  {
   "cell_type": "code",
   "execution_count": 10,
   "metadata": {},
   "outputs": [],
   "source": [
    "ligand_list = os.listdir(\"/Users/song-inhyeok/Downloads/custom/lig\")"
   ]
  },
  {
   "cell_type": "code",
   "execution_count": 11,
   "metadata": {},
   "outputs": [
    {
     "name": "stdout",
     "output_type": "stream",
     "text": [
      "4235318\n",
      "     RDKit          3D\n",
      "\n",
      " 21 23  0  0  1  0  0  0  0  0999 V2000\n",
      "   43.5111   12.1956   61.5520 O   0  0  0  0  0  0  0  0  0  0  0  0\n",
      "   42.6264   12.4094   62.3863 C   0  0  0  0  0  0  0  0  0  0  0  0\n",
      "   41.9320   13.7262   62.5704 C   0  0  0  0  0  0  0  0  0  0  0  0\n",
      "   42.4433   14.6704   63.4587 C   0  0  0  0  0  0  0  0  0  0  0  0\n",
      "   41.8055   15.8971   63.6371 C   0  0  0  0  0  0  0  0  0  0  0  0\n",
      "   40.6478   16.1831   62.9226 C   0  0  0  0  0  0  0  0  0  0  0  0\n",
      "   39.9677   17.4009   63.0645 N   0  0  0  0  0  0  0  0  0  0  0  0\n",
      "   38.8363   17.7613   62.4094 C   0  0  0  0  0  0  0  0  0  0  0  0\n",
      "   38.2754   18.8511   62.5721 O   0  0  0  0  0  0  0  0  0  0  0  0\n",
      "   38.2691   16.7219   61.4282 C   0  0  0  0  0  0  0  0  0  0  0  0\n",
      "   37.2407   16.9552   60.7824 O   0  0  0  0  0  0  0  0  0  0  0  0\n",
      "   38.9639   15.5612   61.3279 N   0  0  0  0  0  0  0  0  0  0  0  0\n",
      "   40.1335   15.2360   62.0304 C   0  0  0  0  0  0  0  0  0  0  0  0\n",
      "   40.7722   14.0120   61.8541 C   0  0  0  0  0  0  0  0  0  0  0  0\n",
      "   42.1716   11.4756   63.2425 N   0  0  0  0  0  0  0  0  0  0  0  0\n",
      "   41.1186   11.7586   64.2209 C   0  0  0  0  0  0  0  0  0  0  0  0\n",
      "   40.7568   10.3651   64.7319 C   0  0  0  0  0  0  0  0  0  0  0  0\n",
      "   42.0419    9.5624   64.5791 C   0  0  0  0  0  0  0  0  0  0  0  0\n",
      "   42.6691   10.0966   63.2927 C   0  0  0  0  0  0  0  0  0  0  0  0\n",
      "   44.1670   10.0210   63.3125 C   0  0  0  0  0  0  0  0  0  0  0  0\n",
      "   44.5803    9.3847   64.4652 O   0  0  0  0  0  0  0  0  0  0  0  0\n",
      "  1  2  2  0\n",
      "  2  3  1  0\n",
      "  2 15  1  0\n",
      "  3 14  1  0\n",
      "  3  4  2  0\n",
      "  4  5  1  0\n",
      "  5  6  2  0\n",
      "  6 13  1  0\n",
      "  6  7  1  0\n",
      "  7  8  1  0\n",
      "  8  9  2  0\n",
      "  8 10  1  0\n",
      " 10 11  2  0\n",
      " 10 12  1  0\n",
      " 12 13  1  0\n",
      " 13 14  2  0\n",
      " 15 19  1  0\n",
      " 15 16  1  0\n",
      " 16 17  1  0\n",
      " 17 18  1  0\n",
      " 18 19  1  0\n",
      " 19 20  1  0\n",
      " 20 21  1  0\n",
      "M  END\n",
      "\n"
     ]
    }
   ],
   "source": [
    "suppl = Chem.SDMolSupplier(\"/Users/song-inhyeok/Downloads/custom/lig/1V4S_conf_4279442436.sdf\")\n",
    "for mol_3d in suppl:\n",
    "    mol_3d_block= Chem.MolToMolBlock(mol_3d)\n",
    "    print(mol_3d_block)"
   ]
  },
  {
   "cell_type": "code",
   "execution_count": 24,
   "metadata": {},
   "outputs": [
    {
     "name": "stdout",
     "output_type": "stream",
     "text": [
      "<openbabel.openbabel.OBMol; proxy of <Swig Object of type 'OpenBabel::OBMol *' at 0x106cb6450> >\n",
      "<openbabel.openbabel.OBMol; proxy of <Swig Object of type 'OpenBabel::OBMol *' at 0x106cb6450> >\n",
      "<openbabel.openbabel.OBMol; proxy of <Swig Object of type 'OpenBabel::OBMol *' at 0x106cb6450> >\n",
      "<openbabel.openbabel.OBMol; proxy of <Swig Object of type 'OpenBabel::OBMol *' at 0x106cb6450> >\n",
      "<openbabel.openbabel.OBMol; proxy of <Swig Object of type 'OpenBabel::OBMol *' at 0x106cb6450> >\n",
      "<openbabel.openbabel.OBMol; proxy of <Swig Object of type 'OpenBabel::OBMol *' at 0x106cb6450> >\n",
      "<openbabel.openbabel.OBMol; proxy of <Swig Object of type 'OpenBabel::OBMol *' at 0x106cb6450> >\n",
      "<openbabel.openbabel.OBMol; proxy of <Swig Object of type 'OpenBabel::OBMol *' at 0x106cb6450> >\n",
      "<openbabel.openbabel.OBMol; proxy of <Swig Object of type 'OpenBabel::OBMol *' at 0x106cb6450> >\n",
      "<openbabel.openbabel.OBMol; proxy of <Swig Object of type 'OpenBabel::OBMol *' at 0x106cb6450> >\n",
      "<openbabel.openbabel.OBMol; proxy of <Swig Object of type 'OpenBabel::OBMol *' at 0x106cb6450> >\n",
      "<openbabel.openbabel.OBMol; proxy of <Swig Object of type 'OpenBabel::OBMol *' at 0x106cb6450> >\n",
      "<openbabel.openbabel.OBMol; proxy of <Swig Object of type 'OpenBabel::OBMol *' at 0x106cb6450> >\n",
      "<openbabel.openbabel.OBMol; proxy of <Swig Object of type 'OpenBabel::OBMol *' at 0x106cb6450> >\n",
      "<openbabel.openbabel.OBMol; proxy of <Swig Object of type 'OpenBabel::OBMol *' at 0x106cb6450> >\n",
      "<openbabel.openbabel.OBMol; proxy of <Swig Object of type 'OpenBabel::OBMol *' at 0x106cb6450> >\n",
      "<openbabel.openbabel.OBMol; proxy of <Swig Object of type 'OpenBabel::OBMol *' at 0x106cb6450> >\n",
      "<openbabel.openbabel.OBMol; proxy of <Swig Object of type 'OpenBabel::OBMol *' at 0x106cb6450> >\n",
      "<openbabel.openbabel.OBMol; proxy of <Swig Object of type 'OpenBabel::OBMol *' at 0x106cb6450> >\n",
      "<openbabel.openbabel.OBMol; proxy of <Swig Object of type 'OpenBabel::OBMol *' at 0x106cb6450> >\n",
      "<openbabel.openbabel.OBMol; proxy of <Swig Object of type 'OpenBabel::OBMol *' at 0x106cb6450> >\n",
      "<openbabel.openbabel.OBMol; proxy of <Swig Object of type 'OpenBabel::OBMol *' at 0x106cb6450> >\n",
      "<openbabel.openbabel.OBMol; proxy of <Swig Object of type 'OpenBabel::OBMol *' at 0x106cb6450> >\n"
     ]
    }
   ],
   "source": [
    "from openbabel import openbabel\n",
    "import os, sys, copy\n",
    "from openbabel import pybel\n",
    "\n",
    "ligand_list = os.listdir(\"/Users/song-inhyeok/Downloads/custom/lig\")\n",
    "\n",
    "obConversion = openbabel.OBConversion()\n",
    "obConversion.SetInAndOutFormats(\"sdf\", \"sdf\")\n",
    "\n",
    "mol = openbabel.OBMol()\n",
    "\n",
    "for ligand in ligand_list:\n",
    "    \n",
    "    name  = ligand.split(\".\")[0]\n",
    "    \n",
    "    obConversion.ReadFile(mol,  \"/Users/song-inhyeok/Downloads/custom/lig/1V4S_conf_4279442436.sdf\") # Open Babel will uncompress automatically\n",
    "    \n",
    "    print(mol)\n",
    "    "
   ]
  },
  {
   "cell_type": "code",
   "execution_count": null,
   "metadata": {},
   "outputs": [],
   "source": [
    "remove_dict = [' ', 'W', 'H_BYP','H_BWP', 'H_GLE','H_146', 'H_QNO', 'H_MON', 'H_CGN', 'H_NPP', 'H_AJ3', 'H_FAD', 'H_ATA', 'H_SNP', 'H_RR1', 'H_FR0', 'H_545', \n",
    "               'H_629', 'H_RAP', 'H_P1C', 'H_PU1', 'H_HWG', 'H_HF5','H_CAO','H_HEG','H_M6T','H_FR5','H_CAA', 'H_0ZY', 'H_BPH', 'H_858', 'H_BDU', 'H_SPF', \n",
    "               'H_AMO', 'H_AGA', 'H_1VU', 'H_AC1', 'H_KAB','H_SSH','H_R55', 'H_R69', 'H_C60',  'H_RU7', 'H_DMU', 'H_IME', 'H_W05', 'H_HEO', 'H_MCN', 'H_CLA',\n",
    "               'H_5PI', 'H_OEC', 'H_BCG', 'H_BCG', 'H_TL2', 'H_568', 'H_PEJ','H_MYY','H_PMH', 'H_GMM', 'H_NFC', 'H_IM1', 'H_HDM', 'H_WWF', 'H_FUA', 'H_AGS', \n",
    "               'H_PFZ', 'H_00R', 'H_MOF', 'H_FA3','H_LRU', 'H_LY3', 'H_PH1', 'H_SAH', 'H_3CL', 'H_CYF', 'H_CPX','H_SQA','H_AHX', 'H_N2C', 'H_PKF', 'H_D4D',\n",
    "               'H_ZAM', 'H_EPU', 'H_CLB','H_PCW','H_YOK','H_FDA','H_DFN','H_I01','H_SPM', 'H_UVC', 'H_CB3', 'H_N3T', 'H_TFK','H_CS8', 'H_BFI', 'H_MAN', 'H_5FE',\n",
    "               'H_BI1', 'H_IH3', 'H_IN9','H_JAS', 'H_DHE', 'H_ATC', 'H_0P1', 'H_OST','H_0ZN', 'H_HAM', 'H_BCL', 'H_0DB','H_HAS','H_U66', 'H_AIH', 'H_A15', 'H_FAB', \n",
    "               'H_ERT','H_TTG', 'H_DN2', 'H_A2M', 'H_C38','H_FAD','H_TI3', 'H_GDU', 'H_PGV', 'H_NOV', 'H_HH0', 'H_TGL',  'H_YOF', 'H_ZFB', 'H_SMA', 'H_HBR', 'H_RR6', \n",
    "               'H_PEK', 'H_R68', 'H_OTR', 'H_CBN','H_HMG', 'H_TL1', 'H_0E6','H_UMA', 'H_3CB', 'H_TZ5', 'H_PCD', 'H_P5B', 'H_PID', 'H_MF4', 'H_TFI', 'H_SAD', 'H_DND', \n",
    "               'H_BRZ', 'H_NS5', 'H_N1T', 'H_I12', 'H_AP8', 'H_PUY', 'H_IMZ', 'H_IH2', 'H_YYG', 'H_BET', 'H_853', 'H_SMG', 'H_ART', 'H_1SZ', 'H_MR2', 'H_CON', 'H_CHL', \n",
    "               'H_JAN', 'H_DTF', 'H_CO8', 'H_CMC', 'H_3NI', 'H_ROL', 'H_EOH', 'H_PRT', 'H_NGH', 'H_P27', 'H_CNF', 'H_CMK', 'H_VDZ', 'H_PVC', 'H_AB8', 'H_CUO', 'H_ATS', \n",
    "               'H_FMA', 'H_LY4', 'H_L04', 'H_TPG', 'H_CHQ', 'H_LVA', 'H_AO1', 'H_4CA','H_H2A', 'H_COH', 'H_TYD', 'H_CP3', 'H_0ZL', 'H_PSC', 'H_TNK', 'H_IMM', 'H_BAY', \n",
    "               'H_DRB', 'H_KT5', 'H_FCB', 'H_MS1', 'H_PVA', 'H_TSB', 'H_UPG', 'H_BAT', 'H_AZI', 'H_BI4', 'H_T42','H_PN1','H_L2O', 'H_00L', 'H_4CO', 'H_0Z3', 'H_TAO', \n",
    "               'H_LOS', 'H_OHH', 'H_RRS', 'H_BMV', 'H_YOL', 'H_RSH', 'H_B8L', 'H_HDD', 'H_SAM', 'H_EPE', 'H_IH1', 'H_H16', 'H_ATA', 'H_EP2', 'H_ACO', 'H_BCB', 'H_F42', \n",
    "               'H_TIT', 'H_0DS', 'H_TBI', 'H_BWP', 'H_H20', 'H_YOM', 'H_M91', 'H_FS2', 'H_4PP', 'H_NPG', 'H_5FP', 'H_F3S', 'H_PSB', 'H_JH0', 'H_DN1', 'H_WY4', 'H_CN1', \n",
    "               'H_0ZG', 'H_I04', 'H_UIP', 'H_HQC','H_PBM', 'H_FMI', 'H_YYB', 'H_CM3', 'H_PVB','H_PPB', 'H_TBU', 'H_ULA', 'H_NAX', 'H_SNI', 'H_KI2', 'H_SRN', 'H_BT2', \n",
    "               'H_CLF', 'H_CYU', 'H_KEU', 'H_LIL', 'H_BCM', 'H_FTC', 'H_745', 'H_570', 'H_PTR', 'H_XMB', 'H_4AX', 'H_STE', 'H_PLP', 'H_SB3', 'H_BSI', 'H_AKA', 'H_FAA', \n",
    "               'H_SCY', 'H_ZMR', 'H_Q82', 'H_SVR', 'H_T19', 'H_YCM', 'H_SPN', 'H_FTI', 'H_PU3', 'H_L01', 'H_STA', 'H_PIE', 'H_0IW', 'H_MGD', 'H_MBF', 'H_GW5', 'H_2BH', \n",
    "               'H_COA', 'H_189', 'H_T44', 'H_GR3', 'H_GUA', 'H_INN', 'H_5IU', 'H_BO4', 'H_MLT', 'H_ACY', 'H_0G7', 'H_HAX',  'H_FK5', 'H_PSR', 'H_ZRC', 'H_DGD', 'H_0QB', \n",
    "               'H_P1A', 'H_IYG', 'H_LME', 'H_LCP', 'H_PAX', 'H_4QQ', 'H_YBT', 'H_SVA', 'H_DCS', 'H_3CO', 'H_TAD', 'H_ALF', 'H_AF3', 'H_PHI', 'H_ZAR', 'H_UNX', 'H_ZNH', 'H_00I', \n",
    "               'H_3PH', 'H_C24', 'H_KAR', 'H_869', 'H_ARG', 'H_DSO', 'H_256', 'H_SIA', 'H_DP4', 'H_NDP', 'H_MYT', 'H_TYR', 'H_TTA', 'H_1QL', 'H_PFF', 'H_PHA', 'H_XYP', 'H_CLD', \n",
    "               'H_RSS', 'H_AZL', 'H_GTG', 'H_CNB', 'H_TZ4', 'H_TG1', 'H_TRS', 'H_AIJ', 'H_TA1', 'H_PC3', 'H_GIP', 'H_RPR', 'H_R36', 'H_MKC', 'H_MPD', 'H_2AM', 'H_165', 'H_DTN', \n",
    "               'H_DBV', 'H_AUC', 'H_CDA', 'H_4BC', 'H_PHY', 'H_1ZN', 'H_DGG', 'H_K57', 'H_ACT', 'H_PII', 'H_BGC', 'H_PLH', 'H_T76', 'H_EAA', 'H_NCO', 'H_CBD', 'H_CC1', 'H_PNM', \n",
    "               'H_HC0', 'H_TTP', 'H_FUC', 'H_SEP', 'H_681', 'H_2BL', 'H_FVA', 'H_S58', 'H_FTT', 'H_KT3', 'H_2AS', 'H_BAM', 'H_ROF', 'H_U31', 'H_FBL', 'H_GCR', 'H_NMN', 'H_FCL', \n",
    "               'H_FLT', 'H_STU', 'H_LYB', 'H_LS2', 'H_MNT', 'H_I05', 'H_I48', 'H_AEJ', 'H_1UN', 'H_FIS', 'H_001', 'H_3BP', 'H_MID', 'H_HYB', 'H_MYX', 'H_AAX', 'H_BMT', 'H_E6C', \n",
    "               'H_MFQ', 'H_1ZG', 'H_1ZK', 'H_TPV', 'H_KTN', 'H_MEQ', 'H_0EG', 'H_SF3', 'H_188', 'H_0GE', 'H_LLP', 'H_BPB', 'H_5AP', 'H_CBO', 'H_FEM', 'H_GTX', 'H_QIL', 'H_ADP', \n",
    "               'H_OMY', 'H_MYP', 'H_CNO', 'H_HTQ', 'H_COP', 'H_AY1', 'H_SFG', 'H_GAH', 'H_HEC', 'H_3DR', 'H_1CP', 'H_HEV', 'H_I10', 'H_RG1', 'H_BI2', 'H_DPC', 'H_ARB', 'H_GET', \n",
    "               'H_CAX', 'H_OXS', 'H_RAP', 'H_GTB', 'H_BMA', 'H_KEG', 'H_PC1', 'H_T16', 'H_C48', 'H_PHF', 'H_BI8', 'H_FSO', 'H_F43', 'H_BCA', 'H_HEA', 'H_04D', 'H_MO7', 'H_XCC', \n",
    "               'H_F89', 'H_645', 'H_WO5', 'H_SRM', 'H_34H', 'H_7EP', 'H_CFN', 'H_CAG', 'H_ROX', 'H_RAD', 'H_D91', 'H_MGF', 'H_ASG', 'H_700', 'H_DDH', 'H_155', 'H_WAY', 'H_FES', \n",
    "               'H_AAE', 'H_LI1', 'H_TI2', 'H_NAQ', 'H_FMN', 'H_AL5', 'H_BT1', 'H_RFB', 'H_BM6', 'H_GTS', 'H_DPN', 'H_BI3', 'H_BB2','H_HCO', 'H_DR9', 'H_PFL', 'H_IMA', 'H_ETR', \n",
    "               'H_L27', 'H_OI1', 'H_NFS', 'H_ANA', 'H_NTS', 'H_ELP', 'H_SPO', 'H_ZIT', 'H_0G6', 'H_AGN', 'H_VO4', 'H_BLV', 'H_1Z0','H_0H8', 'H_HO3', 'H_2Y2', 'H_NZQ', 'H_PO4', \n",
    "               'H_NTH', 'H_DTP', 'H_177', 'H_187', 'H_M90']\n"
   ]
  },
  {
   "cell_type": "code",
   "execution_count": 19,
   "metadata": {},
   "outputs": [
    {
     "data": {
      "text/plain": [
       "540"
      ]
     },
     "execution_count": 19,
     "metadata": {},
     "output_type": "execute_result"
    }
   ],
   "source": [
    "len(remove_dict)"
   ]
  },
  {
   "cell_type": "code",
   "execution_count": null,
   "metadata": {},
   "outputs": [],
   "source": []
  }
 ],
 "metadata": {
  "interpreter": {
   "hash": "eeeefe9f7c2ef922ee7d986a271539a14ed3f09c3dad4812770ae7ab598d2111"
  },
  "kernelspec": {
   "display_name": "Python 3.8.12 ('office')",
   "language": "python",
   "name": "python3"
  },
  "language_info": {
   "codemirror_mode": {
    "name": "ipython",
    "version": 3
   },
   "file_extension": ".py",
   "mimetype": "text/x-python",
   "name": "python",
   "nbconvert_exporter": "python",
   "pygments_lexer": "ipython3",
   "version": "3.8.12"
  },
  "orig_nbformat": 4
 },
 "nbformat": 4,
 "nbformat_minor": 2
}
