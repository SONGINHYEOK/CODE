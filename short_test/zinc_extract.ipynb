{
 "cells": [
  {
   "cell_type": "code",
   "execution_count": 10,
   "metadata": {},
   "outputs": [],
   "source": [
    "from selenium import webdriver\n",
    "from selenium.webdriver.support.ui import Select\n",
    "import urllib.request"
   ]
  },
  {
   "cell_type": "code",
   "execution_count": 19,
   "metadata": {},
   "outputs": [
    {
     "name": "stderr",
     "output_type": "stream",
     "text": [
      "/var/folders/z8/c06r1kl565d25jxr6yb7rvq00000gn/T/ipykernel_67300/2737773879.py:12: DeprecationWarning: executable_path has been deprecated, please pass in a Service object\n",
      "  driver = webdriver.Chrome(path)\n"
     ]
    },
    {
     "name": "stdout",
     "output_type": "stream",
     "text": [
      "0\n",
      "1\n",
      "2\n",
      "3\n",
      "4\n",
      "5\n",
      "6\n",
      "7\n",
      "8\n",
      "finsh crawling\n"
     ]
    }
   ],
   "source": [
    "path = '/Users/song-inhyeok/Documents/coding/PDB/chromedriver'\n",
    "\n",
    "\"\"\"\n",
    "options = webdriver.ChromeOptions()\n",
    "options.add_experimental_option(\"prefs\", {\n",
    "  \"download.default_directory\": r\"/Users/song-inhyeok/Documents/data/ZINC_data/\",\n",
    "  \"download.prompt_for_download\": False,\n",
    "  \"download.directory_upgrade\": True,\n",
    "  \"safebrowsing.enabled\": True\n",
    "})\n",
    "\"\"\"\n",
    "driver = webdriver.Chrome(path)\n",
    "\n",
    "url_list = ['https://zinc15.docking.org/substances/?page=' + str(i) for i in range(1,10)]\n",
    "\n",
    "for num, link in enumerate(url_list):    \n",
    "    driver.get(link)\n",
    "    driver.implicitly_wait(10)\n",
    "    urllib.request.urlretrieve('https://zinc15.docking.org/substances.smi', f\"/Users/song-inhyeok/Documents/data/ZINC_data/zinc_file_{num}.smi\")\n",
    "    print(num)\n",
    "\n",
    "print('finsh crawling')"
   ]
  },
  {
   "cell_type": "code",
   "execution_count": 20,
   "metadata": {},
   "outputs": [],
   "source": [
    "\n",
    "url_list = ['https://zinc15.docking.org/substances/?page=' + str(i) for i in range(1,10)]"
   ]
  },
  {
   "cell_type": "code",
   "execution_count": 21,
   "metadata": {},
   "outputs": [
    {
     "name": "stdout",
     "output_type": "stream",
     "text": [
      "1\n",
      "2\n",
      "3\n",
      "4\n",
      "5\n",
      "6\n",
      "7\n",
      "8\n",
      "9\n"
     ]
    }
   ],
   "source": [
    "for i in url_list:\n",
    "    file_num=i.split('=')[-1]"
   ]
  },
  {
   "cell_type": "code",
   "execution_count": 9,
   "metadata": {},
   "outputs": [
    {
     "name": "stdout",
     "output_type": "stream",
     "text": [
      "10071919\n"
     ]
    },
    {
     "data": {
      "text/plain": [
       "'\\nfor line in lines:\\n    print(line)\\n'"
      ]
     },
     "execution_count": 9,
     "metadata": {},
     "output_type": "execute_result"
    }
   ],
   "source": [
    "f = open(\"/Users/song-inhyeok/Downloads/ZINC20_smiles_chunk_1/smiles_all_00.txt\", 'r')\n",
    "\n",
    "lines = f.readlines()\n",
    "print(len(lines))\n",
    "\"\"\"\n",
    "for line in lines:\n",
    "    print(line)\n",
    "\"\"\""
   ]
  },
  {
   "cell_type": "code",
   "execution_count": 2,
   "metadata": {},
   "outputs": [
    {
     "data": {
      "text/plain": [
       "<_io.TextIOWrapper name='/Users/song-inhyeok/Downloads/substances (2).smi' mode='r' encoding='UTF-8'>"
      ]
     },
     "execution_count": 2,
     "metadata": {},
     "output_type": "execute_result"
    }
   ],
   "source": [
    "f"
   ]
  },
  {
   "cell_type": "code",
   "execution_count": 10,
   "metadata": {},
   "outputs": [],
   "source": [
    "import os "
   ]
  },
  {
   "cell_type": "code",
   "execution_count": 14,
   "metadata": {},
   "outputs": [
    {
     "name": "stdout",
     "output_type": "stream",
     "text": [
      "10116662\n",
      "10098516\n",
      "10043019\n",
      "10039485\n",
      "10007598\n",
      "10033832\n",
      "10153202\n",
      "10059877\n",
      "10032362\n",
      "10049885\n",
      "10021920\n",
      "7882696\n",
      "10140863\n",
      "10070951\n",
      "10168401\n",
      "10033632\n",
      "10036976\n",
      "10116633\n",
      "10056331\n",
      "10229511\n",
      "10175571\n",
      "10026796\n",
      "10107143\n",
      "10075956\n",
      "10234191\n",
      "10170003\n",
      "10073521\n",
      "10146743\n",
      "10097594\n",
      "10157164\n",
      "10156457\n",
      "10029948\n",
      "10181316\n",
      "10114720\n",
      "10057411\n",
      "10197829\n",
      "10081801\n",
      "10071919\n",
      "10074588\n",
      "10170364\n",
      "10062063\n",
      "10066666\n",
      "10266412\n",
      "10251419\n",
      "10082224\n",
      "10142569\n",
      "10150376\n",
      "10093915\n",
      "10033726\n",
      "10098459\n",
      "10136543\n",
      "10114342\n",
      "10181801\n",
      "10286413\n",
      "10027639\n",
      "10163052\n",
      "10105363\n",
      "10130416\n",
      "10053251\n",
      "10055905\n",
      "10052412\n",
      "10111876\n",
      "10102384\n",
      "10075724\n",
      "10002984\n",
      "10004457\n",
      "10140164\n",
      "10042866\n",
      "10005872\n",
      "10038689\n",
      "10082795\n",
      "10035890\n",
      "10041744\n",
      "10026312\n",
      "10000006\n",
      "10036614\n",
      "10033759\n",
      "10034429\n",
      "10042816\n",
      "10035528\n",
      "10014767\n",
      "10056491\n",
      "10015922\n",
      "10033148\n",
      "10045539\n",
      "10053222\n",
      "10102053\n",
      "10109074\n",
      "10052820\n",
      "10031927\n",
      "10017107\n",
      "10052189\n",
      "10156922\n",
      "10074924\n",
      "10037076\n",
      "10039072\n",
      "10081768\n",
      "10132663\n",
      "10254007\n",
      "10047084\n",
      "1006651037\n"
     ]
    }
   ],
   "source": [
    "\n",
    "total =0\n",
    "for i in os.listdir(\"/Users/song-inhyeok/Downloads/library_prepared\"):\n",
    "    f= open(\"/Users/song-inhyeok/Downloads/library_prepared/\"+i, 'r')    \n",
    "    lines = f.readlines()\n",
    "    total += len(lines)\n",
    "    print(len(lines))\n",
    "    f.close()\n",
    "print(total)"
   ]
  },
  {
   "cell_type": "code",
   "execution_count": 4,
   "metadata": {},
   "outputs": [
    {
     "name": "stdout",
     "output_type": "stream",
     "text": [
      "345955912\n"
     ]
    },
    {
     "ename": "",
     "evalue": "",
     "output_type": "error",
     "traceback": [
      "\u001b[1;31m현재 셀 또는 이전 셀에서 코드를 실행하는 동안 Kernel이 충돌했습니다. 셀의 코드를 검토하여 오류의 가능한 원인을 식별하세요. 자세한 내용을 보려면 <a href='https://aka.ms/vscodeJupyterKernelCrash'> 여기 </a> 를 클릭하세요. 자세한 내용은 Jupyter <a href='command:jupyter.viewOutput'>로그</a>를 참조하세요."
     ]
    }
   ],
   "source": [
    "f= open(\"/Users/song-inhyeok/Downloads/Enamine_REAL_HAC_6_21_346M_CXSMILES.cxsmiles\", 'r')\n",
    "lines = f.readlines()\n",
    "\n",
    "print(len(lines))\n",
    "f.close()"
   ]
  },
  {
   "cell_type": "code",
   "execution_count": null,
   "metadata": {},
   "outputs": [],
   "source": []
  }
 ],
 "metadata": {
  "kernelspec": {
   "display_name": "Python 3.8.12 ('office')",
   "language": "python",
   "name": "python3"
  },
  "language_info": {
   "codemirror_mode": {
    "name": "ipython",
    "version": 3
   },
   "file_extension": ".py",
   "mimetype": "text/x-python",
   "name": "python",
   "nbconvert_exporter": "python",
   "pygments_lexer": "ipython3",
   "version": "3.8.12"
  },
  "orig_nbformat": 4,
  "vscode": {
   "interpreter": {
    "hash": "eeeefe9f7c2ef922ee7d986a271539a14ed3f09c3dad4812770ae7ab598d2111"
   }
  }
 },
 "nbformat": 4,
 "nbformat_minor": 2
}
