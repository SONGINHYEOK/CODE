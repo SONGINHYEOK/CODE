{
 "cells": [
  {
   "cell_type": "code",
   "execution_count": 15,
   "metadata": {},
   "outputs": [],
   "source": [
    "import os"
   ]
  },
  {
   "cell_type": "code",
   "execution_count": 16,
   "metadata": {},
   "outputs": [],
   "source": [
    "path = '/Users/song-inhyeok/Downloads/screening_result_file/'\n",
    "os.chdir(path)"
   ]
  },
  {
   "cell_type": "code",
   "execution_count": 14,
   "metadata": {},
   "outputs": [
    {
     "data": {
      "text/plain": [
       "['/Users/song-inhyeok/Downloads/screening_result_file/3ZLW_MEK1_prepped.pdb']"
      ]
     },
     "execution_count": 14,
     "metadata": {},
     "output_type": "execute_result"
    }
   ],
   "source": [
    "[os.path.join(path, _) for _ in os.listdir(path) if _.endswith('.pdb')]"
   ]
  },
  {
   "cell_type": "code",
   "execution_count": 20,
   "metadata": {},
   "outputs": [
    {
     "data": {
      "text/plain": [
       "['.DS_Store', '3ZLW_MEK1_prepped.pdb', 'MEK1_hits_20220503.sdf']"
      ]
     },
     "execution_count": 20,
     "metadata": {},
     "output_type": "execute_result"
    }
   ],
   "source": [
    "os.listdir()"
   ]
  },
  {
   "cell_type": "code",
   "execution_count": 23,
   "metadata": {},
   "outputs": [],
   "source": [
    "path_info=os.listdir()"
   ]
  },
  {
   "cell_type": "code",
   "execution_count": 70,
   "metadata": {},
   "outputs": [],
   "source": [
    "rec_path = '/home/3d_gen/liGAN/data/custom/rec/'\n",
    "lig_path = '/home/3d_gen/liGAN/data/custom/lig/'"
   ]
  },
  {
   "cell_type": "code",
   "execution_count": 76,
   "metadata": {},
   "outputs": [],
   "source": [
    "\n",
    "   \n",
    "class Gen_files:\n",
    "    def read_info(path_info=os.listdir()):\n",
    "        rec_file = path_info[1]\n",
    "        lig_file = path_info[2]\n",
    "        \n",
    "        return [rec_file, lig_file]\n",
    "    \n",
    "    def write_info(rec_file, lig_file):\n",
    "        with open(\"/Users/song-inhyeok/Documents/coding/generate_list.types\", \"a\") as tp:\n",
    "                tp.write('1'+' '+rec_path+rec_file+' '+lig_path+lig_file+ \"\\n\")\n",
    "                print('write files')\n",
    "                tp.close()\n",
    "                    "
   ]
  },
  {
   "cell_type": "code",
   "execution_count": 77,
   "metadata": {},
   "outputs": [],
   "source": [
    "file_info = Gen_files.read_info(path_info)\n"
   ]
  },
  {
   "cell_type": "code",
   "execution_count": 78,
   "metadata": {},
   "outputs": [
    {
     "data": {
      "text/plain": [
       "['3ZLW_MEK1_prepped.pdb', 'MEK1_hits_20220503.sdf']"
      ]
     },
     "execution_count": 78,
     "metadata": {},
     "output_type": "execute_result"
    }
   ],
   "source": [
    "file_info"
   ]
  },
  {
   "cell_type": "code",
   "execution_count": 79,
   "metadata": {},
   "outputs": [
    {
     "name": "stdout",
     "output_type": "stream",
     "text": [
      "write files\n"
     ]
    }
   ],
   "source": [
    "Gen_files.write_info(file_info[0], file_info[1])"
   ]
  },
  {
   "cell_type": "code",
   "execution_count": null,
   "metadata": {},
   "outputs": [],
   "source": [
    "/home/3d_gen/liGAN/data/custom"
   ]
  }
 ],
 "metadata": {
  "interpreter": {
   "hash": "eeeefe9f7c2ef922ee7d986a271539a14ed3f09c3dad4812770ae7ab598d2111"
  },
  "kernelspec": {
   "display_name": "Python 3.8.12 ('office')",
   "language": "python",
   "name": "python3"
  },
  "language_info": {
   "codemirror_mode": {
    "name": "ipython",
    "version": 3
   },
   "file_extension": ".py",
   "mimetype": "text/x-python",
   "name": "python",
   "nbconvert_exporter": "python",
   "pygments_lexer": "ipython3",
   "version": "3.8.12"
  },
  "orig_nbformat": 4
 },
 "nbformat": 4,
 "nbformat_minor": 2
}
