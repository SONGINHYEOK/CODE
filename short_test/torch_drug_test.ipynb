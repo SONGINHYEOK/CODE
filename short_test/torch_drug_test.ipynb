{
 "cells": [
  {
   "cell_type": "code",
   "execution_count": 1,
   "metadata": {},
   "outputs": [
    {
     "data": {
      "text/plain": [
       "'2022.09.1'"
      ]
     },
     "execution_count": 1,
     "metadata": {},
     "output_type": "execute_result"
    }
   ],
   "source": [
    "import rdkit\n",
    "from rdkit import Chem\n",
    "from rdkit.Chem import AllChem\n",
    "\n",
    "from rdkit.Chem import Draw\n",
    "from rdkit.Chem.Draw import IPythonConsole\n",
    "\n",
    "rdkit.__version__"
   ]
  },
  {
   "cell_type": "code",
   "execution_count": 11,
   "metadata": {},
   "outputs": [],
   "source": [
    "import pandas as pd\n",
    "from rdkit.Chem import PandasTools"
   ]
  },
  {
   "cell_type": "code",
   "execution_count": 12,
   "metadata": {},
   "outputs": [],
   "source": [
    "df = pd.read_csv(\"/Users/song-inhyeok/CODING/PROTOTYPE/BIChem/NT006/94_final_molecule.csv\")"
   ]
  },
  {
   "cell_type": "code",
   "execution_count": 13,
   "metadata": {},
   "outputs": [],
   "source": [
    "from rdkit.Chem.Crippen import MolLogP"
   ]
  },
  {
   "cell_type": "code",
   "execution_count": 16,
   "metadata": {},
   "outputs": [],
   "source": [
    "logp_list = []\n",
    "for i in df['smiles'].tolist():\n",
    "    smi=Chem.MolFromSmiles(i)\n",
    "    logp_list.append(MolLogP(smi))\n",
    "    \n",
    "df['logP'] = logp_list\n"
   ]
  },
  {
   "cell_type": "code",
   "execution_count": 17,
   "metadata": {},
   "outputs": [
    {
     "data": {
      "text/html": [
       "<div>\n",
       "<style scoped>\n",
       "    .dataframe tbody tr th:only-of-type {\n",
       "        vertical-align: middle;\n",
       "    }\n",
       "\n",
       "    .dataframe tbody tr th {\n",
       "        vertical-align: top;\n",
       "    }\n",
       "\n",
       "    .dataframe thead th {\n",
       "        text-align: right;\n",
       "    }\n",
       "</style>\n",
       "<table border=\"1\" class=\"dataframe\">\n",
       "  <thead>\n",
       "    <tr style=\"text-align: right;\">\n",
       "      <th></th>\n",
       "      <th>id</th>\n",
       "      <th>smiles</th>\n",
       "      <th>logP</th>\n",
       "    </tr>\n",
       "  </thead>\n",
       "  <tbody>\n",
       "    <tr>\n",
       "      <th>0</th>\n",
       "      <td>14487356</td>\n",
       "      <td>O=c1[nH]c(C2CCCN2)nc2c1oc1ccc(Cl)cc12</td>\n",
       "      <td>2.74720</td>\n",
       "    </tr>\n",
       "    <tr>\n",
       "      <th>1</th>\n",
       "      <td>15049294</td>\n",
       "      <td>CCOC(=O)c1c(O)c(C=C2C=Nc3ncccc32)oc1NN1CCN(CC(...</td>\n",
       "      <td>3.32020</td>\n",
       "    </tr>\n",
       "    <tr>\n",
       "      <th>2</th>\n",
       "      <td>1344094774</td>\n",
       "      <td>CC(C)n1ncc2c(C(=O)O)cc(-c3cc[nH]c(=N)n3)nc21</td>\n",
       "      <td>1.57997</td>\n",
       "    </tr>\n",
       "    <tr>\n",
       "      <th>3</th>\n",
       "      <td>1344094775</td>\n",
       "      <td>CC(C)n1cc2c(C(=O)O)cc(-c3cc[nH]c(=N)n3)nc2n1</td>\n",
       "      <td>1.57997</td>\n",
       "    </tr>\n",
       "    <tr>\n",
       "      <th>4</th>\n",
       "      <td>1344094776</td>\n",
       "      <td>CC(C)n1ncc2c(C(=O)O)cc(-c3cn[nH]c3)nc21</td>\n",
       "      <td>2.10050</td>\n",
       "    </tr>\n",
       "    <tr>\n",
       "      <th>...</th>\n",
       "      <td>...</td>\n",
       "      <td>...</td>\n",
       "      <td>...</td>\n",
       "    </tr>\n",
       "    <tr>\n",
       "      <th>76</th>\n",
       "      <td>1344094848</td>\n",
       "      <td>Cc1[nH]ncc1-c1nc(=O)c2ccc(N3CC(CS(C)(=O)=O)C3)...</td>\n",
       "      <td>1.10242</td>\n",
       "    </tr>\n",
       "    <tr>\n",
       "      <th>77</th>\n",
       "      <td>1344094849</td>\n",
       "      <td>Cc1[nH]ncc1-c1nc(=O)c2cc(N3CC(CS(C)(=O)=O)C3)c...</td>\n",
       "      <td>1.10242</td>\n",
       "    </tr>\n",
       "    <tr>\n",
       "      <th>78</th>\n",
       "      <td>1344094850</td>\n",
       "      <td>Cc1[nH]ncc1-c1nc(=O)c2cc(N3CCC[C@@H]3CO)sc2[nH]1</td>\n",
       "      <td>1.64422</td>\n",
       "    </tr>\n",
       "    <tr>\n",
       "      <th>79</th>\n",
       "      <td>1344094851</td>\n",
       "      <td>Cc1[nH]ncc1-c1nc(=O)c2cc(-n3c(O)cc4ccccc43)sc2...</td>\n",
       "      <td>3.33262</td>\n",
       "    </tr>\n",
       "    <tr>\n",
       "      <th>80</th>\n",
       "      <td>1344094852</td>\n",
       "      <td>Cc1[nH]ncc1-c1cc2[nH]c(C3[C@H]4C[C@@H]5C[C@H](...</td>\n",
       "      <td>3.08592</td>\n",
       "    </tr>\n",
       "  </tbody>\n",
       "</table>\n",
       "<p>81 rows × 3 columns</p>\n",
       "</div>"
      ],
      "text/plain": [
       "            id                                             smiles     logP\n",
       "0     14487356              O=c1[nH]c(C2CCCN2)nc2c1oc1ccc(Cl)cc12  2.74720\n",
       "1     15049294  CCOC(=O)c1c(O)c(C=C2C=Nc3ncccc32)oc1NN1CCN(CC(...  3.32020\n",
       "2   1344094774       CC(C)n1ncc2c(C(=O)O)cc(-c3cc[nH]c(=N)n3)nc21  1.57997\n",
       "3   1344094775       CC(C)n1cc2c(C(=O)O)cc(-c3cc[nH]c(=N)n3)nc2n1  1.57997\n",
       "4   1344094776            CC(C)n1ncc2c(C(=O)O)cc(-c3cn[nH]c3)nc21  2.10050\n",
       "..         ...                                                ...      ...\n",
       "76  1344094848  Cc1[nH]ncc1-c1nc(=O)c2ccc(N3CC(CS(C)(=O)=O)C3)...  1.10242\n",
       "77  1344094849  Cc1[nH]ncc1-c1nc(=O)c2cc(N3CC(CS(C)(=O)=O)C3)c...  1.10242\n",
       "78  1344094850   Cc1[nH]ncc1-c1nc(=O)c2cc(N3CCC[C@@H]3CO)sc2[nH]1  1.64422\n",
       "79  1344094851  Cc1[nH]ncc1-c1nc(=O)c2cc(-n3c(O)cc4ccccc43)sc2...  3.33262\n",
       "80  1344094852  Cc1[nH]ncc1-c1cc2[nH]c(C3[C@H]4C[C@@H]5C[C@H](...  3.08592\n",
       "\n",
       "[81 rows x 3 columns]"
      ]
     },
     "execution_count": 17,
     "metadata": {},
     "output_type": "execute_result"
    }
   ],
   "source": [
    "df"
   ]
  },
  {
   "cell_type": "code",
   "execution_count": null,
   "metadata": {},
   "outputs": [],
   "source": []
  }
 ],
 "metadata": {
  "kernelspec": {
   "display_name": "office",
   "language": "python",
   "name": "python3"
  },
  "language_info": {
   "codemirror_mode": {
    "name": "ipython",
    "version": 3
   },
   "file_extension": ".py",
   "mimetype": "text/x-python",
   "name": "python",
   "nbconvert_exporter": "python",
   "pygments_lexer": "ipython3",
   "version": "3.8.12"
  },
  "orig_nbformat": 4,
  "vscode": {
   "interpreter": {
    "hash": "eeeefe9f7c2ef922ee7d986a271539a14ed3f09c3dad4812770ae7ab598d2111"
   }
  }
 },
 "nbformat": 4,
 "nbformat_minor": 2
}
